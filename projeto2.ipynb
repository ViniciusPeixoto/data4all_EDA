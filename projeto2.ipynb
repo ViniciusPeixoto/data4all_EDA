{
 "cells": [
  {
   "cell_type": "markdown",
   "id": "6fa3fa4e",
   "metadata": {},
   "source": [
    "Este conjunto de dados contém informações sobre as consultas médicas marcadas em clínicas no Brasil e se os pacientes compareceram ou não às consultas.\n",
    "\n",
    "O conjunto de dados inclui as seguintes colunas:\n",
    "\n",
    "* PatientId: identificador único do paciente\n",
    "* AppointmentID: identificador único da consulta\n",
    "* Gender: gênero do paciente (Feminino/Masculino)\n",
    "* ScheduledDay: data em que a consulta foi marcada\n",
    "* AppointmentDay: data da consulta\n",
    "* Age: idade do paciente\n",
    "* Neighbourhood: nome do bairro onde a consulta ocorrerá\n",
    "* Scholarship: indica se o paciente faz parte do programa Bolsa Família (0 = não, 1 = sim)\n",
    "* Hipertension: indica se o paciente tem hipertensão (0 = não, 1 = sim)\n",
    "* Diabetes: indica se o paciente tem diabetes (0 = não, 1 = sim)\n",
    "* Alcoholism: indica se o paciente tem problemas com álcool (0 = não, 1 = sim)\n",
    "* Handcap: indica se o paciente é deficiente (0 = não, 1 = sim)\n",
    "* SMS_received: indica se o paciente recebeu uma mensagem de lembrete da consulta (0 = não, 1 = sim)\n",
    "* No-show: indica se o paciente compareceu à consulta (No = sim, Yes = não)"
   ]
  },
  {
   "cell_type": "code",
   "execution_count": null,
   "id": "ea9bbb9c",
   "metadata": {},
   "outputs": [],
   "source": [
    "# espaço de tempo entre o dia da marcação e a caonsulta em si,  o que influencia na ausência?\n",
    "# criar coluna com delta T \n",
    "# teste 1"
   ]
  },
  {
   "cell_type": "code",
   "execution_count": 1,
   "id": "eade501f",
   "metadata": {},
   "outputs": [],
   "source": [
    "import pandas as pd\n",
    "import sys"
   ]
  },
  {
   "cell_type": "code",
   "execution_count": 2,
   "id": "46bd8e8b",
   "metadata": {},
   "outputs": [],
   "source": [
    "df = pd.read_excel('appointment_prediction_data.xlsx')"
   ]
  },
  {
   "cell_type": "code",
   "execution_count": 31,
   "id": "24100130",
   "metadata": {},
   "outputs": [
    {
     "data": {
      "text/html": [
       "<div>\n",
       "<style scoped>\n",
       "    .dataframe tbody tr th:only-of-type {\n",
       "        vertical-align: middle;\n",
       "    }\n",
       "\n",
       "    .dataframe tbody tr th {\n",
       "        vertical-align: top;\n",
       "    }\n",
       "\n",
       "    .dataframe thead th {\n",
       "        text-align: right;\n",
       "    }\n",
       "</style>\n",
       "<table border=\"1\" class=\"dataframe\">\n",
       "  <thead>\n",
       "    <tr style=\"text-align: right;\">\n",
       "      <th></th>\n",
       "      <th>PatientId</th>\n",
       "      <th>AppointmentID</th>\n",
       "      <th>Gender</th>\n",
       "      <th>ScheduledDay</th>\n",
       "      <th>AppointmentDay</th>\n",
       "      <th>Age</th>\n",
       "      <th>Neighbourhood</th>\n",
       "      <th>Scholarship</th>\n",
       "      <th>Hipertension</th>\n",
       "      <th>Diabetes</th>\n",
       "      <th>Alcoholism</th>\n",
       "      <th>Handcap</th>\n",
       "      <th>SMS_received</th>\n",
       "      <th>No-show</th>\n",
       "    </tr>\n",
       "  </thead>\n",
       "  <tbody>\n",
       "    <tr>\n",
       "      <th>0</th>\n",
       "      <td>2.987250e+13</td>\n",
       "      <td>5642903</td>\n",
       "      <td>F</td>\n",
       "      <td>2016-04-29T18:38:08Z</td>\n",
       "      <td>2016-04-29T00:00:00Z</td>\n",
       "      <td>62.0</td>\n",
       "      <td>JARDIM DA PENHA</td>\n",
       "      <td>0</td>\n",
       "      <td>1</td>\n",
       "      <td>0</td>\n",
       "      <td>0</td>\n",
       "      <td>0</td>\n",
       "      <td>0</td>\n",
       "      <td>No</td>\n",
       "    </tr>\n",
       "    <tr>\n",
       "      <th>1</th>\n",
       "      <td>5.589978e+14</td>\n",
       "      <td>5642503</td>\n",
       "      <td>M</td>\n",
       "      <td>2016-04-29T16:08:27Z</td>\n",
       "      <td>2016-04-29T00:00:00Z</td>\n",
       "      <td>56.0</td>\n",
       "      <td>JARDIM DA PENHA</td>\n",
       "      <td>0</td>\n",
       "      <td>0</td>\n",
       "      <td>0</td>\n",
       "      <td>0</td>\n",
       "      <td>0</td>\n",
       "      <td>0</td>\n",
       "      <td>No</td>\n",
       "    </tr>\n",
       "    <tr>\n",
       "      <th>2</th>\n",
       "      <td>4.262962e+12</td>\n",
       "      <td>5642549</td>\n",
       "      <td>F</td>\n",
       "      <td>2016-04-29T16:19:04Z</td>\n",
       "      <td>2016-04-29T00:00:00Z</td>\n",
       "      <td>62.0</td>\n",
       "      <td>MATA DA PRAIA</td>\n",
       "      <td>0</td>\n",
       "      <td>0</td>\n",
       "      <td>0</td>\n",
       "      <td>0</td>\n",
       "      <td>0</td>\n",
       "      <td>0</td>\n",
       "      <td>No</td>\n",
       "    </tr>\n",
       "    <tr>\n",
       "      <th>3</th>\n",
       "      <td>8.679512e+11</td>\n",
       "      <td>5642828</td>\n",
       "      <td>F</td>\n",
       "      <td>2016-04-29T17:29:31Z</td>\n",
       "      <td>2016-04-29T00:00:00Z</td>\n",
       "      <td>8.0</td>\n",
       "      <td>PONTAL DE CAMBURI</td>\n",
       "      <td>0</td>\n",
       "      <td>0</td>\n",
       "      <td>0</td>\n",
       "      <td>0</td>\n",
       "      <td>0</td>\n",
       "      <td>0</td>\n",
       "      <td>No</td>\n",
       "    </tr>\n",
       "    <tr>\n",
       "      <th>4</th>\n",
       "      <td>8.841186e+12</td>\n",
       "      <td>5642494</td>\n",
       "      <td>F</td>\n",
       "      <td>2016-04-29T16:07:23Z</td>\n",
       "      <td>2016-04-29T00:00:00Z</td>\n",
       "      <td>56.0</td>\n",
       "      <td>JARDIM DA PENHA</td>\n",
       "      <td>0</td>\n",
       "      <td>1</td>\n",
       "      <td>1</td>\n",
       "      <td>0</td>\n",
       "      <td>0</td>\n",
       "      <td>0</td>\n",
       "      <td>No</td>\n",
       "    </tr>\n",
       "  </tbody>\n",
       "</table>\n",
       "</div>"
      ],
      "text/plain": [
       "      PatientId  AppointmentID Gender          ScheduledDay  \\\n",
       "0  2.987250e+13        5642903      F  2016-04-29T18:38:08Z   \n",
       "1  5.589978e+14        5642503      M  2016-04-29T16:08:27Z   \n",
       "2  4.262962e+12        5642549      F  2016-04-29T16:19:04Z   \n",
       "3  8.679512e+11        5642828      F  2016-04-29T17:29:31Z   \n",
       "4  8.841186e+12        5642494      F  2016-04-29T16:07:23Z   \n",
       "\n",
       "         AppointmentDay   Age      Neighbourhood  Scholarship  Hipertension  \\\n",
       "0  2016-04-29T00:00:00Z  62.0    JARDIM DA PENHA            0             1   \n",
       "1  2016-04-29T00:00:00Z  56.0    JARDIM DA PENHA            0             0   \n",
       "2  2016-04-29T00:00:00Z  62.0      MATA DA PRAIA            0             0   \n",
       "3  2016-04-29T00:00:00Z   8.0  PONTAL DE CAMBURI            0             0   \n",
       "4  2016-04-29T00:00:00Z  56.0    JARDIM DA PENHA            0             1   \n",
       "\n",
       "   Diabetes  Alcoholism  Handcap  SMS_received No-show  \n",
       "0         0           0        0             0      No  \n",
       "1         0           0        0             0      No  \n",
       "2         0           0        0             0      No  \n",
       "3         0           0        0             0      No  \n",
       "4         1           0        0             0      No  "
      ]
     },
     "execution_count": 31,
     "metadata": {},
     "output_type": "execute_result"
    }
   ],
   "source": [
    "df.head()"
   ]
  },
  {
   "cell_type": "code",
   "execution_count": 3,
   "id": "1f28e955",
   "metadata": {},
   "outputs": [
    {
     "name": "stdout",
     "output_type": "stream",
     "text": [
      "<class 'pandas.core.frame.DataFrame'>\n",
      "RangeIndex: 110573 entries, 0 to 110572\n",
      "Data columns (total 14 columns):\n",
      " #   Column          Non-Null Count   Dtype  \n",
      "---  ------          --------------   -----  \n",
      " 0   PatientId       110573 non-null  float64\n",
      " 1   AppointmentID   110573 non-null  int64  \n",
      " 2   Gender          110573 non-null  object \n",
      " 3   ScheduledDay    110573 non-null  object \n",
      " 4   AppointmentDay  110573 non-null  object \n",
      " 5   Age             110451 non-null  float64\n",
      " 6   Neighbourhood   110573 non-null  object \n",
      " 7   Scholarship     110573 non-null  int64  \n",
      " 8   Hipertension    110573 non-null  int64  \n",
      " 9   Diabetes        110573 non-null  int64  \n",
      " 10  Alcoholism      110573 non-null  int64  \n",
      " 11  Handcap         110573 non-null  int64  \n",
      " 12  SMS_received    110573 non-null  int64  \n",
      " 13  No-show         110573 non-null  object \n",
      "dtypes: float64(2), int64(7), object(5)\n",
      "memory usage: 11.8+ MB\n"
     ]
    }
   ],
   "source": [
    "df.info()\n",
    "# appointmentDay poderia ser objeto tipo date"
   ]
  },
  {
   "cell_type": "code",
   "execution_count": null,
   "id": "c8d97caf",
   "metadata": {},
   "outputs": [],
   "source": []
  },
  {
   "cell_type": "code",
   "execution_count": 4,
   "id": "9a4c8e16",
   "metadata": {},
   "outputs": [
    {
     "data": {
      "text/plain": [
       "False    110525\n",
       "True         48\n",
       "Name: Gender, dtype: int64"
      ]
     },
     "execution_count": 4,
     "metadata": {},
     "output_type": "execute_result"
    }
   ],
   "source": [
    "# coluna gender\n",
    "f= df['Gender'] == 'Female'\n",
    "f.value_counts() \n",
    "# 48 campos fora do padrão"
   ]
  },
  {
   "cell_type": "code",
   "execution_count": 5,
   "id": "0f38280b",
   "metadata": {},
   "outputs": [
    {
     "data": {
      "text/plain": [
       "False    110564\n",
       "True          9\n",
       "Name: Gender, dtype: int64"
      ]
     },
     "execution_count": 5,
     "metadata": {},
     "output_type": "execute_result"
    }
   ],
   "source": [
    "m=df['Gender'] == \"Male\"\n",
    "m.value_counts()\n",
    "# 9 fora do padrão"
   ]
  },
  {
   "cell_type": "code",
   "execution_count": 6,
   "id": "aa5842d4",
   "metadata": {},
   "outputs": [],
   "source": [
    "# substituindo Female por F\n",
    "df['Gender'].replace({'Female':'F','Male':'M'}, inplace=True)"
   ]
  },
  {
   "cell_type": "code",
   "execution_count": 7,
   "id": "65d74d24",
   "metadata": {},
   "outputs": [
    {
     "data": {
      "text/html": [
       "<div>\n",
       "<style scoped>\n",
       "    .dataframe tbody tr th:only-of-type {\n",
       "        vertical-align: middle;\n",
       "    }\n",
       "\n",
       "    .dataframe tbody tr th {\n",
       "        vertical-align: top;\n",
       "    }\n",
       "\n",
       "    .dataframe thead th {\n",
       "        text-align: right;\n",
       "    }\n",
       "</style>\n",
       "<table border=\"1\" class=\"dataframe\">\n",
       "  <thead>\n",
       "    <tr style=\"text-align: right;\">\n",
       "      <th></th>\n",
       "      <th>PatientId</th>\n",
       "      <th>AppointmentID</th>\n",
       "      <th>Gender</th>\n",
       "      <th>ScheduledDay</th>\n",
       "      <th>AppointmentDay</th>\n",
       "      <th>Age</th>\n",
       "      <th>Neighbourhood</th>\n",
       "      <th>Scholarship</th>\n",
       "      <th>Hipertension</th>\n",
       "      <th>Diabetes</th>\n",
       "      <th>Alcoholism</th>\n",
       "      <th>Handcap</th>\n",
       "      <th>SMS_received</th>\n",
       "      <th>No-show</th>\n",
       "    </tr>\n",
       "  </thead>\n",
       "  <tbody>\n",
       "    <tr>\n",
       "      <th>0</th>\n",
       "      <td>2.987250e+13</td>\n",
       "      <td>5642903</td>\n",
       "      <td>F</td>\n",
       "      <td>2016-04-29T18:38:08Z</td>\n",
       "      <td>2016-04-29 00:00:00+00:00</td>\n",
       "      <td>62.0</td>\n",
       "      <td>JARDIM DA PENHA</td>\n",
       "      <td>0</td>\n",
       "      <td>1</td>\n",
       "      <td>0</td>\n",
       "      <td>0</td>\n",
       "      <td>0</td>\n",
       "      <td>0</td>\n",
       "      <td>No</td>\n",
       "    </tr>\n",
       "    <tr>\n",
       "      <th>1</th>\n",
       "      <td>5.589978e+14</td>\n",
       "      <td>5642503</td>\n",
       "      <td>M</td>\n",
       "      <td>2016-04-29T16:08:27Z</td>\n",
       "      <td>2016-04-29 00:00:00+00:00</td>\n",
       "      <td>56.0</td>\n",
       "      <td>JARDIM DA PENHA</td>\n",
       "      <td>0</td>\n",
       "      <td>0</td>\n",
       "      <td>0</td>\n",
       "      <td>0</td>\n",
       "      <td>0</td>\n",
       "      <td>0</td>\n",
       "      <td>No</td>\n",
       "    </tr>\n",
       "    <tr>\n",
       "      <th>2</th>\n",
       "      <td>4.262962e+12</td>\n",
       "      <td>5642549</td>\n",
       "      <td>F</td>\n",
       "      <td>2016-04-29T16:19:04Z</td>\n",
       "      <td>2016-04-29 00:00:00+00:00</td>\n",
       "      <td>62.0</td>\n",
       "      <td>MATA DA PRAIA</td>\n",
       "      <td>0</td>\n",
       "      <td>0</td>\n",
       "      <td>0</td>\n",
       "      <td>0</td>\n",
       "      <td>0</td>\n",
       "      <td>0</td>\n",
       "      <td>No</td>\n",
       "    </tr>\n",
       "    <tr>\n",
       "      <th>3</th>\n",
       "      <td>8.679512e+11</td>\n",
       "      <td>5642828</td>\n",
       "      <td>F</td>\n",
       "      <td>2016-04-29T17:29:31Z</td>\n",
       "      <td>2016-04-29 00:00:00+00:00</td>\n",
       "      <td>8.0</td>\n",
       "      <td>PONTAL DE CAMBURI</td>\n",
       "      <td>0</td>\n",
       "      <td>0</td>\n",
       "      <td>0</td>\n",
       "      <td>0</td>\n",
       "      <td>0</td>\n",
       "      <td>0</td>\n",
       "      <td>No</td>\n",
       "    </tr>\n",
       "    <tr>\n",
       "      <th>4</th>\n",
       "      <td>8.841186e+12</td>\n",
       "      <td>5642494</td>\n",
       "      <td>F</td>\n",
       "      <td>2016-04-29T16:07:23Z</td>\n",
       "      <td>2016-04-29 00:00:00+00:00</td>\n",
       "      <td>56.0</td>\n",
       "      <td>JARDIM DA PENHA</td>\n",
       "      <td>0</td>\n",
       "      <td>1</td>\n",
       "      <td>1</td>\n",
       "      <td>0</td>\n",
       "      <td>0</td>\n",
       "      <td>0</td>\n",
       "      <td>No</td>\n",
       "    </tr>\n",
       "    <tr>\n",
       "      <th>...</th>\n",
       "      <td>...</td>\n",
       "      <td>...</td>\n",
       "      <td>...</td>\n",
       "      <td>...</td>\n",
       "      <td>...</td>\n",
       "      <td>...</td>\n",
       "      <td>...</td>\n",
       "      <td>...</td>\n",
       "      <td>...</td>\n",
       "      <td>...</td>\n",
       "      <td>...</td>\n",
       "      <td>...</td>\n",
       "      <td>...</td>\n",
       "      <td>...</td>\n",
       "    </tr>\n",
       "    <tr>\n",
       "      <th>110568</th>\n",
       "      <td>8.567868e+12</td>\n",
       "      <td>5627377</td>\n",
       "      <td>F</td>\n",
       "      <td>2016-04-27T09:24:46Z</td>\n",
       "      <td>2016-06-03 00:00:00+00:00</td>\n",
       "      <td>20.0</td>\n",
       "      <td>RESIST√äNCIA</td>\n",
       "      <td>0</td>\n",
       "      <td>0</td>\n",
       "      <td>0</td>\n",
       "      <td>0</td>\n",
       "      <td>0</td>\n",
       "      <td>1</td>\n",
       "      <td>No</td>\n",
       "    </tr>\n",
       "    <tr>\n",
       "      <th>110569</th>\n",
       "      <td>3.134163e+12</td>\n",
       "      <td>5768536</td>\n",
       "      <td>F</td>\n",
       "      <td>2016-06-03T07:42:27Z</td>\n",
       "      <td>2016-06-03 00:00:00+00:00</td>\n",
       "      <td>53.0</td>\n",
       "      <td>RESIST√äNCIA</td>\n",
       "      <td>0</td>\n",
       "      <td>0</td>\n",
       "      <td>0</td>\n",
       "      <td>0</td>\n",
       "      <td>0</td>\n",
       "      <td>0</td>\n",
       "      <td>No</td>\n",
       "    </tr>\n",
       "    <tr>\n",
       "      <th>110570</th>\n",
       "      <td>6.846652e+12</td>\n",
       "      <td>5768917</td>\n",
       "      <td>M</td>\n",
       "      <td>2016-06-03T08:10:22Z</td>\n",
       "      <td>2016-06-03 00:00:00+00:00</td>\n",
       "      <td>51.0</td>\n",
       "      <td>RESIST√äNCIA</td>\n",
       "      <td>0</td>\n",
       "      <td>0</td>\n",
       "      <td>0</td>\n",
       "      <td>0</td>\n",
       "      <td>0</td>\n",
       "      <td>0</td>\n",
       "      <td>No</td>\n",
       "    </tr>\n",
       "    <tr>\n",
       "      <th>110571</th>\n",
       "      <td>8.222960e+11</td>\n",
       "      <td>5772302</td>\n",
       "      <td>F</td>\n",
       "      <td>2016-06-03T15:06:15Z</td>\n",
       "      <td>2016-06-07 00:00:00+00:00</td>\n",
       "      <td>19.0</td>\n",
       "      <td>RESIST√äNCIA</td>\n",
       "      <td>0</td>\n",
       "      <td>0</td>\n",
       "      <td>0</td>\n",
       "      <td>0</td>\n",
       "      <td>0</td>\n",
       "      <td>1</td>\n",
       "      <td>No</td>\n",
       "    </tr>\n",
       "    <tr>\n",
       "      <th>110572</th>\n",
       "      <td>7.682333e+13</td>\n",
       "      <td>5782376</td>\n",
       "      <td>M</td>\n",
       "      <td>2016-06-07T11:06:56Z</td>\n",
       "      <td>2016-06-07 00:00:00+00:00</td>\n",
       "      <td>1.0</td>\n",
       "      <td>RESIST√äNCIA</td>\n",
       "      <td>0</td>\n",
       "      <td>0</td>\n",
       "      <td>0</td>\n",
       "      <td>0</td>\n",
       "      <td>0</td>\n",
       "      <td>0</td>\n",
       "      <td>No</td>\n",
       "    </tr>\n",
       "  </tbody>\n",
       "</table>\n",
       "<p>110573 rows × 14 columns</p>\n",
       "</div>"
      ],
      "text/plain": [
       "           PatientId  AppointmentID Gender          ScheduledDay  \\\n",
       "0       2.987250e+13        5642903      F  2016-04-29T18:38:08Z   \n",
       "1       5.589978e+14        5642503      M  2016-04-29T16:08:27Z   \n",
       "2       4.262962e+12        5642549      F  2016-04-29T16:19:04Z   \n",
       "3       8.679512e+11        5642828      F  2016-04-29T17:29:31Z   \n",
       "4       8.841186e+12        5642494      F  2016-04-29T16:07:23Z   \n",
       "...              ...            ...    ...                   ...   \n",
       "110568  8.567868e+12        5627377      F  2016-04-27T09:24:46Z   \n",
       "110569  3.134163e+12        5768536      F  2016-06-03T07:42:27Z   \n",
       "110570  6.846652e+12        5768917      M  2016-06-03T08:10:22Z   \n",
       "110571  8.222960e+11        5772302      F  2016-06-03T15:06:15Z   \n",
       "110572  7.682333e+13        5782376      M  2016-06-07T11:06:56Z   \n",
       "\n",
       "                  AppointmentDay   Age      Neighbourhood  Scholarship  \\\n",
       "0      2016-04-29 00:00:00+00:00  62.0    JARDIM DA PENHA            0   \n",
       "1      2016-04-29 00:00:00+00:00  56.0    JARDIM DA PENHA            0   \n",
       "2      2016-04-29 00:00:00+00:00  62.0      MATA DA PRAIA            0   \n",
       "3      2016-04-29 00:00:00+00:00   8.0  PONTAL DE CAMBURI            0   \n",
       "4      2016-04-29 00:00:00+00:00  56.0    JARDIM DA PENHA            0   \n",
       "...                          ...   ...                ...          ...   \n",
       "110568 2016-06-03 00:00:00+00:00  20.0       RESIST√äNCIA            0   \n",
       "110569 2016-06-03 00:00:00+00:00  53.0       RESIST√äNCIA            0   \n",
       "110570 2016-06-03 00:00:00+00:00  51.0       RESIST√äNCIA            0   \n",
       "110571 2016-06-07 00:00:00+00:00  19.0       RESIST√äNCIA            0   \n",
       "110572 2016-06-07 00:00:00+00:00   1.0       RESIST√äNCIA            0   \n",
       "\n",
       "        Hipertension  Diabetes  Alcoholism  Handcap  SMS_received No-show  \n",
       "0                  1         0           0        0             0      No  \n",
       "1                  0         0           0        0             0      No  \n",
       "2                  0         0           0        0             0      No  \n",
       "3                  0         0           0        0             0      No  \n",
       "4                  1         1           0        0             0      No  \n",
       "...              ...       ...         ...      ...           ...     ...  \n",
       "110568             0         0           0        0             1      No  \n",
       "110569             0         0           0        0             0      No  \n",
       "110570             0         0           0        0             0      No  \n",
       "110571             0         0           0        0             1      No  \n",
       "110572             0         0           0        0             0      No  \n",
       "\n",
       "[110573 rows x 14 columns]"
      ]
     },
     "execution_count": 7,
     "metadata": {},
     "output_type": "execute_result"
    }
   ],
   "source": [
    "# converter dtype object para datetime na coluna AppointmentDay\n",
    "df['AppointmentDay']=pd.to_datetime(df['AppointmentDay'], format='%Y-%m-%d')\n",
    "df\n"
   ]
  },
  {
   "cell_type": "code",
   "execution_count": 8,
   "id": "988b8fd4",
   "metadata": {},
   "outputs": [
    {
     "name": "stdout",
     "output_type": "stream",
     "text": [
      "<class 'pandas.core.frame.DataFrame'>\n",
      "RangeIndex: 110573 entries, 0 to 110572\n",
      "Data columns (total 14 columns):\n",
      " #   Column          Non-Null Count   Dtype              \n",
      "---  ------          --------------   -----              \n",
      " 0   PatientId       110573 non-null  float64            \n",
      " 1   AppointmentID   110573 non-null  int64              \n",
      " 2   Gender          110573 non-null  object             \n",
      " 3   ScheduledDay    110573 non-null  object             \n",
      " 4   AppointmentDay  110573 non-null  datetime64[ns, UTC]\n",
      " 5   Age             110451 non-null  float64            \n",
      " 6   Neighbourhood   110573 non-null  object             \n",
      " 7   Scholarship     110573 non-null  int64              \n",
      " 8   Hipertension    110573 non-null  int64              \n",
      " 9   Diabetes        110573 non-null  int64              \n",
      " 10  Alcoholism      110573 non-null  int64              \n",
      " 11  Handcap         110573 non-null  int64              \n",
      " 12  SMS_received    110573 non-null  int64              \n",
      " 13  No-show         110573 non-null  object             \n",
      "dtypes: datetime64[ns, UTC](1), float64(2), int64(7), object(4)\n",
      "memory usage: 11.8+ MB\n"
     ]
    }
   ],
   "source": [
    "df.info()"
   ]
  },
  {
   "cell_type": "code",
   "execution_count": 9,
   "id": "bbbbad95",
   "metadata": {},
   "outputs": [],
   "source": [
    "# substituir os nomes dos bairros fora do padrao \n",
    "df['Neighbourhood'].replace({'RESIST√äNCIA':'RESISTÊNCIA','REP√öBLICA':'REPÚBLICA',\n",
    "                            'S√ÉO PEDRO':'SÃO PEDRO','S√ÉO CRIST√ìV√ÉO':'SÃO CRISTÓVÃO',\n",
    "                             'MARU√çPE':'MARUÍPE','GRANDE VIT√ìRIA':'GRANDE VITÓRIA',\n",
    "                             'S√ÉO BENEDITO':'SÃO BENEDITO','SANTO ANDR√â':'SANTO ANDRÉ',\n",
    "                             'ANT√îNIO HON√ìRIO':'ANTÔNIO HONÓRIO',\n",
    "                             'M√ÅRIO CYPRESTE':'MARIO CYPRESTE','SANTO ANT√îNIO':'SANTO ANTONIO',\n",
    "                             'PRAIA DO SU√Å':'PRAIA DO SUÁ','ITARAR√â':'ITARARA',\n",
    "                             'INHANGUET√Å':'INHAGUETA','UNIVERSIT√ÅRIO':'UNIVERSITARIO',\n",
    "                             'S√ÉO JOS√â':'SÃO JOSÉ','REDEN√á√ÉO':'REDENÇÃO',\n",
    "                             'CARATO√çRA':'CARATOÍRA'}, inplace=True)"
   ]
  },
  {
   "cell_type": "code",
   "execution_count": 10,
   "id": "9902eb74",
   "metadata": {},
   "outputs": [
    {
     "name": "stdout",
     "output_type": "stream",
     "text": [
      "Valores corrigidos\n"
     ]
    }
   ],
   "source": [
    "if '√' in df['Neighbourhood']:\n",
    "    print('há nomes incorretos')\n",
    "else:\n",
    "    print('Valores corrigidos')\n",
    "    "
   ]
  },
  {
   "cell_type": "code",
   "execution_count": 11,
   "id": "6ce647ae",
   "metadata": {},
   "outputs": [
    {
     "name": "stdout",
     "output_type": "stream",
     "text": [
      "Yes, it is True that have null rows in this column.\n",
      "\n"
     ]
    },
    {
     "data": {
      "text/plain": [
       "\"It's 122 null rows in this column.\""
      ]
     },
     "execution_count": 11,
     "metadata": {},
     "output_type": "execute_result"
    }
   ],
   "source": [
    "# Age, há pessoas sem registro de idade?\n",
    "#quantas?\n",
    "\n",
    "print(f\"Yes, it is {df['Age'].isnull().any()} that have null rows in this column.\\n\")\n",
    "\n",
    "(f\"It\\'s {df['Age'].isnull().sum()} null rows in this column.\")"
   ]
  },
  {
   "cell_type": "code",
   "execution_count": null,
   "id": "7569237c",
   "metadata": {},
   "outputs": [],
   "source": [
    "# caso seja necessário apagar as linhas cujas idades constam null:\n",
    "#df.dropna(subset=[\"Age\"], inplace=True)"
   ]
  },
  {
   "cell_type": "code",
   "execution_count": 12,
   "id": "139997b5",
   "metadata": {},
   "outputs": [
    {
     "data": {
      "text/plain": [
       "8.221459e+14    88\n",
       "9.963767e+10    84\n",
       "2.688613e+13    70\n",
       "3.353478e+13    65\n",
       "2.584244e+11    62\n",
       "                ..\n",
       "4.123288e+12     1\n",
       "2.915678e+13     1\n",
       "5.885473e+11     1\n",
       "2.754952e+14     1\n",
       "1.557663e+13     1\n",
       "Name: PatientId, Length: 62299, dtype: int64"
      ]
     },
     "execution_count": 12,
     "metadata": {},
     "output_type": "execute_result"
    }
   ],
   "source": [
    "df['PatientId'].value_counts()"
   ]
  },
  {
   "cell_type": "code",
   "execution_count": 14,
   "id": "189cf87a",
   "metadata": {},
   "outputs": [
    {
     "name": "stdout",
     "output_type": "stream",
     "text": [
      "% comparecimento: 79.81%\n",
      "% não comparecimento: 20.19%\n"
     ]
    }
   ],
   "source": [
    "# percentual de ausentes pelo todo\n",
    "df['No-show'].replace({'Yes': 0, 'No': 1}, inplace=True)\n",
    "porcentagem_comparecimento = df['No-show'].mean() * 100\n",
    "porcentagem_nao_comparecimento = 100 - porcentagem_comparecimento\n",
    "print(f\"% comparecimento: {porcentagem_comparecimento:.2f}%\\n% não comparecimento: {porcentagem_nao_comparecimento:.2f}%\")"
   ]
  },
  {
   "cell_type": "code",
   "execution_count": null,
   "id": "14841f1d",
   "metadata": {},
   "outputs": [],
   "source": [
    "# percentual de ausencia pelo sexo biológico\n",
    "\n",
    "# percentual de ausencia entre os benificiários do bolsa família\n",
    "\n",
    "# percentual de ausência entre o grupo PCD\n",
    "\n",
    "# percentual de ausência entre os alcolótras\n",
    "\n",
    "# percentual de ausência entre os diabéticos\n",
    "\n",
    "# percentual de ausência entre os hipertensos\n",
    "\n",
    "# qual(ais) vício/patologia(s) estão mais conjugadas com o diabetes?\n",
    "\n",
    "# qual(ais) vício/patologia(s) estão mais conjugadas com a hipertensão?\n",
    "\n",
    "# qual(ais) patologia(s) estão mais conjugadas com o alcolismo?\n",
    "\n",
    "# qual(ais) vício/patologia(s) mais acometem o grupo PCD?\n",
    "\n",
    "# qual(ais) vício/patologia(s) mais acometem o grupo de beneficiários do Bolsa família?\n",
    "\n",
    "# Qual(is) o bairro(s) de pacientes com maior ausência em consultas? \n",
    "\n",
    "# Qual(is) bairro(s) detém maior número de beneficiários do programa Bolsa família?\n",
    "\n",
    "# Qual(is) bairro(s) detém maior número de alcólotras? \n",
    "\n",
    "# Qual(is) bairro(s) detém maior número de hipertensos? \n",
    "\n",
    "# Qual(is) bairro(s) detém maior número de diabéticos? \n",
    "\n",
    "# qual faixa etária é mais acometida pelo vício do alcolismo? \n",
    "\n",
    "# qual faixa etária é mais acometida pelo diabetes? \n",
    "\n",
    "# qual faixa etária é mais acometida pelo hipertensão? \n"
   ]
  },
  {
   "cell_type": "code",
   "execution_count": 15,
   "id": "09cf8255",
   "metadata": {},
   "outputs": [
    {
     "data": {
      "text/plain": [
       "86"
      ]
     },
     "execution_count": 15,
     "metadata": {},
     "output_type": "execute_result"
    }
   ],
   "source": [
    "# numero total de bairros de vitória - ES da planilha\n",
    "total_bairros=len(df['Neighbourhood'].unique())\n",
    "total_bairros"
   ]
  }
 ],
 "metadata": {
  "kernelspec": {
   "display_name": "Python 3",
   "language": "python",
   "name": "python3"
  },
  "language_info": {
   "codemirror_mode": {
    "name": "ipython",
    "version": 3
   },
   "file_extension": ".py",
   "mimetype": "text/x-python",
   "name": "python",
   "nbconvert_exporter": "python",
   "pygments_lexer": "ipython3",
   "version": "3.11.1"
  },
  "vscode": {
   "interpreter": {
    "hash": "33fb81b30dbad5efdfd8e59d2eb6c9bb746a620a6b7a6df18f82036835af372d"
   }
  }
 },
 "nbformat": 4,
 "nbformat_minor": 5
}
