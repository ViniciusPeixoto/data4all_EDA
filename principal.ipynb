{
 "cells": [
  {
   "attachments": {},
   "cell_type": "markdown",
   "metadata": {},
   "source": [
    "## Perguntas a serem respondidas:  \n",
    "### Ação combativa\n",
    "- Qual o impacto do recebimento do SMS em cada grupo?\n",
    "  - Geral\n",
    "  - Problemas de saúde\n",
    "  - Idade\n",
    "\n",
    "### Ação paliativa\n",
    "- Qual a faixa etária mais assídua e a mais ausente? \n",
    "- Qual(is) o(s) bairro(s) de pessoas menos assíduas? \n",
    "- Quais os problemas de saúde das pessoas menos assíduas? "
   ]
  },
  {
   "cell_type": "code",
   "execution_count": null,
   "metadata": {},
   "outputs": [],
   "source": [
    "import pandas as pd"
   ]
  },
  {
   "cell_type": "code",
   "execution_count": null,
   "metadata": {},
   "outputs": [],
   "source": [
    "df = pd.read_excel('appointment_prediction_data.xlsx')"
   ]
  },
  {
   "cell_type": "code",
   "execution_count": null,
   "metadata": {},
   "outputs": [],
   "source": [
    "df.drop_duplicates(subset='AppointmentID', keep='first')"
   ]
  }
 ],
 "metadata": {
  "kernelspec": {
   "display_name": ".venv",
   "language": "python",
   "name": "python3"
  },
  "language_info": {
   "codemirror_mode": {
    "name": "ipython",
    "version": 3
   },
   "file_extension": ".py",
   "mimetype": "text/x-python",
   "name": "python",
   "nbconvert_exporter": "python",
   "pygments_lexer": "ipython3",
   "version": "3.10.6"
  },
  "orig_nbformat": 4,
  "vscode": {
   "interpreter": {
    "hash": "4862b6117f0c4f2d3c423ad4c6f1a3d4982cb92922697de8175871d687d88d5d"
   }
  }
 },
 "nbformat": 4,
 "nbformat_minor": 2
}
