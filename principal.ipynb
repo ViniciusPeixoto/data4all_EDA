{
 "cells": [
  {
   "cell_type": "markdown",
   "metadata": {},
   "source": [
    "## Perguntas a serem respondidas:  \n",
    "### Ação combativa\n",
    "- Qual o impacto do recebimento do SMS em cada grupo?\n",
    "  - Geral\n",
    "  - Problemas de saúde\n",
    "  - Idade\n",
    "\n",
    "### Ação paliativa\n",
    "- Qual a faixa etária mais assídua e a mais ausente? \n",
    "- Qual(is) o(s) bairro(s) de pessoas menos assíduas? \n",
    "- Quais os problemas de saúde das pessoas menos assíduas? "
   ]
  },
  {
   "cell_type": "code",
   "execution_count": 1,
   "metadata": {},
   "outputs": [],
   "source": [
    "import pandas as pd"
   ]
  },
  {
   "cell_type": "code",
   "execution_count": 2,
   "metadata": {},
   "outputs": [],
   "source": [
    "df = pd.read_excel('appointment_prediction_data.xlsx')"
   ]
  },
  {
   "cell_type": "code",
   "execution_count": 3,
   "metadata": {
    "scrolled": false
   },
   "outputs": [
    {
     "data": {
      "text/html": [
       "<div>\n",
       "<style scoped>\n",
       "    .dataframe tbody tr th:only-of-type {\n",
       "        vertical-align: middle;\n",
       "    }\n",
       "\n",
       "    .dataframe tbody tr th {\n",
       "        vertical-align: top;\n",
       "    }\n",
       "\n",
       "    .dataframe thead th {\n",
       "        text-align: right;\n",
       "    }\n",
       "</style>\n",
       "<table border=\"1\" class=\"dataframe\">\n",
       "  <thead>\n",
       "    <tr style=\"text-align: right;\">\n",
       "      <th></th>\n",
       "      <th>PatientId</th>\n",
       "      <th>AppointmentID</th>\n",
       "      <th>Gender</th>\n",
       "      <th>ScheduledDay</th>\n",
       "      <th>AppointmentDay</th>\n",
       "      <th>Age</th>\n",
       "      <th>Neighbourhood</th>\n",
       "      <th>Scholarship</th>\n",
       "      <th>Hipertension</th>\n",
       "      <th>Diabetes</th>\n",
       "      <th>Alcoholism</th>\n",
       "      <th>Handcap</th>\n",
       "      <th>SMS_received</th>\n",
       "      <th>Compareceu</th>\n",
       "    </tr>\n",
       "  </thead>\n",
       "  <tbody>\n",
       "    <tr>\n",
       "      <th>0</th>\n",
       "      <td>2.987250e+13</td>\n",
       "      <td>5642903</td>\n",
       "      <td>F</td>\n",
       "      <td>2016-04-29</td>\n",
       "      <td>2016-04-29</td>\n",
       "      <td>62.0</td>\n",
       "      <td>JARDIM DA PENHA</td>\n",
       "      <td>0</td>\n",
       "      <td>1</td>\n",
       "      <td>0</td>\n",
       "      <td>0</td>\n",
       "      <td>0</td>\n",
       "      <td>0</td>\n",
       "      <td>1</td>\n",
       "    </tr>\n",
       "    <tr>\n",
       "      <th>1</th>\n",
       "      <td>5.589978e+14</td>\n",
       "      <td>5642503</td>\n",
       "      <td>M</td>\n",
       "      <td>2016-04-29</td>\n",
       "      <td>2016-04-29</td>\n",
       "      <td>56.0</td>\n",
       "      <td>JARDIM DA PENHA</td>\n",
       "      <td>0</td>\n",
       "      <td>0</td>\n",
       "      <td>0</td>\n",
       "      <td>0</td>\n",
       "      <td>0</td>\n",
       "      <td>0</td>\n",
       "      <td>1</td>\n",
       "    </tr>\n",
       "    <tr>\n",
       "      <th>2</th>\n",
       "      <td>4.262962e+12</td>\n",
       "      <td>5642549</td>\n",
       "      <td>F</td>\n",
       "      <td>2016-04-29</td>\n",
       "      <td>2016-04-29</td>\n",
       "      <td>62.0</td>\n",
       "      <td>MATA DA PRAIA</td>\n",
       "      <td>0</td>\n",
       "      <td>0</td>\n",
       "      <td>0</td>\n",
       "      <td>0</td>\n",
       "      <td>0</td>\n",
       "      <td>0</td>\n",
       "      <td>1</td>\n",
       "    </tr>\n",
       "    <tr>\n",
       "      <th>3</th>\n",
       "      <td>8.679512e+11</td>\n",
       "      <td>5642828</td>\n",
       "      <td>F</td>\n",
       "      <td>2016-04-29</td>\n",
       "      <td>2016-04-29</td>\n",
       "      <td>8.0</td>\n",
       "      <td>PONTAL DE CAMBURI</td>\n",
       "      <td>0</td>\n",
       "      <td>0</td>\n",
       "      <td>0</td>\n",
       "      <td>0</td>\n",
       "      <td>0</td>\n",
       "      <td>0</td>\n",
       "      <td>1</td>\n",
       "    </tr>\n",
       "    <tr>\n",
       "      <th>4</th>\n",
       "      <td>8.841186e+12</td>\n",
       "      <td>5642494</td>\n",
       "      <td>F</td>\n",
       "      <td>2016-04-29</td>\n",
       "      <td>2016-04-29</td>\n",
       "      <td>56.0</td>\n",
       "      <td>JARDIM DA PENHA</td>\n",
       "      <td>0</td>\n",
       "      <td>1</td>\n",
       "      <td>1</td>\n",
       "      <td>0</td>\n",
       "      <td>0</td>\n",
       "      <td>0</td>\n",
       "      <td>1</td>\n",
       "    </tr>\n",
       "    <tr>\n",
       "      <th>...</th>\n",
       "      <td>...</td>\n",
       "      <td>...</td>\n",
       "      <td>...</td>\n",
       "      <td>...</td>\n",
       "      <td>...</td>\n",
       "      <td>...</td>\n",
       "      <td>...</td>\n",
       "      <td>...</td>\n",
       "      <td>...</td>\n",
       "      <td>...</td>\n",
       "      <td>...</td>\n",
       "      <td>...</td>\n",
       "      <td>...</td>\n",
       "      <td>...</td>\n",
       "    </tr>\n",
       "    <tr>\n",
       "      <th>110522</th>\n",
       "      <td>2.572134e+12</td>\n",
       "      <td>5651768</td>\n",
       "      <td>F</td>\n",
       "      <td>2016-05-03</td>\n",
       "      <td>2016-06-07</td>\n",
       "      <td>56.0</td>\n",
       "      <td>MARIA ORTIZ</td>\n",
       "      <td>0</td>\n",
       "      <td>0</td>\n",
       "      <td>0</td>\n",
       "      <td>0</td>\n",
       "      <td>0</td>\n",
       "      <td>1</td>\n",
       "      <td>1</td>\n",
       "    </tr>\n",
       "    <tr>\n",
       "      <th>110523</th>\n",
       "      <td>3.596266e+12</td>\n",
       "      <td>5650093</td>\n",
       "      <td>F</td>\n",
       "      <td>2016-05-03</td>\n",
       "      <td>2016-06-07</td>\n",
       "      <td>51.0</td>\n",
       "      <td>MARIA ORTIZ</td>\n",
       "      <td>0</td>\n",
       "      <td>0</td>\n",
       "      <td>0</td>\n",
       "      <td>0</td>\n",
       "      <td>0</td>\n",
       "      <td>1</td>\n",
       "      <td>1</td>\n",
       "    </tr>\n",
       "    <tr>\n",
       "      <th>110524</th>\n",
       "      <td>1.557663e+13</td>\n",
       "      <td>5630692</td>\n",
       "      <td>F</td>\n",
       "      <td>2016-04-27</td>\n",
       "      <td>2016-06-07</td>\n",
       "      <td>21.0</td>\n",
       "      <td>MARIA ORTIZ</td>\n",
       "      <td>0</td>\n",
       "      <td>0</td>\n",
       "      <td>0</td>\n",
       "      <td>0</td>\n",
       "      <td>0</td>\n",
       "      <td>1</td>\n",
       "      <td>1</td>\n",
       "    </tr>\n",
       "    <tr>\n",
       "      <th>110525</th>\n",
       "      <td>9.213493e+13</td>\n",
       "      <td>5630323</td>\n",
       "      <td>F</td>\n",
       "      <td>2016-04-27</td>\n",
       "      <td>2016-06-07</td>\n",
       "      <td>38.0</td>\n",
       "      <td>MARIA ORTIZ</td>\n",
       "      <td>0</td>\n",
       "      <td>0</td>\n",
       "      <td>0</td>\n",
       "      <td>0</td>\n",
       "      <td>0</td>\n",
       "      <td>1</td>\n",
       "      <td>1</td>\n",
       "    </tr>\n",
       "    <tr>\n",
       "      <th>110526</th>\n",
       "      <td>3.775115e+14</td>\n",
       "      <td>5629448</td>\n",
       "      <td>F</td>\n",
       "      <td>2016-04-27</td>\n",
       "      <td>2016-06-07</td>\n",
       "      <td>54.0</td>\n",
       "      <td>MARIA ORTIZ</td>\n",
       "      <td>0</td>\n",
       "      <td>0</td>\n",
       "      <td>0</td>\n",
       "      <td>0</td>\n",
       "      <td>0</td>\n",
       "      <td>1</td>\n",
       "      <td>1</td>\n",
       "    </tr>\n",
       "  </tbody>\n",
       "</table>\n",
       "<p>110527 rows × 14 columns</p>\n",
       "</div>"
      ],
      "text/plain": [
       "           PatientId  AppointmentID Gender ScheduledDay AppointmentDay   Age  \\\n",
       "0       2.987250e+13        5642903      F   2016-04-29     2016-04-29  62.0   \n",
       "1       5.589978e+14        5642503      M   2016-04-29     2016-04-29  56.0   \n",
       "2       4.262962e+12        5642549      F   2016-04-29     2016-04-29  62.0   \n",
       "3       8.679512e+11        5642828      F   2016-04-29     2016-04-29   8.0   \n",
       "4       8.841186e+12        5642494      F   2016-04-29     2016-04-29  56.0   \n",
       "...              ...            ...    ...          ...            ...   ...   \n",
       "110522  2.572134e+12        5651768      F   2016-05-03     2016-06-07  56.0   \n",
       "110523  3.596266e+12        5650093      F   2016-05-03     2016-06-07  51.0   \n",
       "110524  1.557663e+13        5630692      F   2016-04-27     2016-06-07  21.0   \n",
       "110525  9.213493e+13        5630323      F   2016-04-27     2016-06-07  38.0   \n",
       "110526  3.775115e+14        5629448      F   2016-04-27     2016-06-07  54.0   \n",
       "\n",
       "            Neighbourhood  Scholarship  Hipertension  Diabetes  Alcoholism  \\\n",
       "0         JARDIM DA PENHA            0             1         0           0   \n",
       "1         JARDIM DA PENHA            0             0         0           0   \n",
       "2           MATA DA PRAIA            0             0         0           0   \n",
       "3       PONTAL DE CAMBURI            0             0         0           0   \n",
       "4         JARDIM DA PENHA            0             1         1           0   \n",
       "...                   ...          ...           ...       ...         ...   \n",
       "110522        MARIA ORTIZ            0             0         0           0   \n",
       "110523        MARIA ORTIZ            0             0         0           0   \n",
       "110524        MARIA ORTIZ            0             0         0           0   \n",
       "110525        MARIA ORTIZ            0             0         0           0   \n",
       "110526        MARIA ORTIZ            0             0         0           0   \n",
       "\n",
       "        Handcap  SMS_received  Compareceu  \n",
       "0             0             0           1  \n",
       "1             0             0           1  \n",
       "2             0             0           1  \n",
       "3             0             0           1  \n",
       "4             0             0           1  \n",
       "...         ...           ...         ...  \n",
       "110522        0             1           1  \n",
       "110523        0             1           1  \n",
       "110524        0             1           1  \n",
       "110525        0             1           1  \n",
       "110526        0             1           1  \n",
       "\n",
       "[110527 rows x 14 columns]"
      ]
     },
     "execution_count": 3,
     "metadata": {},
     "output_type": "execute_result"
    }
   ],
   "source": [
    "df['No-show'].replace({'Yes': 0, 'No': 1}, inplace=True)\n",
    "\n",
    "df.rename(columns={'No-show': 'Compareceu'}, inplace=True)\n",
    "\n",
    "df['Gender'].replace({'Female':'F','Male':'M'}, inplace=True)\n",
    "\n",
    "df['Neighbourhood'].replace({'RESIST√äNCIA':'RESISTÊNCIA','REP√öBLICA':'REPÚBLICA','S√ÉO PEDRO':'SÃO PEDRO',\n",
    "                             'S√ÉO CRIST√ìV√ÉO':'SÃO CRISTÓVÃO','MARU√çPE':'MARUÍPE','GRANDE VIT√ìRIA':'GRANDE VITÓRIA',\n",
    "                             'S√ÉO BENEDITO':'SÃO BENEDITO','SANTO ANDR√â':'SANTO ANDRÉ','ANT√îNIO HON√ìRIO':'ANTÔNIO HONÓRIO',\n",
    "                             'M√ÅRIO CYPRESTE':'MARIO CYPRESTE','SANTO ANT√îNIO':'SANTO ANTONIO','PRAIA DO SU√Å':'PRAIA DO SUÁ',\n",
    "                             'ITARAR√â':'ITARARA','INHANGUET√Å':'INHAGUETA','UNIVERSIT√ÅRIO':'UNIVERSITARIO',\n",
    "                             'S√ÉO JOS√â':'SÃO JOSÉ','REDEN√á√ÉO':'REDENÇÃO','CARATO√çRA':'CARATOÍRA',\n",
    "                             'ILHA DO PR√çNCIPE': 'ILHA DO PRÍNCIPE','ROM√ÉO': 'ROMÃO', 'FORTE S√ÉO JO√ÉO': 'FORTE SÃO JOÃO',\n",
    "                             'JOANA D¬¥ARC': 'JOANA D\\'ARC','CONSOLA√á√ÉO': 'CONSOLAÇÃO', 'SANTA CEC√çLIA': 'SANTA CECÍLIA',\n",
    "                             'SANTA L√öCIA': 'SANTA LÚCIA','SANTA LU√çZA': 'SANTA LUÍZA', 'SEGURAN√áA DO LAR': 'SEGURANÇA DO LAR',\n",
    "                             'Tabuazerio': 'TABUAZEIRO','ILHAS OCE√ÇNICAS DE TRINDADE': 'ILHAS OCEÂNICAS DE TRINDADE',\n",
    "                             'ENSEADA DO SU√Å': 'ENSEADA DO SUÁ'}, inplace=True)\n",
    "df['Neighbourhood'] = df.Neighbourhood.str.upper()\n",
    "\n",
    "df['AppointmentDay'] = pd.to_datetime(df['AppointmentDay']).dt.date\n",
    "df['ScheduledDay'] = pd.to_datetime(df['ScheduledDay']).dt.date\n",
    "\n",
    "df.drop_duplicates(subset='AppointmentID', keep='first')"
   ]
  },
  {
   "cell_type": "code",
   "execution_count": 4,
   "metadata": {},
   "outputs": [
    {
     "data": {
      "text/plain": [
       "0.7981062284644533"
      ]
     },
     "execution_count": 4,
     "metadata": {},
     "output_type": "execute_result"
    }
   ],
   "source": [
    "attendance_percent = df['Compareceu'].mean()\n",
    "attendance_percent"
   ]
  },
  {
   "cell_type": "code",
   "execution_count": 5,
   "metadata": {},
   "outputs": [],
   "source": [
    "df['time_delta'] = (df['AppointmentDay'] - df['ScheduledDay']).dt.days"
   ]
  },
  {
   "cell_type": "markdown",
   "metadata": {},
   "source": [
    "# Percentual de comparecimento "
   ]
  },
  {
   "cell_type": "code",
   "execution_count": 13,
   "metadata": {},
   "outputs": [
    {
     "name": "stdout",
     "output_type": "stream",
     "text": [
      "A assiduidade nas consultas foi de 79.81%. Ausência de 20.19%. \n"
     ]
    }
   ],
   "source": [
    "contagem_comparecimento = (df['Compareceu']==1).sum()\n",
    "total_de_consultas = len(df['AppointmentID'])\n",
    "\n",
    "foram_percent = (contagem_comparecimento/total_de_consultas)*100 \n",
    "faltaram_percent = (100 - foram_percent)  \n",
    "\n",
    "print(f'A assiduidade nas consultas foi de {foram_percent:.2f}%. Ausência de {faltaram_percent:.2f}%. ')"
   ]
  },
  {
   "cell_type": "markdown",
   "metadata": {},
   "source": [
    "### percentual de ausencia pelo sexo biológico, coluna 'Gender'\n"
   ]
  },
  {
   "cell_type": "code",
   "execution_count": 14,
   "metadata": {},
   "outputs": [
    {
     "data": {
      "text/plain": [
       "Gender\n",
       "F    0.796883\n",
       "M    0.800377\n",
       "Name: Compareceu, dtype: float64"
      ]
     },
     "execution_count": 14,
     "metadata": {},
     "output_type": "execute_result"
    }
   ],
   "source": [
    "df.groupby('Gender')['Compareceu'].mean()"
   ]
  },
  {
   "cell_type": "markdown",
   "metadata": {},
   "source": [
    "### percentual de ausencia entre os benificiários do bolsa família\n"
   ]
  },
  {
   "cell_type": "code",
   "execution_count": 15,
   "metadata": {},
   "outputs": [
    {
     "data": {
      "text/plain": [
       "Scholarship\n",
       "0    0.801970\n",
       "1    0.762637\n",
       "Name: Compareceu, dtype: float64"
      ]
     },
     "execution_count": 15,
     "metadata": {},
     "output_type": "execute_result"
    }
   ],
   "source": [
    "# percentual de ausencia entre os benificiários do bolsa família\n",
    "df.groupby('Scholarship')['Compareceu'].mean()"
   ]
  },
  {
   "cell_type": "markdown",
   "metadata": {},
   "source": [
    "### percentual de ausência entre o grupo PCD\n"
   ]
  },
  {
   "cell_type": "code",
   "execution_count": 16,
   "metadata": {},
   "outputs": [
    {
     "data": {
      "text/plain": [
       "Handcap\n",
       "0    0.797685\n",
       "1    0.818466\n",
       "Name: Compareceu, dtype: float64"
      ]
     },
     "execution_count": 16,
     "metadata": {},
     "output_type": "execute_result"
    }
   ],
   "source": [
    "df['Handcap'].replace(to_replace = (2 ,3 ,4), value = 1 , inplace = True)\n",
    "#df['Handcap'].value_counts()\n",
    "\n",
    "df.groupby('Handcap')['Compareceu'].mean() # bronze"
   ]
  },
  {
   "cell_type": "markdown",
   "metadata": {},
   "source": [
    "### percentual de ausência entre os pacientes com problemas com álcool\n"
   ]
  },
  {
   "cell_type": "code",
   "execution_count": 17,
   "metadata": {},
   "outputs": [
    {
     "data": {
      "text/plain": [
       "Alcoholism\n",
       "0    0.798094\n",
       "1    0.798512\n",
       "Name: Compareceu, dtype: float64"
      ]
     },
     "execution_count": 17,
     "metadata": {},
     "output_type": "execute_result"
    }
   ],
   "source": [
    "# percentual de ausência entre os alcoólótras\n",
    "df.groupby('Alcoholism')['Compareceu'].mean()"
   ]
  },
  {
   "cell_type": "markdown",
   "metadata": {},
   "source": [
    "### percentual de ausência entre os diabéticos\n"
   ]
  },
  {
   "cell_type": "code",
   "execution_count": 18,
   "metadata": {},
   "outputs": [
    {
     "data": {
      "text/plain": [
       "Diabetes\n",
       "0    0.796408\n",
       "1    0.820035\n",
       "Name: Compareceu, dtype: float64"
      ]
     },
     "execution_count": 18,
     "metadata": {},
     "output_type": "execute_result"
    }
   ],
   "source": [
    "# percentual de ausência entre os diabéticos\n",
    "df.groupby('Diabetes')['Compareceu'].mean() # medalha de prata em assiduidade"
   ]
  },
  {
   "cell_type": "markdown",
   "metadata": {},
   "source": [
    "### percentual de ausência entre os hipertensos\n"
   ]
  },
  {
   "cell_type": "code",
   "execution_count": 19,
   "metadata": {},
   "outputs": [
    {
     "data": {
      "text/plain": [
       "Hipertension\n",
       "0    0.791014\n",
       "1    0.826968\n",
       "Name: Compareceu, dtype: float64"
      ]
     },
     "execution_count": 19,
     "metadata": {},
     "output_type": "execute_result"
    }
   ],
   "source": [
    "# percentual de ausência entre os hipertensos\n",
    "df.groupby('Hipertension')['Compareceu'].mean() # campeões em assiduidade"
   ]
  },
  {
   "cell_type": "markdown",
   "metadata": {},
   "source": [
    "### Percentual de ausência entre os pacientes que receberam mensagem de lembrete pelo SMS\n"
   ]
  },
  {
   "cell_type": "code",
   "execution_count": 20,
   "metadata": {},
   "outputs": [
    {
     "data": {
      "text/plain": [
       "SMS_received\n",
       "0    0.833016\n",
       "1    0.724282\n",
       "Name: Compareceu, dtype: float64"
      ]
     },
     "execution_count": 20,
     "metadata": {},
     "output_type": "execute_result"
    }
   ],
   "source": [
    "# percentual de ausência entre os pacientes que receberam mensagem de lembrete pelo SMS\n",
    "df.groupby('SMS_received')['Compareceu'].mean()\n",
    "\n",
    "# percebe-se que quem recebe sms tende a faltar mais do que o grupo q não recebeu"
   ]
  },
  {
   "cell_type": "markdown",
   "metadata": {},
   "source": [
    "## Faixa etária\n"
   ]
  },
  {
   "cell_type": "code",
   "execution_count": 6,
   "metadata": {},
   "outputs": [],
   "source": [
    "#criar uma coluna de faixa etária\n",
    "df['Faixa etaria']=pd.cut(df['Age'], bins=[-1,12,18,30,60,125], labels=['Crianças','Adolescentes','Adultons Jovens','Adultos','Idosos'])\n"
   ]
  },
  {
   "cell_type": "code",
   "execution_count": 7,
   "metadata": {},
   "outputs": [
    {
     "data": {
      "text/html": [
       "<div>\n",
       "<style scoped>\n",
       "    .dataframe tbody tr th:only-of-type {\n",
       "        vertical-align: middle;\n",
       "    }\n",
       "\n",
       "    .dataframe tbody tr th {\n",
       "        vertical-align: top;\n",
       "    }\n",
       "\n",
       "    .dataframe thead th {\n",
       "        text-align: right;\n",
       "    }\n",
       "</style>\n",
       "<table border=\"1\" class=\"dataframe\">\n",
       "  <thead>\n",
       "    <tr style=\"text-align: right;\">\n",
       "      <th></th>\n",
       "      <th>PatientId</th>\n",
       "      <th>AppointmentID</th>\n",
       "      <th>Gender</th>\n",
       "      <th>ScheduledDay</th>\n",
       "      <th>AppointmentDay</th>\n",
       "      <th>Age</th>\n",
       "      <th>Neighbourhood</th>\n",
       "      <th>Scholarship</th>\n",
       "      <th>Hipertension</th>\n",
       "      <th>Diabetes</th>\n",
       "      <th>Alcoholism</th>\n",
       "      <th>Handcap</th>\n",
       "      <th>SMS_received</th>\n",
       "      <th>Compareceu</th>\n",
       "      <th>time_delta</th>\n",
       "      <th>Faixa etaria</th>\n",
       "    </tr>\n",
       "  </thead>\n",
       "  <tbody>\n",
       "    <tr>\n",
       "      <th>0</th>\n",
       "      <td>2.987250e+13</td>\n",
       "      <td>5642903</td>\n",
       "      <td>F</td>\n",
       "      <td>2016-04-29</td>\n",
       "      <td>2016-04-29</td>\n",
       "      <td>62.0</td>\n",
       "      <td>JARDIM DA PENHA</td>\n",
       "      <td>0</td>\n",
       "      <td>1</td>\n",
       "      <td>0</td>\n",
       "      <td>0</td>\n",
       "      <td>0</td>\n",
       "      <td>0</td>\n",
       "      <td>1</td>\n",
       "      <td>0</td>\n",
       "      <td>Idosos</td>\n",
       "    </tr>\n",
       "    <tr>\n",
       "      <th>1</th>\n",
       "      <td>5.589978e+14</td>\n",
       "      <td>5642503</td>\n",
       "      <td>M</td>\n",
       "      <td>2016-04-29</td>\n",
       "      <td>2016-04-29</td>\n",
       "      <td>56.0</td>\n",
       "      <td>JARDIM DA PENHA</td>\n",
       "      <td>0</td>\n",
       "      <td>0</td>\n",
       "      <td>0</td>\n",
       "      <td>0</td>\n",
       "      <td>0</td>\n",
       "      <td>0</td>\n",
       "      <td>1</td>\n",
       "      <td>0</td>\n",
       "      <td>Adultos</td>\n",
       "    </tr>\n",
       "    <tr>\n",
       "      <th>2</th>\n",
       "      <td>4.262962e+12</td>\n",
       "      <td>5642549</td>\n",
       "      <td>F</td>\n",
       "      <td>2016-04-29</td>\n",
       "      <td>2016-04-29</td>\n",
       "      <td>62.0</td>\n",
       "      <td>MATA DA PRAIA</td>\n",
       "      <td>0</td>\n",
       "      <td>0</td>\n",
       "      <td>0</td>\n",
       "      <td>0</td>\n",
       "      <td>0</td>\n",
       "      <td>0</td>\n",
       "      <td>1</td>\n",
       "      <td>0</td>\n",
       "      <td>Idosos</td>\n",
       "    </tr>\n",
       "    <tr>\n",
       "      <th>3</th>\n",
       "      <td>8.679512e+11</td>\n",
       "      <td>5642828</td>\n",
       "      <td>F</td>\n",
       "      <td>2016-04-29</td>\n",
       "      <td>2016-04-29</td>\n",
       "      <td>8.0</td>\n",
       "      <td>PONTAL DE CAMBURI</td>\n",
       "      <td>0</td>\n",
       "      <td>0</td>\n",
       "      <td>0</td>\n",
       "      <td>0</td>\n",
       "      <td>0</td>\n",
       "      <td>0</td>\n",
       "      <td>1</td>\n",
       "      <td>0</td>\n",
       "      <td>Crianças</td>\n",
       "    </tr>\n",
       "    <tr>\n",
       "      <th>4</th>\n",
       "      <td>8.841186e+12</td>\n",
       "      <td>5642494</td>\n",
       "      <td>F</td>\n",
       "      <td>2016-04-29</td>\n",
       "      <td>2016-04-29</td>\n",
       "      <td>56.0</td>\n",
       "      <td>JARDIM DA PENHA</td>\n",
       "      <td>0</td>\n",
       "      <td>1</td>\n",
       "      <td>1</td>\n",
       "      <td>0</td>\n",
       "      <td>0</td>\n",
       "      <td>0</td>\n",
       "      <td>1</td>\n",
       "      <td>0</td>\n",
       "      <td>Adultos</td>\n",
       "    </tr>\n",
       "  </tbody>\n",
       "</table>\n",
       "</div>"
      ],
      "text/plain": [
       "      PatientId  AppointmentID Gender ScheduledDay AppointmentDay   Age  \\\n",
       "0  2.987250e+13        5642903      F   2016-04-29     2016-04-29  62.0   \n",
       "1  5.589978e+14        5642503      M   2016-04-29     2016-04-29  56.0   \n",
       "2  4.262962e+12        5642549      F   2016-04-29     2016-04-29  62.0   \n",
       "3  8.679512e+11        5642828      F   2016-04-29     2016-04-29   8.0   \n",
       "4  8.841186e+12        5642494      F   2016-04-29     2016-04-29  56.0   \n",
       "\n",
       "       Neighbourhood  Scholarship  Hipertension  Diabetes  Alcoholism  \\\n",
       "0    JARDIM DA PENHA            0             1         0           0   \n",
       "1    JARDIM DA PENHA            0             0         0           0   \n",
       "2      MATA DA PRAIA            0             0         0           0   \n",
       "3  PONTAL DE CAMBURI            0             0         0           0   \n",
       "4    JARDIM DA PENHA            0             1         1           0   \n",
       "\n",
       "   Handcap  SMS_received  Compareceu  time_delta Faixa etaria  \n",
       "0        0             0           1           0       Idosos  \n",
       "1        0             0           1           0      Adultos  \n",
       "2        0             0           1           0       Idosos  \n",
       "3        0             0           1           0     Crianças  \n",
       "4        0             0           1           0      Adultos  "
      ]
     },
     "execution_count": 7,
     "metadata": {},
     "output_type": "execute_result"
    }
   ],
   "source": [
    "# verifica criação de nova coluna faixa etária\n",
    "df.head()"
   ]
  },
  {
   "cell_type": "markdown",
   "metadata": {},
   "source": [
    " ### Qual a faixa etária mais assídua e a mais ausente? "
   ]
  },
  {
   "cell_type": "code",
   "execution_count": 8,
   "metadata": {},
   "outputs": [
    {
     "data": {
      "text/plain": [
       "Faixa etaria\n",
       "Idosos             0.847825\n",
       "Adultos            0.804531\n",
       "Crianças           0.795307\n",
       "Adultons Jovens    0.752940\n",
       "Adolescentes       0.739336\n",
       "Name: Compareceu, dtype: float64"
      ]
     },
     "execution_count": 8,
     "metadata": {},
     "output_type": "execute_result"
    }
   ],
   "source": [
    "# agrupa em ordem decrescente a assiduidade por faixa etária\n",
    "df.groupby('Faixa etaria')['Compareceu'].mean().sort_values(ascending=False)"
   ]
  },
  {
   "cell_type": "markdown",
   "metadata": {},
   "source": [
    "### qual faixa etária é mais acometida com problemas com álcool? \n"
   ]
  },
  {
   "cell_type": "code",
   "execution_count": 9,
   "metadata": {},
   "outputs": [
    {
     "data": {
      "text/plain": [
       "Faixa etaria\n",
       "Adultos            0.052093\n",
       "Idosos             0.037221\n",
       "Adultons Jovens    0.014747\n",
       "Adolescentes       0.001916\n",
       "Crianças           0.000619\n",
       "Name: Alcoholism, dtype: float64"
      ]
     },
     "execution_count": 9,
     "metadata": {},
     "output_type": "execute_result"
    }
   ],
   "source": [
    "df.groupby('Faixa etaria')['Alcoholism'].mean().sort_values(ascending=False)"
   ]
  },
  {
   "cell_type": "markdown",
   "metadata": {},
   "source": [
    "### qual faixa etária é mais acometida pelo diabetes? \n"
   ]
  },
  {
   "cell_type": "code",
   "execution_count": 10,
   "metadata": {},
   "outputs": [
    {
     "data": {
      "text/plain": [
       "Faixa etaria\n",
       "Idosos             0.221806\n",
       "Adultos            0.075080\n",
       "Adultons Jovens    0.006985\n",
       "Adolescentes       0.004087\n",
       "Crianças           0.000904\n",
       "Name: Diabetes, dtype: float64"
      ]
     },
     "execution_count": 10,
     "metadata": {},
     "output_type": "execute_result"
    }
   ],
   "source": [
    "df.groupby('Faixa etaria')['Diabetes'].mean().sort_values(ascending=False)"
   ]
  },
  {
   "cell_type": "markdown",
   "metadata": {},
   "source": [
    "### qual faixa etária é mais acometida pelo hipertensão? "
   ]
  },
  {
   "cell_type": "code",
   "execution_count": 12,
   "metadata": {},
   "outputs": [
    {
     "data": {
      "text/plain": [
       "Faixa etaria\n",
       "Idosos             0.556743\n",
       "Adultos            0.231158\n",
       "Adultons Jovens    0.019285\n",
       "Adolescentes       0.003704\n",
       "Crianças           0.000571\n",
       "Name: Hipertension, dtype: float64"
      ]
     },
     "execution_count": 12,
     "metadata": {},
     "output_type": "execute_result"
    }
   ],
   "source": [
    "df.groupby('Faixa etaria')['Hipertension'].mean().sort_values(ascending=False)"
   ]
  },
  {
   "cell_type": "markdown",
   "metadata": {},
   "source": [
    "# Bairros: "
   ]
  },
  {
   "cell_type": "markdown",
   "metadata": {},
   "source": [
    "### Qual(ais) bairros mais assíduos ? "
   ]
  },
  {
   "cell_type": "code",
   "execution_count": 21,
   "metadata": {},
   "outputs": [
    {
     "data": {
      "text/plain": [
       "Neighbourhood\n",
       "PARQUE INDUSTRIAL              1.000000\n",
       "ILHA DO BOI                    0.914286\n",
       "AEROPORTO                      0.875000\n",
       "MARIO CYPRESTE                 0.854447\n",
       "SOLON BORGES                   0.853191\n",
       "                                 ...   \n",
       "ITARARA                        0.737336\n",
       "SANTA CLARA                    0.735178\n",
       "SANTA CECÍLIA                  0.725446\n",
       "SANTOS DUMONT                  0.710815\n",
       "ILHAS OCEÂNICAS DE TRINDADE    0.000000\n",
       "Name: Compareceu, Length: 82, dtype: float64"
      ]
     },
     "execution_count": 21,
     "metadata": {},
     "output_type": "execute_result"
    }
   ],
   "source": [
    "df.groupby('Neighbourhood')['Compareceu'].mean().sort_values(ascending=False)\n",
    "# Os últimos são os bairros de pacientes com maior ausência em consultas"
   ]
  },
  {
   "cell_type": "markdown",
   "metadata": {},
   "source": [
    "###  Qual(is) bairro(s) detém maior número de beneficiários do programa Bolsa família?\n"
   ]
  },
  {
   "cell_type": "code",
   "execution_count": 22,
   "metadata": {},
   "outputs": [
    {
     "data": {
      "text/plain": [
       "Neighbourhood\n",
       "SÃO BENEDITO                   0.280751\n",
       "DO MOSCOSO                     0.268765\n",
       "ILHA DO PRÍNCIPE               0.255516\n",
       "PIEDADE                        0.254425\n",
       "SANTOS REIS                    0.219378\n",
       "                                 ...   \n",
       "PARQUE INDUSTRIAL              0.000000\n",
       "BARRO VERMELHO                 0.000000\n",
       "ILHAS OCEÂNICAS DE TRINDADE    0.000000\n",
       "MORADA DE CAMBURI              0.000000\n",
       "AEROPORTO                      0.000000\n",
       "Name: Scholarship, Length: 82, dtype: float64"
      ]
     },
     "execution_count": 22,
     "metadata": {},
     "output_type": "execute_result"
    }
   ],
   "source": [
    "df.groupby('Neighbourhood')['Scholarship'].mean().sort_values(ascending=False)\n"
   ]
  },
  {
   "cell_type": "markdown",
   "metadata": {},
   "source": [
    "### Qual(is) bairro(s) detém maior número de pacientes com problemas com álcool? "
   ]
  },
  {
   "cell_type": "code",
   "execution_count": 23,
   "metadata": {},
   "outputs": [
    {
     "data": {
      "text/plain": [
       "Neighbourhood\n",
       "ESTRELINHA           0.146840\n",
       "DO MOSCOSO           0.130751\n",
       "SANTA MARTHA         0.109869\n",
       "DE LOURDE            0.083333\n",
       "PRAIA DO SUÁ         0.079193\n",
       "                       ...   \n",
       "PARQUE INDUSTRIAL    0.000000\n",
       "MORADA DE CAMBURI    0.000000\n",
       "MONTE BELO           0.000000\n",
       "MATA DA PRAIA        0.000000\n",
       "AEROPORTO            0.000000\n",
       "Name: Alcoholism, Length: 82, dtype: float64"
      ]
     },
     "execution_count": 23,
     "metadata": {},
     "output_type": "execute_result"
    }
   ],
   "source": [
    "df.groupby('Neighbourhood')['Alcoholism'].mean().sort_values(ascending=False)\n"
   ]
  },
  {
   "cell_type": "markdown",
   "metadata": {},
   "source": [
    "### Qual(is) bairro(s) detém maior número de hipertensos? "
   ]
  },
  {
   "cell_type": "code",
   "execution_count": 24,
   "metadata": {},
   "outputs": [
    {
     "data": {
      "text/plain": [
       "Neighbourhood\n",
       "DE LOURDE                      0.416667\n",
       "DE LOURDES                     0.344710\n",
       "SANTA CECÍLIA                  0.323661\n",
       "PARQUE MOSCOSO                 0.320449\n",
       "FONTE GRANDE                   0.312317\n",
       "                                 ...   \n",
       "ANTÔNIO HONÓRIO                0.018450\n",
       "NAZARETH                       0.007407\n",
       "ILHAS OCEÂNICAS DE TRINDADE    0.000000\n",
       "ILHA DO FRADE                  0.000000\n",
       "PARQUE INDUSTRIAL              0.000000\n",
       "Name: Hipertension, Length: 82, dtype: float64"
      ]
     },
     "execution_count": 24,
     "metadata": {},
     "output_type": "execute_result"
    }
   ],
   "source": [
    "df.groupby('Neighbourhood')['Hipertension'].mean().sort_values(ascending=False)\n"
   ]
  },
  {
   "cell_type": "markdown",
   "metadata": {},
   "source": [
    "### Qual(is) bairro(s) detém maior número de diabéticos? "
   ]
  },
  {
   "cell_type": "markdown",
   "metadata": {},
   "source": [
    "df.groupby('Neighbourhood')['Diabetes'].mean().sort_values(ascending=False)\n"
   ]
  },
  {
   "cell_type": "markdown",
   "metadata": {},
   "source": [
    "## Em comparação ao grupo não-PCD, o grupo com deficiência compareceu mais nas consultas."
   ]
  },
  {
   "cell_type": "code",
   "execution_count": null,
   "metadata": {},
   "outputs": [],
   "source": [
    "df.groupby(['Handcap'])['Compareceu'].mean() "
   ]
  },
  {
   "cell_type": "markdown",
   "metadata": {},
   "source": [
    "### Quantas consultas foram marcadas para cada especialidade?"
   ]
  },
  {
   "cell_type": "code",
   "execution_count": null,
   "metadata": {},
   "outputs": [],
   "source": [
    "\n",
    "df_pcd = df.loc[df['Handcap']==1]\n",
    "\n",
    "\n",
    "hipertensos_pcd = df_pcd.loc[df_pcd['Hipertension']==1]\n",
    "alcolismo_pcd = df_pcd.loc[df_pcd['Alcoholism']==1]\n",
    "diabetes_pcd = df_pcd.loc[df_pcd['Diabetes']==1]\n",
    "\n",
    "print(f'Foram {len(alcolismo_pcd)} consultas marcadas para Alcoolismo no grupo PCD')\n",
    "print(f'Foram {len(diabetes_pcd)} consultas marcadas para Diabetes no grupo PCD')\n",
    "print(f'Foram {len(hipertensos_pcd)} consultas marcadas para Hipertensão no grupo PCD')\n"
   ]
  },
  {
   "cell_type": "markdown",
   "metadata": {},
   "source": [
    "### Qual gênero compareceu mais nas consultas marcadas no grupo PCD? Genero Masculino\n"
   ]
  },
  {
   "cell_type": "code",
   "execution_count": null,
   "metadata": {},
   "outputs": [],
   "source": [
    "df_pcd.groupby('Gender')['Compareceu'].mean()"
   ]
  },
  {
   "cell_type": "markdown",
   "metadata": {},
   "source": [
    "### Qual a faixa etária que mais compareceu nas consultas marcadas?"
   ]
  },
  {
   "cell_type": "code",
   "execution_count": null,
   "metadata": {},
   "outputs": [],
   "source": [
    "df_pcd['Faixa etaria'] = pd.cut(df_pcd['Age'],bins=[-1,12,18,30,60,125],labels=['Crianças','Adolescentes','Jovens Adultos','Adultos','Idosos'])\n",
    "df_pcd.groupby(['Faixa etaria'])['Compareceu'].mean().sort_values(ascending=False)"
   ]
  },
  {
   "cell_type": "markdown",
   "metadata": {},
   "source": [
    "## No geral, incluindo TODAS as consultas, até as imediatas, receber o sms não impactou o grupo PCD, porém se isolarmos as consultas imediatas vemos que sim teve uma pequena diferença, e vamos ver isso mais a frente."
   ]
  },
  {
   "cell_type": "code",
   "execution_count": null,
   "metadata": {},
   "outputs": [],
   "source": [
    "df_pcd.groupby(['SMS_received'])['Compareceu'].mean()"
   ]
  },
  {
   "cell_type": "markdown",
   "metadata": {},
   "source": [
    "## Alocando as respostas de comparecimentos em grupos de:\n",
    "### Recebeu o sms - 1. Não recebeu o sms - 0.<br>\n",
    "\n",
    "## E separando o grupo por consultas realizadas a partir de 3 dias de marcação temos os seguintes resultados:"
   ]
  },
  {
   "cell_type": "markdown",
   "metadata": {},
   "source": [
    "### No grupo de consultas marcadas para \"Diabetes\" houve um aumento de 7% no comparecimento de quem recebeu o lembrete por sms."
   ]
  },
  {
   "cell_type": "code",
   "execution_count": null,
   "metadata": {},
   "outputs": [],
   "source": [
    "\n",
    "sms_diabetes_pcd = diabetes_pcd.loc[(diabetes_pcd['time_delta']>2)]\n",
    "sms_diabetes_pcd.groupby(['SMS_received'])['Compareceu'].mean()"
   ]
  },
  {
   "cell_type": "markdown",
   "metadata": {},
   "source": [
    "### No grupo de consultas marcadas para \"Hipertensão\" houve um aumento de 8% no comparecimento de quem recebeu o lembrete por sms. "
   ]
  },
  {
   "cell_type": "code",
   "execution_count": null,
   "metadata": {},
   "outputs": [],
   "source": [
    "\n",
    "sms_hipertensao = hipertensos_pcd.loc[(hipertensos_pcd['time_delta']>2)]\n",
    "sms_hipertensao.groupby(['SMS_received'])['Compareceu'].mean()"
   ]
  },
  {
   "cell_type": "markdown",
   "metadata": {},
   "source": [
    "### No grupo de consultas marcadas para \"Alcoolismo\" receber SMS não fez diferença.\n"
   ]
  },
  {
   "cell_type": "code",
   "execution_count": null,
   "metadata": {},
   "outputs": [],
   "source": [
    "sms_alcolismo_pcd = alcolismo_pcd.loc[(alcolismo_pcd['time_delta']>2)]\n",
    "sms_alcolismo_pcd.groupby(['SMS_received'])['Compareceu'].mean()"
   ]
  },
  {
   "cell_type": "markdown",
   "metadata": {},
   "source": [
    "### Será que com o tempo mais longo de espera de consulta há mais ausência de deficientes? \n",
    "### O nível de comparecimento é alto nos primeiros dias, mas quanto mais longe da data a consulta é marcada, as taxas de comparecimento diminuem."
   ]
  },
  {
   "cell_type": "code",
   "execution_count": null,
   "metadata": {},
   "outputs": [],
   "source": [
    "df_pcd.pivot_table(index='time_delta', aggfunc='count', values='Compareceu').plot(kind='bar', xticks= (np.arange(0,60,30)), title = 'Comparecimento por tempo de espera pela consulta', xlabel = 'Dias depois da marcação')"
   ]
  },
  {
   "cell_type": "markdown",
   "metadata": {},
   "source": [
    "#### Solução: Quanto mais cedo as consultas forem marcadas, e tendo sido reforçados os lembretes por sms, a taxa de AUSÊNCIA do grupo PCD diminuirá."
   ]
  },
  {
   "cell_type": "code",
   "execution_count": null,
   "metadata": {},
   "outputs": [],
   "source": []
  }
 ],
 "metadata": {
  "kernelspec": {
   "display_name": "Python 3 (ipykernel)",
   "language": "python",
   "name": "python3"
  },
  "language_info": {
   "codemirror_mode": {
    "name": "ipython",
    "version": 3
   },
   "file_extension": ".py",
   "mimetype": "text/x-python",
   "name": "python",
   "nbconvert_exporter": "python",
   "pygments_lexer": "ipython3",
   "version": "3.9.13"
  },
  "vscode": {
   "interpreter": {
    "hash": "4862b6117f0c4f2d3c423ad4c6f1a3d4982cb92922697de8175871d687d88d5d"
   }
  }
 },
 "nbformat": 4,
 "nbformat_minor": 2
}
