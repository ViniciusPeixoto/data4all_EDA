{
 "cells": [
  {
   "attachments": {},
   "cell_type": "markdown",
   "metadata": {},
   "source": [
    "# Análise do tempo entre a marcação da consulta e a consulta em si\n",
    "\n",
    "- Felipe Cunha\n",
    "\n",
    "### Hipóteses e pontos a serem investigados: \n",
    "- Uma parte das consultas foi marcada para o mesmo dia e a taxa de comparecimento deve ser mais alta;\n",
    "- Quanto maior a diferença de tempo entre a marcação da consulta e a consulta, maior a taxa de ausentes;\n",
    "- Quanto maior a diferença de tempo, mais as pessoas recebem SMS para lembrar da consulta;\n",
    "    - E nesse caso, o recebimento de SMS faz com que aumente a taxa de presença?\n",
    "- Verificar também as outras variáveis em relação a faixas de intervalo de tempo"
   ]
  },
  {
   "cell_type": "code",
   "execution_count": 9,
   "metadata": {},
   "outputs": [],
   "source": [
    "# Criando uma nova coluna com o intervalo de tempo entre a data da marcação da consulta e a data da consulta\n",
    "df['time_delta'] = (df['AppointmentDay'] - df['ScheduledDay']).dt.days "
   ]
  },
  {
   "attachments": {},
   "cell_type": "markdown",
   "metadata": {},
   "source": [
    "### Análise das consultas marcadas para o mesmo dia"
   ]
  },
  {
   "cell_type": "code",
   "execution_count": 10,
   "metadata": {},
   "outputs": [
    {
     "name": "stdout",
     "output_type": "stream",
     "text": [
      "Total de consultas marcadas para o mesmo dia: 38587.\n",
      "Total de consultas: 110573.\n",
      "\n",
      "Relação das pessoas que compareceram à consulta (1 - Sim, 0 - Não):\n",
      "1    36795\n",
      "0     1792\n",
      "Name: Compareceu, dtype: int64\n",
      "\n",
      "Formato do novo DataFrame: Linhas: 38587, Colunas: 15\n"
     ]
    }
   ],
   "source": [
    "# Verificando quantas consultas foram marcadas para o mesmo dia e criando um dataframe com essas consultas\n",
    "consultas_mesmo_dia = df['time_delta'].value_counts()[0]\n",
    "total_consultas = len(df['time_delta'])\n",
    "\n",
    "df_dia0 = df[df['time_delta'] == 0]\n",
    "df_dia0['Compareceu'].value_counts()\n",
    "\n",
    "print(f'Total de consultas marcadas para o mesmo dia: {consultas_mesmo_dia}.')\n",
    "print(f'Total de consultas: {total_consultas}.')\n",
    "print('\\nRelação das pessoas que compareceram à consulta (1 - Sim, 0 - Não):')\n",
    "print(df_dia0['Compareceu'].value_counts())\n",
    "print(f'\\nFormato do novo DataFrame: Linhas: {df_dia0.shape[0]}, Colunas: {df_dia0.shape[1]}')"
   ]
  },
  {
   "cell_type": "code",
   "execution_count": 11,
   "metadata": {},
   "outputs": [
    {
     "name": "stdout",
     "output_type": "stream",
     "text": [
      "Percentual de consultas marcadas para o mesmo dia: 34.90%.\n",
      "Percentual de presença nessas consultas: 95.36%.\n"
     ]
    }
   ],
   "source": [
    "presenca_dia0 = df_dia0['Compareceu'].value_counts()[1] # Relação de pessoas que foram a consulta\n",
    "ausencia_dia0 = df_dia0['Compareceu'].value_counts()[0] # Relação de pessoas que não foram a consulta\n",
    "\n",
    "print(f'Percentual de consultas marcadas para o mesmo dia: {consultas_mesmo_dia/total_consultas*100:.2f}%.')\n",
    "print(f'Percentual de presença nessas consultas: {presenca_dia0/len(df_dia0)*100:.2f}%.')"
   ]
  },
  {
   "cell_type": "code",
   "execution_count": 12,
   "metadata": {},
   "outputs": [
    {
     "name": "stderr",
     "output_type": "stream",
     "text": [
      "C:\\Users\\felip\\AppData\\Local\\Temp\\ipykernel_6664\\2605397951.py:1: FutureWarning: The default value of numeric_only in DataFrameGroupBy.mean is deprecated. In a future version, numeric_only will default to False. Either specify numeric_only or select only columns which should be valid for the function.\n",
      "  df_dia0.groupby('Compareceu').mean() # Panorama geral dos dados para as consultas marcadas no mesmo dia\n"
     ]
    },
    {
     "data": {
      "text/html": [
       "<div>\n",
       "<style scoped>\n",
       "    .dataframe tbody tr th:only-of-type {\n",
       "        vertical-align: middle;\n",
       "    }\n",
       "\n",
       "    .dataframe tbody tr th {\n",
       "        vertical-align: top;\n",
       "    }\n",
       "\n",
       "    .dataframe thead th {\n",
       "        text-align: right;\n",
       "    }\n",
       "</style>\n",
       "<table border=\"1\" class=\"dataframe\">\n",
       "  <thead>\n",
       "    <tr style=\"text-align: right;\">\n",
       "      <th></th>\n",
       "      <th>PatientId</th>\n",
       "      <th>AppointmentID</th>\n",
       "      <th>Age</th>\n",
       "      <th>Scholarship</th>\n",
       "      <th>Hipertension</th>\n",
       "      <th>Diabetes</th>\n",
       "      <th>Alcoholism</th>\n",
       "      <th>Handcap</th>\n",
       "      <th>SMS_received</th>\n",
       "      <th>time_delta</th>\n",
       "    </tr>\n",
       "    <tr>\n",
       "      <th>Compareceu</th>\n",
       "      <th></th>\n",
       "      <th></th>\n",
       "      <th></th>\n",
       "      <th></th>\n",
       "      <th></th>\n",
       "      <th></th>\n",
       "      <th></th>\n",
       "      <th></th>\n",
       "      <th></th>\n",
       "      <th></th>\n",
       "    </tr>\n",
       "  </thead>\n",
       "  <tbody>\n",
       "    <tr>\n",
       "      <th>0</th>\n",
       "      <td>1.482995e+14</td>\n",
       "      <td>5.709346e+06</td>\n",
       "      <td>28.415281</td>\n",
       "      <td>0.136719</td>\n",
       "      <td>0.131696</td>\n",
       "      <td>0.049107</td>\n",
       "      <td>0.031250</td>\n",
       "      <td>0.039621</td>\n",
       "      <td>0.0</td>\n",
       "      <td>0.0</td>\n",
       "    </tr>\n",
       "    <tr>\n",
       "      <th>1</th>\n",
       "      <td>1.518766e+14</td>\n",
       "      <td>5.713338e+06</td>\n",
       "      <td>34.751927</td>\n",
       "      <td>0.107216</td>\n",
       "      <td>0.177660</td>\n",
       "      <td>0.067400</td>\n",
       "      <td>0.040277</td>\n",
       "      <td>0.023427</td>\n",
       "      <td>0.0</td>\n",
       "      <td>0.0</td>\n",
       "    </tr>\n",
       "  </tbody>\n",
       "</table>\n",
       "</div>"
      ],
      "text/plain": [
       "               PatientId  AppointmentID        Age  Scholarship  Hipertension  \\\n",
       "Compareceu                                                                      \n",
       "0           1.482995e+14   5.709346e+06  28.415281     0.136719      0.131696   \n",
       "1           1.518766e+14   5.713338e+06  34.751927     0.107216      0.177660   \n",
       "\n",
       "            Diabetes  Alcoholism   Handcap  SMS_received  time_delta  \n",
       "Compareceu                                                            \n",
       "0           0.049107    0.031250  0.039621           0.0         0.0  \n",
       "1           0.067400    0.040277  0.023427           0.0         0.0  "
      ]
     },
     "execution_count": 12,
     "metadata": {},
     "output_type": "execute_result"
    }
   ],
   "source": [
    "df_dia0.groupby('Compareceu').mean() # Panorama geral dos dados para as consultas marcadas no mesmo dia"
   ]
  },
  {
   "attachments": {},
   "cell_type": "markdown",
   "metadata": {},
   "source": [
    "##### Conclusões\n",
    "- Concluí-se que nesse tipo de consulta a taxa de comparecimento é bem alta (> 95%);\n",
    "- A média de idade para quem compareceu é de 35 anos, um pouco maior que a das pessoas que não compareceram (28 anos);\n",
    "- Fatores como receber ou não o bolsa família, doenças pré-existentes não parecem influenciar na presença ou ausência nas consultas;"
   ]
  },
  {
   "attachments": {},
   "cell_type": "markdown",
   "metadata": {},
   "source": [
    "### Análise do restante dos dados, consultas com 1 ou mais dias de intervalo entre a marcação e a consulta"
   ]
  },
  {
   "cell_type": "code",
   "execution_count": 23,
   "metadata": {},
   "outputs": [
    {
     "data": {
      "text/html": [
       "<div>\n",
       "<style scoped>\n",
       "    .dataframe tbody tr th:only-of-type {\n",
       "        vertical-align: middle;\n",
       "    }\n",
       "\n",
       "    .dataframe tbody tr th {\n",
       "        vertical-align: top;\n",
       "    }\n",
       "\n",
       "    .dataframe thead th {\n",
       "        text-align: right;\n",
       "    }\n",
       "</style>\n",
       "<table border=\"1\" class=\"dataframe\">\n",
       "  <thead>\n",
       "    <tr style=\"text-align: right;\">\n",
       "      <th></th>\n",
       "      <th>PatientId</th>\n",
       "      <th>AppointmentID</th>\n",
       "      <th>Gender</th>\n",
       "      <th>ScheduledDay</th>\n",
       "      <th>AppointmentDay</th>\n",
       "      <th>Age</th>\n",
       "      <th>Neighbourhood</th>\n",
       "      <th>Scholarship</th>\n",
       "      <th>Hipertension</th>\n",
       "      <th>Diabetes</th>\n",
       "      <th>Alcoholism</th>\n",
       "      <th>Handcap</th>\n",
       "      <th>SMS_received</th>\n",
       "      <th>Compareceu</th>\n",
       "      <th>time_delta</th>\n",
       "    </tr>\n",
       "  </thead>\n",
       "  <tbody>\n",
       "    <tr>\n",
       "      <th>5</th>\n",
       "      <td>9.598513e+13</td>\n",
       "      <td>5626772</td>\n",
       "      <td>F</td>\n",
       "      <td>2016-04-27</td>\n",
       "      <td>2016-04-29</td>\n",
       "      <td>76.00000</td>\n",
       "      <td>REPÚBLICA</td>\n",
       "      <td>0</td>\n",
       "      <td>1</td>\n",
       "      <td>0</td>\n",
       "      <td>0</td>\n",
       "      <td>0</td>\n",
       "      <td>0</td>\n",
       "      <td>1</td>\n",
       "      <td>2</td>\n",
       "    </tr>\n",
       "    <tr>\n",
       "      <th>6</th>\n",
       "      <td>7.336882e+14</td>\n",
       "      <td>5630279</td>\n",
       "      <td>F</td>\n",
       "      <td>2016-04-27</td>\n",
       "      <td>2016-04-29</td>\n",
       "      <td>23.00000</td>\n",
       "      <td>GOIABEIRAS</td>\n",
       "      <td>0</td>\n",
       "      <td>0</td>\n",
       "      <td>0</td>\n",
       "      <td>0</td>\n",
       "      <td>0</td>\n",
       "      <td>0</td>\n",
       "      <td>0</td>\n",
       "      <td>2</td>\n",
       "    </tr>\n",
       "    <tr>\n",
       "      <th>7</th>\n",
       "      <td>3.449833e+12</td>\n",
       "      <td>5630575</td>\n",
       "      <td>F</td>\n",
       "      <td>2016-04-27</td>\n",
       "      <td>2016-04-29</td>\n",
       "      <td>39.00000</td>\n",
       "      <td>GOIABEIRAS</td>\n",
       "      <td>0</td>\n",
       "      <td>0</td>\n",
       "      <td>0</td>\n",
       "      <td>0</td>\n",
       "      <td>0</td>\n",
       "      <td>0</td>\n",
       "      <td>0</td>\n",
       "      <td>2</td>\n",
       "    </tr>\n",
       "    <tr>\n",
       "      <th>9</th>\n",
       "      <td>7.812456e+13</td>\n",
       "      <td>5629123</td>\n",
       "      <td>F</td>\n",
       "      <td>2016-04-27</td>\n",
       "      <td>2016-04-29</td>\n",
       "      <td>19.00000</td>\n",
       "      <td>CONQUISTA</td>\n",
       "      <td>0</td>\n",
       "      <td>0</td>\n",
       "      <td>0</td>\n",
       "      <td>0</td>\n",
       "      <td>0</td>\n",
       "      <td>0</td>\n",
       "      <td>1</td>\n",
       "      <td>2</td>\n",
       "    </tr>\n",
       "    <tr>\n",
       "      <th>10</th>\n",
       "      <td>7.345362e+14</td>\n",
       "      <td>5630213</td>\n",
       "      <td>F</td>\n",
       "      <td>2016-04-27</td>\n",
       "      <td>2016-04-29</td>\n",
       "      <td>37.09195</td>\n",
       "      <td>NOVA PALESTINA</td>\n",
       "      <td>0</td>\n",
       "      <td>0</td>\n",
       "      <td>0</td>\n",
       "      <td>0</td>\n",
       "      <td>0</td>\n",
       "      <td>0</td>\n",
       "      <td>1</td>\n",
       "      <td>2</td>\n",
       "    </tr>\n",
       "  </tbody>\n",
       "</table>\n",
       "</div>"
      ],
      "text/plain": [
       "       PatientId  AppointmentID Gender ScheduledDay AppointmentDay       Age  \\\n",
       "5   9.598513e+13        5626772      F   2016-04-27     2016-04-29  76.00000   \n",
       "6   7.336882e+14        5630279      F   2016-04-27     2016-04-29  23.00000   \n",
       "7   3.449833e+12        5630575      F   2016-04-27     2016-04-29  39.00000   \n",
       "9   7.812456e+13        5629123      F   2016-04-27     2016-04-29  19.00000   \n",
       "10  7.345362e+14        5630213      F   2016-04-27     2016-04-29  37.09195   \n",
       "\n",
       "     Neighbourhood  Scholarship  Hipertension  Diabetes  Alcoholism  Handcap  \\\n",
       "5        REPÚBLICA            0             1         0           0        0   \n",
       "6       GOIABEIRAS            0             0         0           0        0   \n",
       "7       GOIABEIRAS            0             0         0           0        0   \n",
       "9        CONQUISTA            0             0         0           0        0   \n",
       "10  NOVA PALESTINA            0             0         0           0        0   \n",
       "\n",
       "    SMS_received  Compareceu  time_delta  \n",
       "5              0           1           2  \n",
       "6              0           0           2  \n",
       "7              0           0           2  \n",
       "9              0           1           2  \n",
       "10             0           1           2  "
      ]
     },
     "execution_count": 23,
     "metadata": {},
     "output_type": "execute_result"
    }
   ],
   "source": [
    "df_sem_dia0 = df[df['time_delta'] > 0] # criando o dataframe\n",
    "df_sem_dia0.head()"
   ]
  },
  {
   "cell_type": "code",
   "execution_count": 24,
   "metadata": {},
   "outputs": [
    {
     "name": "stdout",
     "output_type": "stream",
     "text": [
      "Total de consultas marcadas com um ou mais de um dia de intervalo: 71981.\n",
      "Total de consultas: 110573.\n",
      "\n",
      "Relação das pessoas que compareceram à consulta (1 - Sim, 0 - Não):\n",
      "1    51454\n",
      "0    20527\n",
      "Name: Compareceu, dtype: int64\n",
      "\n",
      "Formato do novo DataFrame: Linhas: 71981, Colunas: 15\n"
     ]
    }
   ],
   "source": [
    "# Verificando quantas consultas foram marcadas com mais de um dia de intervalo e criando um dataframe com essas consultas\n",
    "consultas_mais_1dia = len(df_sem_dia0)\n",
    "\n",
    "print(f'Total de consultas marcadas com um ou mais de um dia de intervalo: {consultas_mais_1dia}.')\n",
    "print(f'Total de consultas: {total_consultas}.')\n",
    "print('\\nRelação das pessoas que compareceram à consulta (1 - Sim, 0 - Não):')\n",
    "print(df_sem_dia0['Compareceu'].value_counts())\n",
    "print(f'\\nFormato do novo DataFrame: Linhas: {df_sem_dia0.shape[0]}, Colunas: {df_sem_dia0.shape[1]}')"
   ]
  },
  {
   "cell_type": "code",
   "execution_count": 25,
   "metadata": {},
   "outputs": [
    {
     "name": "stdout",
     "output_type": "stream",
     "text": [
      "Percentual de consultas marcadas para o mesmo dia: 65.10%.\n",
      "Percentual de presença nessas consultas: 71.48%.\n"
     ]
    }
   ],
   "source": [
    "presenca_sem_dia0 = df_sem_dia0['Compareceu'].value_counts()[1] # Relação de pessoas que foram a consulta\n",
    "\n",
    "print(f'Percentual de consultas marcadas para um intervalo de tempo maior que um dia: {consultas_mais_1dia/total_consultas*100:.2f}%.')\n",
    "print(f'Percentual de presença nessas consultas: {presenca_sem_dia0/len(df_sem_dia0)*100:.2f}%.')"
   ]
  },
  {
   "attachments": {},
   "cell_type": "markdown",
   "metadata": {},
   "source": [
    "##### Percebe-se uma queda em mais de 20% para consultas agendadas para dias posteriores. \n",
    "---\n",
    "##### Em seguida foi verificado o comportamento da variável relativa ao intervalo de tempo"
   ]
  },
  {
   "cell_type": "code",
   "execution_count": 41,
   "metadata": {},
   "outputs": [
    {
     "data": {
      "image/png": "[encoded data removed]",
      "text/plain": [
       "<Figure size 720x360 with 1 Axes>"
      ]
     },
     "metadata": {
      "needs_background": "light"
     },
     "output_type": "display_data"
    }
   ],
   "source": [
    "plt.figure(figsize=(10,5))\n",
    "plt.hist(df_sem_dia0['time_delta'], bins=40) # histograma para ver a distribuição dos dados\n",
    "plt.xlabel('Intervalo de Tempo entre a marcação e a consulta')\n",
    "plt.ylabel('Quantidade de Consultas')\n",
    "plt.title('Distribuição das consultas em diferentes intervalos de tempo.')\n",
    "plt.show()"
   ]
  },
  {
   "attachments": {},
   "cell_type": "markdown",
   "metadata": {},
   "source": [
    "- A partir do histograma, percebeu-se que a maioria das consultas estava concentrada em um intervalo de tempo de até 40 dias. \n",
    "- Em seguida foi verificado se haviam outliers para essa série de dados"
   ]
  },
  {
   "cell_type": "code",
   "execution_count": 47,
   "metadata": {},
   "outputs": [
    {
     "data": {
      "image/png": "[encoded data removed]",
      "text/plain": [
       "<Figure size 432x288 with 1 Axes>"
      ]
     },
     "metadata": {
      "needs_background": "light"
     },
     "output_type": "display_data"
    }
   ],
   "source": [
    "plt.boxplot(df_sem_dia0['time_delta']) # boxplot para verificar a presença de outliers\n",
    "plt.xlabel('Intervalo de Tempo')\n",
    "plt.ylabel('Intervalo de Tempo em dias')\n",
    "plt.show()"
   ]
  },
  {
   "cell_type": "code",
   "execution_count": 33,
   "metadata": {},
   "outputs": [
    {
     "data": {
      "text/plain": [
       "48.0"
      ]
     },
     "execution_count": 33,
     "metadata": {},
     "output_type": "execute_result"
    }
   ],
   "source": [
    "q_high = df_sem_dia0['time_delta'].quantile(0.95) # Cálculo do limite máximo para retirada dos outliers em 95% de confiança\n",
    "q_high"
   ]
  },
  {
   "attachments": {},
   "cell_type": "markdown",
   "metadata": {},
   "source": [
    "- Optou-se por retirar as consultas marcadas no mesmo dia e as com mais de 48 dias de intervalo para se fazer um estudo"
   ]
  },
  {
   "cell_type": "code",
   "execution_count": 34,
   "metadata": {},
   "outputs": [
    {
     "data": {
      "text/html": [
       "<div>\n",
       "<style scoped>\n",
       "    .dataframe tbody tr th:only-of-type {\n",
       "        vertical-align: middle;\n",
       "    }\n",
       "\n",
       "    .dataframe tbody tr th {\n",
       "        vertical-align: top;\n",
       "    }\n",
       "\n",
       "    .dataframe thead th {\n",
       "        text-align: right;\n",
       "    }\n",
       "</style>\n",
       "<table border=\"1\" class=\"dataframe\">\n",
       "  <thead>\n",
       "    <tr style=\"text-align: right;\">\n",
       "      <th></th>\n",
       "      <th>PatientId</th>\n",
       "      <th>AppointmentID</th>\n",
       "      <th>Gender</th>\n",
       "      <th>ScheduledDay</th>\n",
       "      <th>AppointmentDay</th>\n",
       "      <th>Age</th>\n",
       "      <th>Neighbourhood</th>\n",
       "      <th>Scholarship</th>\n",
       "      <th>Hipertension</th>\n",
       "      <th>Diabetes</th>\n",
       "      <th>Alcoholism</th>\n",
       "      <th>Handcap</th>\n",
       "      <th>SMS_received</th>\n",
       "      <th>Compareceu</th>\n",
       "      <th>time_delta</th>\n",
       "    </tr>\n",
       "  </thead>\n",
       "  <tbody>\n",
       "    <tr>\n",
       "      <th>5</th>\n",
       "      <td>9.598513e+13</td>\n",
       "      <td>5626772</td>\n",
       "      <td>F</td>\n",
       "      <td>2016-04-27</td>\n",
       "      <td>2016-04-29</td>\n",
       "      <td>76.00000</td>\n",
       "      <td>REPÚBLICA</td>\n",
       "      <td>0</td>\n",
       "      <td>1</td>\n",
       "      <td>0</td>\n",
       "      <td>0</td>\n",
       "      <td>0</td>\n",
       "      <td>0</td>\n",
       "      <td>1</td>\n",
       "      <td>2</td>\n",
       "    </tr>\n",
       "    <tr>\n",
       "      <th>6</th>\n",
       "      <td>7.336882e+14</td>\n",
       "      <td>5630279</td>\n",
       "      <td>F</td>\n",
       "      <td>2016-04-27</td>\n",
       "      <td>2016-04-29</td>\n",
       "      <td>23.00000</td>\n",
       "      <td>GOIABEIRAS</td>\n",
       "      <td>0</td>\n",
       "      <td>0</td>\n",
       "      <td>0</td>\n",
       "      <td>0</td>\n",
       "      <td>0</td>\n",
       "      <td>0</td>\n",
       "      <td>0</td>\n",
       "      <td>2</td>\n",
       "    </tr>\n",
       "    <tr>\n",
       "      <th>7</th>\n",
       "      <td>3.449833e+12</td>\n",
       "      <td>5630575</td>\n",
       "      <td>F</td>\n",
       "      <td>2016-04-27</td>\n",
       "      <td>2016-04-29</td>\n",
       "      <td>39.00000</td>\n",
       "      <td>GOIABEIRAS</td>\n",
       "      <td>0</td>\n",
       "      <td>0</td>\n",
       "      <td>0</td>\n",
       "      <td>0</td>\n",
       "      <td>0</td>\n",
       "      <td>0</td>\n",
       "      <td>0</td>\n",
       "      <td>2</td>\n",
       "    </tr>\n",
       "    <tr>\n",
       "      <th>9</th>\n",
       "      <td>7.812456e+13</td>\n",
       "      <td>5629123</td>\n",
       "      <td>F</td>\n",
       "      <td>2016-04-27</td>\n",
       "      <td>2016-04-29</td>\n",
       "      <td>19.00000</td>\n",
       "      <td>CONQUISTA</td>\n",
       "      <td>0</td>\n",
       "      <td>0</td>\n",
       "      <td>0</td>\n",
       "      <td>0</td>\n",
       "      <td>0</td>\n",
       "      <td>0</td>\n",
       "      <td>1</td>\n",
       "      <td>2</td>\n",
       "    </tr>\n",
       "    <tr>\n",
       "      <th>10</th>\n",
       "      <td>7.345362e+14</td>\n",
       "      <td>5630213</td>\n",
       "      <td>F</td>\n",
       "      <td>2016-04-27</td>\n",
       "      <td>2016-04-29</td>\n",
       "      <td>37.09195</td>\n",
       "      <td>NOVA PALESTINA</td>\n",
       "      <td>0</td>\n",
       "      <td>0</td>\n",
       "      <td>0</td>\n",
       "      <td>0</td>\n",
       "      <td>0</td>\n",
       "      <td>0</td>\n",
       "      <td>1</td>\n",
       "      <td>2</td>\n",
       "    </tr>\n",
       "  </tbody>\n",
       "</table>\n",
       "</div>"
      ],
      "text/plain": [
       "       PatientId  AppointmentID Gender ScheduledDay AppointmentDay       Age  \\\n",
       "5   9.598513e+13        5626772      F   2016-04-27     2016-04-29  76.00000   \n",
       "6   7.336882e+14        5630279      F   2016-04-27     2016-04-29  23.00000   \n",
       "7   3.449833e+12        5630575      F   2016-04-27     2016-04-29  39.00000   \n",
       "9   7.812456e+13        5629123      F   2016-04-27     2016-04-29  19.00000   \n",
       "10  7.345362e+14        5630213      F   2016-04-27     2016-04-29  37.09195   \n",
       "\n",
       "     Neighbourhood  Scholarship  Hipertension  Diabetes  Alcoholism  Handcap  \\\n",
       "5        REPÚBLICA            0             1         0           0        0   \n",
       "6       GOIABEIRAS            0             0         0           0        0   \n",
       "7       GOIABEIRAS            0             0         0           0        0   \n",
       "9        CONQUISTA            0             0         0           0        0   \n",
       "10  NOVA PALESTINA            0             0         0           0        0   \n",
       "\n",
       "    SMS_received  Compareceu  time_delta  \n",
       "5              0           1           2  \n",
       "6              0           0           2  \n",
       "7              0           0           2  \n",
       "9              0           1           2  \n",
       "10             0           1           2  "
      ]
     },
     "execution_count": 34,
     "metadata": {},
     "output_type": "execute_result"
    }
   ],
   "source": [
    "df_filtrado = df_sem_dia0[df_sem_dia0['time_delta'] < q_high] # criação do novo dataframe filtrado, sem outliers\n",
    "df_filtrado.head() "
   ]
  },
  {
   "cell_type": "code",
   "execution_count": 36,
   "metadata": {},
   "outputs": [
    {
     "name": "stdout",
     "output_type": "stream",
     "text": [
      "Formato do DF com outliers: Linhas: 71981, Colunas: 15\n",
      "Formato do DF sem outliers: Linhas: 68336, Colunas: 15\n",
      "Foram retiradas 3645 consultas.\n"
     ]
    }
   ],
   "source": [
    "print(f'Formato do DF com outliers: Linhas: {df_sem_dia0.shape[0]}, Colunas: {df_sem_dia0.shape[1]}')\n",
    "print(f'Formato do DF sem outliers: Linhas: {df_filtrado.shape[0]}, Colunas: {df_filtrado.shape[1]}')\n",
    "print(f'Foram retiradas {df_sem_dia0.shape[0] - df_filtrado.shape[0]} consultas.')"
   ]
  },
  {
   "cell_type": "code",
   "execution_count": 38,
   "metadata": {},
   "outputs": [
    {
     "data": {
      "image/png": "[encoded data removed]",
      "text/plain": [
       "<Figure size 720x360 with 1 Axes>"
      ]
     },
     "metadata": {
      "needs_background": "light"
     },
     "output_type": "display_data"
    }
   ],
   "source": [
    "# cálculo do total de pessoas que compareceram e das que não compareceram \n",
    "compareceu = df_filtrado[df_filtrado['Compareceu'] == 1]['time_delta']\n",
    "n_compareceu = df_filtrado[df_filtrado['Compareceu'] == 0]['time_delta']\n",
    "\n",
    "plt.figure(figsize=(10,5))\n",
    "plt.hist(compareceu, bins=20, label='Compareceu')\n",
    "plt.hist(n_compareceu, bins=20, label='Não compareceu')\n",
    "plt.xlabel('Intervalo de Tempo entre a marcação e a consulta')\n",
    "plt.ylabel('Quantidade de Consultas')\n",
    "plt.title('Gráfico relacionando a presença e ausência dos pacientes em diferentes intervalos de tempo.')\n",
    "plt.xticks(np.arange(0, 50, 7))\n",
    "plt.legend()\n",
    "plt.show()"
   ]
  },
  {
   "attachments": {},
   "cell_type": "markdown",
   "metadata": {},
   "source": [
    "- Percebe-se que a partir de um intervalo de tempo ~14 dias, ocorre uma maior taxa de ausentes às consultas. "
   ]
  },
  {
   "cell_type": "code",
   "execution_count": 75,
   "metadata": {},
   "outputs": [
    {
     "data": {
      "text/html": [
       "<div>\n",
       "<style scoped>\n",
       "    .dataframe tbody tr th:only-of-type {\n",
       "        vertical-align: middle;\n",
       "    }\n",
       "\n",
       "    .dataframe tbody tr th {\n",
       "        vertical-align: top;\n",
       "    }\n",
       "\n",
       "    .dataframe thead th {\n",
       "        text-align: right;\n",
       "    }\n",
       "</style>\n",
       "<table border=\"1\" class=\"dataframe\">\n",
       "  <thead>\n",
       "    <tr style=\"text-align: right;\">\n",
       "      <th></th>\n",
       "      <th>PatientId</th>\n",
       "      <th>AppointmentID</th>\n",
       "      <th>Age</th>\n",
       "      <th>Scholarship</th>\n",
       "      <th>Hipertension</th>\n",
       "      <th>Diabetes</th>\n",
       "      <th>Alcoholism</th>\n",
       "      <th>Handcap</th>\n",
       "      <th>SMS_received</th>\n",
       "      <th>time_delta</th>\n",
       "    </tr>\n",
       "    <tr>\n",
       "      <th>Compareceu</th>\n",
       "      <th></th>\n",
       "      <th></th>\n",
       "      <th></th>\n",
       "      <th></th>\n",
       "      <th></th>\n",
       "      <th></th>\n",
       "      <th></th>\n",
       "      <th></th>\n",
       "      <th></th>\n",
       "      <th></th>\n",
       "    </tr>\n",
       "  </thead>\n",
       "  <tbody>\n",
       "    <tr>\n",
       "      <th>0</th>\n",
       "      <td>1.464457e+14</td>\n",
       "      <td>5.657389e+06</td>\n",
       "      <td>34.567194</td>\n",
       "      <td>0.116293</td>\n",
       "      <td>0.170914</td>\n",
       "      <td>0.065431</td>\n",
       "      <td>0.031351</td>\n",
       "      <td>0.016422</td>\n",
       "      <td>0.470940</td>\n",
       "      <td>14.467851</td>\n",
       "    </tr>\n",
       "    <tr>\n",
       "      <th>1</th>\n",
       "      <td>1.444385e+14</td>\n",
       "      <td>5.668006e+06</td>\n",
       "      <td>39.558777</td>\n",
       "      <td>0.086781</td>\n",
       "      <td>0.224569</td>\n",
       "      <td>0.079013</td>\n",
       "      <td>0.024000</td>\n",
       "      <td>0.019033</td>\n",
       "      <td>0.491291</td>\n",
       "      <td>12.362601</td>\n",
       "    </tr>\n",
       "  </tbody>\n",
       "</table>\n",
       "</div>"
      ],
      "text/plain": [
       "               PatientId  AppointmentID        Age  Scholarship  Hipertension  \\\n",
       "Compareceu                                                                      \n",
       "0           1.464457e+14   5.657389e+06  34.567194     0.116293      0.170914   \n",
       "1           1.444385e+14   5.668006e+06  39.558777     0.086781      0.224569   \n",
       "\n",
       "            Diabetes  Alcoholism   Handcap  SMS_received  time_delta  \n",
       "Compareceu                                                            \n",
       "0           0.065431    0.031351  0.016422      0.470940   14.467851  \n",
       "1           0.079013    0.024000  0.019033      0.491291   12.362601  "
      ]
     },
     "execution_count": 75,
     "metadata": {},
     "output_type": "execute_result"
    }
   ],
   "source": [
    "df_filtrado.groupby('Compareceu').mean() # consultas com 1 ou mais dias de intervalo de tempo"
   ]
  },
  {
   "cell_type": "code",
   "execution_count": 78,
   "metadata": {},
   "outputs": [
    {
     "data": {
      "text/html": [
       "<div>\n",
       "<style scoped>\n",
       "    .dataframe tbody tr th:only-of-type {\n",
       "        vertical-align: middle;\n",
       "    }\n",
       "\n",
       "    .dataframe tbody tr th {\n",
       "        vertical-align: top;\n",
       "    }\n",
       "\n",
       "    .dataframe thead th {\n",
       "        text-align: right;\n",
       "    }\n",
       "</style>\n",
       "<table border=\"1\" class=\"dataframe\">\n",
       "  <thead>\n",
       "    <tr style=\"text-align: right;\">\n",
       "      <th></th>\n",
       "      <th>PatientId</th>\n",
       "      <th>AppointmentID</th>\n",
       "      <th>Age</th>\n",
       "      <th>Scholarship</th>\n",
       "      <th>Hipertension</th>\n",
       "      <th>Diabetes</th>\n",
       "      <th>Alcoholism</th>\n",
       "      <th>Handcap</th>\n",
       "      <th>SMS_received</th>\n",
       "      <th>time_delta</th>\n",
       "    </tr>\n",
       "    <tr>\n",
       "      <th>Compareceu</th>\n",
       "      <th></th>\n",
       "      <th></th>\n",
       "      <th></th>\n",
       "      <th></th>\n",
       "      <th></th>\n",
       "      <th></th>\n",
       "      <th></th>\n",
       "      <th></th>\n",
       "      <th></th>\n",
       "      <th></th>\n",
       "    </tr>\n",
       "  </thead>\n",
       "  <tbody>\n",
       "    <tr>\n",
       "      <th>0</th>\n",
       "      <td>1.499885e+14</td>\n",
       "      <td>5.621023e+06</td>\n",
       "      <td>32.341602</td>\n",
       "      <td>0.115346</td>\n",
       "      <td>0.139067</td>\n",
       "      <td>0.048342</td>\n",
       "      <td>0.026757</td>\n",
       "      <td>0.013153</td>\n",
       "      <td>0.551209</td>\n",
       "      <td>24.955818</td>\n",
       "    </tr>\n",
       "    <tr>\n",
       "      <th>1</th>\n",
       "      <td>1.447641e+14</td>\n",
       "      <td>5.626526e+06</td>\n",
       "      <td>36.855872</td>\n",
       "      <td>0.087681</td>\n",
       "      <td>0.184681</td>\n",
       "      <td>0.057296</td>\n",
       "      <td>0.020735</td>\n",
       "      <td>0.015220</td>\n",
       "      <td>0.629205</td>\n",
       "      <td>24.685563</td>\n",
       "    </tr>\n",
       "  </tbody>\n",
       "</table>\n",
       "</div>"
      ],
      "text/plain": [
       "               PatientId  AppointmentID        Age  Scholarship  Hipertension  \\\n",
       "Compareceu                                                                      \n",
       "0           1.499885e+14   5.621023e+06  32.341602     0.115346      0.139067   \n",
       "1           1.447641e+14   5.626526e+06  36.855872     0.087681      0.184681   \n",
       "\n",
       "            Diabetes  Alcoholism   Handcap  SMS_received  time_delta  \n",
       "Compareceu                                                            \n",
       "0           0.048342    0.026757  0.013153      0.551209   24.955818  \n",
       "1           0.057296    0.020735  0.015220      0.629205   24.685563  "
      ]
     },
     "execution_count": 78,
     "metadata": {},
     "output_type": "execute_result"
    }
   ],
   "source": [
    "df_mais14 = df_filtrado[df_filtrado['time_delta'] >= 14] # consultas só com mais de 14 dias\n",
    "df_mais14.groupby('Compareceu').mean()"
   ]
  },
  {
   "attachments": {},
   "cell_type": "markdown",
   "metadata": {},
   "source": [
    "- Nesses conjuntos analisados, percebe-se que a média de idades dos faltantes é menor do que a de pessoas que compareceram às consultas (em torno de 10% menores).\n",
    "---\n",
    "- Por fim, analisou-se apenas os \"outliers\", ou seja, consultas com mais de 48 dias entre a marcação e a consulta em si"
   ]
  },
  {
   "cell_type": "code",
   "execution_count": 48,
   "metadata": {},
   "outputs": [
    {
     "data": {
      "text/html": [
       "<div>\n",
       "<style scoped>\n",
       "    .dataframe tbody tr th:only-of-type {\n",
       "        vertical-align: middle;\n",
       "    }\n",
       "\n",
       "    .dataframe tbody tr th {\n",
       "        vertical-align: top;\n",
       "    }\n",
       "\n",
       "    .dataframe thead th {\n",
       "        text-align: right;\n",
       "    }\n",
       "</style>\n",
       "<table border=\"1\" class=\"dataframe\">\n",
       "  <thead>\n",
       "    <tr style=\"text-align: right;\">\n",
       "      <th></th>\n",
       "      <th>PatientId</th>\n",
       "      <th>AppointmentID</th>\n",
       "      <th>Gender</th>\n",
       "      <th>ScheduledDay</th>\n",
       "      <th>AppointmentDay</th>\n",
       "      <th>Age</th>\n",
       "      <th>Neighbourhood</th>\n",
       "      <th>Scholarship</th>\n",
       "      <th>Hipertension</th>\n",
       "      <th>Diabetes</th>\n",
       "      <th>Alcoholism</th>\n",
       "      <th>Handcap</th>\n",
       "      <th>SMS_received</th>\n",
       "      <th>Compareceu</th>\n",
       "      <th>time_delta</th>\n",
       "    </tr>\n",
       "  </thead>\n",
       "  <tbody>\n",
       "    <tr>\n",
       "      <th>285</th>\n",
       "      <td>6.342844e+10</td>\n",
       "      <td>5430959</td>\n",
       "      <td>F</td>\n",
       "      <td>2016-03-04</td>\n",
       "      <td>2016-04-29</td>\n",
       "      <td>20.0</td>\n",
       "      <td>SANTA MARTHA</td>\n",
       "      <td>0</td>\n",
       "      <td>0</td>\n",
       "      <td>0</td>\n",
       "      <td>0</td>\n",
       "      <td>0</td>\n",
       "      <td>0</td>\n",
       "      <td>1</td>\n",
       "      <td>56</td>\n",
       "    </tr>\n",
       "    <tr>\n",
       "      <th>475</th>\n",
       "      <td>9.639166e+11</td>\n",
       "      <td>5452612</td>\n",
       "      <td>M</td>\n",
       "      <td>2016-03-10</td>\n",
       "      <td>2016-04-29</td>\n",
       "      <td>20.0</td>\n",
       "      <td>SÃO PEDRO</td>\n",
       "      <td>0</td>\n",
       "      <td>0</td>\n",
       "      <td>0</td>\n",
       "      <td>0</td>\n",
       "      <td>0</td>\n",
       "      <td>1</td>\n",
       "      <td>0</td>\n",
       "      <td>50</td>\n",
       "    </tr>\n",
       "    <tr>\n",
       "      <th>476</th>\n",
       "      <td>4.414826e+13</td>\n",
       "      <td>5408325</td>\n",
       "      <td>F</td>\n",
       "      <td>2016-02-29</td>\n",
       "      <td>2016-04-29</td>\n",
       "      <td>32.0</td>\n",
       "      <td>NOVA PALESTINA</td>\n",
       "      <td>0</td>\n",
       "      <td>0</td>\n",
       "      <td>0</td>\n",
       "      <td>0</td>\n",
       "      <td>0</td>\n",
       "      <td>1</td>\n",
       "      <td>0</td>\n",
       "      <td>60</td>\n",
       "    </tr>\n",
       "    <tr>\n",
       "      <th>696</th>\n",
       "      <td>6.441189e+14</td>\n",
       "      <td>5441632</td>\n",
       "      <td>F</td>\n",
       "      <td>2016-03-08</td>\n",
       "      <td>2016-04-29</td>\n",
       "      <td>69.0</td>\n",
       "      <td>JESUS DE NAZARETH</td>\n",
       "      <td>0</td>\n",
       "      <td>1</td>\n",
       "      <td>1</td>\n",
       "      <td>0</td>\n",
       "      <td>0</td>\n",
       "      <td>0</td>\n",
       "      <td>1</td>\n",
       "      <td>52</td>\n",
       "    </tr>\n",
       "    <tr>\n",
       "      <th>698</th>\n",
       "      <td>3.174757e+13</td>\n",
       "      <td>5435044</td>\n",
       "      <td>F</td>\n",
       "      <td>2016-03-07</td>\n",
       "      <td>2016-04-29</td>\n",
       "      <td>38.0</td>\n",
       "      <td>JESUS DE NAZARETH</td>\n",
       "      <td>0</td>\n",
       "      <td>0</td>\n",
       "      <td>0</td>\n",
       "      <td>1</td>\n",
       "      <td>0</td>\n",
       "      <td>1</td>\n",
       "      <td>0</td>\n",
       "      <td>53</td>\n",
       "    </tr>\n",
       "  </tbody>\n",
       "</table>\n",
       "</div>"
      ],
      "text/plain": [
       "        PatientId  AppointmentID Gender ScheduledDay AppointmentDay   Age  \\\n",
       "285  6.342844e+10        5430959      F   2016-03-04     2016-04-29  20.0   \n",
       "475  9.639166e+11        5452612      M   2016-03-10     2016-04-29  20.0   \n",
       "476  4.414826e+13        5408325      F   2016-02-29     2016-04-29  32.0   \n",
       "696  6.441189e+14        5441632      F   2016-03-08     2016-04-29  69.0   \n",
       "698  3.174757e+13        5435044      F   2016-03-07     2016-04-29  38.0   \n",
       "\n",
       "         Neighbourhood  Scholarship  Hipertension  Diabetes  Alcoholism  \\\n",
       "285       SANTA MARTHA            0             0         0           0   \n",
       "475          SÃO PEDRO            0             0         0           0   \n",
       "476     NOVA PALESTINA            0             0         0           0   \n",
       "696  JESUS DE NAZARETH            0             1         1           0   \n",
       "698  JESUS DE NAZARETH            0             0         0           1   \n",
       "\n",
       "     Handcap  SMS_received  Compareceu  time_delta  \n",
       "285        0             0           1          56  \n",
       "475        0             1           0          50  \n",
       "476        0             1           0          60  \n",
       "696        0             0           1          52  \n",
       "698        0             1           0          53  "
      ]
     },
     "execution_count": 48,
     "metadata": {},
     "output_type": "execute_result"
    }
   ],
   "source": [
    "df_filtrado_2 = df_sem_dia0[df_sem_dia0['time_delta'] >= q_high] # criação do novo dataframe filtrado só dos outliers\n",
    "df_filtrado_2.head() "
   ]
  },
  {
   "cell_type": "code",
   "execution_count": 50,
   "metadata": {},
   "outputs": [
    {
     "name": "stdout",
     "output_type": "stream",
     "text": [
      "Formato do DF com outliers: Linhas: 3645, Colunas: 15\n"
     ]
    }
   ],
   "source": [
    "print(f'Formato do DF com outliers: Linhas: {df_filtrado_2.shape[0]}, Colunas: {df_filtrado_2.shape[1]}')"
   ]
  },
  {
   "cell_type": "code",
   "execution_count": 51,
   "metadata": {},
   "outputs": [
    {
     "name": "stderr",
     "output_type": "stream",
     "text": [
      "C:\\Users\\felip\\AppData\\Local\\Temp\\ipykernel_6664\\3285286524.py:1: FutureWarning: The default value of numeric_only in DataFrameGroupBy.mean is deprecated. In a future version, numeric_only will default to False. Either specify numeric_only or select only columns which should be valid for the function.\n",
      "  df_filtrado_2.groupby('Compareceu').mean() # consultas com 1 ou mais dias de intervalo de tempo\n"
     ]
    },
    {
     "data": {
      "text/html": [
       "<div>\n",
       "<style scoped>\n",
       "    .dataframe tbody tr th:only-of-type {\n",
       "        vertical-align: middle;\n",
       "    }\n",
       "\n",
       "    .dataframe tbody tr th {\n",
       "        vertical-align: top;\n",
       "    }\n",
       "\n",
       "    .dataframe thead th {\n",
       "        text-align: right;\n",
       "    }\n",
       "</style>\n",
       "<table border=\"1\" class=\"dataframe\">\n",
       "  <thead>\n",
       "    <tr style=\"text-align: right;\">\n",
       "      <th></th>\n",
       "      <th>PatientId</th>\n",
       "      <th>AppointmentID</th>\n",
       "      <th>Age</th>\n",
       "      <th>Scholarship</th>\n",
       "      <th>Hipertension</th>\n",
       "      <th>Diabetes</th>\n",
       "      <th>Alcoholism</th>\n",
       "      <th>Handcap</th>\n",
       "      <th>SMS_received</th>\n",
       "      <th>time_delta</th>\n",
       "    </tr>\n",
       "    <tr>\n",
       "      <th>Compareceu</th>\n",
       "      <th></th>\n",
       "      <th></th>\n",
       "      <th></th>\n",
       "      <th></th>\n",
       "      <th></th>\n",
       "      <th></th>\n",
       "      <th></th>\n",
       "      <th></th>\n",
       "      <th></th>\n",
       "      <th></th>\n",
       "    </tr>\n",
       "  </thead>\n",
       "  <tbody>\n",
       "    <tr>\n",
       "      <th>0</th>\n",
       "      <td>1.497573e+14</td>\n",
       "      <td>5.470031e+06</td>\n",
       "      <td>39.645890</td>\n",
       "      <td>0.066847</td>\n",
       "      <td>0.196929</td>\n",
       "      <td>0.064137</td>\n",
       "      <td>0.010840</td>\n",
       "      <td>0.015357</td>\n",
       "      <td>0.578139</td>\n",
       "      <td>65.416441</td>\n",
       "    </tr>\n",
       "    <tr>\n",
       "      <th>1</th>\n",
       "      <td>1.505914e+14</td>\n",
       "      <td>5.468331e+06</td>\n",
       "      <td>47.808511</td>\n",
       "      <td>0.036643</td>\n",
       "      <td>0.202916</td>\n",
       "      <td>0.067376</td>\n",
       "      <td>0.010638</td>\n",
       "      <td>0.016548</td>\n",
       "      <td>0.661939</td>\n",
       "      <td>66.139086</td>\n",
       "    </tr>\n",
       "  </tbody>\n",
       "</table>\n",
       "</div>"
      ],
      "text/plain": [
       "               PatientId  AppointmentID        Age  Scholarship  Hipertension  \\\n",
       "Compareceu                                                                      \n",
       "0           1.497573e+14   5.470031e+06  39.645890     0.066847      0.196929   \n",
       "1           1.505914e+14   5.468331e+06  47.808511     0.036643      0.202916   \n",
       "\n",
       "            Diabetes  Alcoholism   Handcap  SMS_received  time_delta  \n",
       "Compareceu                                                            \n",
       "0           0.064137    0.010840  0.015357      0.578139   65.416441  \n",
       "1           0.067376    0.010638  0.016548      0.661939   66.139086  "
      ]
     },
     "execution_count": 51,
     "metadata": {},
     "output_type": "execute_result"
    }
   ],
   "source": [
    "df_filtrado_2.groupby('Compareceu').mean() # consultas com 1 ou mais dias de intervalo de tempo"
   ]
  },
  {
   "cell_type": "code",
   "execution_count": 68,
   "metadata": {},
   "outputs": [
    {
     "name": "stdout",
     "output_type": "stream",
     "text": [
      "Percebe-se uma taxa de comparecimento nessas consultas de: 69.63%.\n"
     ]
    }
   ],
   "source": [
    "f2_comparecimento = len(df_filtrado_2[df_filtrado_2['Compareceu'] == 1])\n",
    "\n",
    "print(f'Percebe-se uma taxa de comparecimento nessas consultas de: {(f2_comparecimento/len(df_filtrado_2)*100):.2f}%.')"
   ]
  },
  {
   "attachments": {},
   "cell_type": "markdown",
   "metadata": {},
   "source": [
    "- Por fim, concluí-se que: \n",
    "    - As pessoas vão mais às consultas marcadas para o mesmo dia (~95%);\n",
    "    - Essa taxa possui uma **tendência de queda** com o __aumento do intervalo de tempo__ entre a marcação e a consulta;\n",
    "    - Para consultas com mais de **14 dias**, há uma **contribuição maior** do recebimento de SMS como alerta;\n",
    "    - Em geral, a média de idade das pessoas que comparecem às consultas é maior;\n",
    "    - Há uma tendência de usuários do bolsa família faltarem mais às consultas; \n",
    "    - Fatores como deficiência não parecem influenciar no comparecimento ou não às consultas."
   ]
  },
  {
   "cell_type": "markdown",
   "metadata": {},
   "source": []
  }
 ],
 "metadata": {
  "kernelspec": {
   "display_name": "Python 3",
   "language": "python",
   "name": "python3"
  },
  "language_info": {
   "codemirror_mode": {
    "name": "ipython",
    "version": 3
   },
   "file_extension": ".py",
   "mimetype": "text/x-python",
   "name": "python",
   "nbconvert_exporter": "python",
   "pygments_lexer": "ipython3",
   "version": "3.10.5"
  },
  "orig_nbformat": 4,
  "vscode": {
   "interpreter": {
    "hash": "83b617c66aa9ed92efeb8629453f4b5eb61ab11a86f5ad7ba589d02897e9d812"
   }
  }
 },
 "nbformat": 4,
 "nbformat_minor": 2
}
