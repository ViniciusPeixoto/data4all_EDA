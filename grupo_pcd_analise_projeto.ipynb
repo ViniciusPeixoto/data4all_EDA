{
 "cells": [
  {
   "cell_type": "code",
   "execution_count": 64,
   "id": "758899c5",
   "metadata": {},
   "outputs": [],
   "source": [
    "import pandas as pd\n",
    "import numpy as np\n",
    "import sys\n",
    "from tqdm import tqdm\n",
    "import matplotlib.pyplot as plt \n"
   ]
  },
  {
   "cell_type": "code",
   "execution_count": 65,
   "id": "44c72c15",
   "metadata": {},
   "outputs": [],
   "source": [
    "df = pd.read_excel(\"appointment_prediction_data.xlsx\")\n",
    "df['No-show'].replace({'Yes': 0, 'No': 1}, inplace=True)\n",
    "\n",
    "df.rename(columns={'No-show': 'Compareceu'}, inplace=True)\n",
    "\n",
    "df['Gender'].replace({'Female':'F','Male':'M'}, inplace=True)\n",
    "\n",
    "df['Neighbourhood'].replace({'RESIST√äNCIA':'RESISTÊNCIA','REP√öBLICA':'REPÚBLICA','S√ÉO PEDRO':'SÃO PEDRO',\n",
    "                             'S√ÉO CRIST√ìV√ÉO':'SÃO CRISTÓVÃO','MARU√çPE':'MARUÍPE','GRANDE VIT√ìRIA':'GRANDE VITÓRIA',\n",
    "                             'S√ÉO BENEDITO':'SÃO BENEDITO','SANTO ANDR√â':'SANTO ANDRÉ','ANT√îNIO HON√ìRIO':'ANTÔNIO HONÓRIO',\n",
    "                             'M√ÅRIO CYPRESTE':'MARIO CYPRESTE','SANTO ANT√îNIO':'SANTO ANTONIO','PRAIA DO SU√Å':'PRAIA DO SUÁ',\n",
    "                             'ITARAR√â':'ITARARA','INHANGUET√Å':'INHAGUETA','UNIVERSIT√ÅRIO':'UNIVERSITARIO',\n",
    "                             'S√ÉO JOS√â':'SÃO JOSÉ','REDEN√á√ÉO':'REDENÇÃO','CARATO√çRA':'CARATOÍRA',\n",
    "                             'ILHA DO PR√çNCIPE': 'ILHA DO PRÍNCIPE','ROM√ÉO': 'ROMÃO', 'FORTE S√ÉO JO√ÉO': 'FORTE SÃO JOÃO',\n",
    "                             'JOANA D¬¥ARC': 'JOANA D\\'ARC','CONSOLA√á√ÉO': 'CONSOLAÇÃO', 'SANTA CEC√çLIA': 'SANTA CECÍLIA',\n",
    "                             'SANTA L√öCIA': 'SANTA LÚCIA','SANTA LU√çZA': 'SANTA LUÍZA', 'SEGURAN√áA DO LAR': 'SEGURANÇA DO LAR',\n",
    "                             'Tabuazerio': 'TABUAZEIRO','ILHAS OCE√ÇNICAS DE TRINDADE': 'ILHAS OCEÂNICAS DE TRINDADE',\n",
    "                             'ENSEADA DO SU√Å': 'ENSEADA DO SUÁ'}, inplace=True)\n",
    "df['Neighbourhood'] = df.Neighbourhood.str.upper()\n",
    "\n",
    "df['AppointmentDay'] = pd.to_datetime(df['AppointmentDay']).dt.date\n",
    "df['ScheduledDay'] = pd.to_datetime(df['ScheduledDay']).dt.date\n",
    "\n",
    "df['time_delta'] = (df['AppointmentDay'] - df['ScheduledDay']).dt.days\n",
    "\n",
    "df['Handcap'].replace(to_replace = (2 ,3 ,4), value = 1 , inplace = True)\n",
    "df['Handcap'].value_counts()\n",
    "\n",
    "df.drop_duplicates(subset='AppointmentID', keep='first')\n",
    "\n",
    "df.dropna(subset=[\"Age\"], inplace=True)"
   ]
  },
  {
   "cell_type": "markdown",
   "id": "6821ae05",
   "metadata": {},
   "source": [
    "Em comparação ao grupo não-PCD, o grupo com deficiência compareceu mais nas consultas."
   ]
  },
  {
   "cell_type": "code",
   "execution_count": 66,
   "id": "57657878",
   "metadata": {},
   "outputs": [
    {
     "data": {
      "text/plain": [
       "Handcap\n",
       "0    0.797647\n",
       "1    0.818669\n",
       "Name: Compareceu, dtype: float64"
      ]
     },
     "execution_count": 66,
     "metadata": {},
     "output_type": "execute_result"
    }
   ],
   "source": [
    "# O grupo PCD compareceu mais que o grupo não-PCD nas consultas.\n",
    "df.groupby(['Handcap'])['Compareceu'].mean() "
   ]
  },
  {
   "cell_type": "markdown",
   "id": "c1598775",
   "metadata": {},
   "source": [
    "Quantas consultas foram marcadas para cada especialidade?"
   ]
  },
  {
   "cell_type": "code",
   "execution_count": 67,
   "id": "eafbffb1",
   "metadata": {},
   "outputs": [
    {
     "name": "stdout",
     "output_type": "stream",
     "text": [
      "Foram 78 consultas marcadas para Alcoolismo no grupo PCD\n",
      "Foram 398 consultas marcadas para Diabetes no grupo PCD\n",
      "Foram 966 consultas marcadas para Hipertensão no grupo PCD\n"
     ]
    }
   ],
   "source": [
    "\n",
    "df_pcd = df.loc[df['Handcap']==1]\n",
    "\n",
    "\n",
    "hipertensos_pcd = df_pcd.loc[df_pcd['Hipertension']==1]\n",
    "alcolismo_pcd = df_pcd.loc[lista_deficientes['Alcoholism']==1]\n",
    "diabetes_pcd = df_pcd.loc[lista_deficientes['Diabetes']==1]\n",
    "\n",
    "print(f'Foram {len(alcolismo_pcd)} consultas marcadas para Alcoolismo no grupo PCD')\n",
    "print(f'Foram {len(diabetes_pcd)} consultas marcadas para Diabetes no grupo PCD')\n",
    "print(f'Foram {len(hipertensos_pcd)} consultas marcadas para Hipertensão no grupo PCD')\n"
   ]
  },
  {
   "cell_type": "markdown",
   "id": "7eba6710",
   "metadata": {},
   "source": [
    "Qual gênero compareceu mais nas consultas marcadas no grupo PCD?"
   ]
  },
  {
   "cell_type": "code",
   "execution_count": 77,
   "id": "2cf77389",
   "metadata": {},
   "outputs": [
    {
     "data": {
      "text/plain": [
       "Gender\n",
       "F    0.812258\n",
       "M    0.827368\n",
       "Name: Compareceu, dtype: float64"
      ]
     },
     "execution_count": 77,
     "metadata": {},
     "output_type": "execute_result"
    }
   ],
   "source": [
    "#média de comparecimentos por sexo no grupo PCD\n",
    "df_pcd.groupby('Gender')['Compareceu'].mean()"
   ]
  },
  {
   "cell_type": "markdown",
   "id": "c4c692fa",
   "metadata": {},
   "source": [
    "Qual a faixa etária que mais compareceu nas consultas marcadas?"
   ]
  },
  {
   "cell_type": "code",
   "execution_count": 82,
   "id": "86938bbb",
   "metadata": {},
   "outputs": [
    {
     "name": "stderr",
     "output_type": "stream",
     "text": [
      "C:\\Users\\milla\\AppData\\Local\\Temp\\ipykernel_4444\\1879175599.py:1: SettingWithCopyWarning: \n",
      "A value is trying to be set on a copy of a slice from a DataFrame.\n",
      "Try using .loc[row_indexer,col_indexer] = value instead\n",
      "\n",
      "See the caveats in the documentation: https://pandas.pydata.org/pandas-docs/stable/user_guide/indexing.html#returning-a-view-versus-a-copy\n",
      "  df_pcd['Faixa etária']=pd.cut(df_pcd['Age'],bins=[-1,12,18,30,60,125],labels=['Crianças','Adolescentes','Jovens Adultos','Adultos','Idosos'])\n"
     ]
    },
    {
     "data": {
      "text/plain": [
       "Faixa etária\n",
       "Adultos           0.837809\n",
       "Idosos            0.835966\n",
       "Jovens Adultos    0.798165\n",
       "Adolescentes      0.769231\n",
       "Crianças          0.622449\n",
       "Name: Compareceu, dtype: float64"
      ]
     },
     "execution_count": 82,
     "metadata": {},
     "output_type": "execute_result"
    }
   ],
   "source": [
    "df_pcd['Faixa etária']=pd.cut(df_pcd.['Age'],bins=[-1,12,18,30,60,125],labels=['Crianças','Adolescentes','Jovens Adultos','Adultos','Idosos'])\n",
    "df_pcd.groupby(['Faixa etária'])['Compareceu'].mean().sort_values(ascending=False)"
   ]
  },
  {
   "cell_type": "markdown",
   "id": "3affc14a",
   "metadata": {},
   "source": [
    "No geral, incluindo TODAS as consultas, até as imediatas, receber o sms não impactou o grupo PCD, porém se isolarmos as consultas imediatas vemos que sim teve uma pequena diferença, e vamos ver isso mais a frente."
   ]
  },
  {
   "cell_type": "code",
   "execution_count": 99,
   "id": "bacf6cd8",
   "metadata": {},
   "outputs": [
    {
     "data": {
      "text/plain": [
       "SMS_received\n",
       "0    0.840376\n",
       "1    0.749533\n",
       "Name: Compareceu, dtype: float64"
      ]
     },
     "execution_count": 99,
     "metadata": {},
     "output_type": "execute_result"
    }
   ],
   "source": [
    "df_pcd.groupby(['SMS_received'])['Compareceu'].mean()"
   ]
  },
  {
   "cell_type": "markdown",
   "id": "4324b96a",
   "metadata": {},
   "source": [
    "Alocando as respostas de comparecimentos em grupos de:<br>\n",
    "Recebeu o sms - 1. Não recebeu o sms - 0.<br>\n",
    "<br>\n",
    "E separando o grupo por consultas realizadas a partir de 3 dias de marcação temos os seguintes resultados:"
   ]
  },
  {
   "cell_type": "markdown",
   "id": "140ce86e",
   "metadata": {},
   "source": [
    "No grupo de consultas marcadas para \"Diabetes\" houve um aumento de 7% no comparecimento de quem recebeu o lembrete por sms."
   ]
  },
  {
   "cell_type": "code",
   "execution_count": 98,
   "id": "781690cc",
   "metadata": {},
   "outputs": [
    {
     "data": {
      "text/plain": [
       "SMS_received\n",
       "0    0.720000\n",
       "1    0.791667\n",
       "Name: Compareceu, dtype: float64"
      ]
     },
     "execution_count": 98,
     "metadata": {},
     "output_type": "execute_result"
    }
   ],
   "source": [
    "#Do grupo do diabetes que recebeu mensagem: 79,16% compareceu e 20,84% não compareceu\n",
    "sms_diabetes_pcd = diabetes_pcd.loc[(diabetes_pcd['time_delta']>2)]\n",
    "sms_diabetes_pcd.groupby(['SMS_received'])['Compareceu'].mean()"
   ]
  },
  {
   "cell_type": "markdown",
   "id": "ed5fe2bb",
   "metadata": {},
   "source": [
    "No grupo de consultas marcadas para \"Hipertensão\" houve um aumento de 7% no comparecimento de quem recebeu o lembrete por sms. "
   ]
  },
  {
   "cell_type": "code",
   "execution_count": 97,
   "id": "a4d73f5d",
   "metadata": {},
   "outputs": [
    {
     "data": {
      "text/plain": [
       "SMS_received\n",
       "0    0.707547\n",
       "1    0.780303\n",
       "Name: Compareceu, dtype: float64"
      ]
     },
     "execution_count": 97,
     "metadata": {},
     "output_type": "execute_result"
    }
   ],
   "source": [
    "\n",
    "sms_hipertensao = hipertensos_pcd.loc[(hipertensos_pcd['time_delta']>2)]\n",
    "sms_hipertensao.groupby(['SMS_received'])['Compareceu'].mean()"
   ]
  },
  {
   "cell_type": "markdown",
   "id": "89e70488",
   "metadata": {},
   "source": [
    "No grupo de consultas marcadas para \"Alcoolismo\" receber SMS não fez diferença."
   ]
  },
  {
   "cell_type": "code",
   "execution_count": 96,
   "id": "ac1f9426",
   "metadata": {
    "scrolled": true
   },
   "outputs": [
    {
     "data": {
      "text/plain": [
       "SMS_received\n",
       "0    0.941176\n",
       "1    0.882353\n",
       "Name: Compareceu, dtype: float64"
      ]
     },
     "execution_count": 96,
     "metadata": {},
     "output_type": "execute_result"
    }
   ],
   "source": [
    "sms_alcolismo_pcd = alcolismo_pcd.loc[(alcolismo_pcd['time_delta']>3)]\n",
    "sms_alcolismo_pcd.groupby(['SMS_received'])['Compareceu'].mean()"
   ]
  },
  {
   "cell_type": "markdown",
   "id": "79cdbfb4",
   "metadata": {},
   "source": [
    "Será que com o tempo mais longo de espera de consulta há mais ausência de deficientes?"
   ]
  },
  {
   "cell_type": "code",
   "execution_count": 100,
   "id": "096f527e",
   "metadata": {},
   "outputs": [
    {
     "data": {
      "text/plain": [
       "time_delta  Compareceu\n",
       "-1          0               2\n",
       " 0          1             861\n",
       "            0              71\n",
       " 1          1              97\n",
       "            0              24\n",
       "                         ... \n",
       " 122        1               1\n",
       " 142        0               1\n",
       "            1               1\n",
       " 155        0               1\n",
       " 179        0               1\n",
       "Name: Compareceu, Length: 140, dtype: int64"
      ]
     },
     "execution_count": 100,
     "metadata": {},
     "output_type": "execute_result"
    }
   ],
   "source": [
    "df_pcd.groupby(['time_delta'])['Compareceu'].value_counts()"
   ]
  },
  {
   "cell_type": "markdown",
   "id": "a8e14972",
   "metadata": {},
   "source": [
    "O nível de comparecimento é alto nos primeiros dias, mas quanto mais longe da data a consulta é marcada, as taxas de comparecimento diminuem."
   ]
  },
  {
   "cell_type": "code",
   "execution_count": 102,
   "id": "0af2ad95",
   "metadata": {},
   "outputs": [
    {
     "data": {
      "text/plain": [
       "<AxesSubplot:title={'center':'Comparecimento por tempo de espera'}, xlabel='time_delta'>"
      ]
     },
     "execution_count": 102,
     "metadata": {},
     "output_type": "execute_result"
    },
    {
     "data": {
      "image/png": "[encoded data removed]",
      "text/plain": [
       "<Figure size 640x480 with 1 Axes>"
      ]
     },
     "metadata": {},
     "output_type": "display_data"
    }
   ],
   "source": [
    "df_pcd.pivot_table(index='time_delta', aggfunc='count', values='Compareceu').plot(kind='bar', xticks= (np.arange(0,130,30)), title = 'Comparecimento por tempo de espera pela consulta', xlabel = 'Dias depois da marcação')"
   ]
  },
  {
   "cell_type": "markdown",
   "id": "41c122d2",
   "metadata": {},
   "source": [
    "Solução: Quanto mais cedo as consultas forem marcadas, e tendo sido reforçados os lembretes por sms, a taxa de AUSÊNCIA do grupo PCD diminuirá."
   ]
  },
  {
   "cell_type": "code",
   "execution_count": null,
   "id": "6ecca56e",
   "metadata": {},
   "outputs": [],
   "source": []
  },
  {
   "cell_type": "code",
   "execution_count": null,
   "id": "253d85b3",
   "metadata": {},
   "outputs": [],
   "source": []
  },
  {
   "cell_type": "code",
   "execution_count": null,
   "id": "bc208a69",
   "metadata": {},
   "outputs": [],
   "source": []
  }
 ],
 "metadata": {
  "kernelspec": {
   "display_name": "Python 3 (ipykernel)",
   "language": "python",
   "name": "python3"
  },
  "language_info": {
   "codemirror_mode": {
    "name": "ipython",
    "version": 3
   },
   "file_extension": ".py",
   "mimetype": "text/x-python",
   "name": "python",
   "nbconvert_exporter": "python",
   "pygments_lexer": "ipython3",
   "version": "3.9.13"
  }
 },
 "nbformat": 4,
 "nbformat_minor": 5
}
