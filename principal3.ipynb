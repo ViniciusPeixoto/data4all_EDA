{
 "cells": [
  {
   "cell_type": "markdown",
   "metadata": {},
   "source": [
    "# <font color = 'black'> Análise exploratória de dados de assiduidade em consultas na cidade de Vitória - ES. </font> \n"
   ]
  },
  {
   "cell_type": "markdown",
   "metadata": {},
   "source": [
    "#   <font color = 'blue'> Grupo 1: </font> \n",
    "* Aline Carvalho\n",
    "* Camila Bianca\n",
    "* Felipe Cunha\n",
    "* Ivan Felipe \n",
    "* Mateus Brito\n",
    "* Vinícius Peixoto"
   ]
  },
  {
   "cell_type": "markdown",
   "metadata": {},
   "source": [
    "# <font color = 'blue'> Dicionário de Dados: </font> \n",
    "\n",
    "## Este conjunto de dados contém informações sobre as consultas médicas marcadas em clínicas no Brasil e se os pacientes compareceram ou não às consultas.\n",
    "\n",
    "### O conjunto de dados inclui as seguintes colunas:\n",
    "\n",
    "* PatientId: identificador único do paciente\n",
    "* AppointmentID: identificador único da consulta\n",
    "* Gender: gênero do paciente (Feminino/Masculino)\n",
    "* ScheduledDay: data em que a consulta foi marcada\n",
    "* AppointmentDay: data da consulta\n",
    "* Age: idade do paciente\n",
    "* Neighbourhood: nome do bairro onde a consulta ocorrerá\n",
    "* Scholarship: indica se o paciente faz parte do programa Bolsa Família (0 = não, 1 = sim)\n",
    "* Hipertension: indica se o paciente tem hipertensão (0 = não, 1 = sim)\n",
    "* Diabetes: indica se o paciente tem diabetes (0 = não, 1 = sim)\n",
    "* Alcoholism: indica se o paciente tem problemas com álcool (0 = não, 1 = sim)\n",
    "* Handcap: indica se o paciente é deficiente (0 = não, 1 = sim)\n",
    "* SMS_received: indica se o paciente recebeu uma mensagem de lembrete da consulta (0 = não, 1 = sim)\n",
    "* No-show: indica se o paciente compareceu à consulta (No = sim, Yes = não)"
   ]
  },
  {
   "cell_type": "markdown",
   "metadata": {},
   "source": [
    "##  <font color = 'blue'>Perguntas a serem respondidas:  </font>\n",
    "### Ação combativa\n",
    "- Qual o impacto do recebimento do SMS em cada grupo?\n",
    "  - Geral \n",
    "  - Problemas de saúde\n",
    "  - Idade\n",
    "  - PCD\n",
    "\n",
    "### Ação paliativa\n",
    "- Qual a faixa etária mais assídua e a mais ausente? \n",
    "- Qual(is) o(s) bairro(s) de pessoas menos assíduas? \n",
    "- Quais os problemas de saúde das pessoas menos assíduas? \n",
    "- intervalo de tempo entre o dia da marcação e o dia da consulta em si.\n"
   ]
  },
  {
   "cell_type": "code",
   "execution_count": 40,
   "metadata": {},
   "outputs": [],
   "source": [
    "import pandas as pd\n",
    "import numpy as np\n",
    "import matplotlib.pyplot as plt\n",
    "import warnings\n",
    "warnings.filterwarnings(\"ignore\")\n"
   ]
  },
  {
   "cell_type": "code",
   "execution_count": 3,
   "metadata": {},
   "outputs": [],
   "source": [
    "df = pd.read_excel('appointment_prediction_data.xlsx')"
   ]
  },
  {
   "cell_type": "code",
   "execution_count": 4,
   "metadata": {
    "scrolled": false
   },
   "outputs": [
    {
     "data": {
      "text/html": [
       "<div>\n",
       "<style scoped>\n",
       "    .dataframe tbody tr th:only-of-type {\n",
       "        vertical-align: middle;\n",
       "    }\n",
       "\n",
       "    .dataframe tbody tr th {\n",
       "        vertical-align: top;\n",
       "    }\n",
       "\n",
       "    .dataframe thead th {\n",
       "        text-align: right;\n",
       "    }\n",
       "</style>\n",
       "<table border=\"1\" class=\"dataframe\">\n",
       "  <thead>\n",
       "    <tr style=\"text-align: right;\">\n",
       "      <th></th>\n",
       "      <th>PatientId</th>\n",
       "      <th>AppointmentID</th>\n",
       "      <th>Gender</th>\n",
       "      <th>ScheduledDay</th>\n",
       "      <th>AppointmentDay</th>\n",
       "      <th>Age</th>\n",
       "      <th>Neighbourhood</th>\n",
       "      <th>Scholarship</th>\n",
       "      <th>Hipertension</th>\n",
       "      <th>Diabetes</th>\n",
       "      <th>Alcoholism</th>\n",
       "      <th>Handcap</th>\n",
       "      <th>SMS_received</th>\n",
       "      <th>Compareceu</th>\n",
       "    </tr>\n",
       "  </thead>\n",
       "  <tbody>\n",
       "    <tr>\n",
       "      <th>0</th>\n",
       "      <td>2.987250e+13</td>\n",
       "      <td>5642903</td>\n",
       "      <td>F</td>\n",
       "      <td>2016-04-29</td>\n",
       "      <td>2016-04-29</td>\n",
       "      <td>62.0</td>\n",
       "      <td>JARDIM DA PENHA</td>\n",
       "      <td>0</td>\n",
       "      <td>1</td>\n",
       "      <td>0</td>\n",
       "      <td>0</td>\n",
       "      <td>0</td>\n",
       "      <td>0</td>\n",
       "      <td>1</td>\n",
       "    </tr>\n",
       "    <tr>\n",
       "      <th>1</th>\n",
       "      <td>5.589978e+14</td>\n",
       "      <td>5642503</td>\n",
       "      <td>M</td>\n",
       "      <td>2016-04-29</td>\n",
       "      <td>2016-04-29</td>\n",
       "      <td>56.0</td>\n",
       "      <td>JARDIM DA PENHA</td>\n",
       "      <td>0</td>\n",
       "      <td>0</td>\n",
       "      <td>0</td>\n",
       "      <td>0</td>\n",
       "      <td>0</td>\n",
       "      <td>0</td>\n",
       "      <td>1</td>\n",
       "    </tr>\n",
       "    <tr>\n",
       "      <th>2</th>\n",
       "      <td>4.262962e+12</td>\n",
       "      <td>5642549</td>\n",
       "      <td>F</td>\n",
       "      <td>2016-04-29</td>\n",
       "      <td>2016-04-29</td>\n",
       "      <td>62.0</td>\n",
       "      <td>MATA DA PRAIA</td>\n",
       "      <td>0</td>\n",
       "      <td>0</td>\n",
       "      <td>0</td>\n",
       "      <td>0</td>\n",
       "      <td>0</td>\n",
       "      <td>0</td>\n",
       "      <td>1</td>\n",
       "    </tr>\n",
       "    <tr>\n",
       "      <th>3</th>\n",
       "      <td>8.679512e+11</td>\n",
       "      <td>5642828</td>\n",
       "      <td>F</td>\n",
       "      <td>2016-04-29</td>\n",
       "      <td>2016-04-29</td>\n",
       "      <td>8.0</td>\n",
       "      <td>PONTAL DE CAMBURI</td>\n",
       "      <td>0</td>\n",
       "      <td>0</td>\n",
       "      <td>0</td>\n",
       "      <td>0</td>\n",
       "      <td>0</td>\n",
       "      <td>0</td>\n",
       "      <td>1</td>\n",
       "    </tr>\n",
       "    <tr>\n",
       "      <th>4</th>\n",
       "      <td>8.841186e+12</td>\n",
       "      <td>5642494</td>\n",
       "      <td>F</td>\n",
       "      <td>2016-04-29</td>\n",
       "      <td>2016-04-29</td>\n",
       "      <td>56.0</td>\n",
       "      <td>JARDIM DA PENHA</td>\n",
       "      <td>0</td>\n",
       "      <td>1</td>\n",
       "      <td>1</td>\n",
       "      <td>0</td>\n",
       "      <td>0</td>\n",
       "      <td>0</td>\n",
       "      <td>1</td>\n",
       "    </tr>\n",
       "    <tr>\n",
       "      <th>...</th>\n",
       "      <td>...</td>\n",
       "      <td>...</td>\n",
       "      <td>...</td>\n",
       "      <td>...</td>\n",
       "      <td>...</td>\n",
       "      <td>...</td>\n",
       "      <td>...</td>\n",
       "      <td>...</td>\n",
       "      <td>...</td>\n",
       "      <td>...</td>\n",
       "      <td>...</td>\n",
       "      <td>...</td>\n",
       "      <td>...</td>\n",
       "      <td>...</td>\n",
       "    </tr>\n",
       "    <tr>\n",
       "      <th>110522</th>\n",
       "      <td>2.572134e+12</td>\n",
       "      <td>5651768</td>\n",
       "      <td>F</td>\n",
       "      <td>2016-05-03</td>\n",
       "      <td>2016-06-07</td>\n",
       "      <td>56.0</td>\n",
       "      <td>MARIA ORTIZ</td>\n",
       "      <td>0</td>\n",
       "      <td>0</td>\n",
       "      <td>0</td>\n",
       "      <td>0</td>\n",
       "      <td>0</td>\n",
       "      <td>1</td>\n",
       "      <td>1</td>\n",
       "    </tr>\n",
       "    <tr>\n",
       "      <th>110523</th>\n",
       "      <td>3.596266e+12</td>\n",
       "      <td>5650093</td>\n",
       "      <td>F</td>\n",
       "      <td>2016-05-03</td>\n",
       "      <td>2016-06-07</td>\n",
       "      <td>51.0</td>\n",
       "      <td>MARIA ORTIZ</td>\n",
       "      <td>0</td>\n",
       "      <td>0</td>\n",
       "      <td>0</td>\n",
       "      <td>0</td>\n",
       "      <td>0</td>\n",
       "      <td>1</td>\n",
       "      <td>1</td>\n",
       "    </tr>\n",
       "    <tr>\n",
       "      <th>110524</th>\n",
       "      <td>1.557663e+13</td>\n",
       "      <td>5630692</td>\n",
       "      <td>F</td>\n",
       "      <td>2016-04-27</td>\n",
       "      <td>2016-06-07</td>\n",
       "      <td>21.0</td>\n",
       "      <td>MARIA ORTIZ</td>\n",
       "      <td>0</td>\n",
       "      <td>0</td>\n",
       "      <td>0</td>\n",
       "      <td>0</td>\n",
       "      <td>0</td>\n",
       "      <td>1</td>\n",
       "      <td>1</td>\n",
       "    </tr>\n",
       "    <tr>\n",
       "      <th>110525</th>\n",
       "      <td>9.213493e+13</td>\n",
       "      <td>5630323</td>\n",
       "      <td>F</td>\n",
       "      <td>2016-04-27</td>\n",
       "      <td>2016-06-07</td>\n",
       "      <td>38.0</td>\n",
       "      <td>MARIA ORTIZ</td>\n",
       "      <td>0</td>\n",
       "      <td>0</td>\n",
       "      <td>0</td>\n",
       "      <td>0</td>\n",
       "      <td>0</td>\n",
       "      <td>1</td>\n",
       "      <td>1</td>\n",
       "    </tr>\n",
       "    <tr>\n",
       "      <th>110526</th>\n",
       "      <td>3.775115e+14</td>\n",
       "      <td>5629448</td>\n",
       "      <td>F</td>\n",
       "      <td>2016-04-27</td>\n",
       "      <td>2016-06-07</td>\n",
       "      <td>54.0</td>\n",
       "      <td>MARIA ORTIZ</td>\n",
       "      <td>0</td>\n",
       "      <td>0</td>\n",
       "      <td>0</td>\n",
       "      <td>0</td>\n",
       "      <td>0</td>\n",
       "      <td>1</td>\n",
       "      <td>1</td>\n",
       "    </tr>\n",
       "  </tbody>\n",
       "</table>\n",
       "<p>110527 rows × 14 columns</p>\n",
       "</div>"
      ],
      "text/plain": [
       "           PatientId  AppointmentID Gender ScheduledDay AppointmentDay   Age  \\\n",
       "0       2.987250e+13        5642903      F   2016-04-29     2016-04-29  62.0   \n",
       "1       5.589978e+14        5642503      M   2016-04-29     2016-04-29  56.0   \n",
       "2       4.262962e+12        5642549      F   2016-04-29     2016-04-29  62.0   \n",
       "3       8.679512e+11        5642828      F   2016-04-29     2016-04-29   8.0   \n",
       "4       8.841186e+12        5642494      F   2016-04-29     2016-04-29  56.0   \n",
       "...              ...            ...    ...          ...            ...   ...   \n",
       "110522  2.572134e+12        5651768      F   2016-05-03     2016-06-07  56.0   \n",
       "110523  3.596266e+12        5650093      F   2016-05-03     2016-06-07  51.0   \n",
       "110524  1.557663e+13        5630692      F   2016-04-27     2016-06-07  21.0   \n",
       "110525  9.213493e+13        5630323      F   2016-04-27     2016-06-07  38.0   \n",
       "110526  3.775115e+14        5629448      F   2016-04-27     2016-06-07  54.0   \n",
       "\n",
       "            Neighbourhood  Scholarship  Hipertension  Diabetes  Alcoholism  \\\n",
       "0         JARDIM DA PENHA            0             1         0           0   \n",
       "1         JARDIM DA PENHA            0             0         0           0   \n",
       "2           MATA DA PRAIA            0             0         0           0   \n",
       "3       PONTAL DE CAMBURI            0             0         0           0   \n",
       "4         JARDIM DA PENHA            0             1         1           0   \n",
       "...                   ...          ...           ...       ...         ...   \n",
       "110522        MARIA ORTIZ            0             0         0           0   \n",
       "110523        MARIA ORTIZ            0             0         0           0   \n",
       "110524        MARIA ORTIZ            0             0         0           0   \n",
       "110525        MARIA ORTIZ            0             0         0           0   \n",
       "110526        MARIA ORTIZ            0             0         0           0   \n",
       "\n",
       "        Handcap  SMS_received  Compareceu  \n",
       "0             0             0           1  \n",
       "1             0             0           1  \n",
       "2             0             0           1  \n",
       "3             0             0           1  \n",
       "4             0             0           1  \n",
       "...         ...           ...         ...  \n",
       "110522        0             1           1  \n",
       "110523        0             1           1  \n",
       "110524        0             1           1  \n",
       "110525        0             1           1  \n",
       "110526        0             1           1  \n",
       "\n",
       "[110527 rows x 14 columns]"
      ]
     },
     "execution_count": 4,
     "metadata": {},
     "output_type": "execute_result"
    }
   ],
   "source": [
    "df['No-show'].replace({'Yes': 0, 'No': 1}, inplace=True)\n",
    "\n",
    "df.rename(columns={'No-show': 'Compareceu'}, inplace=True)\n",
    "\n",
    "df['Gender'].replace({'Female':'F','Male':'M'}, inplace=True)\n",
    "\n",
    "df['Neighbourhood'].replace({'RESIST√äNCIA':'RESISTÊNCIA','REP√öBLICA':'REPÚBLICA','S√ÉO PEDRO':'SÃO PEDRO',\n",
    "                             'S√ÉO CRIST√ìV√ÉO':'SÃO CRISTÓVÃO','MARU√çPE':'MARUÍPE','GRANDE VIT√ìRIA':'GRANDE VITÓRIA',\n",
    "                             'S√ÉO BENEDITO':'SÃO BENEDITO','SANTO ANDR√â':'SANTO ANDRÉ','ANT√îNIO HON√ìRIO':'ANTÔNIO HONÓRIO',\n",
    "                             'M√ÅRIO CYPRESTE':'MARIO CYPRESTE','SANTO ANT√îNIO':'SANTO ANTONIO','PRAIA DO SU√Å':'PRAIA DO SUÁ',\n",
    "                             'ITARAR√â':'ITARARA','INHANGUET√Å':'INHAGUETA','UNIVERSIT√ÅRIO':'UNIVERSITARIO',\n",
    "                             'S√ÉO JOS√â':'SÃO JOSÉ','REDEN√á√ÉO':'REDENÇÃO','CARATO√çRA':'CARATOÍRA',\n",
    "                             'ILHA DO PR√çNCIPE': 'ILHA DO PRÍNCIPE','ROM√ÉO': 'ROMÃO', 'FORTE S√ÉO JO√ÉO': 'FORTE SÃO JOÃO',\n",
    "                             'JOANA D¬¥ARC': 'JOANA D\\'ARC','CONSOLA√á√ÉO': 'CONSOLAÇÃO', 'SANTA CEC√çLIA': 'SANTA CECÍLIA',\n",
    "                             'SANTA L√öCIA': 'SANTA LÚCIA','SANTA LU√çZA': 'SANTA LUÍZA', 'SEGURAN√áA DO LAR': 'SEGURANÇA DO LAR',\n",
    "                             'Tabuazerio': 'TABUAZEIRO','ILHAS OCE√ÇNICAS DE TRINDADE': 'ILHAS OCEÂNICAS DE TRINDADE',\n",
    "                             'ENSEADA DO SU√Å': 'ENSEADA DO SUÁ'}, inplace=True)\n",
    "df['Neighbourhood'] = df.Neighbourhood.str.upper()\n",
    "\n",
    "df['AppointmentDay'] = pd.to_datetime(df['AppointmentDay']).dt.date\n",
    "df['ScheduledDay'] = pd.to_datetime(df['ScheduledDay']).dt.date\n",
    "\n",
    "df.drop_duplicates(subset='AppointmentID', keep='first')"
   ]
  },
  {
   "cell_type": "code",
   "execution_count": 5,
   "metadata": {},
   "outputs": [
    {
     "data": {
      "text/plain": [
       "0.7981062284644533"
      ]
     },
     "execution_count": 5,
     "metadata": {},
     "output_type": "execute_result"
    }
   ],
   "source": [
    "attendance_percent = df['Compareceu'].mean()\n",
    "attendance_percent"
   ]
  },
  {
   "cell_type": "code",
   "execution_count": 6,
   "metadata": {},
   "outputs": [],
   "source": [
    "df['time_delta'] = (df['AppointmentDay'] - df['ScheduledDay']).dt.days"
   ]
  },
  {
   "cell_type": "markdown",
   "metadata": {},
   "source": [
    "# Percentual de comparecimento "
   ]
  },
  {
   "cell_type": "code",
   "execution_count": 7,
   "metadata": {},
   "outputs": [
    {
     "name": "stdout",
     "output_type": "stream",
     "text": [
      "A assiduidade nas consultas foi de 79.81%. Ausência de 20.19%. \n"
     ]
    }
   ],
   "source": [
    "contagem_comparecimento = (df['Compareceu']==1).sum()\n",
    "total_de_consultas = len(df['AppointmentID'])\n",
    "\n",
    "foram_percent = (contagem_comparecimento/total_de_consultas)*100 \n",
    "faltaram_percent = (100 - foram_percent)  \n",
    "\n",
    "print(f'A assiduidade nas consultas foi de {foram_percent:.2f}%. Ausência de {faltaram_percent:.2f}%. ')"
   ]
  },
  {
   "cell_type": "markdown",
   "metadata": {},
   "source": [
    "### Percentual de comparecimento após o dia 0"
   ]
  },
  {
   "cell_type": "code",
   "execution_count": 8,
   "metadata": {},
   "outputs": [
    {
     "name": "stdout",
     "output_type": "stream",
     "text": [
      "Total de consultas marcadas com um ou mais de um dia de intervalo: 71981.\n",
      "Total de consultas: 110573.\n",
      "\n",
      "Relação das pessoas que compareceram, com exceção do dia 0, à consulta (1 - Sim, 0 - Não):\n",
      "1    51454\n",
      "0    20527\n",
      "Name: Compareceu, dtype: int64\n",
      "\n",
      "Formato do novo DataFrame: Linhas: 71981, Colunas: 15\n",
      "Percentual de consultas marcadas para um intervalo de tempo maior que um dia: 65.10%.\n",
      "\n",
      "51454 presenças\n",
      "Percentual de presença nessas consultas: 71.48%.\n"
     ]
    }
   ],
   "source": [
    "# criando dataframe com os dias maiores que zero\n",
    "df_sem_dia0 = df[df['time_delta'] > 0] \n",
    "presenca_sem_dia0 = len(df_sem_dia0[df_sem_dia0['Compareceu']==1])\n",
    "# Verificando quantas consultas foram marcadas para o mesmo dia e criando um dataframe com essas consultas\n",
    "consultas_mais_1dia=len(df_sem_dia0)\n",
    "total_consultas=len(df['time_delta'])\n",
    "\n",
    "print(f'Total de consultas marcadas com um ou mais de um dia de intervalo: {consultas_mais_1dia}.')\n",
    "print(f'Total de consultas: {total_consultas}.')\n",
    "print('\\nRelação das pessoas que compareceram, com exceção do dia 0, à consulta (1 - Sim, 0 - Não):')\n",
    "print(df_sem_dia0['Compareceu'].value_counts())\n",
    "print(f'\\nFormato do novo DataFrame: Linhas: {df_sem_dia0.shape[0]}, Colunas: {df_sem_dia0.shape[1]}')\n",
    "print(f'Percentual de consultas marcadas para um intervalo de tempo maior que um dia: {consultas_mais_1dia/total_consultas*100:.2f}%.')\n",
    "print(f'\\n{presenca_sem_dia0} presenças')\n",
    "print(f'Percentual de presença nessas consultas: {presenca_sem_dia0/len(df_sem_dia0)*100:.2f}%.')\n"
   ]
  },
  {
   "cell_type": "code",
   "execution_count": null,
   "metadata": {},
   "outputs": [],
   "source": []
  },
  {
   "cell_type": "markdown",
   "metadata": {},
   "source": [
    "### percentual de ausencia pelo sexo biológico, coluna 'Gender'\n"
   ]
  },
  {
   "cell_type": "code",
   "execution_count": 9,
   "metadata": {},
   "outputs": [
    {
     "data": {
      "text/plain": [
       "Gender\n",
       "F    0.796883\n",
       "M    0.800377\n",
       "Name: Compareceu, dtype: float64"
      ]
     },
     "execution_count": 9,
     "metadata": {},
     "output_type": "execute_result"
    }
   ],
   "source": [
    "df.groupby('Gender')['Compareceu'].mean()"
   ]
  },
  {
   "cell_type": "markdown",
   "metadata": {},
   "source": [
    "### percentual de ausencia entre os benificiários do bolsa família\n"
   ]
  },
  {
   "cell_type": "code",
   "execution_count": 10,
   "metadata": {},
   "outputs": [
    {
     "data": {
      "text/plain": [
       "Scholarship\n",
       "0    0.801970\n",
       "1    0.762637\n",
       "Name: Compareceu, dtype: float64"
      ]
     },
     "execution_count": 10,
     "metadata": {},
     "output_type": "execute_result"
    }
   ],
   "source": [
    "# percentual de ausencia entre os benificiários do bolsa família\n",
    "df.groupby('Scholarship')['Compareceu'].mean()"
   ]
  },
  {
   "cell_type": "markdown",
   "metadata": {},
   "source": [
    "### percentual de ausência entre o grupo PCD\n"
   ]
  },
  {
   "cell_type": "code",
   "execution_count": 11,
   "metadata": {},
   "outputs": [
    {
     "data": {
      "text/plain": [
       "Handcap\n",
       "0    0.797685\n",
       "1    0.818466\n",
       "Name: Compareceu, dtype: float64"
      ]
     },
     "execution_count": 11,
     "metadata": {},
     "output_type": "execute_result"
    }
   ],
   "source": [
    "df['Handcap'].replace(to_replace = (2 ,3 ,4), value = 1 , inplace = True)\n",
    "#df['Handcap'].value_counts()\n",
    "\n",
    "df.groupby('Handcap')['Compareceu'].mean() # bronze"
   ]
  },
  {
   "cell_type": "markdown",
   "metadata": {},
   "source": [
    "### percentual de ausência entre os pacientes com problemas com álcool\n"
   ]
  },
  {
   "cell_type": "code",
   "execution_count": 12,
   "metadata": {},
   "outputs": [
    {
     "data": {
      "text/plain": [
       "Alcoholism\n",
       "0    0.798094\n",
       "1    0.798512\n",
       "Name: Compareceu, dtype: float64"
      ]
     },
     "execution_count": 12,
     "metadata": {},
     "output_type": "execute_result"
    }
   ],
   "source": [
    "# percentual de ausência entre os alcoólótras\n",
    "df.groupby('Alcoholism')['Compareceu'].mean()"
   ]
  },
  {
   "cell_type": "markdown",
   "metadata": {},
   "source": [
    "### percentual de ausência entre os diabéticos\n"
   ]
  },
  {
   "cell_type": "code",
   "execution_count": 13,
   "metadata": {},
   "outputs": [
    {
     "data": {
      "text/plain": [
       "Diabetes\n",
       "0    0.796408\n",
       "1    0.820035\n",
       "Name: Compareceu, dtype: float64"
      ]
     },
     "execution_count": 13,
     "metadata": {},
     "output_type": "execute_result"
    }
   ],
   "source": [
    "# percentual de ausência entre os diabéticos\n",
    "df.groupby('Diabetes')['Compareceu'].mean() # medalha de prata em assiduidade"
   ]
  },
  {
   "cell_type": "markdown",
   "metadata": {},
   "source": [
    "### percentual de ausência entre os hipertensos\n"
   ]
  },
  {
   "cell_type": "code",
   "execution_count": 14,
   "metadata": {},
   "outputs": [
    {
     "data": {
      "text/plain": [
       "Hipertension\n",
       "0    0.791014\n",
       "1    0.826968\n",
       "Name: Compareceu, dtype: float64"
      ]
     },
     "execution_count": 14,
     "metadata": {},
     "output_type": "execute_result"
    }
   ],
   "source": [
    "# percentual de ausência entre os hipertensos\n",
    "df.groupby('Hipertension')['Compareceu'].mean() # campeões em assiduidade"
   ]
  },
  {
   "cell_type": "markdown",
   "metadata": {},
   "source": [
    "### Percentual de ausência entre os pacientes que receberam mensagem de lembrete pelo SMS\n"
   ]
  },
  {
   "cell_type": "code",
   "execution_count": 15,
   "metadata": {},
   "outputs": [
    {
     "data": {
      "text/plain": [
       "SMS_received\n",
       "0    0.833016\n",
       "1    0.724282\n",
       "Name: Compareceu, dtype: float64"
      ]
     },
     "execution_count": 15,
     "metadata": {},
     "output_type": "execute_result"
    }
   ],
   "source": [
    "# percentual de ausência entre os pacientes que receberam mensagem de lembrete pelo SMS\n",
    "df.groupby('SMS_received')['Compareceu'].mean()\n",
    "\n",
    "# percebe-se que quem recebe sms tende a faltar mais do que o grupo q não recebeu"
   ]
  },
  {
   "cell_type": "markdown",
   "metadata": {},
   "source": [
    "## Faixa etária\n"
   ]
  },
  {
   "cell_type": "code",
   "execution_count": 16,
   "metadata": {},
   "outputs": [],
   "source": [
    "#criar uma coluna de faixa etária\n",
    "df['Faixa etaria']=pd.cut(df['Age'], bins=[-1,12,18,30,60,125], labels=['Crianças','Adolescentes','Adultons Jovens','Adultos','Idosos'])\n"
   ]
  },
  {
   "cell_type": "code",
   "execution_count": 17,
   "metadata": {},
   "outputs": [
    {
     "data": {
      "text/html": [
       "<div>\n",
       "<style scoped>\n",
       "    .dataframe tbody tr th:only-of-type {\n",
       "        vertical-align: middle;\n",
       "    }\n",
       "\n",
       "    .dataframe tbody tr th {\n",
       "        vertical-align: top;\n",
       "    }\n",
       "\n",
       "    .dataframe thead th {\n",
       "        text-align: right;\n",
       "    }\n",
       "</style>\n",
       "<table border=\"1\" class=\"dataframe\">\n",
       "  <thead>\n",
       "    <tr style=\"text-align: right;\">\n",
       "      <th></th>\n",
       "      <th>PatientId</th>\n",
       "      <th>AppointmentID</th>\n",
       "      <th>Gender</th>\n",
       "      <th>ScheduledDay</th>\n",
       "      <th>AppointmentDay</th>\n",
       "      <th>Age</th>\n",
       "      <th>Neighbourhood</th>\n",
       "      <th>Scholarship</th>\n",
       "      <th>Hipertension</th>\n",
       "      <th>Diabetes</th>\n",
       "      <th>Alcoholism</th>\n",
       "      <th>Handcap</th>\n",
       "      <th>SMS_received</th>\n",
       "      <th>Compareceu</th>\n",
       "      <th>time_delta</th>\n",
       "      <th>Faixa etaria</th>\n",
       "    </tr>\n",
       "  </thead>\n",
       "  <tbody>\n",
       "    <tr>\n",
       "      <th>0</th>\n",
       "      <td>2.987250e+13</td>\n",
       "      <td>5642903</td>\n",
       "      <td>F</td>\n",
       "      <td>2016-04-29</td>\n",
       "      <td>2016-04-29</td>\n",
       "      <td>62.0</td>\n",
       "      <td>JARDIM DA PENHA</td>\n",
       "      <td>0</td>\n",
       "      <td>1</td>\n",
       "      <td>0</td>\n",
       "      <td>0</td>\n",
       "      <td>0</td>\n",
       "      <td>0</td>\n",
       "      <td>1</td>\n",
       "      <td>0</td>\n",
       "      <td>Idosos</td>\n",
       "    </tr>\n",
       "    <tr>\n",
       "      <th>1</th>\n",
       "      <td>5.589978e+14</td>\n",
       "      <td>5642503</td>\n",
       "      <td>M</td>\n",
       "      <td>2016-04-29</td>\n",
       "      <td>2016-04-29</td>\n",
       "      <td>56.0</td>\n",
       "      <td>JARDIM DA PENHA</td>\n",
       "      <td>0</td>\n",
       "      <td>0</td>\n",
       "      <td>0</td>\n",
       "      <td>0</td>\n",
       "      <td>0</td>\n",
       "      <td>0</td>\n",
       "      <td>1</td>\n",
       "      <td>0</td>\n",
       "      <td>Adultos</td>\n",
       "    </tr>\n",
       "    <tr>\n",
       "      <th>2</th>\n",
       "      <td>4.262962e+12</td>\n",
       "      <td>5642549</td>\n",
       "      <td>F</td>\n",
       "      <td>2016-04-29</td>\n",
       "      <td>2016-04-29</td>\n",
       "      <td>62.0</td>\n",
       "      <td>MATA DA PRAIA</td>\n",
       "      <td>0</td>\n",
       "      <td>0</td>\n",
       "      <td>0</td>\n",
       "      <td>0</td>\n",
       "      <td>0</td>\n",
       "      <td>0</td>\n",
       "      <td>1</td>\n",
       "      <td>0</td>\n",
       "      <td>Idosos</td>\n",
       "    </tr>\n",
       "    <tr>\n",
       "      <th>3</th>\n",
       "      <td>8.679512e+11</td>\n",
       "      <td>5642828</td>\n",
       "      <td>F</td>\n",
       "      <td>2016-04-29</td>\n",
       "      <td>2016-04-29</td>\n",
       "      <td>8.0</td>\n",
       "      <td>PONTAL DE CAMBURI</td>\n",
       "      <td>0</td>\n",
       "      <td>0</td>\n",
       "      <td>0</td>\n",
       "      <td>0</td>\n",
       "      <td>0</td>\n",
       "      <td>0</td>\n",
       "      <td>1</td>\n",
       "      <td>0</td>\n",
       "      <td>Crianças</td>\n",
       "    </tr>\n",
       "    <tr>\n",
       "      <th>4</th>\n",
       "      <td>8.841186e+12</td>\n",
       "      <td>5642494</td>\n",
       "      <td>F</td>\n",
       "      <td>2016-04-29</td>\n",
       "      <td>2016-04-29</td>\n",
       "      <td>56.0</td>\n",
       "      <td>JARDIM DA PENHA</td>\n",
       "      <td>0</td>\n",
       "      <td>1</td>\n",
       "      <td>1</td>\n",
       "      <td>0</td>\n",
       "      <td>0</td>\n",
       "      <td>0</td>\n",
       "      <td>1</td>\n",
       "      <td>0</td>\n",
       "      <td>Adultos</td>\n",
       "    </tr>\n",
       "    <tr>\n",
       "      <th>5</th>\n",
       "      <td>9.598513e+13</td>\n",
       "      <td>5626772</td>\n",
       "      <td>F</td>\n",
       "      <td>2016-04-27</td>\n",
       "      <td>2016-04-29</td>\n",
       "      <td>76.0</td>\n",
       "      <td>REPÚBLICA</td>\n",
       "      <td>0</td>\n",
       "      <td>1</td>\n",
       "      <td>0</td>\n",
       "      <td>0</td>\n",
       "      <td>0</td>\n",
       "      <td>0</td>\n",
       "      <td>1</td>\n",
       "      <td>2</td>\n",
       "      <td>Idosos</td>\n",
       "    </tr>\n",
       "    <tr>\n",
       "      <th>6</th>\n",
       "      <td>7.336882e+14</td>\n",
       "      <td>5630279</td>\n",
       "      <td>F</td>\n",
       "      <td>2016-04-27</td>\n",
       "      <td>2016-04-29</td>\n",
       "      <td>23.0</td>\n",
       "      <td>GOIABEIRAS</td>\n",
       "      <td>0</td>\n",
       "      <td>0</td>\n",
       "      <td>0</td>\n",
       "      <td>0</td>\n",
       "      <td>0</td>\n",
       "      <td>0</td>\n",
       "      <td>0</td>\n",
       "      <td>2</td>\n",
       "      <td>Adultons Jovens</td>\n",
       "    </tr>\n",
       "    <tr>\n",
       "      <th>7</th>\n",
       "      <td>3.449833e+12</td>\n",
       "      <td>5630575</td>\n",
       "      <td>F</td>\n",
       "      <td>2016-04-27</td>\n",
       "      <td>2016-04-29</td>\n",
       "      <td>39.0</td>\n",
       "      <td>GOIABEIRAS</td>\n",
       "      <td>0</td>\n",
       "      <td>0</td>\n",
       "      <td>0</td>\n",
       "      <td>0</td>\n",
       "      <td>0</td>\n",
       "      <td>0</td>\n",
       "      <td>0</td>\n",
       "      <td>2</td>\n",
       "      <td>Adultos</td>\n",
       "    </tr>\n",
       "    <tr>\n",
       "      <th>8</th>\n",
       "      <td>5.639473e+13</td>\n",
       "      <td>5638447</td>\n",
       "      <td>F</td>\n",
       "      <td>2016-04-29</td>\n",
       "      <td>2016-04-29</td>\n",
       "      <td>21.0</td>\n",
       "      <td>ANDORINHAS</td>\n",
       "      <td>0</td>\n",
       "      <td>0</td>\n",
       "      <td>0</td>\n",
       "      <td>0</td>\n",
       "      <td>0</td>\n",
       "      <td>0</td>\n",
       "      <td>1</td>\n",
       "      <td>0</td>\n",
       "      <td>Adultons Jovens</td>\n",
       "    </tr>\n",
       "    <tr>\n",
       "      <th>9</th>\n",
       "      <td>7.812456e+13</td>\n",
       "      <td>5629123</td>\n",
       "      <td>F</td>\n",
       "      <td>2016-04-27</td>\n",
       "      <td>2016-04-29</td>\n",
       "      <td>19.0</td>\n",
       "      <td>CONQUISTA</td>\n",
       "      <td>0</td>\n",
       "      <td>0</td>\n",
       "      <td>0</td>\n",
       "      <td>0</td>\n",
       "      <td>0</td>\n",
       "      <td>0</td>\n",
       "      <td>1</td>\n",
       "      <td>2</td>\n",
       "      <td>Adultons Jovens</td>\n",
       "    </tr>\n",
       "  </tbody>\n",
       "</table>\n",
       "</div>"
      ],
      "text/plain": [
       "      PatientId  AppointmentID Gender ScheduledDay AppointmentDay   Age  \\\n",
       "0  2.987250e+13        5642903      F   2016-04-29     2016-04-29  62.0   \n",
       "1  5.589978e+14        5642503      M   2016-04-29     2016-04-29  56.0   \n",
       "2  4.262962e+12        5642549      F   2016-04-29     2016-04-29  62.0   \n",
       "3  8.679512e+11        5642828      F   2016-04-29     2016-04-29   8.0   \n",
       "4  8.841186e+12        5642494      F   2016-04-29     2016-04-29  56.0   \n",
       "5  9.598513e+13        5626772      F   2016-04-27     2016-04-29  76.0   \n",
       "6  7.336882e+14        5630279      F   2016-04-27     2016-04-29  23.0   \n",
       "7  3.449833e+12        5630575      F   2016-04-27     2016-04-29  39.0   \n",
       "8  5.639473e+13        5638447      F   2016-04-29     2016-04-29  21.0   \n",
       "9  7.812456e+13        5629123      F   2016-04-27     2016-04-29  19.0   \n",
       "\n",
       "       Neighbourhood  Scholarship  Hipertension  Diabetes  Alcoholism  \\\n",
       "0    JARDIM DA PENHA            0             1         0           0   \n",
       "1    JARDIM DA PENHA            0             0         0           0   \n",
       "2      MATA DA PRAIA            0             0         0           0   \n",
       "3  PONTAL DE CAMBURI            0             0         0           0   \n",
       "4    JARDIM DA PENHA            0             1         1           0   \n",
       "5          REPÚBLICA            0             1         0           0   \n",
       "6         GOIABEIRAS            0             0         0           0   \n",
       "7         GOIABEIRAS            0             0         0           0   \n",
       "8         ANDORINHAS            0             0         0           0   \n",
       "9          CONQUISTA            0             0         0           0   \n",
       "\n",
       "   Handcap  SMS_received  Compareceu  time_delta     Faixa etaria  \n",
       "0        0             0           1           0           Idosos  \n",
       "1        0             0           1           0          Adultos  \n",
       "2        0             0           1           0           Idosos  \n",
       "3        0             0           1           0         Crianças  \n",
       "4        0             0           1           0          Adultos  \n",
       "5        0             0           1           2           Idosos  \n",
       "6        0             0           0           2  Adultons Jovens  \n",
       "7        0             0           0           2          Adultos  \n",
       "8        0             0           1           0  Adultons Jovens  \n",
       "9        0             0           1           2  Adultons Jovens  "
      ]
     },
     "execution_count": 17,
     "metadata": {},
     "output_type": "execute_result"
    }
   ],
   "source": [
    "# verifica criação de nova coluna faixa etária\n",
    "df.head(10)"
   ]
  },
  {
   "cell_type": "markdown",
   "metadata": {},
   "source": [
    " ### Qual a faixa etária mais assídua e a mais ausente? "
   ]
  },
  {
   "cell_type": "code",
   "execution_count": 18,
   "metadata": {
    "scrolled": true
   },
   "outputs": [
    {
     "data": {
      "text/plain": [
       "Faixa etaria\n",
       "Idosos             0.847825\n",
       "Adultos            0.804531\n",
       "Crianças           0.795307\n",
       "Adultons Jovens    0.752940\n",
       "Adolescentes       0.739336\n",
       "Name: Compareceu, dtype: float64"
      ]
     },
     "execution_count": 18,
     "metadata": {},
     "output_type": "execute_result"
    }
   ],
   "source": [
    "# agrupa em ordem decrescente a assiduidade por faixa etária\n",
    "df.groupby('Faixa etaria')['Compareceu'].mean().sort_values(ascending=False)"
   ]
  },
  {
   "cell_type": "markdown",
   "metadata": {},
   "source": [
    "### qual faixa etária é mais acometida com problemas com álcool? \n"
   ]
  },
  {
   "cell_type": "code",
   "execution_count": 19,
   "metadata": {},
   "outputs": [
    {
     "data": {
      "text/plain": [
       "Faixa etaria\n",
       "Adultos            0.052093\n",
       "Idosos             0.037221\n",
       "Adultons Jovens    0.014747\n",
       "Adolescentes       0.001916\n",
       "Crianças           0.000619\n",
       "Name: Alcoholism, dtype: float64"
      ]
     },
     "execution_count": 19,
     "metadata": {},
     "output_type": "execute_result"
    }
   ],
   "source": [
    "df.groupby('Faixa etaria')['Alcoholism'].mean().sort_values(ascending=False)"
   ]
  },
  {
   "cell_type": "markdown",
   "metadata": {},
   "source": [
    "### qual faixa etária é mais acometida pelo diabetes? \n"
   ]
  },
  {
   "cell_type": "code",
   "execution_count": 20,
   "metadata": {},
   "outputs": [
    {
     "data": {
      "text/plain": [
       "Faixa etaria\n",
       "Idosos             0.221806\n",
       "Adultos            0.075080\n",
       "Adultons Jovens    0.006985\n",
       "Adolescentes       0.004087\n",
       "Crianças           0.000904\n",
       "Name: Diabetes, dtype: float64"
      ]
     },
     "execution_count": 20,
     "metadata": {},
     "output_type": "execute_result"
    }
   ],
   "source": [
    "df.groupby('Faixa etaria')['Diabetes'].mean().sort_values(ascending=False)"
   ]
  },
  {
   "cell_type": "markdown",
   "metadata": {},
   "source": [
    "### qual faixa etária é mais acometida pelo hipertensão? "
   ]
  },
  {
   "cell_type": "code",
   "execution_count": 21,
   "metadata": {},
   "outputs": [
    {
     "data": {
      "text/plain": [
       "Faixa etaria\n",
       "Idosos             0.556743\n",
       "Adultos            0.231158\n",
       "Adultons Jovens    0.019285\n",
       "Adolescentes       0.003704\n",
       "Crianças           0.000571\n",
       "Name: Hipertension, dtype: float64"
      ]
     },
     "execution_count": 21,
     "metadata": {},
     "output_type": "execute_result"
    }
   ],
   "source": [
    "df.groupby('Faixa etaria')['Hipertension'].mean().sort_values(ascending=False)"
   ]
  },
  {
   "cell_type": "markdown",
   "metadata": {},
   "source": [
    "# Bairros: "
   ]
  },
  {
   "cell_type": "markdown",
   "metadata": {},
   "source": [
    "### Qual(ais) bairros mais assíduos ? "
   ]
  },
  {
   "cell_type": "code",
   "execution_count": 22,
   "metadata": {},
   "outputs": [
    {
     "data": {
      "text/plain": [
       "Neighbourhood\n",
       "PARQUE INDUSTRIAL              1.000000\n",
       "ILHA DO BOI                    0.914286\n",
       "AEROPORTO                      0.875000\n",
       "MARIO CYPRESTE                 0.854447\n",
       "SOLON BORGES                   0.853191\n",
       "                                 ...   \n",
       "ITARARA                        0.737336\n",
       "SANTA CLARA                    0.735178\n",
       "SANTA CECÍLIA                  0.725446\n",
       "SANTOS DUMONT                  0.710815\n",
       "ILHAS OCEÂNICAS DE TRINDADE    0.000000\n",
       "Name: Compareceu, Length: 82, dtype: float64"
      ]
     },
     "execution_count": 22,
     "metadata": {},
     "output_type": "execute_result"
    }
   ],
   "source": [
    "df.groupby('Neighbourhood')['Compareceu'].mean().sort_values(ascending=False)\n",
    "# Os últimos são os bairros de pacientes com maior ausência em consultas"
   ]
  },
  {
   "cell_type": "markdown",
   "metadata": {},
   "source": [
    "###  Qual(is) bairro(s) detém maior número de beneficiários do programa Bolsa família?\n"
   ]
  },
  {
   "cell_type": "code",
   "execution_count": 23,
   "metadata": {},
   "outputs": [
    {
     "data": {
      "text/plain": [
       "Neighbourhood\n",
       "SÃO BENEDITO                   0.280751\n",
       "DO MOSCOSO                     0.268765\n",
       "ILHA DO PRÍNCIPE               0.255516\n",
       "PIEDADE                        0.254425\n",
       "SANTOS REIS                    0.219378\n",
       "                                 ...   \n",
       "PARQUE INDUSTRIAL              0.000000\n",
       "BARRO VERMELHO                 0.000000\n",
       "ILHAS OCEÂNICAS DE TRINDADE    0.000000\n",
       "MORADA DE CAMBURI              0.000000\n",
       "AEROPORTO                      0.000000\n",
       "Name: Scholarship, Length: 82, dtype: float64"
      ]
     },
     "execution_count": 23,
     "metadata": {},
     "output_type": "execute_result"
    }
   ],
   "source": [
    "df.groupby('Neighbourhood')['Scholarship'].mean().sort_values(ascending=False)\n"
   ]
  },
  {
   "cell_type": "markdown",
   "metadata": {},
   "source": [
    "### Qual(is) bairro(s) detém maior número de pacientes com problemas com álcool? "
   ]
  },
  {
   "cell_type": "code",
   "execution_count": 24,
   "metadata": {},
   "outputs": [
    {
     "data": {
      "text/plain": [
       "Neighbourhood\n",
       "ESTRELINHA           0.146840\n",
       "DO MOSCOSO           0.130751\n",
       "SANTA MARTHA         0.109869\n",
       "DE LOURDE            0.083333\n",
       "PRAIA DO SUÁ         0.079193\n",
       "                       ...   \n",
       "PARQUE INDUSTRIAL    0.000000\n",
       "MORADA DE CAMBURI    0.000000\n",
       "MONTE BELO           0.000000\n",
       "MATA DA PRAIA        0.000000\n",
       "AEROPORTO            0.000000\n",
       "Name: Alcoholism, Length: 82, dtype: float64"
      ]
     },
     "execution_count": 24,
     "metadata": {},
     "output_type": "execute_result"
    }
   ],
   "source": [
    "df.groupby('Neighbourhood')['Alcoholism'].mean().sort_values(ascending=False)\n"
   ]
  },
  {
   "cell_type": "markdown",
   "metadata": {},
   "source": [
    "### Qual(is) bairro(s) detém maior número de hipertensos? "
   ]
  },
  {
   "cell_type": "code",
   "execution_count": 25,
   "metadata": {},
   "outputs": [
    {
     "data": {
      "text/plain": [
       "Neighbourhood\n",
       "DE LOURDE                      0.416667\n",
       "DE LOURDES                     0.344710\n",
       "SANTA CECÍLIA                  0.323661\n",
       "PARQUE MOSCOSO                 0.320449\n",
       "FONTE GRANDE                   0.312317\n",
       "                                 ...   \n",
       "ANTÔNIO HONÓRIO                0.018450\n",
       "NAZARETH                       0.007407\n",
       "ILHAS OCEÂNICAS DE TRINDADE    0.000000\n",
       "ILHA DO FRADE                  0.000000\n",
       "PARQUE INDUSTRIAL              0.000000\n",
       "Name: Hipertension, Length: 82, dtype: float64"
      ]
     },
     "execution_count": 25,
     "metadata": {},
     "output_type": "execute_result"
    }
   ],
   "source": [
    "df.groupby('Neighbourhood')['Hipertension'].mean().sort_values(ascending=False)\n"
   ]
  },
  {
   "cell_type": "markdown",
   "metadata": {},
   "source": [
    "### Qual(is) bairro(s) detém maior número de diabéticos? "
   ]
  },
  {
   "cell_type": "code",
   "execution_count": 26,
   "metadata": {},
   "outputs": [
    {
     "data": {
      "text/plain": [
       "Neighbourhood\n",
       "MORADA DE CAMBURI              0.135417\n",
       "ANDORINHAS                     0.132184\n",
       "DE LOURDES                     0.122867\n",
       "COMDUSA                        0.122581\n",
       "SÃO JOSÉ                       0.120384\n",
       "                                 ...   \n",
       "PONTAL DE CAMBURI              0.000000\n",
       "ILHA DO FRADE                  0.000000\n",
       "ILHAS OCEÂNICAS DE TRINDADE    0.000000\n",
       "NAZARETH                       0.000000\n",
       "AEROPORTO                      0.000000\n",
       "Name: Diabetes, Length: 82, dtype: float64"
      ]
     },
     "execution_count": 26,
     "metadata": {},
     "output_type": "execute_result"
    }
   ],
   "source": [
    "df.groupby('Neighbourhood')['Diabetes'].mean().sort_values(ascending=False)\n"
   ]
  },
  {
   "cell_type": "markdown",
   "metadata": {},
   "source": [
    "## Em comparação ao grupo não-PCD, o grupo com deficiência compareceu mais nas consultas."
   ]
  },
  {
   "cell_type": "code",
   "execution_count": 27,
   "metadata": {},
   "outputs": [
    {
     "data": {
      "text/plain": [
       "Handcap\n",
       "0    0.797685\n",
       "1    0.818466\n",
       "Name: Compareceu, dtype: float64"
      ]
     },
     "execution_count": 27,
     "metadata": {},
     "output_type": "execute_result"
    }
   ],
   "source": [
    "df.groupby(['Handcap'])['Compareceu'].mean() "
   ]
  },
  {
   "cell_type": "markdown",
   "metadata": {},
   "source": [
    "### Quantas consultas foram marcadas para cada especialidade?"
   ]
  },
  {
   "cell_type": "code",
   "execution_count": 28,
   "metadata": {},
   "outputs": [
    {
     "name": "stdout",
     "output_type": "stream",
     "text": [
      "Foram 78 consultas marcadas para Alcoolismo no grupo PCD\n",
      "Foram 399 consultas marcadas para Diabetes no grupo PCD\n",
      "Foram 968 consultas marcadas para Hipertensão no grupo PCD\n"
     ]
    }
   ],
   "source": [
    "\n",
    "df_pcd = df.loc[df['Handcap']==1]\n",
    "\n",
    "\n",
    "hipertensos_pcd = df_pcd.loc[df_pcd['Hipertension']==1]\n",
    "alcolismo_pcd = df_pcd.loc[df_pcd['Alcoholism']==1]\n",
    "diabetes_pcd = df_pcd.loc[df_pcd['Diabetes']==1]\n",
    "\n",
    "print(f'Foram {len(alcolismo_pcd)} consultas marcadas para Alcoolismo no grupo PCD')\n",
    "print(f'Foram {len(diabetes_pcd)} consultas marcadas para Diabetes no grupo PCD')\n",
    "print(f'Foram {len(hipertensos_pcd)} consultas marcadas para Hipertensão no grupo PCD')\n"
   ]
  },
  {
   "cell_type": "markdown",
   "metadata": {},
   "source": [
    "### Qual gênero compareceu mais nas consultas marcadas no grupo PCD? Genero Masculino\n"
   ]
  },
  {
   "cell_type": "code",
   "execution_count": 29,
   "metadata": {},
   "outputs": [
    {
     "data": {
      "text/plain": [
       "Gender\n",
       "F    0.811628\n",
       "M    0.827731\n",
       "Name: Compareceu, dtype: float64"
      ]
     },
     "execution_count": 29,
     "metadata": {},
     "output_type": "execute_result"
    }
   ],
   "source": [
    "df_pcd.groupby('Gender')['Compareceu'].mean()"
   ]
  },
  {
   "cell_type": "markdown",
   "metadata": {},
   "source": [
    "### Qual a faixa etária que mais compareceu nas consultas marcadas?"
   ]
  },
  {
   "cell_type": "code",
   "execution_count": 37,
   "metadata": {},
   "outputs": [
    {
     "data": {
      "text/plain": [
       "Faixa etaria\n",
       "Adultos           0.837809\n",
       "Idosos            0.835966\n",
       "Jovens Adultos    0.798165\n",
       "Adolescentes      0.769231\n",
       "Crianças          0.622449\n",
       "Name: Compareceu, dtype: float64"
      ]
     },
     "execution_count": 37,
     "metadata": {},
     "output_type": "execute_result"
    }
   ],
   "source": [
    "df_pcd['Faixa etaria'] = pd.cut(df_pcd['Age'],bins=[-1,12,18,30,60,125],labels=['Crianças','Adolescentes','Jovens Adultos','Adultos','Idosos'])\n",
    "df_pcd.groupby(['Faixa etaria'])['Compareceu'].mean().sort_values(ascending=False)"
   ]
  },
  {
   "cell_type": "markdown",
   "metadata": {},
   "source": [
    "## No geral, incluindo TODAS as consultas, até as imediatas, receber o sms não impactou o grupo PCD, porém se isolarmos as consultas imediatas vemos que sim teve uma pequena diferença, e vamos ver isso mais a frente."
   ]
  },
  {
   "cell_type": "code",
   "execution_count": 31,
   "metadata": {},
   "outputs": [
    {
     "data": {
      "text/plain": [
       "SMS_received\n",
       "0    0.840563\n",
       "1    0.748134\n",
       "Name: Compareceu, dtype: float64"
      ]
     },
     "execution_count": 31,
     "metadata": {},
     "output_type": "execute_result"
    }
   ],
   "source": [
    "df_pcd.groupby(['SMS_received'])['Compareceu'].mean()"
   ]
  },
  {
   "cell_type": "markdown",
   "metadata": {},
   "source": [
    "## Alocando as respostas de comparecimentos em grupos de:\n",
    "### Recebeu o sms - 1. Não recebeu o sms - 0.<br>\n",
    "\n",
    "## E separando o grupo por consultas realizadas a partir de 3 dias de marcação temos os seguintes resultados:"
   ]
  },
  {
   "cell_type": "markdown",
   "metadata": {},
   "source": [
    "### No grupo de consultas marcadas para \"Diabetes\" houve um aumento de 7% no comparecimento de quem recebeu o lembrete por sms."
   ]
  },
  {
   "cell_type": "code",
   "execution_count": 32,
   "metadata": {},
   "outputs": [
    {
     "data": {
      "text/plain": [
       "SMS_received\n",
       "0    0.720000\n",
       "1    0.791667\n",
       "Name: Compareceu, dtype: float64"
      ]
     },
     "execution_count": 32,
     "metadata": {},
     "output_type": "execute_result"
    }
   ],
   "source": [
    "\n",
    "sms_diabetes_pcd = diabetes_pcd.loc[(diabetes_pcd['time_delta']>2)]\n",
    "sms_diabetes_pcd.groupby(['SMS_received'])['Compareceu'].mean()"
   ]
  },
  {
   "cell_type": "markdown",
   "metadata": {},
   "source": [
    "### No grupo de consultas marcadas para \"Hipertensão\" houve um aumento de 8% no comparecimento de quem recebeu o lembrete por sms. "
   ]
  },
  {
   "cell_type": "code",
   "execution_count": 33,
   "metadata": {},
   "outputs": [
    {
     "data": {
      "text/plain": [
       "SMS_received\n",
       "0    0.707547\n",
       "1    0.777358\n",
       "Name: Compareceu, dtype: float64"
      ]
     },
     "execution_count": 33,
     "metadata": {},
     "output_type": "execute_result"
    }
   ],
   "source": [
    "\n",
    "sms_hipertensao = hipertensos_pcd.loc[(hipertensos_pcd['time_delta']>2)]\n",
    "sms_hipertensao.groupby(['SMS_received'])['Compareceu'].mean()"
   ]
  },
  {
   "cell_type": "markdown",
   "metadata": {},
   "source": [
    "### No grupo de consultas marcadas para \"Alcoolismo\" receber SMS não fez diferença.\n"
   ]
  },
  {
   "cell_type": "code",
   "execution_count": 34,
   "metadata": {},
   "outputs": [
    {
     "data": {
      "text/plain": [
       "SMS_received\n",
       "0    0.888889\n",
       "1    0.882353\n",
       "Name: Compareceu, dtype: float64"
      ]
     },
     "execution_count": 34,
     "metadata": {},
     "output_type": "execute_result"
    }
   ],
   "source": [
    "sms_alcolismo_pcd = alcolismo_pcd.loc[(alcolismo_pcd['time_delta']>2)]\n",
    "sms_alcolismo_pcd.groupby(['SMS_received'])['Compareceu'].mean()"
   ]
  },
  {
   "cell_type": "markdown",
   "metadata": {},
   "source": [
    "### Será que com o tempo mais longo de espera de consulta há mais ausência de deficientes? \n",
    "### O nível de comparecimento é alto nos primeiros dias, mas quanto mais longe da data a consulta é marcada, as taxas de comparecimento diminuem."
   ]
  },
  {
   "cell_type": "code",
   "execution_count": 49,
   "metadata": {},
   "outputs": [
    {
     "data": {
      "text/plain": [
       "<AxesSubplot: title={'center': 'Comparecimento por tempo de espera pela consulta'}, xlabel='Dias depois da marcação'>"
      ]
     },
     "execution_count": 49,
     "metadata": {},
     "output_type": "execute_result"
    },
    {
     "data": {
      "image/png": "[encoded data removed]",
      "text/plain": [
       "<Figure size 1500x500 with 1 Axes>"
      ]
     },
     "metadata": {},
     "output_type": "display_data"
    }
   ],
   "source": [
    "df_pcd.pivot_table(index='time_delta', aggfunc='count', values='Compareceu').plot(kind='bar', xticks= (np.arange(0,61,30)),figsize=(15,5), title = 'Comparecimento por tempo de espera pela consulta', xlabel = 'Dias depois da marcação')"
   ]
  },
  {
   "cell_type": "markdown",
   "metadata": {},
   "source": [
    "#### Solução: Quanto mais cedo as consultas forem marcadas, e tendo sido reforçados os lembretes por sms, a taxa de AUSÊNCIA do grupo PCD diminuirá."
   ]
  },
  {
   "cell_type": "markdown",
   "metadata": {},
   "source": [
    "# Análise do tempo entre a marcação da consulta e a consulta em si\n",
    "\n",
    "- Felipe Cunha\n",
    "\n",
    "### Hipóteses e pontos a serem investigados: \n",
    "- Uma parte das consultas foi marcada para o mesmo dia e a taxa de comparecimento deve ser mais alta;\n",
    "- Quanto maior a diferença de tempo entre a marcação da consulta e a consulta, maior a taxa de ausentes;\n",
    "- Quanto maior a diferença de tempo, mais as pessoas recebem SMS para lembrar da consulta;\n",
    "    - E nesse caso, o recebimento de SMS faz com que aumente a taxa de presença?\n",
    "- Verificar também as outras variáveis em relação a faixas de intervalo de tempo"
   ]
  },
  {
   "cell_type": "markdown",
   "metadata": {},
   "source": [
    "### Análise das consultas marcadas para o mesmo dia"
   ]
  },
  {
   "cell_type": "code",
   "execution_count": 10,
   "metadata": {},
   "outputs": [
    {
     "name": "stdout",
     "output_type": "stream",
     "text": [
      "Total de consultas marcadas para o mesmo dia: 38587.\n",
      "Total de consultas: 110573.\n",
      "\n",
      "Relação das pessoas que compareceram à consulta (1 - Sim, 0 - Não):\n",
      "1    36795\n",
      "0     1792\n",
      "Name: Compareceu, dtype: int64\n",
      "\n",
      "Formato do novo DataFrame: Linhas: 38587, Colunas: 15\n"
     ]
    }
   ],
   "source": [
    "# Verificando quantas consultas foram marcadas para o mesmo dia e criando um dataframe com essas consultas\n",
    "consultas_mesmo_dia = df['time_delta'].value_counts()[0]\n",
    "total_consultas = len(df['time_delta'])\n",
    "\n",
    "df_dia0 = df[df['time_delta'] == 0]\n",
    "df_dia0['Compareceu'].value_counts()\n",
    "\n",
    "print(f'Total de consultas marcadas para o mesmo dia: {consultas_mesmo_dia}.')\n",
    "print(f'Total de consultas: {total_consultas}.')\n",
    "print('\\nRelação das pessoas que compareceram à consulta (1 - Sim, 0 - Não):')\n",
    "print(df_dia0['Compareceu'].value_counts())\n",
    "print(f'\\nFormato do novo DataFrame: Linhas: {df_dia0.shape[0]}, Colunas: {df_dia0.shape[1]}')"
   ]
  },
  {
   "cell_type": "code",
   "execution_count": 11,
   "metadata": {},
   "outputs": [
    {
     "name": "stdout",
     "output_type": "stream",
     "text": [
      "Percentual de consultas marcadas para o mesmo dia: 34.90%.\n",
      "Percentual de presença nessas consultas: 95.36%.\n"
     ]
    }
   ],
   "source": [
    "presenca_dia0 = df_dia0['Compareceu'].value_counts()[1] # Relação de pessoas que foram a consulta\n",
    "ausencia_dia0 = df_dia0['Compareceu'].value_counts()[0] # Relação de pessoas que não foram a consulta\n",
    "\n",
    "print(f'Percentual de consultas marcadas para o mesmo dia: {consultas_mesmo_dia/total_consultas*100:.2f}%.')\n",
    "print(f'Percentual de presença nessas consultas: {presenca_dia0/len(df_dia0)*100:.2f}%.')"
   ]
  },
  {
   "cell_type": "code",
   "execution_count": 12,
   "metadata": {},
   "outputs": [
    {
     "name": "stderr",
     "output_type": "stream",
     "text": [
      "C:\\Users\\felip\\AppData\\Local\\Temp\\ipykernel_6664\\2605397951.py:1: FutureWarning: The default value of numeric_only in DataFrameGroupBy.mean is deprecated. In a future version, numeric_only will default to False. Either specify numeric_only or select only columns which should be valid for the function.\n",
      "  df_dia0.groupby('Compareceu').mean() # Panorama geral dos dados para as consultas marcadas no mesmo dia\n"
     ]
    },
    {
     "data": {
      "text/html": [
       "<div>\n",
       "<style scoped>\n",
       "    .dataframe tbody tr th:only-of-type {\n",
       "        vertical-align: middle;\n",
       "    }\n",
       "\n",
       "    .dataframe tbody tr th {\n",
       "        vertical-align: top;\n",
       "    }\n",
       "\n",
       "    .dataframe thead th {\n",
       "        text-align: right;\n",
       "    }\n",
       "</style>\n",
       "<table border=\"1\" class=\"dataframe\">\n",
       "  <thead>\n",
       "    <tr style=\"text-align: right;\">\n",
       "      <th></th>\n",
       "      <th>PatientId</th>\n",
       "      <th>AppointmentID</th>\n",
       "      <th>Age</th>\n",
       "      <th>Scholarship</th>\n",
       "      <th>Hipertension</th>\n",
       "      <th>Diabetes</th>\n",
       "      <th>Alcoholism</th>\n",
       "      <th>Handcap</th>\n",
       "      <th>SMS_received</th>\n",
       "      <th>time_delta</th>\n",
       "    </tr>\n",
       "    <tr>\n",
       "      <th>Compareceu</th>\n",
       "      <th></th>\n",
       "      <th></th>\n",
       "      <th></th>\n",
       "      <th></th>\n",
       "      <th></th>\n",
       "      <th></th>\n",
       "      <th></th>\n",
       "      <th></th>\n",
       "      <th></th>\n",
       "      <th></th>\n",
       "    </tr>\n",
       "  </thead>\n",
       "  <tbody>\n",
       "    <tr>\n",
       "      <th>0</th>\n",
       "      <td>1.482995e+14</td>\n",
       "      <td>5.709346e+06</td>\n",
       "      <td>28.415281</td>\n",
       "      <td>0.136719</td>\n",
       "      <td>0.131696</td>\n",
       "      <td>0.049107</td>\n",
       "      <td>0.031250</td>\n",
       "      <td>0.039621</td>\n",
       "      <td>0.0</td>\n",
       "      <td>0.0</td>\n",
       "    </tr>\n",
       "    <tr>\n",
       "      <th>1</th>\n",
       "      <td>1.518766e+14</td>\n",
       "      <td>5.713338e+06</td>\n",
       "      <td>34.751927</td>\n",
       "      <td>0.107216</td>\n",
       "      <td>0.177660</td>\n",
       "      <td>0.067400</td>\n",
       "      <td>0.040277</td>\n",
       "      <td>0.023427</td>\n",
       "      <td>0.0</td>\n",
       "      <td>0.0</td>\n",
       "    </tr>\n",
       "  </tbody>\n",
       "</table>\n",
       "</div>"
      ],
      "text/plain": [
       "               PatientId  AppointmentID        Age  Scholarship  Hipertension  \\\n",
       "Compareceu                                                                      \n",
       "0           1.482995e+14   5.709346e+06  28.415281     0.136719      0.131696   \n",
       "1           1.518766e+14   5.713338e+06  34.751927     0.107216      0.177660   \n",
       "\n",
       "            Diabetes  Alcoholism   Handcap  SMS_received  time_delta  \n",
       "Compareceu                                                            \n",
       "0           0.049107    0.031250  0.039621           0.0         0.0  \n",
       "1           0.067400    0.040277  0.023427           0.0         0.0  "
      ]
     },
     "execution_count": 12,
     "metadata": {},
     "output_type": "execute_result"
    }
   ],
   "source": [
    "df_dia0.groupby('Compareceu').mean() # Panorama geral dos dados para as consultas marcadas no mesmo dia"
   ]
  },
  {
   "cell_type": "markdown",
   "metadata": {},
   "source": [
    "##### Conclusões\n",
    "- Concluí-se que nesse tipo de consulta a taxa de comparecimento é bem alta (> 95%);\n",
    "- A média de idade para quem compareceu é de 35 anos, um pouco maior que a das pessoas que não compareceram (28 anos);\n",
    "- Fatores como receber ou não o bolsa família, doenças pré-existentes não parecem influenciar na presença ou ausência nas consultas;"
   ]
  },
  {
   "cell_type": "markdown",
   "metadata": {},
   "source": [
    "### Análise do restante dos dados, consultas com 1 ou mais dias de intervalo entre a marcação e a consulta"
   ]
  },
  {
   "cell_type": "code",
   "execution_count": 23,
   "metadata": {},
   "outputs": [
    {
     "data": {
      "text/html": [
       "<div>\n",
       "<style scoped>\n",
       "    .dataframe tbody tr th:only-of-type {\n",
       "        vertical-align: middle;\n",
       "    }\n",
       "\n",
       "    .dataframe tbody tr th {\n",
       "        vertical-align: top;\n",
       "    }\n",
       "\n",
       "    .dataframe thead th {\n",
       "        text-align: right;\n",
       "    }\n",
       "</style>\n",
       "<table border=\"1\" class=\"dataframe\">\n",
       "  <thead>\n",
       "    <tr style=\"text-align: right;\">\n",
       "      <th></th>\n",
       "      <th>PatientId</th>\n",
       "      <th>AppointmentID</th>\n",
       "      <th>Gender</th>\n",
       "      <th>ScheduledDay</th>\n",
       "      <th>AppointmentDay</th>\n",
       "      <th>Age</th>\n",
       "      <th>Neighbourhood</th>\n",
       "      <th>Scholarship</th>\n",
       "      <th>Hipertension</th>\n",
       "      <th>Diabetes</th>\n",
       "      <th>Alcoholism</th>\n",
       "      <th>Handcap</th>\n",
       "      <th>SMS_received</th>\n",
       "      <th>Compareceu</th>\n",
       "      <th>time_delta</th>\n",
       "    </tr>\n",
       "  </thead>\n",
       "  <tbody>\n",
       "    <tr>\n",
       "      <th>5</th>\n",
       "      <td>9.598513e+13</td>\n",
       "      <td>5626772</td>\n",
       "      <td>F</td>\n",
       "      <td>2016-04-27</td>\n",
       "      <td>2016-04-29</td>\n",
       "      <td>76.00000</td>\n",
       "      <td>REPÚBLICA</td>\n",
       "      <td>0</td>\n",
       "      <td>1</td>\n",
       "      <td>0</td>\n",
       "      <td>0</td>\n",
       "      <td>0</td>\n",
       "      <td>0</td>\n",
       "      <td>1</td>\n",
       "      <td>2</td>\n",
       "    </tr>\n",
       "    <tr>\n",
       "      <th>6</th>\n",
       "      <td>7.336882e+14</td>\n",
       "      <td>5630279</td>\n",
       "      <td>F</td>\n",
       "      <td>2016-04-27</td>\n",
       "      <td>2016-04-29</td>\n",
       "      <td>23.00000</td>\n",
       "      <td>GOIABEIRAS</td>\n",
       "      <td>0</td>\n",
       "      <td>0</td>\n",
       "      <td>0</td>\n",
       "      <td>0</td>\n",
       "      <td>0</td>\n",
       "      <td>0</td>\n",
       "      <td>0</td>\n",
       "      <td>2</td>\n",
       "    </tr>\n",
       "    <tr>\n",
       "      <th>7</th>\n",
       "      <td>3.449833e+12</td>\n",
       "      <td>5630575</td>\n",
       "      <td>F</td>\n",
       "      <td>2016-04-27</td>\n",
       "      <td>2016-04-29</td>\n",
       "      <td>39.00000</td>\n",
       "      <td>GOIABEIRAS</td>\n",
       "      <td>0</td>\n",
       "      <td>0</td>\n",
       "      <td>0</td>\n",
       "      <td>0</td>\n",
       "      <td>0</td>\n",
       "      <td>0</td>\n",
       "      <td>0</td>\n",
       "      <td>2</td>\n",
       "    </tr>\n",
       "    <tr>\n",
       "      <th>9</th>\n",
       "      <td>7.812456e+13</td>\n",
       "      <td>5629123</td>\n",
       "      <td>F</td>\n",
       "      <td>2016-04-27</td>\n",
       "      <td>2016-04-29</td>\n",
       "      <td>19.00000</td>\n",
       "      <td>CONQUISTA</td>\n",
       "      <td>0</td>\n",
       "      <td>0</td>\n",
       "      <td>0</td>\n",
       "      <td>0</td>\n",
       "      <td>0</td>\n",
       "      <td>0</td>\n",
       "      <td>1</td>\n",
       "      <td>2</td>\n",
       "    </tr>\n",
       "    <tr>\n",
       "      <th>10</th>\n",
       "      <td>7.345362e+14</td>\n",
       "      <td>5630213</td>\n",
       "      <td>F</td>\n",
       "      <td>2016-04-27</td>\n",
       "      <td>2016-04-29</td>\n",
       "      <td>37.09195</td>\n",
       "      <td>NOVA PALESTINA</td>\n",
       "      <td>0</td>\n",
       "      <td>0</td>\n",
       "      <td>0</td>\n",
       "      <td>0</td>\n",
       "      <td>0</td>\n",
       "      <td>0</td>\n",
       "      <td>1</td>\n",
       "      <td>2</td>\n",
       "    </tr>\n",
       "  </tbody>\n",
       "</table>\n",
       "</div>"
      ],
      "text/plain": [
       "       PatientId  AppointmentID Gender ScheduledDay AppointmentDay       Age  \\\n",
       "5   9.598513e+13        5626772      F   2016-04-27     2016-04-29  76.00000   \n",
       "6   7.336882e+14        5630279      F   2016-04-27     2016-04-29  23.00000   \n",
       "7   3.449833e+12        5630575      F   2016-04-27     2016-04-29  39.00000   \n",
       "9   7.812456e+13        5629123      F   2016-04-27     2016-04-29  19.00000   \n",
       "10  7.345362e+14        5630213      F   2016-04-27     2016-04-29  37.09195   \n",
       "\n",
       "     Neighbourhood  Scholarship  Hipertension  Diabetes  Alcoholism  Handcap  \\\n",
       "5        REPÚBLICA            0             1         0           0        0   \n",
       "6       GOIABEIRAS            0             0         0           0        0   \n",
       "7       GOIABEIRAS            0             0         0           0        0   \n",
       "9        CONQUISTA            0             0         0           0        0   \n",
       "10  NOVA PALESTINA            0             0         0           0        0   \n",
       "\n",
       "    SMS_received  Compareceu  time_delta  \n",
       "5              0           1           2  \n",
       "6              0           0           2  \n",
       "7              0           0           2  \n",
       "9              0           1           2  \n",
       "10             0           1           2  "
      ]
     },
     "execution_count": 23,
     "metadata": {},
     "output_type": "execute_result"
    }
   ],
   "source": [
    "df_sem_dia0 = df[df['time_delta'] > 0] # criando o dataframe\n",
    "df_sem_dia0.head()"
   ]
  },
  {
   "cell_type": "code",
   "execution_count": 24,
   "metadata": {},
   "outputs": [
    {
     "name": "stdout",
     "output_type": "stream",
     "text": [
      "Total de consultas marcadas com um ou mais de um dia de intervalo: 71981.\n",
      "Total de consultas: 110573.\n",
      "\n",
      "Relação das pessoas que compareceram à consulta (1 - Sim, 0 - Não):\n",
      "1    51454\n",
      "0    20527\n",
      "Name: Compareceu, dtype: int64\n",
      "\n",
      "Formato do novo DataFrame: Linhas: 71981, Colunas: 15\n"
     ]
    }
   ],
   "source": [
    "# Verificando quantas consultas foram marcadas com mais de um dia de intervalo e criando um dataframe com essas consultas\n",
    "consultas_mais_1dia = len(df_sem_dia0)\n",
    "\n",
    "print(f'Total de consultas marcadas com um ou mais de um dia de intervalo: {consultas_mais_1dia}.')\n",
    "print(f'Total de consultas: {total_consultas}.')\n",
    "print('\\nRelação das pessoas que compareceram à consulta (1 - Sim, 0 - Não):')\n",
    "print(df_sem_dia0['Compareceu'].value_counts())\n",
    "print(f'\\nFormato do novo DataFrame: Linhas: {df_sem_dia0.shape[0]}, Colunas: {df_sem_dia0.shape[1]}')"
   ]
  },
  {
   "cell_type": "code",
   "execution_count": 25,
   "metadata": {},
   "outputs": [
    {
     "name": "stdout",
     "output_type": "stream",
     "text": [
      "Percentual de consultas marcadas para o mesmo dia: 65.10%.\n",
      "Percentual de presença nessas consultas: 71.48%.\n"
     ]
    }
   ],
   "source": [
    "presenca_sem_dia0 = df_sem_dia0['Compareceu'].value_counts()[1] # Relação de pessoas que foram a consulta\n",
    "\n",
    "print(f'Percentual de consultas marcadas para um intervalo de tempo maior que um dia: {consultas_mais_1dia/total_consultas*100:.2f}%.')\n",
    "print(f'Percentual de presença nessas consultas: {presenca_sem_dia0/len(df_sem_dia0)*100:.2f}%.')"
   ]
  },
  {
   "cell_type": "markdown",
   "metadata": {},
   "source": [
    "##### Percebe-se uma queda em mais de 20% para consultas agendadas para dias posteriores. \n",
    "---\n",
    "##### Em seguida foi verificado o comportamento da variável relativa ao intervalo de tempo"
   ]
  },
  {
   "cell_type": "code",
   "execution_count": 41,
   "metadata": {},
   "outputs": [
    {
     "data": {
      "image/png": "[encoded data removed]",
      "text/plain": [
       "<Figure size 720x360 with 1 Axes>"
      ]
     },
     "metadata": {
      "needs_background": "light"
     },
     "output_type": "display_data"
    }
   ],
   "source": [
    "plt.figure(figsize=(10,5))\n",
    "plt.hist(df_sem_dia0['time_delta'], bins=40) # histograma para ver a distribuição dos dados\n",
    "plt.xlabel('Intervalo de Tempo entre a marcação e a consulta')\n",
    "plt.ylabel('Quantidade de Consultas')\n",
    "plt.title('Distribuição das consultas em diferentes intervalos de tempo.')\n",
    "plt.show()"
   ]
  },
  {
   "cell_type": "markdown",
   "metadata": {},
   "source": [
    "- A partir do histograma, percebeu-se que a maioria das consultas estava concentrada em um intervalo de tempo de até 40 dias. \n",
    "- Em seguida foi verificado se haviam outliers para essa série de dados"
   ]
  },
  {
   "cell_type": "code",
   "execution_count": 47,
   "metadata": {},
   "outputs": [
    {
     "data": {
      "image/png": "[encoded data removed]",
      "text/plain": [
       "<Figure size 432x288 with 1 Axes>"
      ]
     },
     "metadata": {
      "needs_background": "light"
     },
     "output_type": "display_data"
    }
   ],
   "source": [
    "plt.boxplot(df_sem_dia0['time_delta']) # boxplot para verificar a presença de outliers\n",
    "plt.xlabel('Intervalo de Tempo')\n",
    "plt.ylabel('Intervalo de Tempo em dias')\n",
    "plt.show()"
   ]
  },
  {
   "cell_type": "code",
   "execution_count": 33,
   "metadata": {},
   "outputs": [
    {
     "data": {
      "text/plain": [
       "48.0"
      ]
     },
     "execution_count": 33,
     "metadata": {},
     "output_type": "execute_result"
    }
   ],
   "source": [
    "q_high = df_sem_dia0['time_delta'].quantile(0.95) # Cálculo do limite máximo para retirada dos outliers em 95% de confiança\n",
    "q_high"
   ]
  },
  {
   "cell_type": "markdown",
   "metadata": {},
   "source": [
    "- Optou-se por retirar as consultas marcadas no mesmo dia e as com mais de 48 dias de intervalo para se fazer um estudo"
   ]
  },
  {
   "cell_type": "code",
   "execution_count": 34,
   "metadata": {},
   "outputs": [
    {
     "data": {
      "text/html": [
       "<div>\n",
       "<style scoped>\n",
       "    .dataframe tbody tr th:only-of-type {\n",
       "        vertical-align: middle;\n",
       "    }\n",
       "\n",
       "    .dataframe tbody tr th {\n",
       "        vertical-align: top;\n",
       "    }\n",
       "\n",
       "    .dataframe thead th {\n",
       "        text-align: right;\n",
       "    }\n",
       "</style>\n",
       "<table border=\"1\" class=\"dataframe\">\n",
       "  <thead>\n",
       "    <tr style=\"text-align: right;\">\n",
       "      <th></th>\n",
       "      <th>PatientId</th>\n",
       "      <th>AppointmentID</th>\n",
       "      <th>Gender</th>\n",
       "      <th>ScheduledDay</th>\n",
       "      <th>AppointmentDay</th>\n",
       "      <th>Age</th>\n",
       "      <th>Neighbourhood</th>\n",
       "      <th>Scholarship</th>\n",
       "      <th>Hipertension</th>\n",
       "      <th>Diabetes</th>\n",
       "      <th>Alcoholism</th>\n",
       "      <th>Handcap</th>\n",
       "      <th>SMS_received</th>\n",
       "      <th>Compareceu</th>\n",
       "      <th>time_delta</th>\n",
       "    </tr>\n",
       "  </thead>\n",
       "  <tbody>\n",
       "    <tr>\n",
       "      <th>5</th>\n",
       "      <td>9.598513e+13</td>\n",
       "      <td>5626772</td>\n",
       "      <td>F</td>\n",
       "      <td>2016-04-27</td>\n",
       "      <td>2016-04-29</td>\n",
       "      <td>76.00000</td>\n",
       "      <td>REPÚBLICA</td>\n",
       "      <td>0</td>\n",
       "      <td>1</td>\n",
       "      <td>0</td>\n",
       "      <td>0</td>\n",
       "      <td>0</td>\n",
       "      <td>0</td>\n",
       "      <td>1</td>\n",
       "      <td>2</td>\n",
       "    </tr>\n",
       "    <tr>\n",
       "      <th>6</th>\n",
       "      <td>7.336882e+14</td>\n",
       "      <td>5630279</td>\n",
       "      <td>F</td>\n",
       "      <td>2016-04-27</td>\n",
       "      <td>2016-04-29</td>\n",
       "      <td>23.00000</td>\n",
       "      <td>GOIABEIRAS</td>\n",
       "      <td>0</td>\n",
       "      <td>0</td>\n",
       "      <td>0</td>\n",
       "      <td>0</td>\n",
       "      <td>0</td>\n",
       "      <td>0</td>\n",
       "      <td>0</td>\n",
       "      <td>2</td>\n",
       "    </tr>\n",
       "    <tr>\n",
       "      <th>7</th>\n",
       "      <td>3.449833e+12</td>\n",
       "      <td>5630575</td>\n",
       "      <td>F</td>\n",
       "      <td>2016-04-27</td>\n",
       "      <td>2016-04-29</td>\n",
       "      <td>39.00000</td>\n",
       "      <td>GOIABEIRAS</td>\n",
       "      <td>0</td>\n",
       "      <td>0</td>\n",
       "      <td>0</td>\n",
       "      <td>0</td>\n",
       "      <td>0</td>\n",
       "      <td>0</td>\n",
       "      <td>0</td>\n",
       "      <td>2</td>\n",
       "    </tr>\n",
       "    <tr>\n",
       "      <th>9</th>\n",
       "      <td>7.812456e+13</td>\n",
       "      <td>5629123</td>\n",
       "      <td>F</td>\n",
       "      <td>2016-04-27</td>\n",
       "      <td>2016-04-29</td>\n",
       "      <td>19.00000</td>\n",
       "      <td>CONQUISTA</td>\n",
       "      <td>0</td>\n",
       "      <td>0</td>\n",
       "      <td>0</td>\n",
       "      <td>0</td>\n",
       "      <td>0</td>\n",
       "      <td>0</td>\n",
       "      <td>1</td>\n",
       "      <td>2</td>\n",
       "    </tr>\n",
       "    <tr>\n",
       "      <th>10</th>\n",
       "      <td>7.345362e+14</td>\n",
       "      <td>5630213</td>\n",
       "      <td>F</td>\n",
       "      <td>2016-04-27</td>\n",
       "      <td>2016-04-29</td>\n",
       "      <td>37.09195</td>\n",
       "      <td>NOVA PALESTINA</td>\n",
       "      <td>0</td>\n",
       "      <td>0</td>\n",
       "      <td>0</td>\n",
       "      <td>0</td>\n",
       "      <td>0</td>\n",
       "      <td>0</td>\n",
       "      <td>1</td>\n",
       "      <td>2</td>\n",
       "    </tr>\n",
       "  </tbody>\n",
       "</table>\n",
       "</div>"
      ],
      "text/plain": [
       "       PatientId  AppointmentID Gender ScheduledDay AppointmentDay       Age  \\\n",
       "5   9.598513e+13        5626772      F   2016-04-27     2016-04-29  76.00000   \n",
       "6   7.336882e+14        5630279      F   2016-04-27     2016-04-29  23.00000   \n",
       "7   3.449833e+12        5630575      F   2016-04-27     2016-04-29  39.00000   \n",
       "9   7.812456e+13        5629123      F   2016-04-27     2016-04-29  19.00000   \n",
       "10  7.345362e+14        5630213      F   2016-04-27     2016-04-29  37.09195   \n",
       "\n",
       "     Neighbourhood  Scholarship  Hipertension  Diabetes  Alcoholism  Handcap  \\\n",
       "5        REPÚBLICA            0             1         0           0        0   \n",
       "6       GOIABEIRAS            0             0         0           0        0   \n",
       "7       GOIABEIRAS            0             0         0           0        0   \n",
       "9        CONQUISTA            0             0         0           0        0   \n",
       "10  NOVA PALESTINA            0             0         0           0        0   \n",
       "\n",
       "    SMS_received  Compareceu  time_delta  \n",
       "5              0           1           2  \n",
       "6              0           0           2  \n",
       "7              0           0           2  \n",
       "9              0           1           2  \n",
       "10             0           1           2  "
      ]
     },
     "execution_count": 34,
     "metadata": {},
     "output_type": "execute_result"
    }
   ],
   "source": [
    "df_filtrado = df_sem_dia0[df_sem_dia0['time_delta'] < q_high] # criação do novo dataframe filtrado, sem outliers\n",
    "df_filtrado.head() "
   ]
  },
  {
   "cell_type": "code",
   "execution_count": 36,
   "metadata": {},
   "outputs": [
    {
     "name": "stdout",
     "output_type": "stream",
     "text": [
      "Formato do DF com outliers: Linhas: 71981, Colunas: 15\n",
      "Formato do DF sem outliers: Linhas: 68336, Colunas: 15\n",
      "Foram retiradas 3645 consultas.\n"
     ]
    }
   ],
   "source": [
    "print(f'Formato do DF com outliers: Linhas: {df_sem_dia0.shape[0]}, Colunas: {df_sem_dia0.shape[1]}')\n",
    "print(f'Formato do DF sem outliers: Linhas: {df_filtrado.shape[0]}, Colunas: {df_filtrado.shape[1]}')\n",
    "print(f'Foram retiradas {df_sem_dia0.shape[0] - df_filtrado.shape[0]} consultas.')"
   ]
  },
  {
   "cell_type": "code",
   "execution_count": 38,
   "metadata": {},
   "outputs": [
    {
     "data": {
      "image/png": "[encoded data removed]",
      "text/plain": [
       "<Figure size 720x360 with 1 Axes>"
      ]
     },
     "metadata": {
      "needs_background": "light"
     },
     "output_type": "display_data"
    }
   ],
   "source": [
    "# cálculo do total de pessoas que compareceram e das que não compareceram \n",
    "compareceu = df_filtrado[df_filtrado['Compareceu'] == 1]['time_delta']\n",
    "n_compareceu = df_filtrado[df_filtrado['Compareceu'] == 0]['time_delta']\n",
    "\n",
    "plt.figure(figsize=(10,5))\n",
    "plt.hist(compareceu, bins=20, label='Compareceu')\n",
    "plt.hist(n_compareceu, bins=20, label='Não compareceu')\n",
    "plt.xlabel('Intervalo de Tempo entre a marcação e a consulta')\n",
    "plt.ylabel('Quantidade de Consultas')\n",
    "plt.title('Gráfico relacionando a presença e ausência dos pacientes em diferentes intervalos de tempo.')\n",
    "plt.xticks(np.arange(0, 50, 7))\n",
    "plt.legend()\n",
    "plt.show()"
   ]
  },
  {
   "cell_type": "markdown",
   "metadata": {},
   "source": [
    "- Percebe-se que a partir de um intervalo de tempo ~14 dias, ocorre uma maior taxa de ausentes às consultas. "
   ]
  },
  {
   "cell_type": "code",
   "execution_count": 75,
   "metadata": {},
   "outputs": [
    {
     "data": {
      "text/html": [
       "<div>\n",
       "<style scoped>\n",
       "    .dataframe tbody tr th:only-of-type {\n",
       "        vertical-align: middle;\n",
       "    }\n",
       "\n",
       "    .dataframe tbody tr th {\n",
       "        vertical-align: top;\n",
       "    }\n",
       "\n",
       "    .dataframe thead th {\n",
       "        text-align: right;\n",
       "    }\n",
       "</style>\n",
       "<table border=\"1\" class=\"dataframe\">\n",
       "  <thead>\n",
       "    <tr style=\"text-align: right;\">\n",
       "      <th></th>\n",
       "      <th>PatientId</th>\n",
       "      <th>AppointmentID</th>\n",
       "      <th>Age</th>\n",
       "      <th>Scholarship</th>\n",
       "      <th>Hipertension</th>\n",
       "      <th>Diabetes</th>\n",
       "      <th>Alcoholism</th>\n",
       "      <th>Handcap</th>\n",
       "      <th>SMS_received</th>\n",
       "      <th>time_delta</th>\n",
       "    </tr>\n",
       "    <tr>\n",
       "      <th>Compareceu</th>\n",
       "      <th></th>\n",
       "      <th></th>\n",
       "      <th></th>\n",
       "      <th></th>\n",
       "      <th></th>\n",
       "      <th></th>\n",
       "      <th></th>\n",
       "      <th></th>\n",
       "      <th></th>\n",
       "      <th></th>\n",
       "    </tr>\n",
       "  </thead>\n",
       "  <tbody>\n",
       "    <tr>\n",
       "      <th>0</th>\n",
       "      <td>1.464457e+14</td>\n",
       "      <td>5.657389e+06</td>\n",
       "      <td>34.567194</td>\n",
       "      <td>0.116293</td>\n",
       "      <td>0.170914</td>\n",
       "      <td>0.065431</td>\n",
       "      <td>0.031351</td>\n",
       "      <td>0.016422</td>\n",
       "      <td>0.470940</td>\n",
       "      <td>14.467851</td>\n",
       "    </tr>\n",
       "    <tr>\n",
       "      <th>1</th>\n",
       "      <td>1.444385e+14</td>\n",
       "      <td>5.668006e+06</td>\n",
       "      <td>39.558777</td>\n",
       "      <td>0.086781</td>\n",
       "      <td>0.224569</td>\n",
       "      <td>0.079013</td>\n",
       "      <td>0.024000</td>\n",
       "      <td>0.019033</td>\n",
       "      <td>0.491291</td>\n",
       "      <td>12.362601</td>\n",
       "    </tr>\n",
       "  </tbody>\n",
       "</table>\n",
       "</div>"
      ],
      "text/plain": [
       "               PatientId  AppointmentID        Age  Scholarship  Hipertension  \\\n",
       "Compareceu                                                                      \n",
       "0           1.464457e+14   5.657389e+06  34.567194     0.116293      0.170914   \n",
       "1           1.444385e+14   5.668006e+06  39.558777     0.086781      0.224569   \n",
       "\n",
       "            Diabetes  Alcoholism   Handcap  SMS_received  time_delta  \n",
       "Compareceu                                                            \n",
       "0           0.065431    0.031351  0.016422      0.470940   14.467851  \n",
       "1           0.079013    0.024000  0.019033      0.491291   12.362601  "
      ]
     },
     "execution_count": 75,
     "metadata": {},
     "output_type": "execute_result"
    }
   ],
   "source": [
    "df_filtrado.groupby('Compareceu').mean() # consultas com 1 ou mais dias de intervalo de tempo"
   ]
  },
  {
   "cell_type": "code",
   "execution_count": 78,
   "metadata": {},
   "outputs": [
    {
     "data": {
      "text/html": [
       "<div>\n",
       "<style scoped>\n",
       "    .dataframe tbody tr th:only-of-type {\n",
       "        vertical-align: middle;\n",
       "    }\n",
       "\n",
       "    .dataframe tbody tr th {\n",
       "        vertical-align: top;\n",
       "    }\n",
       "\n",
       "    .dataframe thead th {\n",
       "        text-align: right;\n",
       "    }\n",
       "</style>\n",
       "<table border=\"1\" class=\"dataframe\">\n",
       "  <thead>\n",
       "    <tr style=\"text-align: right;\">\n",
       "      <th></th>\n",
       "      <th>PatientId</th>\n",
       "      <th>AppointmentID</th>\n",
       "      <th>Age</th>\n",
       "      <th>Scholarship</th>\n",
       "      <th>Hipertension</th>\n",
       "      <th>Diabetes</th>\n",
       "      <th>Alcoholism</th>\n",
       "      <th>Handcap</th>\n",
       "      <th>SMS_received</th>\n",
       "      <th>time_delta</th>\n",
       "    </tr>\n",
       "    <tr>\n",
       "      <th>Compareceu</th>\n",
       "      <th></th>\n",
       "      <th></th>\n",
       "      <th></th>\n",
       "      <th></th>\n",
       "      <th></th>\n",
       "      <th></th>\n",
       "      <th></th>\n",
       "      <th></th>\n",
       "      <th></th>\n",
       "      <th></th>\n",
       "    </tr>\n",
       "  </thead>\n",
       "  <tbody>\n",
       "    <tr>\n",
       "      <th>0</th>\n",
       "      <td>1.499885e+14</td>\n",
       "      <td>5.621023e+06</td>\n",
       "      <td>32.341602</td>\n",
       "      <td>0.115346</td>\n",
       "      <td>0.139067</td>\n",
       "      <td>0.048342</td>\n",
       "      <td>0.026757</td>\n",
       "      <td>0.013153</td>\n",
       "      <td>0.551209</td>\n",
       "      <td>24.955818</td>\n",
       "    </tr>\n",
       "    <tr>\n",
       "      <th>1</th>\n",
       "      <td>1.447641e+14</td>\n",
       "      <td>5.626526e+06</td>\n",
       "      <td>36.855872</td>\n",
       "      <td>0.087681</td>\n",
       "      <td>0.184681</td>\n",
       "      <td>0.057296</td>\n",
       "      <td>0.020735</td>\n",
       "      <td>0.015220</td>\n",
       "      <td>0.629205</td>\n",
       "      <td>24.685563</td>\n",
       "    </tr>\n",
       "  </tbody>\n",
       "</table>\n",
       "</div>"
      ],
      "text/plain": [
       "               PatientId  AppointmentID        Age  Scholarship  Hipertension  \\\n",
       "Compareceu                                                                      \n",
       "0           1.499885e+14   5.621023e+06  32.341602     0.115346      0.139067   \n",
       "1           1.447641e+14   5.626526e+06  36.855872     0.087681      0.184681   \n",
       "\n",
       "            Diabetes  Alcoholism   Handcap  SMS_received  time_delta  \n",
       "Compareceu                                                            \n",
       "0           0.048342    0.026757  0.013153      0.551209   24.955818  \n",
       "1           0.057296    0.020735  0.015220      0.629205   24.685563  "
      ]
     },
     "execution_count": 78,
     "metadata": {},
     "output_type": "execute_result"
    }
   ],
   "source": [
    "df_mais14 = df_filtrado[df_filtrado['time_delta'] >= 14] # consultas só com mais de 14 dias\n",
    "df_mais14.groupby('Compareceu').mean()"
   ]
  },
  {
   "cell_type": "markdown",
   "metadata": {},
   "source": [
    "- Nesses conjuntos analisados, percebe-se que a média de idades dos faltantes é menor do que a de pessoas que compareceram às consultas (em torno de 10% menores).\n",
    "---\n",
    "- Por fim, analisou-se apenas os \"outliers\", ou seja, consultas com mais de 48 dias entre a marcação e a consulta em si"
   ]
  },
  {
   "cell_type": "code",
   "execution_count": 48,
   "metadata": {},
   "outputs": [
    {
     "data": {
      "text/html": [
       "<div>\n",
       "<style scoped>\n",
       "    .dataframe tbody tr th:only-of-type {\n",
       "        vertical-align: middle;\n",
       "    }\n",
       "\n",
       "    .dataframe tbody tr th {\n",
       "        vertical-align: top;\n",
       "    }\n",
       "\n",
       "    .dataframe thead th {\n",
       "        text-align: right;\n",
       "    }\n",
       "</style>\n",
       "<table border=\"1\" class=\"dataframe\">\n",
       "  <thead>\n",
       "    <tr style=\"text-align: right;\">\n",
       "      <th></th>\n",
       "      <th>PatientId</th>\n",
       "      <th>AppointmentID</th>\n",
       "      <th>Gender</th>\n",
       "      <th>ScheduledDay</th>\n",
       "      <th>AppointmentDay</th>\n",
       "      <th>Age</th>\n",
       "      <th>Neighbourhood</th>\n",
       "      <th>Scholarship</th>\n",
       "      <th>Hipertension</th>\n",
       "      <th>Diabetes</th>\n",
       "      <th>Alcoholism</th>\n",
       "      <th>Handcap</th>\n",
       "      <th>SMS_received</th>\n",
       "      <th>Compareceu</th>\n",
       "      <th>time_delta</th>\n",
       "    </tr>\n",
       "  </thead>\n",
       "  <tbody>\n",
       "    <tr>\n",
       "      <th>285</th>\n",
       "      <td>6.342844e+10</td>\n",
       "      <td>5430959</td>\n",
       "      <td>F</td>\n",
       "      <td>2016-03-04</td>\n",
       "      <td>2016-04-29</td>\n",
       "      <td>20.0</td>\n",
       "      <td>SANTA MARTHA</td>\n",
       "      <td>0</td>\n",
       "      <td>0</td>\n",
       "      <td>0</td>\n",
       "      <td>0</td>\n",
       "      <td>0</td>\n",
       "      <td>0</td>\n",
       "      <td>1</td>\n",
       "      <td>56</td>\n",
       "    </tr>\n",
       "    <tr>\n",
       "      <th>475</th>\n",
       "      <td>9.639166e+11</td>\n",
       "      <td>5452612</td>\n",
       "      <td>M</td>\n",
       "      <td>2016-03-10</td>\n",
       "      <td>2016-04-29</td>\n",
       "      <td>20.0</td>\n",
       "      <td>SÃO PEDRO</td>\n",
       "      <td>0</td>\n",
       "      <td>0</td>\n",
       "      <td>0</td>\n",
       "      <td>0</td>\n",
       "      <td>0</td>\n",
       "      <td>1</td>\n",
       "      <td>0</td>\n",
       "      <td>50</td>\n",
       "    </tr>\n",
       "    <tr>\n",
       "      <th>476</th>\n",
       "      <td>4.414826e+13</td>\n",
       "      <td>5408325</td>\n",
       "      <td>F</td>\n",
       "      <td>2016-02-29</td>\n",
       "      <td>2016-04-29</td>\n",
       "      <td>32.0</td>\n",
       "      <td>NOVA PALESTINA</td>\n",
       "      <td>0</td>\n",
       "      <td>0</td>\n",
       "      <td>0</td>\n",
       "      <td>0</td>\n",
       "      <td>0</td>\n",
       "      <td>1</td>\n",
       "      <td>0</td>\n",
       "      <td>60</td>\n",
       "    </tr>\n",
       "    <tr>\n",
       "      <th>696</th>\n",
       "      <td>6.441189e+14</td>\n",
       "      <td>5441632</td>\n",
       "      <td>F</td>\n",
       "      <td>2016-03-08</td>\n",
       "      <td>2016-04-29</td>\n",
       "      <td>69.0</td>\n",
       "      <td>JESUS DE NAZARETH</td>\n",
       "      <td>0</td>\n",
       "      <td>1</td>\n",
       "      <td>1</td>\n",
       "      <td>0</td>\n",
       "      <td>0</td>\n",
       "      <td>0</td>\n",
       "      <td>1</td>\n",
       "      <td>52</td>\n",
       "    </tr>\n",
       "    <tr>\n",
       "      <th>698</th>\n",
       "      <td>3.174757e+13</td>\n",
       "      <td>5435044</td>\n",
       "      <td>F</td>\n",
       "      <td>2016-03-07</td>\n",
       "      <td>2016-04-29</td>\n",
       "      <td>38.0</td>\n",
       "      <td>JESUS DE NAZARETH</td>\n",
       "      <td>0</td>\n",
       "      <td>0</td>\n",
       "      <td>0</td>\n",
       "      <td>1</td>\n",
       "      <td>0</td>\n",
       "      <td>1</td>\n",
       "      <td>0</td>\n",
       "      <td>53</td>\n",
       "    </tr>\n",
       "  </tbody>\n",
       "</table>\n",
       "</div>"
      ],
      "text/plain": [
       "        PatientId  AppointmentID Gender ScheduledDay AppointmentDay   Age  \\\n",
       "285  6.342844e+10        5430959      F   2016-03-04     2016-04-29  20.0   \n",
       "475  9.639166e+11        5452612      M   2016-03-10     2016-04-29  20.0   \n",
       "476  4.414826e+13        5408325      F   2016-02-29     2016-04-29  32.0   \n",
       "696  6.441189e+14        5441632      F   2016-03-08     2016-04-29  69.0   \n",
       "698  3.174757e+13        5435044      F   2016-03-07     2016-04-29  38.0   \n",
       "\n",
       "         Neighbourhood  Scholarship  Hipertension  Diabetes  Alcoholism  \\\n",
       "285       SANTA MARTHA            0             0         0           0   \n",
       "475          SÃO PEDRO            0             0         0           0   \n",
       "476     NOVA PALESTINA            0             0         0           0   \n",
       "696  JESUS DE NAZARETH            0             1         1           0   \n",
       "698  JESUS DE NAZARETH            0             0         0           1   \n",
       "\n",
       "     Handcap  SMS_received  Compareceu  time_delta  \n",
       "285        0             0           1          56  \n",
       "475        0             1           0          50  \n",
       "476        0             1           0          60  \n",
       "696        0             0           1          52  \n",
       "698        0             1           0          53  "
      ]
     },
     "execution_count": 48,
     "metadata": {},
     "output_type": "execute_result"
    }
   ],
   "source": [
    "df_filtrado_2 = df_sem_dia0[df_sem_dia0['time_delta'] >= q_high] # criação do novo dataframe filtrado só dos outliers\n",
    "df_filtrado_2.head() "
   ]
  },
  {
   "cell_type": "code",
   "execution_count": 50,
   "metadata": {},
   "outputs": [
    {
     "name": "stdout",
     "output_type": "stream",
     "text": [
      "Formato do DF com outliers: Linhas: 3645, Colunas: 15\n"
     ]
    }
   ],
   "source": [
    "print(f'Formato do DF com outliers: Linhas: {df_filtrado_2.shape[0]}, Colunas: {df_filtrado_2.shape[1]}')"
   ]
  },
  {
   "cell_type": "code",
   "execution_count": 51,
   "metadata": {},
   "outputs": [
    {
     "name": "stderr",
     "output_type": "stream",
     "text": [
      "C:\\Users\\felip\\AppData\\Local\\Temp\\ipykernel_6664\\3285286524.py:1: FutureWarning: The default value of numeric_only in DataFrameGroupBy.mean is deprecated. In a future version, numeric_only will default to False. Either specify numeric_only or select only columns which should be valid for the function.\n",
      "  df_filtrado_2.groupby('Compareceu').mean() # consultas com 1 ou mais dias de intervalo de tempo\n"
     ]
    },
    {
     "data": {
      "text/html": [
       "<div>\n",
       "<style scoped>\n",
       "    .dataframe tbody tr th:only-of-type {\n",
       "        vertical-align: middle;\n",
       "    }\n",
       "\n",
       "    .dataframe tbody tr th {\n",
       "        vertical-align: top;\n",
       "    }\n",
       "\n",
       "    .dataframe thead th {\n",
       "        text-align: right;\n",
       "    }\n",
       "</style>\n",
       "<table border=\"1\" class=\"dataframe\">\n",
       "  <thead>\n",
       "    <tr style=\"text-align: right;\">\n",
       "      <th></th>\n",
       "      <th>PatientId</th>\n",
       "      <th>AppointmentID</th>\n",
       "      <th>Age</th>\n",
       "      <th>Scholarship</th>\n",
       "      <th>Hipertension</th>\n",
       "      <th>Diabetes</th>\n",
       "      <th>Alcoholism</th>\n",
       "      <th>Handcap</th>\n",
       "      <th>SMS_received</th>\n",
       "      <th>time_delta</th>\n",
       "    </tr>\n",
       "    <tr>\n",
       "      <th>Compareceu</th>\n",
       "      <th></th>\n",
       "      <th></th>\n",
       "      <th></th>\n",
       "      <th></th>\n",
       "      <th></th>\n",
       "      <th></th>\n",
       "      <th></th>\n",
       "      <th></th>\n",
       "      <th></th>\n",
       "      <th></th>\n",
       "    </tr>\n",
       "  </thead>\n",
       "  <tbody>\n",
       "    <tr>\n",
       "      <th>0</th>\n",
       "      <td>1.497573e+14</td>\n",
       "      <td>5.470031e+06</td>\n",
       "      <td>39.645890</td>\n",
       "      <td>0.066847</td>\n",
       "      <td>0.196929</td>\n",
       "      <td>0.064137</td>\n",
       "      <td>0.010840</td>\n",
       "      <td>0.015357</td>\n",
       "      <td>0.578139</td>\n",
       "      <td>65.416441</td>\n",
       "    </tr>\n",
       "    <tr>\n",
       "      <th>1</th>\n",
       "      <td>1.505914e+14</td>\n",
       "      <td>5.468331e+06</td>\n",
       "      <td>47.808511</td>\n",
       "      <td>0.036643</td>\n",
       "      <td>0.202916</td>\n",
       "      <td>0.067376</td>\n",
       "      <td>0.010638</td>\n",
       "      <td>0.016548</td>\n",
       "      <td>0.661939</td>\n",
       "      <td>66.139086</td>\n",
       "    </tr>\n",
       "  </tbody>\n",
       "</table>\n",
       "</div>"
      ],
      "text/plain": [
       "               PatientId  AppointmentID        Age  Scholarship  Hipertension  \\\n",
       "Compareceu                                                                      \n",
       "0           1.497573e+14   5.470031e+06  39.645890     0.066847      0.196929   \n",
       "1           1.505914e+14   5.468331e+06  47.808511     0.036643      0.202916   \n",
       "\n",
       "            Diabetes  Alcoholism   Handcap  SMS_received  time_delta  \n",
       "Compareceu                                                            \n",
       "0           0.064137    0.010840  0.015357      0.578139   65.416441  \n",
       "1           0.067376    0.010638  0.016548      0.661939   66.139086  "
      ]
     },
     "execution_count": 51,
     "metadata": {},
     "output_type": "execute_result"
    }
   ],
   "source": [
    "df_filtrado_2.groupby('Compareceu').mean() # consultas com 1 ou mais dias de intervalo de tempo"
   ]
  },
  {
   "cell_type": "code",
   "execution_count": 68,
   "metadata": {},
   "outputs": [
    {
     "name": "stdout",
     "output_type": "stream",
     "text": [
      "Percebe-se uma taxa de comparecimento nessas consultas de: 69.63%.\n"
     ]
    }
   ],
   "source": [
    "f2_comparecimento = len(df_filtrado_2[df_filtrado_2['Compareceu'] == 1])\n",
    "\n",
    "print(f'Percebe-se uma taxa de comparecimento nessas consultas de: {(f2_comparecimento/len(df_filtrado_2)*100):.2f}%.')"
   ]
  },
  {
   "cell_type": "markdown",
   "metadata": {},
   "source": [
    "- Por fim, concluí-se que: \n",
    "    - As pessoas vão mais às consultas marcadas para o mesmo dia (~95%);\n",
    "    - Essa taxa possui uma **tendência de queda** com o __aumento do intervalo de tempo__ entre a marcação e a consulta;\n",
    "    - Para consultas com mais de **14 dias**, há uma **contribuição maior** do recebimento de SMS como alerta;\n",
    "    - Em geral, a média de idade das pessoas que comparecem às consultas é maior;\n",
    "    - Há uma tendência de usuários do bolsa família faltarem mais às consultas; \n",
    "    - Fatores como deficiência não parecem influenciar no comparecimento ou não às consultas."
   ]
  },
  {
   "cell_type": "code",
   "execution_count": null,
   "metadata": {},
   "outputs": [],
   "source": []
  }
 ],
 "metadata": {
  "kernelspec": {
   "display_name": "Python 3 (ipykernel)",
   "language": "python",
   "name": "python3"
  },
  "language_info": {
   "codemirror_mode": {
    "name": "ipython",
    "version": 3
   },
   "file_extension": ".py",
   "mimetype": "text/x-python",
   "name": "python",
   "nbconvert_exporter": "python",
   "pygments_lexer": "ipython3",
   "version": "3.10.6"
  },
  "vscode": {
   "interpreter": {
    "hash": "4862b6117f0c4f2d3c423ad4c6f1a3d4982cb92922697de8175871d687d88d5d"
   }
  }
 },
 "nbformat": 4,
 "nbformat_minor": 2
}
