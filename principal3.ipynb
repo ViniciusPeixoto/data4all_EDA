{
 "cells": [
  {
   "cell_type": "markdown",
   "metadata": {},
   "source": [
    "# <font color = 'black'> Análise exploratória de dados de assiduidade em consultas na cidade de Vitória - ES. </font> \n"
   ]
  },
  {
   "cell_type": "markdown",
   "metadata": {},
   "source": [
    "#   <font color = 'blue'> Grupo 1: </font> \n",
    "* Aline Carvalho\n",
    "* Camila Bianca\n",
    "* Felipe Cunha\n",
    "* Ivan Felipe \n",
    "* Mateus Brito\n",
    "* Vinícius Peixoto"
   ]
  },
  {
   "cell_type": "markdown",
   "metadata": {},
   "source": [
    "# <font color = 'blue'> Dicionário de Dados: </font> \n",
    "\n",
    "## Este conjunto de dados contém informações sobre as consultas médicas marcadas em clínicas no Brasil e se os pacientes compareceram ou não às consultas.\n",
    "\n",
    "### O conjunto de dados inclui as seguintes colunas:\n",
    "\n",
    "* PatientId: identificador único do paciente\n",
    "* AppointmentID: identificador único da consulta\n",
    "* Gender: gênero do paciente (Feminino/Masculino)\n",
    "* ScheduledDay: data em que a consulta foi marcada\n",
    "* AppointmentDay: data da consulta\n",
    "* Age: idade do paciente\n",
    "* Neighbourhood: nome do bairro onde a consulta ocorrerá\n",
    "* Scholarship: indica se o paciente faz parte do programa Bolsa Família (0 = não, 1 = sim)\n",
    "* Hipertension: indica se o paciente tem hipertensão (0 = não, 1 = sim)\n",
    "* Diabetes: indica se o paciente tem diabetes (0 = não, 1 = sim)\n",
    "* Alcoholism: indica se o paciente tem problemas com álcool (0 = não, 1 = sim)\n",
    "* Handcap: indica se o paciente é deficiente (0 = não, 1 = sim)\n",
    "* SMS_received: indica se o paciente recebeu uma mensagem de lembrete da consulta (0 = não, 1 = sim)\n",
    "* No-show: indica se o paciente compareceu à consulta (No = sim, Yes = não)"
   ]
  },
  {
   "cell_type": "markdown",
   "metadata": {},
   "source": [
    "##  <font color = 'blue'>Perguntas a serem respondidas:  </font>\n",
    "### Ação combativa\n",
    "- Qual o impacto do recebimento do SMS em cada grupo?\n",
    "  - Geral \n",
    "  - Problemas de saúde\n",
    "  - Idade\n",
    "  - PCD\n",
    "\n",
    "### Ação paliativa\n",
    "- Qual a faixa etária mais assídua e a mais ausente? \n",
    "- Qual(is) o(s) bairro(s) de pessoas menos assíduas? \n",
    "- Quais os problemas de saúde das pessoas menos assíduas? \n",
    "- intervalo de tempo entre o dia da marcação e o dia da consulta em si.\n"
   ]
  },
  {
   "cell_type": "code",
   "execution_count": null,
   "metadata": {},
   "outputs": [],
   "source": [
    "import pandas as pd\n",
    "import numpy as np\n",
    "import matplotlib.pyplot as plt\n",
    "import warnings\n",
    "from tqdm import tqdm\n",
    "\n",
    "tqdm.pandas(desc='progress')\n",
    "warnings.filterwarnings(\"ignore\")\n"
   ]
  },
  {
   "cell_type": "code",
   "execution_count": null,
   "metadata": {},
   "outputs": [],
   "source": [
    "# fonte: https://www.kaggle.com/datasets/sarvaninandipati/brazils-medical-appointment-show-or-no-show\n",
    "df = pd.read_excel('appointment_prediction_data.xlsx')\n",
    "\n",
    "# fonte: Vitória (Censo e UDH) - Atlas do Desenvolvimento Humano no Brasil - Ipea (https://dados.gov.br/dados/conjuntos-dados/atlasbrasil)\n",
    "aux = pd.read_csv('RM_63200_Vitória_Base_UDH_2000_2010.csv')"
   ]
  },
  {
   "cell_type": "code",
   "execution_count": null,
   "metadata": {},
   "outputs": [],
   "source": [
    "def uppercase(x):\n",
    "    return str(x).upper()\n",
    "\n",
    "# usado somente nome dos bairros e a renda per capta deles\n",
    "aux['NOME_UDH'] = aux['NOME_UDH'].progress_apply(lambda x: uppercase(x))\n",
    "dados_renda_per_capta = aux[['NOME_UDH', 'RDPC']]\n",
    "dados_renda_per_capta = dados_renda_per_capta.groupby('NOME_UDH').mean().reset_index()\n",
    "\n",
    "# fonte: Plano Municipal de Saúde 2022-2025 Vitória - 2022 (https://m.vitoria.es.gov.br/download.php?tipo=1&id=3521)\n",
    "regioes_saude = {\n",
    "    'CONTINENTAL': ['AEROPORTO','ANTÔNIO HONÓRIO','BOA VISTA','JABOUR','JARDIM CAMBURI',\n",
    "                    'JARDIM DA PENHA','MARIA ORTIZ','MATA DA PRAIA','MORADA DE CAMBURI',\n",
    "                    'PONTAL DE CAMBURI','REPÚBLICA','SEGURANÇA DO LAR','SOLON BORGES',\n",
    "                    'GOIABEIRAS', 'PARQUE INDUSTRIAL'],\n",
    "    'CENTRO': ['CENTRO','DO CABRAL','DO MOSCOSO','DO QUADRO','FONTE GRANDE',\n",
    "                     'ILHA DO PRÍNCIPE','PARQUE MOSCOSO','PIEDADE','SANTA CLARA',\n",
    "                     'SANTA TEREZA','VILA RUBIM'],\n",
    "    'SANTO ANTÔNIO': ['ARIOVALDO FAVALESSA','BELA VISTA','CARATOÍRA','ESTRELINHA',\n",
    "                      'GRANDE VITÓRIA','INHANGUETÁ','MÁRIO CYPRESTE','SANTO ANTÔNIO',\n",
    "                      'UNIVERSITÁRIO'],\n",
    "    'MARUÍPE': ['ANDORINHAS','BONFIM','CONSOLAÇÃO','DA PENHA','DE LOURDES','GURIGICA',\n",
    "                'HORTO','ITARARÉ','JOANA D\\'ARC','MARUÍPE','SANTA CECÍLIA','SANTA MARTHA',\n",
    "                'SANTOS DUMONT','SÃO BENEDITO','SÃO CRISTÓVÃO','TABUAZEIRO'],\n",
    "    'SÃO PEDRO': ['COMDUSA','CONQUISTA','ILHA DAS CAIEIRAS','NOVA PALESTINA','REDENÇÃO',\n",
    "                  'RESISTÊNCIA','SANTO ANDRÉ','SANTOS REIS','SÃO JOSÉ','SÃO PEDRO'],\n",
    "    'FORTE SÃO JOÃO': ['BARRO VERMELHO','BENTO FERREIRA','CRUZAMENTO','ENSEADA DO SUÁ',\n",
    "                       'FORTE SÃO JOÃO','FRADINHOS','MONTE BELO','ILHA DE SANTA MARIA',\n",
    "                       'ILHA DO BOI','ILHA DO FRADE','JESUS DE NAZARETH','JUCUTUQUARA',\n",
    "                       'NAZARETH','PRAIA DO CANTO','PRAIA DO SUÁ','ROMÃO','SANTA HELENA',\n",
    "                       'SANTA LÚCIA','SANTA LUÍZA', 'ILHAS OCEÂNICAS DE TRINDADE']\n",
    "}\n",
    "\n",
    "# funções auxiliares\n",
    "def regiao_saude(bairro):\n",
    "    for regiao, bairros in regioes_saude.items():\n",
    "        if bairro in bairros:\n",
    "            return regiao\n",
    "\n",
    "def get_renda(bairro):\n",
    "    renda = []\n",
    "    for idx, row in dados_renda_per_capta.iterrows():\n",
    "        if bairro in row['NOME_UDH']:\n",
    "            renda.append(row['RDPC'])\n",
    "    if not renda:\n",
    "        return 0\n",
    "    return sum(renda)/len(renda)"
   ]
  },
  {
   "cell_type": "code",
   "execution_count": null,
   "metadata": {
    "scrolled": false
   },
   "outputs": [],
   "source": [
    "# remover linhas duplicadas\n",
    "df.drop_duplicates(subset='AppointmentID', keep='first')\n",
    "\n",
    "# alterar coluna \"No-show\" para algo mais intuitivo\n",
    "df['No-show'].replace({'Yes': 0, 'No': 1}, inplace=True)\n",
    "df.rename(columns={'No-show': 'Compareceu'}, inplace=True)\n",
    "\n",
    "# corrigir gêneros\n",
    "df['Gender'].replace({'Female':'F','Male':'M'}, inplace=True)\n",
    "\n",
    "# corrigir bairros\n",
    "df['Neighbourhood'].replace({'RESIST√äNCIA':'RESISTÊNCIA','REP√öBLICA':'REPÚBLICA','S√ÉO PEDRO':'SÃO PEDRO',\n",
    "                             'S√ÉO CRIST√ìV√ÉO':'SÃO CRISTÓVÃO','MARU√çPE':'MARUÍPE','GRANDE VIT√ìRIA':'GRANDE VITÓRIA',\n",
    "                             'S√ÉO BENEDITO':'SÃO BENEDITO','SANTO ANDR√â':'SANTO ANDRÉ','ANT√îNIO HON√ìRIO':'ANTÔNIO HONÓRIO',\n",
    "                             'M√ÅRIO CYPRESTE':'MÁRIO CYPRESTE','SANTO ANT√îNIO':'SANTO ANTÔNIO','PRAIA DO SU√Å':'PRAIA DO SUÁ',\n",
    "                             'ITARAR√â':'ITARARÉ','INHANGUET√Å':'INHANGUETÁ','UNIVERSIT√ÅRIO':'UNIVERSITÁRIO',\n",
    "                             'S√ÉO JOS√â':'SÃO JOSÉ','REDEN√á√ÉO':'REDENÇÃO','CARATO√çRA':'CARATOÍRA',\n",
    "                             'ILHA DO PR√çNCIPE': 'ILHA DO PRÍNCIPE','ROM√ÉO': 'ROMÃO', 'FORTE S√ÉO JO√ÉO': 'FORTE SÃO JOÃO',\n",
    "                             'JOANA D¬¥ARC': 'JOANA D\\'ARC','CONSOLA√á√ÉO': 'CONSOLAÇÃO', 'SANTA CEC√çLIA': 'SANTA CECÍLIA',\n",
    "                             'SANTA L√öCIA': 'SANTA LÚCIA','SANTA LU√çZA': 'SANTA LUÍZA', 'SEGURAN√áA DO LAR': 'SEGURANÇA DO LAR',\n",
    "                             'Tabuazerio': 'TABUAZEIRO','ILHAS OCE√ÇNICAS DE TRINDADE': 'ILHAS OCEÂNICAS DE TRINDADE',\n",
    "                             'ENSEADA DO SU√Å': 'ENSEADA DO SUÁ', 'DE LOURDE': 'DE LOURDES'}, inplace=True)\n",
    "df['Neighbourhood'] = df.Neighbourhood.str.upper()\n",
    "\n",
    "# adicionar macro-regiões de saúde\n",
    "df['Regiao_Saude'] = df['Neighbourhood'].progress_apply(lambda x: regiao_saude(x))\n",
    "\n",
    "# adicionar tempo entre 'dia que marcou a consulta' e 'dia da consulta'\n",
    "df['AppointmentDay'] = pd.to_datetime(df['AppointmentDay']).dt.date\n",
    "df['ScheduledDay'] = pd.to_datetime(df['ScheduledDay']).dt.date\n",
    "df['time_delta'] = (df['AppointmentDay'] - df['ScheduledDay']).dt.days\n",
    "\n",
    "# adicionar renda média por bairro\n",
    "df['Renda'] = df['Neighbourhood'].progress_apply(lambda x: get_renda(x))"
   ]
  },
  {
   "cell_type": "markdown",
   "metadata": {},
   "source": [
    "# Percentual de comparecimento "
   ]
  },
  {
   "cell_type": "code",
   "execution_count": null,
   "metadata": {},
   "outputs": [],
   "source": [
    "foram_percent = df['Compareceu'].mean()\n",
    "faltaram_percent = (100 - foram_percent)  \n",
    "\n",
    "print(f'A assiduidade nas consultas foi de {foram_percent:.2f}%. Ausência de {faltaram_percent:.2f}%. ')"
   ]
  },
  {
   "cell_type": "markdown",
   "metadata": {},
   "source": [
    "### Percentual de comparecimento após o dia 0"
   ]
  },
  {
   "cell_type": "code",
   "execution_count": null,
   "metadata": {},
   "outputs": [],
   "source": [
    "# criando dataframe com os dias maiores que zero\n",
    "df_sem_dia0 = df[df['time_delta'] > 0] \n",
    "presenca_sem_dia0 = len(df_sem_dia0[df_sem_dia0['Compareceu']==1])\n",
    "# Verificando quantas consultas foram marcadas para o mesmo dia e criando um dataframe com essas consultas\n",
    "consultas_mais_1dia=len(df_sem_dia0)\n",
    "total_consultas=len(df['time_delta'])\n",
    "\n",
    "print(f'Total de consultas marcadas com um ou mais de um dia de intervalo: {consultas_mais_1dia}.')\n",
    "print(f'Total de consultas: {total_consultas}.')\n",
    "print('\\nRelação das pessoas que compareceram, com exceção do dia 0, à consulta (1 - Sim, 0 - Não):')\n",
    "print(df_sem_dia0['Compareceu'].value_counts())\n",
    "print(f'\\nFormato do novo DataFrame: Linhas: {df_sem_dia0.shape[0]}, Colunas: {df_sem_dia0.shape[1]}')\n",
    "print(f'Percentual de consultas marcadas para um intervalo de tempo maior que um dia: {consultas_mais_1dia/total_consultas*100:.2f}%.')\n",
    "print(f'\\n{presenca_sem_dia0} presenças')\n",
    "print(f'Percentual de presença nessas consultas: {presenca_sem_dia0/len(df_sem_dia0)*100:.2f}%.')\n"
   ]
  },
  {
   "cell_type": "markdown",
   "metadata": {},
   "source": [
    "### percentual de ausencia pelo sexo biológico, coluna 'Gender'\n"
   ]
  },
  {
   "cell_type": "code",
   "execution_count": null,
   "metadata": {},
   "outputs": [],
   "source": [
    "df.groupby('Gender')['Compareceu'].mean()"
   ]
  },
  {
   "cell_type": "markdown",
   "metadata": {},
   "source": [
    "### percentual de ausencia entre os benificiários do bolsa família\n"
   ]
  },
  {
   "cell_type": "code",
   "execution_count": null,
   "metadata": {},
   "outputs": [],
   "source": [
    "# percentual de ausencia entre os benificiários do bolsa família\n",
    "df.groupby('Scholarship')['Compareceu'].mean()"
   ]
  },
  {
   "cell_type": "markdown",
   "metadata": {},
   "source": [
    "### percentual de ausência entre o grupo PCD\n"
   ]
  },
  {
   "cell_type": "code",
   "execution_count": null,
   "metadata": {},
   "outputs": [],
   "source": [
    "df['Handcap'].replace(to_replace = (2 ,3 ,4), value = 1 , inplace = True)\n",
    "#df['Handcap'].value_counts()\n",
    "\n",
    "df.groupby('Handcap')['Compareceu'].mean() # bronze"
   ]
  },
  {
   "cell_type": "markdown",
   "metadata": {},
   "source": [
    "### percentual de ausência entre os pacientes com problemas com álcool\n"
   ]
  },
  {
   "cell_type": "code",
   "execution_count": null,
   "metadata": {},
   "outputs": [],
   "source": [
    "# percentual de ausência entre os alcoólótras\n",
    "df.groupby('Alcoholism')['Compareceu'].mean()"
   ]
  },
  {
   "cell_type": "markdown",
   "metadata": {},
   "source": [
    "### percentual de ausência entre os diabéticos\n"
   ]
  },
  {
   "cell_type": "code",
   "execution_count": null,
   "metadata": {},
   "outputs": [],
   "source": [
    "# percentual de ausência entre os diabéticos\n",
    "df.groupby('Diabetes')['Compareceu'].mean() # medalha de prata em assiduidade"
   ]
  },
  {
   "cell_type": "markdown",
   "metadata": {},
   "source": [
    "### percentual de ausência entre os hipertensos\n"
   ]
  },
  {
   "cell_type": "code",
   "execution_count": null,
   "metadata": {},
   "outputs": [],
   "source": [
    "# percentual de ausência entre os hipertensos\n",
    "df.groupby('Hipertension')['Compareceu'].mean() # campeões em assiduidade"
   ]
  },
  {
   "cell_type": "markdown",
   "metadata": {},
   "source": [
    "### Percentual de ausência entre os pacientes que receberam mensagem de lembrete pelo SMS\n"
   ]
  },
  {
   "cell_type": "code",
   "execution_count": null,
   "metadata": {},
   "outputs": [],
   "source": [
    "# percentual de ausência entre os pacientes que receberam mensagem de lembrete pelo SMS\n",
    "df.groupby('SMS_received')['Compareceu'].mean()\n",
    "\n",
    "# percebe-se que quem recebe sms tende a faltar mais do que o grupo q não recebeu"
   ]
  },
  {
   "cell_type": "markdown",
   "metadata": {},
   "source": [
    "## Faixa etária\n"
   ]
  },
  {
   "cell_type": "code",
   "execution_count": null,
   "metadata": {},
   "outputs": [],
   "source": [
    "#criar uma coluna de faixa etária\n",
    "df['Faixa etaria']=pd.cut(df['Age'], bins=[-1,12,18,30,60,125], labels=['Crianças','Adolescentes','Adultons Jovens','Adultos','Idosos'])\n"
   ]
  },
  {
   "cell_type": "code",
   "execution_count": null,
   "metadata": {},
   "outputs": [],
   "source": [
    "# verifica criação de nova coluna faixa etária\n",
    "df.head(10)"
   ]
  },
  {
   "cell_type": "markdown",
   "metadata": {},
   "source": [
    " ### Qual a faixa etária mais assídua e a mais ausente? "
   ]
  },
  {
   "cell_type": "code",
   "execution_count": null,
   "metadata": {
    "scrolled": true
   },
   "outputs": [],
   "source": [
    "# agrupa em ordem decrescente a assiduidade por faixa etária\n",
    "df.groupby('Faixa etaria')['Compareceu'].mean().sort_values(ascending=False)"
   ]
  },
  {
   "cell_type": "markdown",
   "metadata": {},
   "source": [
    "### qual faixa etária é mais acometida com problemas com álcool? \n"
   ]
  },
  {
   "cell_type": "code",
   "execution_count": null,
   "metadata": {},
   "outputs": [],
   "source": [
    "df.groupby('Faixa etaria')['Alcoholism'].mean().sort_values(ascending=False)"
   ]
  },
  {
   "cell_type": "markdown",
   "metadata": {},
   "source": [
    "### qual faixa etária é mais acometida pelo diabetes? \n"
   ]
  },
  {
   "cell_type": "code",
   "execution_count": null,
   "metadata": {},
   "outputs": [],
   "source": [
    "df.groupby('Faixa etaria')['Diabetes'].mean().sort_values(ascending=False)"
   ]
  },
  {
   "cell_type": "markdown",
   "metadata": {},
   "source": [
    "### qual faixa etária é mais acometida pelo hipertensão? "
   ]
  },
  {
   "cell_type": "code",
   "execution_count": null,
   "metadata": {},
   "outputs": [],
   "source": [
    "df.groupby('Faixa etaria')['Hipertension'].mean().sort_values(ascending=False)"
   ]
  },
  {
   "cell_type": "markdown",
   "metadata": {},
   "source": [
    "# Bairros: "
   ]
  },
  {
   "cell_type": "markdown",
   "metadata": {},
   "source": [
    "### Qual(ais) bairros mais assíduos ? "
   ]
  },
  {
   "cell_type": "code",
   "execution_count": null,
   "metadata": {},
   "outputs": [],
   "source": [
    "df.groupby('Neighbourhood')['Compareceu'].mean().sort_values(ascending=False)\n",
    "# Os últimos são os bairros de pacientes com maior ausência em consultas"
   ]
  },
  {
   "cell_type": "markdown",
   "metadata": {},
   "source": [
    "###  Qual(is) bairro(s) detém maior número de beneficiários do programa Bolsa família?\n"
   ]
  },
  {
   "cell_type": "code",
   "execution_count": null,
   "metadata": {},
   "outputs": [],
   "source": [
    "df.groupby('Neighbourhood')['Scholarship'].mean().sort_values(ascending=False)\n"
   ]
  },
  {
   "cell_type": "markdown",
   "metadata": {},
   "source": [
    "### Qual(is) bairro(s) detém maior número de pacientes com problemas com álcool? "
   ]
  },
  {
   "cell_type": "code",
   "execution_count": null,
   "metadata": {},
   "outputs": [],
   "source": [
    "df.groupby('Neighbourhood')['Alcoholism'].mean().sort_values(ascending=False)\n"
   ]
  },
  {
   "cell_type": "markdown",
   "metadata": {},
   "source": [
    "### Qual(is) bairro(s) detém maior número de hipertensos? "
   ]
  },
  {
   "cell_type": "code",
   "execution_count": null,
   "metadata": {},
   "outputs": [],
   "source": [
    "df.groupby('Neighbourhood')['Hipertension'].mean().sort_values(ascending=False)\n"
   ]
  },
  {
   "cell_type": "markdown",
   "metadata": {},
   "source": [
    "### Qual(is) bairro(s) detém maior número de diabéticos? "
   ]
  },
  {
   "cell_type": "code",
   "execution_count": null,
   "metadata": {},
   "outputs": [],
   "source": [
    "df.groupby('Neighbourhood')['Diabetes'].mean().sort_values(ascending=False)\n"
   ]
  },
  {
   "cell_type": "markdown",
   "metadata": {},
   "source": [
    "## Em comparação ao grupo não-PCD, o grupo com deficiência compareceu mais nas consultas."
   ]
  },
  {
   "cell_type": "code",
   "execution_count": null,
   "metadata": {},
   "outputs": [],
   "source": [
    "df.groupby(['Handcap'])['Compareceu'].mean() "
   ]
  },
  {
   "cell_type": "markdown",
   "metadata": {},
   "source": [
    "### Quantas consultas foram marcadas para cada especialidade?"
   ]
  },
  {
   "cell_type": "code",
   "execution_count": null,
   "metadata": {},
   "outputs": [],
   "source": [
    "\n",
    "df_pcd = df.loc[df['Handcap']==1]\n",
    "\n",
    "\n",
    "hipertensos_pcd = df_pcd.loc[df_pcd['Hipertension']==1]\n",
    "alcolismo_pcd = df_pcd.loc[df_pcd['Alcoholism']==1]\n",
    "diabetes_pcd = df_pcd.loc[df_pcd['Diabetes']==1]\n",
    "\n",
    "print(f'Foram {len(alcolismo_pcd)} consultas marcadas para Alcoolismo no grupo PCD')\n",
    "print(f'Foram {len(diabetes_pcd)} consultas marcadas para Diabetes no grupo PCD')\n",
    "print(f'Foram {len(hipertensos_pcd)} consultas marcadas para Hipertensão no grupo PCD')\n"
   ]
  },
  {
   "cell_type": "markdown",
   "metadata": {},
   "source": [
    "### Qual gênero compareceu mais nas consultas marcadas no grupo PCD? Genero Masculino\n"
   ]
  },
  {
   "cell_type": "code",
   "execution_count": null,
   "metadata": {},
   "outputs": [],
   "source": [
    "df_pcd.groupby('Gender')['Compareceu'].mean()"
   ]
  },
  {
   "cell_type": "markdown",
   "metadata": {},
   "source": [
    "### Qual a faixa etária que mais compareceu nas consultas marcadas?"
   ]
  },
  {
   "cell_type": "code",
   "execution_count": null,
   "metadata": {},
   "outputs": [],
   "source": [
    "df_pcd['Faixa etaria'] = pd.cut(df_pcd['Age'],bins=[-1,12,18,30,60,125],labels=['Crianças','Adolescentes','Jovens Adultos','Adultos','Idosos'])\n",
    "df_pcd.groupby(['Faixa etaria'])['Compareceu'].mean().sort_values(ascending=False)"
   ]
  },
  {
   "cell_type": "markdown",
   "metadata": {},
   "source": [
    "## No geral, incluindo TODAS as consultas, até as imediatas, receber o sms não impactou o grupo PCD, porém se isolarmos as consultas imediatas vemos que sim teve uma pequena diferença, e vamos ver isso mais a frente."
   ]
  },
  {
   "cell_type": "code",
   "execution_count": null,
   "metadata": {},
   "outputs": [],
   "source": [
    "df_pcd.groupby(['SMS_received'])['Compareceu'].mean()"
   ]
  },
  {
   "cell_type": "markdown",
   "metadata": {},
   "source": [
    "## Alocando as respostas de comparecimentos em grupos de:\n",
    "### Recebeu o sms - 1. Não recebeu o sms - 0.<br>\n",
    "\n",
    "## E separando o grupo por consultas realizadas a partir de 3 dias de marcação temos os seguintes resultados:"
   ]
  },
  {
   "cell_type": "markdown",
   "metadata": {},
   "source": [
    "### No grupo de consultas marcadas para \"Diabetes\" houve um aumento de 7% no comparecimento de quem recebeu o lembrete por sms."
   ]
  },
  {
   "cell_type": "code",
   "execution_count": null,
   "metadata": {},
   "outputs": [],
   "source": [
    "\n",
    "sms_diabetes_pcd = diabetes_pcd.loc[(diabetes_pcd['time_delta']>2)]\n",
    "sms_diabetes_pcd.groupby(['SMS_received'])['Compareceu'].mean()"
   ]
  },
  {
   "cell_type": "markdown",
   "metadata": {},
   "source": [
    "### No grupo de consultas marcadas para \"Hipertensão\" houve um aumento de 8% no comparecimento de quem recebeu o lembrete por sms. "
   ]
  },
  {
   "cell_type": "code",
   "execution_count": null,
   "metadata": {},
   "outputs": [],
   "source": [
    "\n",
    "sms_hipertensao = hipertensos_pcd.loc[(hipertensos_pcd['time_delta']>2)]\n",
    "sms_hipertensao.groupby(['SMS_received'])['Compareceu'].mean()"
   ]
  },
  {
   "cell_type": "markdown",
   "metadata": {},
   "source": [
    "### No grupo de consultas marcadas para \"Alcoolismo\" receber SMS não fez diferença.\n"
   ]
  },
  {
   "cell_type": "code",
   "execution_count": null,
   "metadata": {},
   "outputs": [],
   "source": [
    "sms_alcolismo_pcd = alcolismo_pcd.loc[(alcolismo_pcd['time_delta']>2)]\n",
    "sms_alcolismo_pcd.groupby(['SMS_received'])['Compareceu'].mean()"
   ]
  },
  {
   "cell_type": "markdown",
   "metadata": {},
   "source": [
    "### Será que com o tempo mais longo de espera de consulta há mais ausência de deficientes? \n",
    "### O nível de comparecimento é alto nos primeiros dias, mas quanto mais longe da data a consulta é marcada, as taxas de comparecimento diminuem."
   ]
  },
  {
   "cell_type": "code",
   "execution_count": null,
   "metadata": {},
   "outputs": [],
   "source": [
    "df_pcd.pivot_table(index='time_delta', aggfunc='count', values='Compareceu').plot(kind='bar', xticks= (np.arange(0,61,30)),figsize=(15,5), title = 'Comparecimento por tempo de espera pela consulta', xlabel = 'Dias depois da marcação')"
   ]
  },
  {
   "cell_type": "markdown",
   "metadata": {},
   "source": [
    "#### Solução: Quanto mais cedo as consultas forem marcadas, e tendo sido reforçados os lembretes por sms, a taxa de AUSÊNCIA do grupo PCD diminuirá."
   ]
  },
  {
   "cell_type": "markdown",
   "metadata": {},
   "source": [
    "# Mateus "
   ]
  },
  {
   "cell_type": "code",
   "execution_count": null,
   "metadata": {},
   "outputs": [],
   "source": [
    "df_3plus = df[df['time_delta'] > 3]\n",
    "df_3plus.head()"
   ]
  },
  {
   "cell_type": "code",
   "execution_count": null,
   "metadata": {},
   "outputs": [],
   "source": [
    "df_3plus['Neighbourhood'].value_counts().plot(kind='bar', figsize=(20, 6))\n",
    "plt.show()"
   ]
  },
  {
   "cell_type": "code",
   "execution_count": null,
   "metadata": {},
   "outputs": [],
   "source": [
    "df_3plus['Compareceu'].value_counts()\n"
   ]
  },
  {
   "cell_type": "code",
   "execution_count": null,
   "metadata": {},
   "outputs": [],
   "source": [
    "df_3plus['Compareceu'].value_counts().plot(kind='bar')\n",
    "plt.show()\n"
   ]
  },
  {
   "cell_type": "code",
   "execution_count": null,
   "metadata": {},
   "outputs": [],
   "source": [
    "df_3plus['Age'].hist(bins=50)\n",
    "plt.show()\n"
   ]
  },
  {
   "cell_type": "code",
   "execution_count": null,
   "metadata": {},
   "outputs": [],
   "source": [
    "df_3plus['Gender'].value_counts().plot(kind='pie', autopct='%1.1f%%')\n",
    "plt.show()\n"
   ]
  },
  {
   "cell_type": "code",
   "execution_count": null,
   "metadata": {},
   "outputs": [],
   "source": [
    "df_3plus.groupby('SMS_received')['Compareceu'].count().reset_index()"
   ]
  },
  {
   "cell_type": "code",
   "execution_count": null,
   "metadata": {},
   "outputs": [],
   "source": [
    "df_3plus.groupby(['SMS_received','Compareceu'])['PatientId'].count().reset_index()"
   ]
  },
  {
   "cell_type": "code",
   "execution_count": null,
   "metadata": {},
   "outputs": [],
   "source": [
    "df_3plus.groupby('AppointmentDayOfWeek')['Compareceu'].mean().sort_values(ascending=False)"
   ]
  },
  {
   "cell_type": "code",
   "execution_count": null,
   "metadata": {},
   "outputs": [],
   "source": [
    "df_3plus.groupby('ScheduledDayOfWeek')['Compareceu'].mean().sort_values(ascending=False)"
   ]
  },
  {
   "cell_type": "code",
   "execution_count": null,
   "metadata": {},
   "outputs": [],
   "source": [
    "df_3plus['ScheduledDayOfWeek'].value_counts().plot(kind='bar')"
   ]
  },
  {
   "cell_type": "code",
   "execution_count": null,
   "metadata": {},
   "outputs": [],
   "source": [
    "df_3plus['AppointmentDayOfWeek'].value_counts().plot(kind='bar')\n"
   ]
  },
  {
   "cell_type": "code",
   "execution_count": null,
   "metadata": {},
   "outputs": [],
   "source": [
    "sms_received_by_gender = df_3plus.groupby(['Gender', 'SMS_received'])['Compareceu'].mean().reset_index()"
   ]
  },
  {
   "cell_type": "code",
   "execution_count": null,
   "metadata": {},
   "outputs": [],
   "source": [
    "sms_received_by_gender"
   ]
  },
  {
   "cell_type": "code",
   "execution_count": null,
   "metadata": {},
   "outputs": [],
   "source": [
    "# Agrupar por faixa etária e comparecimento\n",
    "age_by_show = df_3plus.groupby(['Faixa etaria', 'Compareceu'])['PatientId'].count().unstack()\n",
    "\n",
    "# Criar subplot para cada faixa etária\n",
    "fig, axes = plt.subplots(nrows=2, ncols=3, figsize=(15,10))\n",
    "\n",
    "# Título principal\n",
    "fig.suptitle('Porcentagem de pacientes por faixa etária e comparecimento', fontsize=20)\n",
    "\n",
    "# Loop pelas faixas etárias\n",
    "for i, (index, data) in enumerate(age_by_show.iterrows()):\n",
    "    # Calcular porcentagem de comparecimento\n",
    "    total = data.sum()\n",
    "    compareceu = data[1]\n",
    "    porcentagem = compareceu / total * 100\n",
    "    \n",
    "    # Definir posição do subplot\n",
    "    row = i // 3\n",
    "    col = i % 3\n",
    "    ax = axes[row, col]\n",
    "    \n",
    "    # Plotar gráfico de pizza\n",
    "    data.plot(kind='pie', \n",
    "              ax=ax, \n",
    "              autopct='%1.1f%%', \n",
    "              labels=['Não Compareceu', 'Compareceu'],\n",
    "              title=f'{index} ({porcentagem:.1f}% compareceu)')\n",
    "    \n",
    "# Ajustar espaçamento entre subplots\n",
    "plt.subplots_adjust(hspace=0.5, wspace=0.5)\n",
    "\n",
    "# Exibir gráfico\n",
    "plt.show()\n"
   ]
  },
  {
   "cell_type": "markdown",
   "metadata": {},
   "source": [
    "<h1>Resultados do envio de SMS</h1>\n",
    "<h3>Introdução</h3>\n",
    "O envio de SMS para lembrar os pacientes de consultas médicas pode ser uma forma eficaz de melhorar a adesão ao tratamento e, consequentemente, a saúde do paciente. Nesta apresentação, iremos analisar os resultados da nossa campanha de envio de SMS para pacientes em Vitória-ES que têm consultas agendadas.\n",
    "\n",
    "<h3>Dados</h3>\n",
    "Os dados utilizados neste projeto foram obtidos a partir da base de dados 'Brazil's Medical Appointment - Show/No Show' disponível em https://www.kaggle.com/datasets/sarvaninandipati/brazils-medical-appointment-show-or-no-show. Nele existe a coluna de SMS e podemos relacionar com a coluna de comparecimento para analisar a eficácia dos sms.\n",
    "\n",
    "<h3>Processos</h3>\n",
    "Inicialmente, os dados mostravam que o SMS diminuia a taxa de comparecimento. Notamos que as consultas marcadas e realizadas no mesmo dia puxavam a taxa de comparecimento muito pra cima(aproximadamente 95% de comparecimento), e que as pessoas só começavam a receber SMS a partir de 3 dias de diferença da data da marcação para a realização da consulta. Então decidimos isolar esse caso pra fazer o estudo somente em pacientes que tenham um tempo de marcação e realização de consulta maior que 3 dias.\n"
   ]
  },
  {
   "cell_type": "code",
   "execution_count": null,
   "metadata": {},
   "outputs": [],
   "source": [
    "df_3plus = df[df['time_delta'] > 3]\n",
    "df_3plus.head()"
   ]
  },
  {
   "cell_type": "markdown",
   "metadata": {},
   "source": [
    "\n",
    "\n",
    "\n",
    "\n",
    "<h3>Resultados</h3>\n",
    "Os resultados mostram que a taxa de comparecimento dos pacientes que receberam o SMS foi 72,26%, enquanto a taxa de comparecimento dos pacientes que não receberam o SMS foi 66,65%.\n"
   ]
  },
  {
   "cell_type": "code",
   "execution_count": null,
   "metadata": {},
   "outputs": [],
   "source": [
    "df_3plus.groupby('SMS_received')['Compareceu'].mean().reset_index()"
   ]
  },
  {
   "cell_type": "markdown",
   "metadata": {},
   "source": [
    "\n",
    "Além disso, pudemos observar uma correlação entre o envio de SMS e a taxa de comparecimento dos pacientes. [Gráfico de barras ou outro tipo de gráfico que ilustre a correlação].\n"
   ]
  },
  {
   "cell_type": "code",
   "execution_count": null,
   "metadata": {},
   "outputs": [],
   "source": [
    "import matplotlib.pyplot as plt\n",
    "\n",
    "sms_comparecimento = df_3plus.groupby('SMS_received')['Compareceu'].mean().reset_index()\n",
    "\n",
    "plt.bar(sms_comparecimento['SMS_received'], sms_comparecimento['Compareceu'])\n",
    "plt.xlabel('Recebimento de SMS')\n",
    "plt.ylabel('Taxa de comparecimento')\n",
    "plt.xticks([0, 1], ['Não', 'Sim'])\n",
    "plt.title('Relação entre recebimento de SMS e comparecimento')\n",
    "plt.show()\n"
   ]
  },
  {
   "cell_type": "markdown",
   "metadata": {},
   "source": [
    "A taxa de comparecimento aumenta em todas as faixas etárias, porém precisamos achar algo pra aliar ao sms e aumentar o comprometimento dos adolescentes e adultos jovens. E a taxa para crianças é a mais beneficiada pelo uso do SMS. Sendo assim, é necessário usar a estratégia para princilpamente Crianças, Adolescentes e Adultos jovens."
   ]
  },
  {
   "cell_type": "code",
   "execution_count": null,
   "metadata": {},
   "outputs": [],
   "source": [
    "sms_by_age_show = df_3plus.groupby(['Faixa etaria', 'SMS_received'])['Compareceu'].mean().reset_index()\n",
    "sms_by_age_show"
   ]
  },
  {
   "cell_type": "markdown",
   "metadata": {},
   "source": [
    "A taxa de comparecimento dos homens é mais afetada que a das mulheres com o uso do SMS, a porcentagem de homens que comparecem com o recebimento do SMS fica levemente maior que a das mulheres, note que os homens tem uma taxa de comparecimento menor no geral."
   ]
  },
  {
   "cell_type": "code",
   "execution_count": null,
   "metadata": {},
   "outputs": [],
   "source": [
    "sms_received_by_gender = df_3plus.groupby(['Gender', 'SMS_received'])['Compareceu'].mean().reset_index()\n",
    "sms_received_by_gender"
   ]
  },
  {
   "cell_type": "code",
   "execution_count": null,
   "metadata": {},
   "outputs": [],
   "source": [
    "sms_received_by_gender = df_3plus.groupby(['Gender'])['Compareceu'].mean().reset_index()\n",
    "sms_received_by_gender"
   ]
  },
  {
   "cell_type": "markdown",
   "metadata": {},
   "source": [
    "\n",
    "\n",
    "\n",
    "É importante ressaltar que, embora esses cálculos possam nos dar uma ideia geral da eficácia do SMS, há muitos outros fatores que podem influenciar a decisão de um paciente de comparecer a uma consulta, como a gravidade da condição médica, o acesso ao transporte, o nível socioeconômico, entre outros. Portanto, esses cálculos devem ser interpretados com cautela e considerando o contexto.\n",
    "\n",
    "<h3>Conclusão</h3>\n",
    "Com base nos resultados da nossa análise, podemos concluir que o envio de SMS é uma estratégia eficaz para melhorar a adesão dos pacientes a consultas médicas, sendo ainda mais recomendada para homens, adultos jovens, adolescentes e pais de crianças. Recomendamos que esta estratégia seja adotada por outras instituições médicas em todo o país para melhorar a saúde da população e reduzir os custos com tratamentos médicos desnecessários."
   ]
  },
  {
   "cell_type": "markdown",
   "metadata": {},
   "source": [
    "# Vinícius"
   ]
  },
  {
   "attachments": {},
   "cell_type": "markdown",
   "metadata": {},
   "source": [
    "# Avaliação da presença nos bairros\n",
    "\n",
    "Primeiro, removemos as consultas que foram realizadas no mesmo dia, pois queremos ver a presença em consultas futuras."
   ]
  },
  {
   "cell_type": "code",
   "execution_count": null,
   "metadata": {},
   "outputs": [],
   "source": [
    "not_emergency = df.query('time_delta > 0')"
   ]
  },
  {
   "attachments": {},
   "cell_type": "markdown",
   "metadata": {},
   "source": [
    "Após isso, separamos as consultas por bairros, e verificamos a média de comparecimento por bairro."
   ]
  },
  {
   "cell_type": "code",
   "execution_count": null,
   "metadata": {},
   "outputs": [],
   "source": [
    "not_emergency.groupby(['Neighbourhood', 'Renda'])['Compareceu'].mean().sort_values(ascending=True)*100"
   ]
  },
  {
   "attachments": {},
   "cell_type": "markdown",
   "metadata": {},
   "source": [
    "É possível ver uma tendência de que bairros mais pobres tem uma taxa de ausência maior nas consultas.\n",
    "\n",
    "Podemos colocar essa representação visualmente em gráficos:"
   ]
  },
  {
   "cell_type": "code",
   "execution_count": null,
   "metadata": {},
   "outputs": [],
   "source": [
    "b_r_p = not_emergency.groupby(['Neighbourhood', 'Renda'])['Compareceu'].mean().sort_values(ascending=True)*100\n",
    "x = [b[0] for b in b_r_p.index]\n",
    "y = [b[1] for b in b_r_p.index]\n",
    "plt.figure(figsize=(20,2))\n",
    "plt.subplot(151)\n",
    "plt.plot(x, b_r_p.values)\n",
    "plt.subplot(152)\n",
    "plt.plot(x, y, )\n",
    "plt.show()"
   ]
  },
  {
   "attachments": {},
   "cell_type": "markdown",
   "metadata": {},
   "source": [
    "Fazendo a separação de acordo com as Regiões de Saúde, temos:"
   ]
  },
  {
   "cell_type": "code",
   "execution_count": null,
   "metadata": {},
   "outputs": [],
   "source": [
    "not_emergency.groupby('Regiao_Saude')['Renda'].mean().sort_values(ascending=True)"
   ]
  },
  {
   "cell_type": "markdown",
   "metadata": {},
   "source": [
    "# Aline"
   ]
  },
  {
   "cell_type": "markdown",
   "metadata": {},
   "source": [
    "# Data de agendamento:\n",
    "O objetivo é avaliar a relação entra a data de agendamento e a assiduidade dos pacientes, visando criar um indicador para estabelecimento de um perfil propenso a não comparecer as consultas"
   ]
  },
  {
   "cell_type": "code",
   "execution_count": null,
   "metadata": {},
   "outputs": [],
   "source": [
    "df_aux = pd.read_excel('appointment_prediction_data.xlsx')\n",
    "df_aux['No-show'].replace({'Yes': 0, 'No': 1}, inplace=True)\n",
    "\n",
    "df_aux.rename(columns={'No-show': 'Compareceu'}, inplace=True)"
   ]
  },
  {
   "cell_type": "code",
   "execution_count": null,
   "metadata": {},
   "outputs": [],
   "source": [
    "df_aux"
   ]
  },
  {
   "cell_type": "code",
   "execution_count": null,
   "metadata": {},
   "outputs": [],
   "source": [
    "df_aux['ScheduledDay'] = pd.to_datetime(df_aux['ScheduledDay'])\n",
    "df_aux['ScheduledDay_aux'] = pd.to_datetime(df_aux['ScheduledDay']).dt.date\n",
    "df_aux['AppointmentDay_aux'] = pd.to_datetime(df_aux['AppointmentDay']).dt.date\n",
    "df_aux['time_delta'] = (df_aux['AppointmentDay_aux'] - df_aux['ScheduledDay_aux']).dt.days\n",
    "df_aux"
   ]
  },
  {
   "cell_type": "code",
   "execution_count": null,
   "metadata": {},
   "outputs": [],
   "source": [
    "#Extração da hora em que foi agendada a consulta\n",
    "df_aux['ScheduledHour'] = df_aux.ScheduledDay.dt.strftime(\"%H\")\n",
    "df_aux"
   ]
  },
  {
   "cell_type": "markdown",
   "metadata": {},
   "source": [
    "Com base no gráfico abaixo é possível notar que pessoas que agendaram suas consultas no perído da manhã foram as mais assíduas"
   ]
  },
  {
   "cell_type": "code",
   "execution_count": null,
   "metadata": {},
   "outputs": [],
   "source": [
    "#Verificação da assiduidade por hora\n",
    "df_aux.groupby('ScheduledHour')['Compareceu'].mean().sort_values(ascending=False).plot()"
   ]
  },
  {
   "cell_type": "markdown",
   "metadata": {},
   "source": [
    "Com base no gráfico abaixo é possível notar que pessoas que agendaram suas consultas no sábado foram as mais assíduas"
   ]
  },
  {
   "cell_type": "code",
   "execution_count": null,
   "metadata": {},
   "outputs": [],
   "source": [
    "#Extração do dia da semana que foram realizadas os agendamentos\n",
    "df_aux['ScheduledWeekDay'] = df_aux.ScheduledDay.dt.day_name()\n",
    "df_aux.groupby('ScheduledWeekDay')['Compareceu'].mean().sort_values(ascending=False).plot()"
   ]
  },
  {
   "cell_type": "markdown",
   "metadata": {},
   "source": [
    "Afim de validar se o comportamento se repete desocnsiderando possíveis casos de emergências (consultas agendadas e realizadas no mesmo dia), refizemos a análise eliminando esses casos e podemos notar que o mesmo se repete"
   ]
  },
  {
   "cell_type": "code",
   "execution_count": null,
   "metadata": {},
   "outputs": [],
   "source": [
    "df_filtrado = df_aux[df_aux.time_delta > 0].copy()"
   ]
  },
  {
   "cell_type": "code",
   "execution_count": null,
   "metadata": {},
   "outputs": [],
   "source": [
    "#Extração da hora em que foi agendada a consulta\n",
    "df_filtrado['ScheduledHour'] = df_filtrado.ScheduledDay.dt.strftime(\"%H\")\n",
    "df_filtrado.groupby('ScheduledHour')['Compareceu'].mean().sort_values(ascending=False).plot()"
   ]
  },
  {
   "cell_type": "code",
   "execution_count": null,
   "metadata": {},
   "outputs": [],
   "source": [
    "df_filtrado['ScheduledWeekDay'] = df_filtrado.ScheduledDay.dt.day_name()\n",
    "df_filtrado.groupby('ScheduledWeekDay')['Compareceu'].mean().sort_values(ascending=False).plot()"
   ]
  },
  {
   "cell_type": "markdown",
   "metadata": {},
   "source": []
  },
  {
   "cell_type": "code",
   "execution_count": null,
   "metadata": {},
   "outputs": [],
   "source": []
  },
  {
   "cell_type": "markdown",
   "metadata": {},
   "source": [
    "# Felipe"
   ]
  },
  {
   "cell_type": "markdown",
   "metadata": {},
   "source": [
    "# Análise do tempo entre a marcação da consulta e a consulta em si\n",
    "\n",
    "- Felipe Cunha\n",
    "\n",
    "### Hipóteses e pontos a serem investigados: \n",
    "- Uma parte das consultas foi marcada para o mesmo dia e a taxa de comparecimento deve ser mais alta;\n",
    "- Quanto maior a diferença de tempo entre a marcação da consulta e a consulta, maior a taxa de ausentes;\n",
    "- Quanto maior a diferença de tempo, mais as pessoas recebem SMS para lembrar da consulta;\n",
    "    - E nesse caso, o recebimento de SMS faz com que aumente a taxa de presença?\n",
    "- Verificar também as outras variáveis em relação a faixas de intervalo de tempo"
   ]
  },
  {
   "cell_type": "markdown",
   "metadata": {},
   "source": [
    "### Análise das consultas marcadas para o mesmo dia"
   ]
  },
  {
   "cell_type": "code",
   "execution_count": null,
   "metadata": {},
   "outputs": [],
   "source": [
    "# Verificando quantas consultas foram marcadas para o mesmo dia e criando um dataframe com essas consultas\n",
    "consultas_mesmo_dia = df['time_delta'].value_counts()[0]\n",
    "total_consultas = len(df['time_delta'])\n",
    "\n",
    "df_dia0 = df[df['time_delta'] == 0]\n",
    "df_dia0['Compareceu'].value_counts()\n",
    "\n",
    "print(f'Total de consultas marcadas para o mesmo dia: {consultas_mesmo_dia}.')\n",
    "print(f'Total de consultas: {total_consultas}.')\n",
    "print('\\nRelação das pessoas que compareceram à consulta (1 - Sim, 0 - Não):')\n",
    "print(df_dia0['Compareceu'].value_counts())\n",
    "print(f'\\nFormato do novo DataFrame: Linhas: {df_dia0.shape[0]}, Colunas: {df_dia0.shape[1]}')"
   ]
  },
  {
   "cell_type": "code",
   "execution_count": null,
   "metadata": {},
   "outputs": [],
   "source": [
    "presenca_dia0 = df_dia0['Compareceu'].value_counts()[1] # Relação de pessoas que foram a consulta\n",
    "ausencia_dia0 = df_dia0['Compareceu'].value_counts()[0] # Relação de pessoas que não foram a consulta\n",
    "\n",
    "print(f'Percentual de consultas marcadas para o mesmo dia: {consultas_mesmo_dia/total_consultas*100:.2f}%.')\n",
    "print(f'Percentual de presença nessas consultas: {presenca_dia0/len(df_dia0)*100:.2f}%.')"
   ]
  },
  {
   "cell_type": "code",
   "execution_count": null,
   "metadata": {},
   "outputs": [],
   "source": [
    "df_dia0.groupby('Compareceu').mean() # Panorama geral dos dados para as consultas marcadas no mesmo dia"
   ]
  },
  {
   "cell_type": "markdown",
   "metadata": {},
   "source": [
    "##### Conclusões\n",
    "- Concluí-se que nesse tipo de consulta a taxa de comparecimento é bem alta (> 95%);\n",
    "- A média de idade para quem compareceu é de 35 anos, um pouco maior que a das pessoas que não compareceram (28 anos);\n",
    "- Fatores como receber ou não o bolsa família, doenças pré-existentes não parecem influenciar na presença ou ausência nas consultas;"
   ]
  },
  {
   "cell_type": "markdown",
   "metadata": {},
   "source": [
    "### Análise do restante dos dados, consultas com 1 ou mais dias de intervalo entre a marcação e a consulta"
   ]
  },
  {
   "cell_type": "code",
   "execution_count": null,
   "metadata": {},
   "outputs": [],
   "source": [
    "df_sem_dia0 = df[df['time_delta'] > 0] # criando o dataframe\n",
    "df_sem_dia0.head()"
   ]
  },
  {
   "cell_type": "code",
   "execution_count": null,
   "metadata": {},
   "outputs": [],
   "source": [
    "# Verificando quantas consultas foram marcadas com mais de um dia de intervalo e criando um dataframe com essas consultas\n",
    "consultas_mais_1dia = len(df_sem_dia0)\n",
    "\n",
    "print(f'Total de consultas marcadas com um ou mais de um dia de intervalo: {consultas_mais_1dia}.')\n",
    "print(f'Total de consultas: {total_consultas}.')\n",
    "print('\\nRelação das pessoas que compareceram à consulta (1 - Sim, 0 - Não):')\n",
    "print(df_sem_dia0['Compareceu'].value_counts())\n",
    "print(f'\\nFormato do novo DataFrame: Linhas: {df_sem_dia0.shape[0]}, Colunas: {df_sem_dia0.shape[1]}')"
   ]
  },
  {
   "cell_type": "code",
   "execution_count": null,
   "metadata": {},
   "outputs": [],
   "source": [
    "presenca_sem_dia0 = df_sem_dia0['Compareceu'].value_counts()[1] # Relação de pessoas que foram a consulta\n",
    "\n",
    "print(f'Percentual de consultas marcadas para um intervalo de tempo maior que um dia: {consultas_mais_1dia/total_consultas*100:.2f}%.')\n",
    "print(f'Percentual de presença nessas consultas: {presenca_sem_dia0/len(df_sem_dia0)*100:.2f}%.')"
   ]
  },
  {
   "cell_type": "markdown",
   "metadata": {},
   "source": [
    "##### Percebe-se uma queda em mais de 20% para consultas agendadas para dias posteriores. \n",
    "---\n",
    "##### Em seguida foi verificado o comportamento da variável relativa ao intervalo de tempo"
   ]
  },
  {
   "cell_type": "code",
   "execution_count": null,
   "metadata": {},
   "outputs": [],
   "source": [
    "plt.figure(figsize=(10,5))\n",
    "plt.hist(df_sem_dia0['time_delta'], bins=40) # histograma para ver a distribuição dos dados\n",
    "plt.xlabel('Intervalo de Tempo entre a marcação e a consulta')\n",
    "plt.ylabel('Quantidade de Consultas')\n",
    "plt.title('Distribuição das consultas em diferentes intervalos de tempo.')\n",
    "plt.show()"
   ]
  },
  {
   "cell_type": "markdown",
   "metadata": {},
   "source": [
    "- A partir do histograma, percebeu-se que a maioria das consultas estava concentrada em um intervalo de tempo de até 40 dias. \n",
    "- Em seguida foi verificado se haviam outliers para essa série de dados"
   ]
  },
  {
   "cell_type": "code",
   "execution_count": null,
   "metadata": {},
   "outputs": [],
   "source": [
    "plt.boxplot(df_sem_dia0['time_delta']) # boxplot para verificar a presença de outliers\n",
    "plt.xlabel('Intervalo de Tempo')\n",
    "plt.ylabel('Intervalo de Tempo em dias')\n",
    "plt.show()"
   ]
  },
  {
   "cell_type": "code",
   "execution_count": null,
   "metadata": {},
   "outputs": [],
   "source": [
    "q_high = df_sem_dia0['time_delta'].quantile(0.95) # Cálculo do limite máximo para retirada dos outliers em 95% de confiança\n",
    "q_high"
   ]
  },
  {
   "cell_type": "markdown",
   "metadata": {},
   "source": [
    "- Optou-se por retirar as consultas marcadas no mesmo dia e as com mais de 48 dias de intervalo para se fazer um estudo"
   ]
  },
  {
   "cell_type": "code",
   "execution_count": null,
   "metadata": {},
   "outputs": [],
   "source": [
    "df_filtrado = df_sem_dia0[df_sem_dia0['time_delta'] < q_high] # criação do novo dataframe filtrado, sem outliers\n",
    "df_filtrado.head() "
   ]
  },
  {
   "cell_type": "code",
   "execution_count": null,
   "metadata": {},
   "outputs": [],
   "source": [
    "print(f'Formato do DF com outliers: Linhas: {df_sem_dia0.shape[0]}, Colunas: {df_sem_dia0.shape[1]}')\n",
    "print(f'Formato do DF sem outliers: Linhas: {df_filtrado.shape[0]}, Colunas: {df_filtrado.shape[1]}')\n",
    "print(f'Foram retiradas {df_sem_dia0.shape[0] - df_filtrado.shape[0]} consultas.')"
   ]
  },
  {
   "cell_type": "code",
   "execution_count": null,
   "metadata": {},
   "outputs": [],
   "source": [
    "# cálculo do total de pessoas que compareceram e das que não compareceram \n",
    "compareceu = df_filtrado[df_filtrado['Compareceu'] == 1]['time_delta']\n",
    "n_compareceu = df_filtrado[df_filtrado['Compareceu'] == 0]['time_delta']\n",
    "\n",
    "plt.figure(figsize=(10,5))\n",
    "plt.hist(compareceu, bins=20, label='Compareceu')\n",
    "plt.hist(n_compareceu, bins=20, label='Não compareceu')\n",
    "plt.xlabel('Intervalo de Tempo entre a marcação e a consulta')\n",
    "plt.ylabel('Quantidade de Consultas')\n",
    "plt.title('Gráfico relacionando a presença e ausência dos pacientes em diferentes intervalos de tempo.')\n",
    "plt.xticks(np.arange(0, 50, 7))\n",
    "plt.legend()\n",
    "plt.show()"
   ]
  },
  {
   "cell_type": "markdown",
   "metadata": {},
   "source": [
    "- Percebe-se que a partir de um intervalo de tempo ~14 dias, ocorre uma maior taxa de ausentes às consultas. "
   ]
  },
  {
   "cell_type": "code",
   "execution_count": null,
   "metadata": {},
   "outputs": [],
   "source": [
    "df_filtrado.groupby('Compareceu').mean() # consultas com 1 ou mais dias de intervalo de tempo"
   ]
  },
  {
   "cell_type": "code",
   "execution_count": null,
   "metadata": {},
   "outputs": [],
   "source": [
    "df_mais14 = df_filtrado[df_filtrado['time_delta'] >= 14] # consultas só com mais de 14 dias\n",
    "df_mais14.groupby('Compareceu').mean()"
   ]
  },
  {
   "cell_type": "markdown",
   "metadata": {},
   "source": [
    "- Nesses conjuntos analisados, percebe-se que a média de idades dos faltantes é menor do que a de pessoas que compareceram às consultas (em torno de 10% menores).\n",
    "---\n",
    "- Por fim, analisou-se apenas os \"outliers\", ou seja, consultas com mais de 48 dias entre a marcação e a consulta em si"
   ]
  },
  {
   "cell_type": "code",
   "execution_count": null,
   "metadata": {},
   "outputs": [],
   "source": [
    "df_filtrado_2 = df_sem_dia0[df_sem_dia0['time_delta'] >= q_high] # criação do novo dataframe filtrado só dos outliers\n",
    "df_filtrado_2.head() "
   ]
  },
  {
   "cell_type": "code",
   "execution_count": null,
   "metadata": {},
   "outputs": [],
   "source": [
    "print(f'Formato do DF com outliers: Linhas: {df_filtrado_2.shape[0]}, Colunas: {df_filtrado_2.shape[1]}')"
   ]
  },
  {
   "cell_type": "code",
   "execution_count": null,
   "metadata": {},
   "outputs": [],
   "source": [
    "df_filtrado_2.groupby('Compareceu').mean() # consultas com 1 ou mais dias de intervalo de tempo"
   ]
  },
  {
   "cell_type": "code",
   "execution_count": null,
   "metadata": {},
   "outputs": [],
   "source": [
    "f2_comparecimento = len(df_filtrado_2[df_filtrado_2['Compareceu'] == 1])\n",
    "\n",
    "print(f'Percebe-se uma taxa de comparecimento nessas consultas de: {(f2_comparecimento/len(df_filtrado_2)*100):.2f}%.')"
   ]
  },
  {
   "cell_type": "markdown",
   "metadata": {},
   "source": [
    "- Por fim, concluí-se que: \n",
    "    - As pessoas vão mais às consultas marcadas para o mesmo dia (~95%);\n",
    "    - Essa taxa possui uma **tendência de queda** com o __aumento do intervalo de tempo__ entre a marcação e a consulta;\n",
    "    - Para consultas com mais de **14 dias**, há uma **contribuição maior** do recebimento de SMS como alerta;\n",
    "    - Em geral, a média de idade das pessoas que comparecem às consultas é maior;\n",
    "    - Há uma tendência de usuários do bolsa família faltarem mais às consultas; \n",
    "    - Fatores como deficiência não parecem influenciar no comparecimento ou não às consultas."
   ]
  },
  {
   "cell_type": "code",
   "execution_count": null,
   "metadata": {},
   "outputs": [],
   "source": []
  }
 ],
 "metadata": {
  "kernelspec": {
   "display_name": "Python 3 (ipykernel)",
   "language": "python",
   "name": "python3"
  },
  "language_info": {
   "codemirror_mode": {
    "name": "ipython",
    "version": 3
   },
   "file_extension": ".py",
   "mimetype": "text/x-python",
   "name": "python",
   "nbconvert_exporter": "python",
   "pygments_lexer": "ipython3",
   "version": "3.10.6"
  },
  "vscode": {
   "interpreter": {
    "hash": "4862b6117f0c4f2d3c423ad4c6f1a3d4982cb92922697de8175871d687d88d5d"
   }
  }
 },
 "nbformat": 4,
 "nbformat_minor": 2
}
