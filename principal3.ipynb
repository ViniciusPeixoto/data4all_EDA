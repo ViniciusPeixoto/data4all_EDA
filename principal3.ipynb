{
 "cells": [
  {
   "cell_type": "markdown",
   "metadata": {},
   "source": [
    "# <font color = 'black'> Análise exploratória de dados de assiduidade em consultas na cidade de Vitória - ES. </font> \n"
   ]
  },
  {
   "cell_type": "markdown",
   "metadata": {},
   "source": [
    "#   <font color = 'blue'> Grupo 1: </font> \n",
    "* Aline Carvalho\n",
    "* Camila Bianca\n",
    "* Felipe Cunha\n",
    "* Ivan Felipe \n",
    "* Mateus Brito\n",
    "* Vinícius Peixoto"
   ]
  },
  {
   "cell_type": "markdown",
   "metadata": {},
   "source": [
    "# <font color = 'blue'> Dicionário de Dados: </font> \n",
    "\n",
    "## Este conjunto de dados contém informações sobre as consultas médicas marcadas em clínicas no Brasil e se os pacientes compareceram ou não às consultas.\n",
    "\n",
    "### O conjunto de dados inclui as seguintes colunas:\n",
    "\n",
    "* PatientId: identificador único do paciente\n",
    "* AppointmentID: identificador único da consulta\n",
    "* Gender: gênero do paciente (Feminino/Masculino)\n",
    "* ScheduledDay: data em que a consulta foi marcada\n",
    "* AppointmentDay: data da consulta\n",
    "* Age: idade do paciente\n",
    "* Neighbourhood: nome do bairro onde a consulta ocorrerá\n",
    "* Scholarship: indica se o paciente faz parte do programa Bolsa Família (0 = não, 1 = sim)\n",
    "* Hipertension: indica se o paciente tem hipertensão (0 = não, 1 = sim)\n",
    "* Diabetes: indica se o paciente tem diabetes (0 = não, 1 = sim)\n",
    "* Alcoholism: indica se o paciente tem problemas com álcool (0 = não, 1 = sim)\n",
    "* Handcap: indica se o paciente é deficiente (0 = não, 1 = sim)\n",
    "* SMS_received: indica se o paciente recebeu uma mensagem de lembrete da consulta (0 = não, 1 = sim)\n",
    "* No-show: indica se o paciente compareceu à consulta (No = sim, Yes = não)"
   ]
  },
  {
   "cell_type": "markdown",
   "metadata": {},
   "source": [
    "##  <font color = 'blue'>Perguntas a serem respondidas:  </font>\n",
    "### Ação combativa\n",
    "- Qual o impacto do recebimento do SMS em cada grupo?\n",
    "  - Geral \n",
    "  - Problemas de saúde\n",
    "  - Idade\n",
    "  - PCD\n",
    "\n",
    "### Ação paliativa\n",
    "- Qual a faixa etária mais assídua e a mais ausente? \n",
    "- Qual(is) o(s) bairro(s) de pessoas menos assíduas? \n",
    "- Quais os problemas de saúde das pessoas menos assíduas? \n",
    "- intervalo de tempo entre o dia da marcação e o dia da consulta em si.\n"
   ]
  },
  {
   "cell_type": "code",
   "execution_count": 1,
   "metadata": {},
   "outputs": [],
   "source": [
    "import pandas as pd\n",
    "import numpy as np\n",
    "import matplotlib.pyplot as plt\n",
    "import warnings\n",
    "from tqdm import tqdm\n",
    "\n",
    "tqdm.pandas(desc='progress')\n",
    "warnings.filterwarnings(\"ignore\")\n"
   ]
  },
  {
   "cell_type": "code",
   "execution_count": 2,
   "metadata": {},
   "outputs": [],
   "source": [
    "# fonte: https://www.kaggle.com/datasets/sarvaninandipati/brazils-medical-appointment-show-or-no-show\n",
    "df = pd.read_excel('appointment_prediction_data.xlsx')\n",
    "\n",
    "# fonte: Vitória (Censo e UDH) - Atlas do Desenvolvimento Humano no Brasil - Ipea (https://dados.gov.br/dados/conjuntos-dados/atlasbrasil)\n",
    "aux = pd.read_csv('RM_63200_Vitória_Base_UDH_2000_2010.csv')"
   ]
  },
  {
   "cell_type": "code",
   "execution_count": 3,
   "metadata": {},
   "outputs": [
    {
     "name": "stderr",
     "output_type": "stream",
     "text": [
      "progress: 100%|██████████| 124/124 [00:00<00:00, 123979.43it/s]\n"
     ]
    }
   ],
   "source": [
    "def uppercase(x):\n",
    "    return str(x).upper()\n",
    "\n",
    "# usado somente nome dos bairros e a renda per capta deles\n",
    "aux['NOME_UDH'] = aux['NOME_UDH'].progress_apply(lambda x: uppercase(x))\n",
    "dados_renda_per_capta = aux[['NOME_UDH', 'RDPC']]\n",
    "dados_renda_per_capta = dados_renda_per_capta.groupby('NOME_UDH').mean().reset_index()\n",
    "\n",
    "# fonte: Plano Municipal de Saúde 2022-2025 Vitória - 2022 (https://m.vitoria.es.gov.br/download.php?tipo=1&id=3521)\n",
    "regioes_saude = {\n",
    "    'CONTINENTAL': ['AEROPORTO','ANTÔNIO HONÓRIO','BOA VISTA','JABOUR','JARDIM CAMBURI',\n",
    "                    'JARDIM DA PENHA','MARIA ORTIZ','MATA DA PRAIA','MORADA DE CAMBURI',\n",
    "                    'PONTAL DE CAMBURI','REPÚBLICA','SEGURANÇA DO LAR','SOLON BORGES',\n",
    "                    'GOIABEIRAS', 'PARQUE INDUSTRIAL'],\n",
    "    'CENTRO': ['CENTRO','DO CABRAL','DO MOSCOSO','DO QUADRO','FONTE GRANDE',\n",
    "                     'ILHA DO PRÍNCIPE','PARQUE MOSCOSO','PIEDADE','SANTA CLARA',\n",
    "                     'SANTA TEREZA','VILA RUBIM'],\n",
    "    'SANTO ANTÔNIO': ['ARIOVALDO FAVALESSA','BELA VISTA','CARATOÍRA','ESTRELINHA',\n",
    "                      'GRANDE VITÓRIA','INHANGUETÁ','MÁRIO CYPRESTE','SANTO ANTÔNIO',\n",
    "                      'UNIVERSITÁRIO'],\n",
    "    'MARUÍPE': ['ANDORINHAS','BONFIM','CONSOLAÇÃO','DA PENHA','DE LOURDES','GURIGICA',\n",
    "                'HORTO','ITARARÉ','JOANA D\\'ARC','MARUÍPE','SANTA CECÍLIA','SANTA MARTHA',\n",
    "                'SANTOS DUMONT','SÃO BENEDITO','SÃO CRISTÓVÃO','TABUAZEIRO'],\n",
    "    'SÃO PEDRO': ['COMDUSA','CONQUISTA','ILHA DAS CAIEIRAS','NOVA PALESTINA','REDENÇÃO',\n",
    "                  'RESISTÊNCIA','SANTO ANDRÉ','SANTOS REIS','SÃO JOSÉ','SÃO PEDRO'],\n",
    "    'FORTE SÃO JOÃO': ['BARRO VERMELHO','BENTO FERREIRA','CRUZAMENTO','ENSEADA DO SUÁ',\n",
    "                       'FORTE SÃO JOÃO','FRADINHOS','MONTE BELO','ILHA DE SANTA MARIA',\n",
    "                       'ILHA DO BOI','ILHA DO FRADE','JESUS DE NAZARETH','JUCUTUQUARA',\n",
    "                       'NAZARETH','PRAIA DO CANTO','PRAIA DO SUÁ','ROMÃO','SANTA HELENA',\n",
    "                       'SANTA LÚCIA','SANTA LUÍZA', 'ILHAS OCEÂNICAS DE TRINDADE']\n",
    "}\n",
    "\n",
    "# funções auxiliares\n",
    "def regiao_saude(bairro):\n",
    "    for regiao, bairros in regioes_saude.items():\n",
    "        if bairro in bairros:\n",
    "            return regiao\n",
    "\n",
    "def get_renda(bairro):\n",
    "    renda = []\n",
    "    for idx, row in dados_renda_per_capta.iterrows():\n",
    "        if bairro in row['NOME_UDH']:\n",
    "            renda.append(row['RDPC'])\n",
    "    if not renda:\n",
    "        return 0\n",
    "    return sum(renda)/len(renda)"
   ]
  },
  {
   "cell_type": "code",
   "execution_count": 4,
   "metadata": {
    "scrolled": false
   },
   "outputs": [
    {
     "name": "stderr",
     "output_type": "stream",
     "text": [
      "progress: 100%|██████████| 110573/110573 [00:00<00:00, 929867.06it/s]\n",
      "progress: 100%|██████████| 110573/110573 [02:12<00:00, 832.56it/s]\n"
     ]
    }
   ],
   "source": [
    "# remover linhas duplicadas\n",
    "df.drop_duplicates(subset='AppointmentID', keep='first')\n",
    "\n",
    "# alterar coluna \"No-show\" para algo mais intuitivo\n",
    "df['No-show'].replace({'Yes': 0, 'No': 1}, inplace=True)\n",
    "df.rename(columns={'No-show': 'Compareceu'}, inplace=True)\n",
    "\n",
    "# corrigir gêneros\n",
    "df['Gender'].replace({'Female':'F','Male':'M'}, inplace=True)\n",
    "\n",
    "# corrigir bairros\n",
    "df['Neighbourhood'].replace({'RESIST√äNCIA':'RESISTÊNCIA','REP√öBLICA':'REPÚBLICA','S√ÉO PEDRO':'SÃO PEDRO',\n",
    "                             'S√ÉO CRIST√ìV√ÉO':'SÃO CRISTÓVÃO','MARU√çPE':'MARUÍPE','GRANDE VIT√ìRIA':'GRANDE VITÓRIA',\n",
    "                             'S√ÉO BENEDITO':'SÃO BENEDITO','SANTO ANDR√â':'SANTO ANDRÉ','ANT√îNIO HON√ìRIO':'ANTÔNIO HONÓRIO',\n",
    "                             'M√ÅRIO CYPRESTE':'MÁRIO CYPRESTE','SANTO ANT√îNIO':'SANTO ANTÔNIO','PRAIA DO SU√Å':'PRAIA DO SUÁ',\n",
    "                             'ITARAR√â':'ITARARÉ','INHANGUET√Å':'INHANGUETÁ','UNIVERSIT√ÅRIO':'UNIVERSITÁRIO',\n",
    "                             'S√ÉO JOS√â':'SÃO JOSÉ','REDEN√á√ÉO':'REDENÇÃO','CARATO√çRA':'CARATOÍRA',\n",
    "                             'ILHA DO PR√çNCIPE': 'ILHA DO PRÍNCIPE','ROM√ÉO': 'ROMÃO', 'FORTE S√ÉO JO√ÉO': 'FORTE SÃO JOÃO',\n",
    "                             'JOANA D¬¥ARC': 'JOANA D\\'ARC','CONSOLA√á√ÉO': 'CONSOLAÇÃO', 'SANTA CEC√çLIA': 'SANTA CECÍLIA',\n",
    "                             'SANTA L√öCIA': 'SANTA LÚCIA','SANTA LU√çZA': 'SANTA LUÍZA', 'SEGURAN√áA DO LAR': 'SEGURANÇA DO LAR',\n",
    "                             'Tabuazerio': 'TABUAZEIRO','ILHAS OCE√ÇNICAS DE TRINDADE': 'ILHAS OCEÂNICAS DE TRINDADE',\n",
    "                             'ENSEADA DO SU√Å': 'ENSEADA DO SUÁ', 'DE LOURDE': 'DE LOURDES'}, inplace=True)\n",
    "df['Neighbourhood'] = df.Neighbourhood.str.upper()\n",
    "\n",
    "# adicionar macro-regiões de saúde\n",
    "df['Regiao_Saude'] = df['Neighbourhood'].progress_apply(lambda x: regiao_saude(x))\n",
    "\n",
    "# dias da semana\n",
    "df['AppointmentDayOfWeek'] = pd.to_datetime(df['AppointmentDay']).dt.day_name()\n",
    "df['ScheduledDayOfWeek'] = pd.to_datetime(df['ScheduledDay']).dt.day_name()\n",
    "\n",
    "# adicionar tempo entre 'dia que marcou a consulta' e 'dia da consulta'\n",
    "df['AppointmentDay'] = pd.to_datetime(df['AppointmentDay']).dt.date\n",
    "df['ScheduledDay'] = pd.to_datetime(df['ScheduledDay']).dt.date\n",
    "df['time_delta'] = (df['AppointmentDay'] - df['ScheduledDay']).dt.days\n",
    "\n",
    "# adicionar renda média por bairro\n",
    "df['Renda'] = df['Neighbourhood'].progress_apply(lambda x: get_renda(x))\n",
    "\n"
   ]
  },
  {
   "cell_type": "markdown",
   "metadata": {},
   "source": [
    "# Percentual de comparecimento "
   ]
  },
  {
   "cell_type": "code",
   "execution_count": 5,
   "metadata": {},
   "outputs": [
    {
     "name": "stdout",
     "output_type": "stream",
     "text": [
      "A assiduidade nas consultas foi de 0.80%. Ausência de 99.20%. \n"
     ]
    }
   ],
   "source": [
    "foram_percent = df['Compareceu'].mean()\n",
    "faltaram_percent = (100 - foram_percent)  \n",
    "\n",
    "print(f'A assiduidade nas consultas foi de {foram_percent:.2f}%. Ausência de {faltaram_percent:.2f}%. ')"
   ]
  },
  {
   "cell_type": "markdown",
   "metadata": {},
   "source": [
    "### Percentual de comparecimento após o dia 0"
   ]
  },
  {
   "cell_type": "code",
   "execution_count": 6,
   "metadata": {},
   "outputs": [
    {
     "name": "stdout",
     "output_type": "stream",
     "text": [
      "Total de consultas marcadas com um ou mais de um dia de intervalo: 71981.\n",
      "Total de consultas: 110573.\n",
      "\n",
      "Relação das pessoas que compareceram, com exceção do dia 0, à consulta (1 - Sim, 0 - Não):\n",
      "1    51454\n",
      "0    20527\n",
      "Name: Compareceu, dtype: int64\n",
      "\n",
      "Formato do novo DataFrame: Linhas: 71981, Colunas: 19\n",
      "Percentual de consultas marcadas para um intervalo de tempo maior que um dia: 65.10%.\n",
      "\n",
      "51454 presenças\n",
      "Percentual de presença nessas consultas: 71.48%.\n"
     ]
    }
   ],
   "source": [
    "# criando dataframe com os dias maiores que zero\n",
    "df_sem_dia0 = df[df['time_delta'] > 0] \n",
    "presenca_sem_dia0 = len(df_sem_dia0[df_sem_dia0['Compareceu']==1])\n",
    "# Verificando quantas consultas foram marcadas para o mesmo dia e criando um dataframe com essas consultas\n",
    "consultas_mais_1dia=len(df_sem_dia0)\n",
    "total_consultas=len(df['time_delta'])\n",
    "\n",
    "print(f'Total de consultas marcadas com um ou mais de um dia de intervalo: {consultas_mais_1dia}.')\n",
    "print(f'Total de consultas: {total_consultas}.')\n",
    "print('\\nRelação das pessoas que compareceram, com exceção do dia 0, à consulta (1 - Sim, 0 - Não):')\n",
    "print(df_sem_dia0['Compareceu'].value_counts())\n",
    "print(f'\\nFormato do novo DataFrame: Linhas: {df_sem_dia0.shape[0]}, Colunas: {df_sem_dia0.shape[1]}')\n",
    "print(f'Percentual de consultas marcadas para um intervalo de tempo maior que um dia: {consultas_mais_1dia/total_consultas*100:.2f}%.')\n",
    "print(f'\\n{presenca_sem_dia0} presenças')\n",
    "print(f'Percentual de presença nessas consultas: {presenca_sem_dia0/len(df_sem_dia0)*100:.2f}%.')\n"
   ]
  },
  {
   "cell_type": "markdown",
   "metadata": {},
   "source": [
    "### percentual de ausencia pelo sexo biológico, coluna 'Gender'\n"
   ]
  },
  {
   "cell_type": "code",
   "execution_count": 7,
   "metadata": {},
   "outputs": [
    {
     "data": {
      "text/plain": [
       "Gender\n",
       "F    0.796883\n",
       "M    0.800377\n",
       "Name: Compareceu, dtype: float64"
      ]
     },
     "execution_count": 7,
     "metadata": {},
     "output_type": "execute_result"
    }
   ],
   "source": [
    "df.groupby('Gender')['Compareceu'].mean()"
   ]
  },
  {
   "cell_type": "markdown",
   "metadata": {},
   "source": [
    "### percentual de ausencia entre os benificiários do bolsa família\n"
   ]
  },
  {
   "cell_type": "code",
   "execution_count": 8,
   "metadata": {},
   "outputs": [
    {
     "data": {
      "text/plain": [
       "Scholarship\n",
       "0    0.801970\n",
       "1    0.762637\n",
       "Name: Compareceu, dtype: float64"
      ]
     },
     "execution_count": 8,
     "metadata": {},
     "output_type": "execute_result"
    }
   ],
   "source": [
    "# percentual de ausencia entre os benificiários do bolsa família\n",
    "df.groupby('Scholarship')['Compareceu'].mean()"
   ]
  },
  {
   "cell_type": "markdown",
   "metadata": {},
   "source": [
    "### percentual de ausência entre o grupo PCD\n"
   ]
  },
  {
   "cell_type": "code",
   "execution_count": 9,
   "metadata": {},
   "outputs": [
    {
     "data": {
      "text/plain": [
       "Handcap\n",
       "0    0.797685\n",
       "1    0.818466\n",
       "Name: Compareceu, dtype: float64"
      ]
     },
     "execution_count": 9,
     "metadata": {},
     "output_type": "execute_result"
    }
   ],
   "source": [
    "df['Handcap'].replace(to_replace = (2 ,3 ,4), value = 1 , inplace = True)\n",
    "#df['Handcap'].value_counts()\n",
    "\n",
    "df.groupby('Handcap')['Compareceu'].mean() # bronze"
   ]
  },
  {
   "cell_type": "markdown",
   "metadata": {},
   "source": [
    "### percentual de ausência entre os pacientes com problemas com álcool\n"
   ]
  },
  {
   "cell_type": "code",
   "execution_count": 10,
   "metadata": {},
   "outputs": [
    {
     "data": {
      "text/plain": [
       "Alcoholism\n",
       "0    0.798094\n",
       "1    0.798512\n",
       "Name: Compareceu, dtype: float64"
      ]
     },
     "execution_count": 10,
     "metadata": {},
     "output_type": "execute_result"
    }
   ],
   "source": [
    "# percentual de ausência entre os alcoólótras\n",
    "df.groupby('Alcoholism')['Compareceu'].mean()"
   ]
  },
  {
   "cell_type": "markdown",
   "metadata": {},
   "source": [
    "### percentual de ausência entre os diabéticos\n"
   ]
  },
  {
   "cell_type": "code",
   "execution_count": 11,
   "metadata": {},
   "outputs": [
    {
     "data": {
      "text/plain": [
       "Diabetes\n",
       "0    0.796408\n",
       "1    0.820035\n",
       "Name: Compareceu, dtype: float64"
      ]
     },
     "execution_count": 11,
     "metadata": {},
     "output_type": "execute_result"
    }
   ],
   "source": [
    "# percentual de ausência entre os diabéticos\n",
    "df.groupby('Diabetes')['Compareceu'].mean() # medalha de prata em assiduidade"
   ]
  },
  {
   "cell_type": "markdown",
   "metadata": {},
   "source": [
    "### percentual de ausência entre os hipertensos\n"
   ]
  },
  {
   "cell_type": "code",
   "execution_count": 12,
   "metadata": {},
   "outputs": [
    {
     "data": {
      "text/plain": [
       "Hipertension\n",
       "0    0.791014\n",
       "1    0.826968\n",
       "Name: Compareceu, dtype: float64"
      ]
     },
     "execution_count": 12,
     "metadata": {},
     "output_type": "execute_result"
    }
   ],
   "source": [
    "# percentual de ausência entre os hipertensos\n",
    "df.groupby('Hipertension')['Compareceu'].mean() # campeões em assiduidade"
   ]
  },
  {
   "cell_type": "markdown",
   "metadata": {},
   "source": [
    "### Percentual de ausência entre os pacientes que receberam mensagem de lembrete pelo SMS\n"
   ]
  },
  {
   "cell_type": "code",
   "execution_count": 13,
   "metadata": {},
   "outputs": [
    {
     "data": {
      "text/plain": [
       "SMS_received\n",
       "0    0.833016\n",
       "1    0.724282\n",
       "Name: Compareceu, dtype: float64"
      ]
     },
     "execution_count": 13,
     "metadata": {},
     "output_type": "execute_result"
    }
   ],
   "source": [
    "# percentual de ausência entre os pacientes que receberam mensagem de lembrete pelo SMS\n",
    "df.groupby('SMS_received')['Compareceu'].mean()\n",
    "\n",
    "# percebe-se que quem recebe sms tende a faltar mais do que o grupo q não recebeu"
   ]
  },
  {
   "cell_type": "markdown",
   "metadata": {},
   "source": [
    "## Faixa etária\n"
   ]
  },
  {
   "cell_type": "code",
   "execution_count": 14,
   "metadata": {},
   "outputs": [],
   "source": [
    "#criar uma coluna de faixa etária\n",
    "df['Faixa etaria']=pd.cut(df['Age'], bins=[-1,12,18,30,60,125], labels=['Crianças','Adolescentes','Adultons Jovens','Adultos','Idosos'])\n"
   ]
  },
  {
   "cell_type": "code",
   "execution_count": 15,
   "metadata": {},
   "outputs": [
    {
     "data": {
      "text/html": [
       "<div>\n",
       "<style scoped>\n",
       "    .dataframe tbody tr th:only-of-type {\n",
       "        vertical-align: middle;\n",
       "    }\n",
       "\n",
       "    .dataframe tbody tr th {\n",
       "        vertical-align: top;\n",
       "    }\n",
       "\n",
       "    .dataframe thead th {\n",
       "        text-align: right;\n",
       "    }\n",
       "</style>\n",
       "<table border=\"1\" class=\"dataframe\">\n",
       "  <thead>\n",
       "    <tr style=\"text-align: right;\">\n",
       "      <th></th>\n",
       "      <th>PatientId</th>\n",
       "      <th>AppointmentID</th>\n",
       "      <th>Gender</th>\n",
       "      <th>ScheduledDay</th>\n",
       "      <th>AppointmentDay</th>\n",
       "      <th>Age</th>\n",
       "      <th>Neighbourhood</th>\n",
       "      <th>Scholarship</th>\n",
       "      <th>Hipertension</th>\n",
       "      <th>Diabetes</th>\n",
       "      <th>Alcoholism</th>\n",
       "      <th>Handcap</th>\n",
       "      <th>SMS_received</th>\n",
       "      <th>Compareceu</th>\n",
       "      <th>Regiao_Saude</th>\n",
       "      <th>AppointmentDayOfWeek</th>\n",
       "      <th>ScheduledDayOfWeek</th>\n",
       "      <th>time_delta</th>\n",
       "      <th>Renda</th>\n",
       "      <th>Faixa etaria</th>\n",
       "    </tr>\n",
       "  </thead>\n",
       "  <tbody>\n",
       "    <tr>\n",
       "      <th>0</th>\n",
       "      <td>2.987250e+13</td>\n",
       "      <td>5642903</td>\n",
       "      <td>F</td>\n",
       "      <td>2016-04-29</td>\n",
       "      <td>2016-04-29</td>\n",
       "      <td>62.0</td>\n",
       "      <td>JARDIM DA PENHA</td>\n",
       "      <td>0</td>\n",
       "      <td>1</td>\n",
       "      <td>0</td>\n",
       "      <td>0</td>\n",
       "      <td>0</td>\n",
       "      <td>0</td>\n",
       "      <td>1</td>\n",
       "      <td>CONTINENTAL</td>\n",
       "      <td>Friday</td>\n",
       "      <td>Friday</td>\n",
       "      <td>0</td>\n",
       "      <td>2608.4825</td>\n",
       "      <td>Idosos</td>\n",
       "    </tr>\n",
       "    <tr>\n",
       "      <th>1</th>\n",
       "      <td>5.589978e+14</td>\n",
       "      <td>5642503</td>\n",
       "      <td>M</td>\n",
       "      <td>2016-04-29</td>\n",
       "      <td>2016-04-29</td>\n",
       "      <td>56.0</td>\n",
       "      <td>JARDIM DA PENHA</td>\n",
       "      <td>0</td>\n",
       "      <td>0</td>\n",
       "      <td>0</td>\n",
       "      <td>0</td>\n",
       "      <td>0</td>\n",
       "      <td>0</td>\n",
       "      <td>1</td>\n",
       "      <td>CONTINENTAL</td>\n",
       "      <td>Friday</td>\n",
       "      <td>Friday</td>\n",
       "      <td>0</td>\n",
       "      <td>2608.4825</td>\n",
       "      <td>Adultos</td>\n",
       "    </tr>\n",
       "    <tr>\n",
       "      <th>2</th>\n",
       "      <td>4.262962e+12</td>\n",
       "      <td>5642549</td>\n",
       "      <td>F</td>\n",
       "      <td>2016-04-29</td>\n",
       "      <td>2016-04-29</td>\n",
       "      <td>62.0</td>\n",
       "      <td>MATA DA PRAIA</td>\n",
       "      <td>0</td>\n",
       "      <td>0</td>\n",
       "      <td>0</td>\n",
       "      <td>0</td>\n",
       "      <td>0</td>\n",
       "      <td>0</td>\n",
       "      <td>1</td>\n",
       "      <td>CONTINENTAL</td>\n",
       "      <td>Friday</td>\n",
       "      <td>Friday</td>\n",
       "      <td>0</td>\n",
       "      <td>3886.9200</td>\n",
       "      <td>Idosos</td>\n",
       "    </tr>\n",
       "    <tr>\n",
       "      <th>3</th>\n",
       "      <td>8.679512e+11</td>\n",
       "      <td>5642828</td>\n",
       "      <td>F</td>\n",
       "      <td>2016-04-29</td>\n",
       "      <td>2016-04-29</td>\n",
       "      <td>8.0</td>\n",
       "      <td>PONTAL DE CAMBURI</td>\n",
       "      <td>0</td>\n",
       "      <td>0</td>\n",
       "      <td>0</td>\n",
       "      <td>0</td>\n",
       "      <td>0</td>\n",
       "      <td>0</td>\n",
       "      <td>1</td>\n",
       "      <td>CONTINENTAL</td>\n",
       "      <td>Friday</td>\n",
       "      <td>Friday</td>\n",
       "      <td>0</td>\n",
       "      <td>1708.1500</td>\n",
       "      <td>Crianças</td>\n",
       "    </tr>\n",
       "    <tr>\n",
       "      <th>4</th>\n",
       "      <td>8.841186e+12</td>\n",
       "      <td>5642494</td>\n",
       "      <td>F</td>\n",
       "      <td>2016-04-29</td>\n",
       "      <td>2016-04-29</td>\n",
       "      <td>56.0</td>\n",
       "      <td>JARDIM DA PENHA</td>\n",
       "      <td>0</td>\n",
       "      <td>1</td>\n",
       "      <td>1</td>\n",
       "      <td>0</td>\n",
       "      <td>0</td>\n",
       "      <td>0</td>\n",
       "      <td>1</td>\n",
       "      <td>CONTINENTAL</td>\n",
       "      <td>Friday</td>\n",
       "      <td>Friday</td>\n",
       "      <td>0</td>\n",
       "      <td>2608.4825</td>\n",
       "      <td>Adultos</td>\n",
       "    </tr>\n",
       "    <tr>\n",
       "      <th>5</th>\n",
       "      <td>9.598513e+13</td>\n",
       "      <td>5626772</td>\n",
       "      <td>F</td>\n",
       "      <td>2016-04-27</td>\n",
       "      <td>2016-04-29</td>\n",
       "      <td>76.0</td>\n",
       "      <td>REPÚBLICA</td>\n",
       "      <td>0</td>\n",
       "      <td>1</td>\n",
       "      <td>0</td>\n",
       "      <td>0</td>\n",
       "      <td>0</td>\n",
       "      <td>0</td>\n",
       "      <td>1</td>\n",
       "      <td>CONTINENTAL</td>\n",
       "      <td>Friday</td>\n",
       "      <td>Wednesday</td>\n",
       "      <td>2</td>\n",
       "      <td>1631.0050</td>\n",
       "      <td>Idosos</td>\n",
       "    </tr>\n",
       "    <tr>\n",
       "      <th>6</th>\n",
       "      <td>7.336882e+14</td>\n",
       "      <td>5630279</td>\n",
       "      <td>F</td>\n",
       "      <td>2016-04-27</td>\n",
       "      <td>2016-04-29</td>\n",
       "      <td>23.0</td>\n",
       "      <td>GOIABEIRAS</td>\n",
       "      <td>0</td>\n",
       "      <td>0</td>\n",
       "      <td>0</td>\n",
       "      <td>0</td>\n",
       "      <td>0</td>\n",
       "      <td>0</td>\n",
       "      <td>0</td>\n",
       "      <td>CONTINENTAL</td>\n",
       "      <td>Friday</td>\n",
       "      <td>Wednesday</td>\n",
       "      <td>2</td>\n",
       "      <td>791.3625</td>\n",
       "      <td>Adultons Jovens</td>\n",
       "    </tr>\n",
       "    <tr>\n",
       "      <th>7</th>\n",
       "      <td>3.449833e+12</td>\n",
       "      <td>5630575</td>\n",
       "      <td>F</td>\n",
       "      <td>2016-04-27</td>\n",
       "      <td>2016-04-29</td>\n",
       "      <td>39.0</td>\n",
       "      <td>GOIABEIRAS</td>\n",
       "      <td>0</td>\n",
       "      <td>0</td>\n",
       "      <td>0</td>\n",
       "      <td>0</td>\n",
       "      <td>0</td>\n",
       "      <td>0</td>\n",
       "      <td>0</td>\n",
       "      <td>CONTINENTAL</td>\n",
       "      <td>Friday</td>\n",
       "      <td>Wednesday</td>\n",
       "      <td>2</td>\n",
       "      <td>791.3625</td>\n",
       "      <td>Adultos</td>\n",
       "    </tr>\n",
       "    <tr>\n",
       "      <th>8</th>\n",
       "      <td>5.639473e+13</td>\n",
       "      <td>5638447</td>\n",
       "      <td>F</td>\n",
       "      <td>2016-04-29</td>\n",
       "      <td>2016-04-29</td>\n",
       "      <td>21.0</td>\n",
       "      <td>ANDORINHAS</td>\n",
       "      <td>0</td>\n",
       "      <td>0</td>\n",
       "      <td>0</td>\n",
       "      <td>0</td>\n",
       "      <td>0</td>\n",
       "      <td>0</td>\n",
       "      <td>1</td>\n",
       "      <td>MARUÍPE</td>\n",
       "      <td>Friday</td>\n",
       "      <td>Friday</td>\n",
       "      <td>0</td>\n",
       "      <td>603.6125</td>\n",
       "      <td>Adultons Jovens</td>\n",
       "    </tr>\n",
       "    <tr>\n",
       "      <th>9</th>\n",
       "      <td>7.812456e+13</td>\n",
       "      <td>5629123</td>\n",
       "      <td>F</td>\n",
       "      <td>2016-04-27</td>\n",
       "      <td>2016-04-29</td>\n",
       "      <td>19.0</td>\n",
       "      <td>CONQUISTA</td>\n",
       "      <td>0</td>\n",
       "      <td>0</td>\n",
       "      <td>0</td>\n",
       "      <td>0</td>\n",
       "      <td>0</td>\n",
       "      <td>0</td>\n",
       "      <td>1</td>\n",
       "      <td>SÃO PEDRO</td>\n",
       "      <td>Friday</td>\n",
       "      <td>Wednesday</td>\n",
       "      <td>2</td>\n",
       "      <td>355.0450</td>\n",
       "      <td>Adultons Jovens</td>\n",
       "    </tr>\n",
       "  </tbody>\n",
       "</table>\n",
       "</div>"
      ],
      "text/plain": [
       "      PatientId  AppointmentID Gender ScheduledDay AppointmentDay   Age  \\\n",
       "0  2.987250e+13        5642903      F   2016-04-29     2016-04-29  62.0   \n",
       "1  5.589978e+14        5642503      M   2016-04-29     2016-04-29  56.0   \n",
       "2  4.262962e+12        5642549      F   2016-04-29     2016-04-29  62.0   \n",
       "3  8.679512e+11        5642828      F   2016-04-29     2016-04-29   8.0   \n",
       "4  8.841186e+12        5642494      F   2016-04-29     2016-04-29  56.0   \n",
       "5  9.598513e+13        5626772      F   2016-04-27     2016-04-29  76.0   \n",
       "6  7.336882e+14        5630279      F   2016-04-27     2016-04-29  23.0   \n",
       "7  3.449833e+12        5630575      F   2016-04-27     2016-04-29  39.0   \n",
       "8  5.639473e+13        5638447      F   2016-04-29     2016-04-29  21.0   \n",
       "9  7.812456e+13        5629123      F   2016-04-27     2016-04-29  19.0   \n",
       "\n",
       "       Neighbourhood  Scholarship  Hipertension  Diabetes  Alcoholism  \\\n",
       "0    JARDIM DA PENHA            0             1         0           0   \n",
       "1    JARDIM DA PENHA            0             0         0           0   \n",
       "2      MATA DA PRAIA            0             0         0           0   \n",
       "3  PONTAL DE CAMBURI            0             0         0           0   \n",
       "4    JARDIM DA PENHA            0             1         1           0   \n",
       "5          REPÚBLICA            0             1         0           0   \n",
       "6         GOIABEIRAS            0             0         0           0   \n",
       "7         GOIABEIRAS            0             0         0           0   \n",
       "8         ANDORINHAS            0             0         0           0   \n",
       "9          CONQUISTA            0             0         0           0   \n",
       "\n",
       "   Handcap  SMS_received  Compareceu Regiao_Saude AppointmentDayOfWeek  \\\n",
       "0        0             0           1  CONTINENTAL               Friday   \n",
       "1        0             0           1  CONTINENTAL               Friday   \n",
       "2        0             0           1  CONTINENTAL               Friday   \n",
       "3        0             0           1  CONTINENTAL               Friday   \n",
       "4        0             0           1  CONTINENTAL               Friday   \n",
       "5        0             0           1  CONTINENTAL               Friday   \n",
       "6        0             0           0  CONTINENTAL               Friday   \n",
       "7        0             0           0  CONTINENTAL               Friday   \n",
       "8        0             0           1      MARUÍPE               Friday   \n",
       "9        0             0           1    SÃO PEDRO               Friday   \n",
       "\n",
       "  ScheduledDayOfWeek  time_delta      Renda     Faixa etaria  \n",
       "0             Friday           0  2608.4825           Idosos  \n",
       "1             Friday           0  2608.4825          Adultos  \n",
       "2             Friday           0  3886.9200           Idosos  \n",
       "3             Friday           0  1708.1500         Crianças  \n",
       "4             Friday           0  2608.4825          Adultos  \n",
       "5          Wednesday           2  1631.0050           Idosos  \n",
       "6          Wednesday           2   791.3625  Adultons Jovens  \n",
       "7          Wednesday           2   791.3625          Adultos  \n",
       "8             Friday           0   603.6125  Adultons Jovens  \n",
       "9          Wednesday           2   355.0450  Adultons Jovens  "
      ]
     },
     "execution_count": 15,
     "metadata": {},
     "output_type": "execute_result"
    }
   ],
   "source": [
    "# verifica criação de nova coluna faixa etária\n",
    "df.head(10)"
   ]
  },
  {
   "cell_type": "markdown",
   "metadata": {},
   "source": [
    " ### Qual a faixa etária mais assídua e a mais ausente? "
   ]
  },
  {
   "cell_type": "code",
   "execution_count": 16,
   "metadata": {
    "scrolled": true
   },
   "outputs": [
    {
     "data": {
      "text/plain": [
       "Faixa etaria\n",
       "Idosos             0.847825\n",
       "Adultos            0.804531\n",
       "Crianças           0.795307\n",
       "Adultons Jovens    0.752940\n",
       "Adolescentes       0.739336\n",
       "Name: Compareceu, dtype: float64"
      ]
     },
     "execution_count": 16,
     "metadata": {},
     "output_type": "execute_result"
    }
   ],
   "source": [
    "# agrupa em ordem decrescente a assiduidade por faixa etária\n",
    "df.groupby('Faixa etaria')['Compareceu'].mean().sort_values(ascending=False)"
   ]
  },
  {
   "cell_type": "markdown",
   "metadata": {},
   "source": [
    "### qual faixa etária é mais acometida com problemas com álcool? \n"
   ]
  },
  {
   "cell_type": "code",
   "execution_count": 17,
   "metadata": {},
   "outputs": [
    {
     "data": {
      "text/plain": [
       "Faixa etaria\n",
       "Adultos            0.052093\n",
       "Idosos             0.037221\n",
       "Adultons Jovens    0.014747\n",
       "Adolescentes       0.001916\n",
       "Crianças           0.000619\n",
       "Name: Alcoholism, dtype: float64"
      ]
     },
     "execution_count": 17,
     "metadata": {},
     "output_type": "execute_result"
    }
   ],
   "source": [
    "df.groupby('Faixa etaria')['Alcoholism'].mean().sort_values(ascending=False)"
   ]
  },
  {
   "cell_type": "markdown",
   "metadata": {},
   "source": [
    "### qual faixa etária é mais acometida pelo diabetes? \n"
   ]
  },
  {
   "cell_type": "code",
   "execution_count": 18,
   "metadata": {},
   "outputs": [
    {
     "data": {
      "text/plain": [
       "Faixa etaria\n",
       "Idosos             0.221806\n",
       "Adultos            0.075080\n",
       "Adultons Jovens    0.006985\n",
       "Adolescentes       0.004087\n",
       "Crianças           0.000904\n",
       "Name: Diabetes, dtype: float64"
      ]
     },
     "execution_count": 18,
     "metadata": {},
     "output_type": "execute_result"
    }
   ],
   "source": [
    "df.groupby('Faixa etaria')['Diabetes'].mean().sort_values(ascending=False)"
   ]
  },
  {
   "cell_type": "markdown",
   "metadata": {},
   "source": [
    "### qual faixa etária é mais acometida pelo hipertensão? "
   ]
  },
  {
   "cell_type": "code",
   "execution_count": 19,
   "metadata": {},
   "outputs": [
    {
     "data": {
      "text/plain": [
       "Faixa etaria\n",
       "Idosos             0.556743\n",
       "Adultos            0.231158\n",
       "Adultons Jovens    0.019285\n",
       "Adolescentes       0.003704\n",
       "Crianças           0.000571\n",
       "Name: Hipertension, dtype: float64"
      ]
     },
     "execution_count": 19,
     "metadata": {},
     "output_type": "execute_result"
    }
   ],
   "source": [
    "df.groupby('Faixa etaria')['Hipertension'].mean().sort_values(ascending=False)"
   ]
  },
  {
   "cell_type": "markdown",
   "metadata": {},
   "source": [
    "# Bairros: "
   ]
  },
  {
   "cell_type": "markdown",
   "metadata": {},
   "source": [
    "### Qual(ais) bairros mais assíduos ? "
   ]
  },
  {
   "cell_type": "code",
   "execution_count": 20,
   "metadata": {},
   "outputs": [
    {
     "data": {
      "text/plain": [
       "Neighbourhood\n",
       "PARQUE INDUSTRIAL              1.000000\n",
       "ILHA DO BOI                    0.914286\n",
       "AEROPORTO                      0.875000\n",
       "MÁRIO CYPRESTE                 0.854447\n",
       "SOLON BORGES                   0.853191\n",
       "                                 ...   \n",
       "ITARARÉ                        0.737336\n",
       "SANTA CLARA                    0.735178\n",
       "SANTA CECÍLIA                  0.725446\n",
       "SANTOS DUMONT                  0.710815\n",
       "ILHAS OCEÂNICAS DE TRINDADE    0.000000\n",
       "Name: Compareceu, Length: 81, dtype: float64"
      ]
     },
     "execution_count": 20,
     "metadata": {},
     "output_type": "execute_result"
    }
   ],
   "source": [
    "df.groupby('Neighbourhood')['Compareceu'].mean().sort_values(ascending=False)\n",
    "# Os últimos são os bairros de pacientes com maior ausência em consultas"
   ]
  },
  {
   "cell_type": "markdown",
   "metadata": {},
   "source": [
    "###  Qual(is) bairro(s) detém maior número de beneficiários do programa Bolsa família?\n"
   ]
  },
  {
   "cell_type": "code",
   "execution_count": 21,
   "metadata": {},
   "outputs": [
    {
     "data": {
      "text/plain": [
       "Neighbourhood\n",
       "SÃO BENEDITO                   0.280751\n",
       "DO MOSCOSO                     0.268765\n",
       "ILHA DO PRÍNCIPE               0.255516\n",
       "PIEDADE                        0.254425\n",
       "SANTOS REIS                    0.219378\n",
       "                                 ...   \n",
       "ILHAS OCEÂNICAS DE TRINDADE    0.000000\n",
       "BARRO VERMELHO                 0.000000\n",
       "PARQUE INDUSTRIAL              0.000000\n",
       "MORADA DE CAMBURI              0.000000\n",
       "AEROPORTO                      0.000000\n",
       "Name: Scholarship, Length: 81, dtype: float64"
      ]
     },
     "execution_count": 21,
     "metadata": {},
     "output_type": "execute_result"
    }
   ],
   "source": [
    "df.groupby('Neighbourhood')['Scholarship'].mean().sort_values(ascending=False)\n"
   ]
  },
  {
   "cell_type": "markdown",
   "metadata": {},
   "source": [
    "### Qual(is) bairro(s) detém maior número de pacientes com problemas com álcool? "
   ]
  },
  {
   "cell_type": "code",
   "execution_count": 22,
   "metadata": {},
   "outputs": [
    {
     "data": {
      "text/plain": [
       "Neighbourhood\n",
       "ESTRELINHA                     0.146840\n",
       "DO MOSCOSO                     0.130751\n",
       "SANTA MARTHA                   0.109869\n",
       "PRAIA DO SUÁ                   0.079193\n",
       "DA PENHA                       0.077582\n",
       "                                 ...   \n",
       "ILHAS OCEÂNICAS DE TRINDADE    0.000000\n",
       "PARQUE INDUSTRIAL              0.000000\n",
       "MORADA DE CAMBURI              0.000000\n",
       "MONTE BELO                     0.000000\n",
       "AEROPORTO                      0.000000\n",
       "Name: Alcoholism, Length: 81, dtype: float64"
      ]
     },
     "execution_count": 22,
     "metadata": {},
     "output_type": "execute_result"
    }
   ],
   "source": [
    "df.groupby('Neighbourhood')['Alcoholism'].mean().sort_values(ascending=False)\n"
   ]
  },
  {
   "cell_type": "markdown",
   "metadata": {},
   "source": [
    "### Qual(is) bairro(s) detém maior número de hipertensos? "
   ]
  },
  {
   "cell_type": "code",
   "execution_count": 23,
   "metadata": {},
   "outputs": [
    {
     "data": {
      "text/plain": [
       "Neighbourhood\n",
       "DE LOURDES                     0.347541\n",
       "SANTA CECÍLIA                  0.323661\n",
       "PARQUE MOSCOSO                 0.320449\n",
       "FONTE GRANDE                   0.312317\n",
       "SANTOS DUMONT                  0.311129\n",
       "                                 ...   \n",
       "ANTÔNIO HONÓRIO                0.018450\n",
       "NAZARETH                       0.007407\n",
       "ILHAS OCEÂNICAS DE TRINDADE    0.000000\n",
       "ILHA DO FRADE                  0.000000\n",
       "PARQUE INDUSTRIAL              0.000000\n",
       "Name: Hipertension, Length: 81, dtype: float64"
      ]
     },
     "execution_count": 23,
     "metadata": {},
     "output_type": "execute_result"
    }
   ],
   "source": [
    "df.groupby('Neighbourhood')['Hipertension'].mean().sort_values(ascending=False)\n"
   ]
  },
  {
   "cell_type": "markdown",
   "metadata": {},
   "source": [
    "### Qual(is) bairro(s) detém maior número de diabéticos? "
   ]
  },
  {
   "cell_type": "code",
   "execution_count": 24,
   "metadata": {},
   "outputs": [
    {
     "data": {
      "text/plain": [
       "Neighbourhood\n",
       "MORADA DE CAMBURI              0.135417\n",
       "ANDORINHAS                     0.132184\n",
       "COMDUSA                        0.122581\n",
       "SÃO JOSÉ                       0.120384\n",
       "DE LOURDES                     0.118033\n",
       "                                 ...   \n",
       "ILHA DO FRADE                  0.000000\n",
       "PARQUE INDUSTRIAL              0.000000\n",
       "ILHAS OCEÂNICAS DE TRINDADE    0.000000\n",
       "NAZARETH                       0.000000\n",
       "AEROPORTO                      0.000000\n",
       "Name: Diabetes, Length: 81, dtype: float64"
      ]
     },
     "execution_count": 24,
     "metadata": {},
     "output_type": "execute_result"
    }
   ],
   "source": [
    "df.groupby('Neighbourhood')['Diabetes'].mean().sort_values(ascending=False)\n"
   ]
  },
  {
   "cell_type": "markdown",
   "metadata": {},
   "source": [
    "## Em comparação ao grupo não-PCD, o grupo com deficiência compareceu mais nas consultas."
   ]
  },
  {
   "cell_type": "code",
   "execution_count": 25,
   "metadata": {},
   "outputs": [
    {
     "data": {
      "text/plain": [
       "Handcap\n",
       "0    0.797685\n",
       "1    0.818466\n",
       "Name: Compareceu, dtype: float64"
      ]
     },
     "execution_count": 25,
     "metadata": {},
     "output_type": "execute_result"
    }
   ],
   "source": [
    "df.groupby(['Handcap'])['Compareceu'].mean() "
   ]
  },
  {
   "cell_type": "markdown",
   "metadata": {},
   "source": [
    "### Quantas consultas foram marcadas para cada especialidade?"
   ]
  },
  {
   "cell_type": "code",
   "execution_count": 26,
   "metadata": {},
   "outputs": [
    {
     "name": "stdout",
     "output_type": "stream",
     "text": [
      "Foram 78 consultas marcadas para Alcoolismo no grupo PCD\n",
      "Foram 399 consultas marcadas para Diabetes no grupo PCD\n",
      "Foram 968 consultas marcadas para Hipertensão no grupo PCD\n"
     ]
    }
   ],
   "source": [
    "\n",
    "df_pcd = df.loc[df['Handcap']==1]\n",
    "\n",
    "\n",
    "hipertensos_pcd = df_pcd.loc[df_pcd['Hipertension']==1]\n",
    "alcolismo_pcd = df_pcd.loc[df_pcd['Alcoholism']==1]\n",
    "diabetes_pcd = df_pcd.loc[df_pcd['Diabetes']==1]\n",
    "\n",
    "print(f'Foram {len(alcolismo_pcd)} consultas marcadas para Alcoolismo no grupo PCD')\n",
    "print(f'Foram {len(diabetes_pcd)} consultas marcadas para Diabetes no grupo PCD')\n",
    "print(f'Foram {len(hipertensos_pcd)} consultas marcadas para Hipertensão no grupo PCD')\n"
   ]
  },
  {
   "cell_type": "markdown",
   "metadata": {},
   "source": [
    "### Qual gênero compareceu mais nas consultas marcadas no grupo PCD? Genero Masculino\n"
   ]
  },
  {
   "cell_type": "code",
   "execution_count": 27,
   "metadata": {},
   "outputs": [
    {
     "data": {
      "text/plain": [
       "Gender\n",
       "F    0.811628\n",
       "M    0.827731\n",
       "Name: Compareceu, dtype: float64"
      ]
     },
     "execution_count": 27,
     "metadata": {},
     "output_type": "execute_result"
    }
   ],
   "source": [
    "df_pcd.groupby('Gender')['Compareceu'].mean()"
   ]
  },
  {
   "cell_type": "markdown",
   "metadata": {},
   "source": [
    "### Qual a faixa etária que mais compareceu nas consultas marcadas?"
   ]
  },
  {
   "cell_type": "code",
   "execution_count": 28,
   "metadata": {},
   "outputs": [
    {
     "data": {
      "text/plain": [
       "Faixa etaria\n",
       "Adultos           0.837809\n",
       "Idosos            0.835966\n",
       "Jovens Adultos    0.798165\n",
       "Adolescentes      0.769231\n",
       "Crianças          0.622449\n",
       "Name: Compareceu, dtype: float64"
      ]
     },
     "execution_count": 28,
     "metadata": {},
     "output_type": "execute_result"
    }
   ],
   "source": [
    "df_pcd['Faixa etaria'] = pd.cut(df_pcd['Age'],bins=[-1,12,18,30,60,125],labels=['Crianças','Adolescentes','Jovens Adultos','Adultos','Idosos'])\n",
    "df_pcd.groupby(['Faixa etaria'])['Compareceu'].mean().sort_values(ascending=False)"
   ]
  },
  {
   "cell_type": "markdown",
   "metadata": {},
   "source": [
    "## No geral, incluindo TODAS as consultas, até as imediatas, receber o sms não impactou o grupo PCD, porém se isolarmos as consultas imediatas vemos que sim teve uma pequena diferença, e vamos ver isso mais a frente."
   ]
  },
  {
   "cell_type": "code",
   "execution_count": 29,
   "metadata": {},
   "outputs": [
    {
     "data": {
      "text/plain": [
       "SMS_received\n",
       "0    0.840563\n",
       "1    0.748134\n",
       "Name: Compareceu, dtype: float64"
      ]
     },
     "execution_count": 29,
     "metadata": {},
     "output_type": "execute_result"
    }
   ],
   "source": [
    "df_pcd.groupby(['SMS_received'])['Compareceu'].mean()"
   ]
  },
  {
   "cell_type": "markdown",
   "metadata": {},
   "source": [
    "## Alocando as respostas de comparecimentos em grupos de:\n",
    "### Recebeu o sms - 1. Não recebeu o sms - 0.<br>\n",
    "\n",
    "## E separando o grupo por consultas realizadas a partir de 3 dias de marcação temos os seguintes resultados:"
   ]
  },
  {
   "cell_type": "markdown",
   "metadata": {},
   "source": [
    "### No grupo de consultas marcadas para \"Diabetes\" houve um aumento de 7% no comparecimento de quem recebeu o lembrete por sms."
   ]
  },
  {
   "cell_type": "code",
   "execution_count": 30,
   "metadata": {},
   "outputs": [
    {
     "data": {
      "text/plain": [
       "SMS_received\n",
       "0    0.720000\n",
       "1    0.791667\n",
       "Name: Compareceu, dtype: float64"
      ]
     },
     "execution_count": 30,
     "metadata": {},
     "output_type": "execute_result"
    }
   ],
   "source": [
    "\n",
    "sms_diabetes_pcd = diabetes_pcd.loc[(diabetes_pcd['time_delta']>2)]\n",
    "sms_diabetes_pcd.groupby(['SMS_received'])['Compareceu'].mean()"
   ]
  },
  {
   "cell_type": "markdown",
   "metadata": {},
   "source": [
    "### No grupo de consultas marcadas para \"Hipertensão\" houve um aumento de 8% no comparecimento de quem recebeu o lembrete por sms. "
   ]
  },
  {
   "cell_type": "code",
   "execution_count": 31,
   "metadata": {},
   "outputs": [
    {
     "data": {
      "text/plain": [
       "SMS_received\n",
       "0    0.707547\n",
       "1    0.777358\n",
       "Name: Compareceu, dtype: float64"
      ]
     },
     "execution_count": 31,
     "metadata": {},
     "output_type": "execute_result"
    }
   ],
   "source": [
    "\n",
    "sms_hipertensao = hipertensos_pcd.loc[(hipertensos_pcd['time_delta']>2)]\n",
    "sms_hipertensao.groupby(['SMS_received'])['Compareceu'].mean()"
   ]
  },
  {
   "cell_type": "markdown",
   "metadata": {},
   "source": [
    "### No grupo de consultas marcadas para \"Alcoolismo\" receber SMS não fez diferença.\n"
   ]
  },
  {
   "cell_type": "code",
   "execution_count": 32,
   "metadata": {},
   "outputs": [
    {
     "data": {
      "text/plain": [
       "SMS_received\n",
       "0    0.888889\n",
       "1    0.882353\n",
       "Name: Compareceu, dtype: float64"
      ]
     },
     "execution_count": 32,
     "metadata": {},
     "output_type": "execute_result"
    }
   ],
   "source": [
    "sms_alcolismo_pcd = alcolismo_pcd.loc[(alcolismo_pcd['time_delta']>2)]\n",
    "sms_alcolismo_pcd.groupby(['SMS_received'])['Compareceu'].mean()"
   ]
  },
  {
   "cell_type": "markdown",
   "metadata": {},
   "source": [
    "### Será que com o tempo mais longo de espera de consulta há mais ausência de deficientes? \n",
    "### O nível de comparecimento é alto nos primeiros dias, mas quanto mais longe da data a consulta é marcada, as taxas de comparecimento diminuem."
   ]
  },
  {
   "cell_type": "code",
   "execution_count": 33,
   "metadata": {},
   "outputs": [
    {
     "data": {
      "text/plain": [
       "<Axes: title={'center': 'Comparecimento por tempo de espera pela consulta'}, xlabel='Dias depois da marcação'>"
      ]
     },
     "execution_count": 33,
     "metadata": {},
     "output_type": "execute_result"
    },
    {
     "data": {
      "image/png": "[encoded data removed]",
      "text/plain": [
       "<Figure size 1500x500 with 1 Axes>"
      ]
     },
     "metadata": {},
     "output_type": "display_data"
    }
   ],
   "source": [
    "df_pcd.pivot_table(index='time_delta', aggfunc='count', values='Compareceu').plot(kind='bar', xticks= (np.arange(0,61,30)),figsize=(15,5), title = 'Comparecimento por tempo de espera pela consulta', xlabel = 'Dias depois da marcação')"
   ]
  },
  {
   "cell_type": "markdown",
   "metadata": {},
   "source": [
    "#### Solução: Quanto mais cedo as consultas forem marcadas, e tendo sido reforçados os lembretes por sms, a taxa de AUSÊNCIA do grupo PCD diminuirá."
   ]
  },
  {
   "cell_type": "markdown",
   "metadata": {},
   "source": [
    "# Mateus "
   ]
  },
  {
   "cell_type": "code",
   "execution_count": 34,
   "metadata": {},
   "outputs": [
    {
     "data": {
      "text/html": [
       "<div>\n",
       "<style scoped>\n",
       "    .dataframe tbody tr th:only-of-type {\n",
       "        vertical-align: middle;\n",
       "    }\n",
       "\n",
       "    .dataframe tbody tr th {\n",
       "        vertical-align: top;\n",
       "    }\n",
       "\n",
       "    .dataframe thead th {\n",
       "        text-align: right;\n",
       "    }\n",
       "</style>\n",
       "<table border=\"1\" class=\"dataframe\">\n",
       "  <thead>\n",
       "    <tr style=\"text-align: right;\">\n",
       "      <th></th>\n",
       "      <th>PatientId</th>\n",
       "      <th>AppointmentID</th>\n",
       "      <th>Gender</th>\n",
       "      <th>ScheduledDay</th>\n",
       "      <th>AppointmentDay</th>\n",
       "      <th>Age</th>\n",
       "      <th>Neighbourhood</th>\n",
       "      <th>Scholarship</th>\n",
       "      <th>Hipertension</th>\n",
       "      <th>Diabetes</th>\n",
       "      <th>Alcoholism</th>\n",
       "      <th>Handcap</th>\n",
       "      <th>SMS_received</th>\n",
       "      <th>Compareceu</th>\n",
       "      <th>Regiao_Saude</th>\n",
       "      <th>AppointmentDayOfWeek</th>\n",
       "      <th>ScheduledDayOfWeek</th>\n",
       "      <th>time_delta</th>\n",
       "      <th>Renda</th>\n",
       "      <th>Faixa etaria</th>\n",
       "    </tr>\n",
       "  </thead>\n",
       "  <tbody>\n",
       "    <tr>\n",
       "      <th>22</th>\n",
       "      <td>8.632298e+14</td>\n",
       "      <td>5616091</td>\n",
       "      <td>M</td>\n",
       "      <td>2016-04-25</td>\n",
       "      <td>2016-04-29</td>\n",
       "      <td>13.0</td>\n",
       "      <td>CONQUISTA</td>\n",
       "      <td>0</td>\n",
       "      <td>0</td>\n",
       "      <td>0</td>\n",
       "      <td>0</td>\n",
       "      <td>0</td>\n",
       "      <td>1</td>\n",
       "      <td>0</td>\n",
       "      <td>SÃO PEDRO</td>\n",
       "      <td>Friday</td>\n",
       "      <td>Monday</td>\n",
       "      <td>4</td>\n",
       "      <td>355.045</td>\n",
       "      <td>Adolescentes</td>\n",
       "    </tr>\n",
       "    <tr>\n",
       "      <th>33</th>\n",
       "      <td>7.653517e+12</td>\n",
       "      <td>5616921</td>\n",
       "      <td>F</td>\n",
       "      <td>2016-04-25</td>\n",
       "      <td>2016-04-29</td>\n",
       "      <td>38.0</td>\n",
       "      <td>SÃO CRISTÓVÃO</td>\n",
       "      <td>1</td>\n",
       "      <td>0</td>\n",
       "      <td>0</td>\n",
       "      <td>0</td>\n",
       "      <td>0</td>\n",
       "      <td>1</td>\n",
       "      <td>1</td>\n",
       "      <td>MARUÍPE</td>\n",
       "      <td>Friday</td>\n",
       "      <td>Monday</td>\n",
       "      <td>4</td>\n",
       "      <td>773.955</td>\n",
       "      <td>Adultos</td>\n",
       "    </tr>\n",
       "    <tr>\n",
       "      <th>38</th>\n",
       "      <td>5.873316e+12</td>\n",
       "      <td>5609446</td>\n",
       "      <td>M</td>\n",
       "      <td>2016-04-20</td>\n",
       "      <td>2016-04-29</td>\n",
       "      <td>85.0</td>\n",
       "      <td>SÃO CRISTÓVÃO</td>\n",
       "      <td>0</td>\n",
       "      <td>1</td>\n",
       "      <td>0</td>\n",
       "      <td>0</td>\n",
       "      <td>0</td>\n",
       "      <td>1</td>\n",
       "      <td>1</td>\n",
       "      <td>MARUÍPE</td>\n",
       "      <td>Friday</td>\n",
       "      <td>Wednesday</td>\n",
       "      <td>9</td>\n",
       "      <td>773.955</td>\n",
       "      <td>Idosos</td>\n",
       "    </tr>\n",
       "    <tr>\n",
       "      <th>46</th>\n",
       "      <td>1.379437e+11</td>\n",
       "      <td>5615608</td>\n",
       "      <td>M</td>\n",
       "      <td>2016-04-25</td>\n",
       "      <td>2016-04-29</td>\n",
       "      <td>58.0</td>\n",
       "      <td>SÃO CRISTÓVÃO</td>\n",
       "      <td>0</td>\n",
       "      <td>1</td>\n",
       "      <td>0</td>\n",
       "      <td>1</td>\n",
       "      <td>0</td>\n",
       "      <td>1</td>\n",
       "      <td>1</td>\n",
       "      <td>MARUÍPE</td>\n",
       "      <td>Friday</td>\n",
       "      <td>Monday</td>\n",
       "      <td>4</td>\n",
       "      <td>773.955</td>\n",
       "      <td>Adultos</td>\n",
       "    </tr>\n",
       "    <tr>\n",
       "      <th>49</th>\n",
       "      <td>9.223559e+13</td>\n",
       "      <td>5534656</td>\n",
       "      <td>F</td>\n",
       "      <td>2016-03-31</td>\n",
       "      <td>2016-04-29</td>\n",
       "      <td>27.0</td>\n",
       "      <td>GRANDE VITÓRIA</td>\n",
       "      <td>0</td>\n",
       "      <td>0</td>\n",
       "      <td>0</td>\n",
       "      <td>0</td>\n",
       "      <td>0</td>\n",
       "      <td>1</td>\n",
       "      <td>0</td>\n",
       "      <td>SANTO ANTÔNIO</td>\n",
       "      <td>Friday</td>\n",
       "      <td>Thursday</td>\n",
       "      <td>29</td>\n",
       "      <td>467.870</td>\n",
       "      <td>Adultons Jovens</td>\n",
       "    </tr>\n",
       "  </tbody>\n",
       "</table>\n",
       "</div>"
      ],
      "text/plain": [
       "       PatientId  AppointmentID Gender ScheduledDay AppointmentDay   Age  \\\n",
       "22  8.632298e+14        5616091      M   2016-04-25     2016-04-29  13.0   \n",
       "33  7.653517e+12        5616921      F   2016-04-25     2016-04-29  38.0   \n",
       "38  5.873316e+12        5609446      M   2016-04-20     2016-04-29  85.0   \n",
       "46  1.379437e+11        5615608      M   2016-04-25     2016-04-29  58.0   \n",
       "49  9.223559e+13        5534656      F   2016-03-31     2016-04-29  27.0   \n",
       "\n",
       "     Neighbourhood  Scholarship  Hipertension  Diabetes  Alcoholism  Handcap  \\\n",
       "22       CONQUISTA            0             0         0           0        0   \n",
       "33   SÃO CRISTÓVÃO            1             0         0           0        0   \n",
       "38   SÃO CRISTÓVÃO            0             1         0           0        0   \n",
       "46   SÃO CRISTÓVÃO            0             1         0           1        0   \n",
       "49  GRANDE VITÓRIA            0             0         0           0        0   \n",
       "\n",
       "    SMS_received  Compareceu   Regiao_Saude AppointmentDayOfWeek  \\\n",
       "22             1           0      SÃO PEDRO               Friday   \n",
       "33             1           1        MARUÍPE               Friday   \n",
       "38             1           1        MARUÍPE               Friday   \n",
       "46             1           1        MARUÍPE               Friday   \n",
       "49             1           0  SANTO ANTÔNIO               Friday   \n",
       "\n",
       "   ScheduledDayOfWeek  time_delta    Renda     Faixa etaria  \n",
       "22             Monday           4  355.045     Adolescentes  \n",
       "33             Monday           4  773.955          Adultos  \n",
       "38          Wednesday           9  773.955           Idosos  \n",
       "46             Monday           4  773.955          Adultos  \n",
       "49           Thursday          29  467.870  Adultons Jovens  "
      ]
     },
     "execution_count": 34,
     "metadata": {},
     "output_type": "execute_result"
    }
   ],
   "source": [
    "df_3plus = df[df['time_delta'] > 3]\n",
    "df_3plus.head()"
   ]
  },
  {
   "cell_type": "code",
   "execution_count": 35,
   "metadata": {},
   "outputs": [
    {
     "data": {
      "image/png": "[encoded data removed]",
      "text/plain": [
       "<Figure size 2000x600 with 1 Axes>"
      ]
     },
     "metadata": {},
     "output_type": "display_data"
    }
   ],
   "source": [
    "df_3plus['Neighbourhood'].value_counts().plot(kind='bar', figsize=(20, 6))\n",
    "plt.show()"
   ]
  },
  {
   "cell_type": "code",
   "execution_count": 36,
   "metadata": {},
   "outputs": [
    {
     "data": {
      "text/plain": [
       "1    40137\n",
       "0    17167\n",
       "Name: Compareceu, dtype: int64"
      ]
     },
     "execution_count": 36,
     "metadata": {},
     "output_type": "execute_result"
    }
   ],
   "source": [
    "df_3plus['Compareceu'].value_counts()\n"
   ]
  },
  {
   "cell_type": "code",
   "execution_count": 37,
   "metadata": {},
   "outputs": [
    {
     "data": {
      "image/png": "[encoded data removed]",
      "text/plain": [
       "<Figure size 640x480 with 1 Axes>"
      ]
     },
     "metadata": {},
     "output_type": "display_data"
    }
   ],
   "source": [
    "df_3plus['Compareceu'].value_counts().plot(kind='bar')\n",
    "plt.show()\n"
   ]
  },
  {
   "cell_type": "code",
   "execution_count": 38,
   "metadata": {},
   "outputs": [
    {
     "data": {
      "image/png": "[encoded data removed]",
      "text/plain": [
       "<Figure size 640x480 with 1 Axes>"
      ]
     },
     "metadata": {},
     "output_type": "display_data"
    }
   ],
   "source": [
    "df_3plus['Age'].hist(bins=50)\n",
    "plt.show()\n"
   ]
  },
  {
   "cell_type": "code",
   "execution_count": 39,
   "metadata": {},
   "outputs": [
    {
     "data": {
      "image/png": "[encoded data removed]",
      "text/plain": [
       "<Figure size 640x480 with 1 Axes>"
      ]
     },
     "metadata": {},
     "output_type": "display_data"
    }
   ],
   "source": [
    "df_3plus['Gender'].value_counts().plot(kind='pie', autopct='%1.1f%%')\n",
    "plt.show()\n"
   ]
  },
  {
   "cell_type": "code",
   "execution_count": 40,
   "metadata": {},
   "outputs": [
    {
     "data": {
      "text/html": [
       "<div>\n",
       "<style scoped>\n",
       "    .dataframe tbody tr th:only-of-type {\n",
       "        vertical-align: middle;\n",
       "    }\n",
       "\n",
       "    .dataframe tbody tr th {\n",
       "        vertical-align: top;\n",
       "    }\n",
       "\n",
       "    .dataframe thead th {\n",
       "        text-align: right;\n",
       "    }\n",
       "</style>\n",
       "<table border=\"1\" class=\"dataframe\">\n",
       "  <thead>\n",
       "    <tr style=\"text-align: right;\">\n",
       "      <th></th>\n",
       "      <th>SMS_received</th>\n",
       "      <th>Compareceu</th>\n",
       "    </tr>\n",
       "  </thead>\n",
       "  <tbody>\n",
       "    <tr>\n",
       "      <th>0</th>\n",
       "      <td>0</td>\n",
       "      <td>22710</td>\n",
       "    </tr>\n",
       "    <tr>\n",
       "      <th>1</th>\n",
       "      <td>1</td>\n",
       "      <td>34594</td>\n",
       "    </tr>\n",
       "  </tbody>\n",
       "</table>\n",
       "</div>"
      ],
      "text/plain": [
       "   SMS_received  Compareceu\n",
       "0             0       22710\n",
       "1             1       34594"
      ]
     },
     "execution_count": 40,
     "metadata": {},
     "output_type": "execute_result"
    }
   ],
   "source": [
    "df_3plus.groupby('SMS_received')['Compareceu'].count().reset_index()"
   ]
  },
  {
   "cell_type": "code",
   "execution_count": 41,
   "metadata": {},
   "outputs": [
    {
     "data": {
      "text/html": [
       "<div>\n",
       "<style scoped>\n",
       "    .dataframe tbody tr th:only-of-type {\n",
       "        vertical-align: middle;\n",
       "    }\n",
       "\n",
       "    .dataframe tbody tr th {\n",
       "        vertical-align: top;\n",
       "    }\n",
       "\n",
       "    .dataframe thead th {\n",
       "        text-align: right;\n",
       "    }\n",
       "</style>\n",
       "<table border=\"1\" class=\"dataframe\">\n",
       "  <thead>\n",
       "    <tr style=\"text-align: right;\">\n",
       "      <th></th>\n",
       "      <th>SMS_received</th>\n",
       "      <th>Compareceu</th>\n",
       "      <th>PatientId</th>\n",
       "    </tr>\n",
       "  </thead>\n",
       "  <tbody>\n",
       "    <tr>\n",
       "      <th>0</th>\n",
       "      <td>0</td>\n",
       "      <td>0</td>\n",
       "      <td>7572</td>\n",
       "    </tr>\n",
       "    <tr>\n",
       "      <th>1</th>\n",
       "      <td>0</td>\n",
       "      <td>1</td>\n",
       "      <td>15138</td>\n",
       "    </tr>\n",
       "    <tr>\n",
       "      <th>2</th>\n",
       "      <td>1</td>\n",
       "      <td>0</td>\n",
       "      <td>9595</td>\n",
       "    </tr>\n",
       "    <tr>\n",
       "      <th>3</th>\n",
       "      <td>1</td>\n",
       "      <td>1</td>\n",
       "      <td>24999</td>\n",
       "    </tr>\n",
       "  </tbody>\n",
       "</table>\n",
       "</div>"
      ],
      "text/plain": [
       "   SMS_received  Compareceu  PatientId\n",
       "0             0           0       7572\n",
       "1             0           1      15138\n",
       "2             1           0       9595\n",
       "3             1           1      24999"
      ]
     },
     "execution_count": 41,
     "metadata": {},
     "output_type": "execute_result"
    }
   ],
   "source": [
    "df_3plus.groupby(['SMS_received','Compareceu'])['PatientId'].count().reset_index()"
   ]
  },
  {
   "cell_type": "code",
   "execution_count": 42,
   "metadata": {},
   "outputs": [
    {
     "data": {
      "text/plain": [
       "AppointmentDayOfWeek\n",
       "Saturday     0.812500\n",
       "Wednesday    0.714018\n",
       "Tuesday      0.707086\n",
       "Thursday     0.697173\n",
       "Monday       0.692640\n",
       "Friday       0.683090\n",
       "Name: Compareceu, dtype: float64"
      ]
     },
     "execution_count": 42,
     "metadata": {},
     "output_type": "execute_result"
    }
   ],
   "source": [
    "df_3plus.groupby('AppointmentDayOfWeek')['Compareceu'].mean().sort_values(ascending=False)"
   ]
  },
  {
   "cell_type": "code",
   "execution_count": 43,
   "metadata": {},
   "outputs": [
    {
     "data": {
      "text/plain": [
       "ScheduledDayOfWeek\n",
       "Saturday     1.000000\n",
       "Friday       0.711622\n",
       "Thursday     0.708451\n",
       "Wednesday    0.702657\n",
       "Tuesday      0.692581\n",
       "Monday       0.685968\n",
       "Name: Compareceu, dtype: float64"
      ]
     },
     "execution_count": 43,
     "metadata": {},
     "output_type": "execute_result"
    }
   ],
   "source": [
    "df_3plus.groupby('ScheduledDayOfWeek')['Compareceu'].mean().sort_values(ascending=False)"
   ]
  },
  {
   "cell_type": "code",
   "execution_count": 44,
   "metadata": {},
   "outputs": [
    {
     "data": {
      "text/plain": [
       "<Axes: >"
      ]
     },
     "execution_count": 44,
     "metadata": {},
     "output_type": "execute_result"
    },
    {
     "data": {
      "image/png": "[encoded data removed]",
      "text/plain": [
       "<Figure size 640x480 with 1 Axes>"
      ]
     },
     "metadata": {},
     "output_type": "display_data"
    }
   ],
   "source": [
    "df_3plus['ScheduledDayOfWeek'].value_counts().plot(kind='bar')"
   ]
  },
  {
   "cell_type": "code",
   "execution_count": 45,
   "metadata": {},
   "outputs": [
    {
     "data": {
      "text/plain": [
       "<Axes: >"
      ]
     },
     "execution_count": 45,
     "metadata": {},
     "output_type": "execute_result"
    },
    {
     "data": {
      "image/png": "[encoded data removed]",
      "text/plain": [
       "<Figure size 640x480 with 1 Axes>"
      ]
     },
     "metadata": {},
     "output_type": "display_data"
    }
   ],
   "source": [
    "df_3plus['AppointmentDayOfWeek'].value_counts().plot(kind='bar')\n"
   ]
  },
  {
   "cell_type": "code",
   "execution_count": 46,
   "metadata": {},
   "outputs": [],
   "source": [
    "sms_received_by_gender = df_3plus.groupby(['Gender', 'SMS_received'])['Compareceu'].mean().reset_index()"
   ]
  },
  {
   "cell_type": "code",
   "execution_count": 47,
   "metadata": {},
   "outputs": [
    {
     "data": {
      "text/html": [
       "<div>\n",
       "<style scoped>\n",
       "    .dataframe tbody tr th:only-of-type {\n",
       "        vertical-align: middle;\n",
       "    }\n",
       "\n",
       "    .dataframe tbody tr th {\n",
       "        vertical-align: top;\n",
       "    }\n",
       "\n",
       "    .dataframe thead th {\n",
       "        text-align: right;\n",
       "    }\n",
       "</style>\n",
       "<table border=\"1\" class=\"dataframe\">\n",
       "  <thead>\n",
       "    <tr style=\"text-align: right;\">\n",
       "      <th></th>\n",
       "      <th>Gender</th>\n",
       "      <th>SMS_received</th>\n",
       "      <th>Compareceu</th>\n",
       "    </tr>\n",
       "  </thead>\n",
       "  <tbody>\n",
       "    <tr>\n",
       "      <th>0</th>\n",
       "      <td>F</td>\n",
       "      <td>0</td>\n",
       "      <td>0.670870</td>\n",
       "    </tr>\n",
       "    <tr>\n",
       "      <th>1</th>\n",
       "      <td>F</td>\n",
       "      <td>1</td>\n",
       "      <td>0.720329</td>\n",
       "    </tr>\n",
       "    <tr>\n",
       "      <th>2</th>\n",
       "      <td>M</td>\n",
       "      <td>0</td>\n",
       "      <td>0.658625</td>\n",
       "    </tr>\n",
       "    <tr>\n",
       "      <th>3</th>\n",
       "      <td>M</td>\n",
       "      <td>1</td>\n",
       "      <td>0.727595</td>\n",
       "    </tr>\n",
       "  </tbody>\n",
       "</table>\n",
       "</div>"
      ],
      "text/plain": [
       "  Gender  SMS_received  Compareceu\n",
       "0      F             0    0.670870\n",
       "1      F             1    0.720329\n",
       "2      M             0    0.658625\n",
       "3      M             1    0.727595"
      ]
     },
     "execution_count": 47,
     "metadata": {},
     "output_type": "execute_result"
    }
   ],
   "source": [
    "sms_received_by_gender"
   ]
  },
  {
   "cell_type": "code",
   "execution_count": 48,
   "metadata": {},
   "outputs": [
    {
     "data": {
      "image/png": "[encoded data removed]",
      "text/plain": [
       "<Figure size 1500x1000 with 6 Axes>"
      ]
     },
     "metadata": {},
     "output_type": "display_data"
    }
   ],
   "source": [
    "# Agrupar por faixa etária e comparecimento\n",
    "age_by_show = df_3plus.groupby(['Faixa etaria', 'Compareceu'])['PatientId'].count().unstack()\n",
    "\n",
    "# Criar subplot para cada faixa etária\n",
    "fig, axes = plt.subplots(nrows=2, ncols=3, figsize=(15,10))\n",
    "\n",
    "# Título principal\n",
    "fig.suptitle('Porcentagem de pacientes por faixa etária e comparecimento', fontsize=20)\n",
    "\n",
    "# Loop pelas faixas etárias\n",
    "for i, (index, data) in enumerate(age_by_show.iterrows()):\n",
    "    # Calcular porcentagem de comparecimento\n",
    "    total = data.sum()\n",
    "    compareceu = data[1]\n",
    "    porcentagem = compareceu / total * 100\n",
    "    \n",
    "    # Definir posição do subplot\n",
    "    row = i // 3\n",
    "    col = i % 3\n",
    "    ax = axes[row, col]\n",
    "    \n",
    "    # Plotar gráfico de pizza\n",
    "    data.plot(kind='pie', \n",
    "              ax=ax, \n",
    "              autopct='%1.1f%%', \n",
    "              labels=['Não Compareceu', 'Compareceu'],\n",
    "              title=f'{index} ({porcentagem:.1f}% compareceu)')\n",
    "    \n",
    "# Ajustar espaçamento entre subplots\n",
    "plt.subplots_adjust(hspace=0.5, wspace=0.5)\n",
    "\n",
    "# Exibir gráfico\n",
    "plt.show()\n"
   ]
  },
  {
   "cell_type": "markdown",
   "metadata": {},
   "source": [
    "<h1>Resultados do envio de SMS</h1>\n",
    "<h3>Introdução</h3>\n",
    "O envio de SMS para lembrar os pacientes de consultas médicas pode ser uma forma eficaz de melhorar a adesão ao tratamento e, consequentemente, a saúde do paciente. Nesta apresentação, iremos analisar os resultados da nossa campanha de envio de SMS para pacientes em Vitória-ES que têm consultas agendadas.\n",
    "\n",
    "<h3>Dados</h3>\n",
    "Os dados utilizados neste projeto foram obtidos a partir da base de dados 'Brazil's Medical Appointment - Show/No Show' disponível em https://www.kaggle.com/datasets/sarvaninandipati/brazils-medical-appointment-show-or-no-show. Nele existe a coluna de SMS e podemos relacionar com a coluna de comparecimento para analisar a eficácia dos sms.\n",
    "\n",
    "<h3>Processos</h3>\n",
    "Inicialmente, os dados mostravam que o SMS diminuia a taxa de comparecimento. Notamos que as consultas marcadas e realizadas no mesmo dia puxavam a taxa de comparecimento muito pra cima(aproximadamente 95% de comparecimento), e que as pessoas só começavam a receber SMS a partir de 3 dias de diferença da data da marcação para a realização da consulta. Então decidimos isolar esse caso pra fazer o estudo somente em pacientes que tenham um tempo de marcação e realização de consulta maior que 3 dias.\n"
   ]
  },
  {
   "cell_type": "code",
   "execution_count": 49,
   "metadata": {},
   "outputs": [
    {
     "data": {
      "text/html": [
       "<div>\n",
       "<style scoped>\n",
       "    .dataframe tbody tr th:only-of-type {\n",
       "        vertical-align: middle;\n",
       "    }\n",
       "\n",
       "    .dataframe tbody tr th {\n",
       "        vertical-align: top;\n",
       "    }\n",
       "\n",
       "    .dataframe thead th {\n",
       "        text-align: right;\n",
       "    }\n",
       "</style>\n",
       "<table border=\"1\" class=\"dataframe\">\n",
       "  <thead>\n",
       "    <tr style=\"text-align: right;\">\n",
       "      <th></th>\n",
       "      <th>PatientId</th>\n",
       "      <th>AppointmentID</th>\n",
       "      <th>Gender</th>\n",
       "      <th>ScheduledDay</th>\n",
       "      <th>AppointmentDay</th>\n",
       "      <th>Age</th>\n",
       "      <th>Neighbourhood</th>\n",
       "      <th>Scholarship</th>\n",
       "      <th>Hipertension</th>\n",
       "      <th>Diabetes</th>\n",
       "      <th>Alcoholism</th>\n",
       "      <th>Handcap</th>\n",
       "      <th>SMS_received</th>\n",
       "      <th>Compareceu</th>\n",
       "      <th>Regiao_Saude</th>\n",
       "      <th>AppointmentDayOfWeek</th>\n",
       "      <th>ScheduledDayOfWeek</th>\n",
       "      <th>time_delta</th>\n",
       "      <th>Renda</th>\n",
       "      <th>Faixa etaria</th>\n",
       "    </tr>\n",
       "  </thead>\n",
       "  <tbody>\n",
       "    <tr>\n",
       "      <th>22</th>\n",
       "      <td>8.632298e+14</td>\n",
       "      <td>5616091</td>\n",
       "      <td>M</td>\n",
       "      <td>2016-04-25</td>\n",
       "      <td>2016-04-29</td>\n",
       "      <td>13.0</td>\n",
       "      <td>CONQUISTA</td>\n",
       "      <td>0</td>\n",
       "      <td>0</td>\n",
       "      <td>0</td>\n",
       "      <td>0</td>\n",
       "      <td>0</td>\n",
       "      <td>1</td>\n",
       "      <td>0</td>\n",
       "      <td>SÃO PEDRO</td>\n",
       "      <td>Friday</td>\n",
       "      <td>Monday</td>\n",
       "      <td>4</td>\n",
       "      <td>355.045</td>\n",
       "      <td>Adolescentes</td>\n",
       "    </tr>\n",
       "    <tr>\n",
       "      <th>33</th>\n",
       "      <td>7.653517e+12</td>\n",
       "      <td>5616921</td>\n",
       "      <td>F</td>\n",
       "      <td>2016-04-25</td>\n",
       "      <td>2016-04-29</td>\n",
       "      <td>38.0</td>\n",
       "      <td>SÃO CRISTÓVÃO</td>\n",
       "      <td>1</td>\n",
       "      <td>0</td>\n",
       "      <td>0</td>\n",
       "      <td>0</td>\n",
       "      <td>0</td>\n",
       "      <td>1</td>\n",
       "      <td>1</td>\n",
       "      <td>MARUÍPE</td>\n",
       "      <td>Friday</td>\n",
       "      <td>Monday</td>\n",
       "      <td>4</td>\n",
       "      <td>773.955</td>\n",
       "      <td>Adultos</td>\n",
       "    </tr>\n",
       "    <tr>\n",
       "      <th>38</th>\n",
       "      <td>5.873316e+12</td>\n",
       "      <td>5609446</td>\n",
       "      <td>M</td>\n",
       "      <td>2016-04-20</td>\n",
       "      <td>2016-04-29</td>\n",
       "      <td>85.0</td>\n",
       "      <td>SÃO CRISTÓVÃO</td>\n",
       "      <td>0</td>\n",
       "      <td>1</td>\n",
       "      <td>0</td>\n",
       "      <td>0</td>\n",
       "      <td>0</td>\n",
       "      <td>1</td>\n",
       "      <td>1</td>\n",
       "      <td>MARUÍPE</td>\n",
       "      <td>Friday</td>\n",
       "      <td>Wednesday</td>\n",
       "      <td>9</td>\n",
       "      <td>773.955</td>\n",
       "      <td>Idosos</td>\n",
       "    </tr>\n",
       "    <tr>\n",
       "      <th>46</th>\n",
       "      <td>1.379437e+11</td>\n",
       "      <td>5615608</td>\n",
       "      <td>M</td>\n",
       "      <td>2016-04-25</td>\n",
       "      <td>2016-04-29</td>\n",
       "      <td>58.0</td>\n",
       "      <td>SÃO CRISTÓVÃO</td>\n",
       "      <td>0</td>\n",
       "      <td>1</td>\n",
       "      <td>0</td>\n",
       "      <td>1</td>\n",
       "      <td>0</td>\n",
       "      <td>1</td>\n",
       "      <td>1</td>\n",
       "      <td>MARUÍPE</td>\n",
       "      <td>Friday</td>\n",
       "      <td>Monday</td>\n",
       "      <td>4</td>\n",
       "      <td>773.955</td>\n",
       "      <td>Adultos</td>\n",
       "    </tr>\n",
       "    <tr>\n",
       "      <th>49</th>\n",
       "      <td>9.223559e+13</td>\n",
       "      <td>5534656</td>\n",
       "      <td>F</td>\n",
       "      <td>2016-03-31</td>\n",
       "      <td>2016-04-29</td>\n",
       "      <td>27.0</td>\n",
       "      <td>GRANDE VITÓRIA</td>\n",
       "      <td>0</td>\n",
       "      <td>0</td>\n",
       "      <td>0</td>\n",
       "      <td>0</td>\n",
       "      <td>0</td>\n",
       "      <td>1</td>\n",
       "      <td>0</td>\n",
       "      <td>SANTO ANTÔNIO</td>\n",
       "      <td>Friday</td>\n",
       "      <td>Thursday</td>\n",
       "      <td>29</td>\n",
       "      <td>467.870</td>\n",
       "      <td>Adultons Jovens</td>\n",
       "    </tr>\n",
       "  </tbody>\n",
       "</table>\n",
       "</div>"
      ],
      "text/plain": [
       "       PatientId  AppointmentID Gender ScheduledDay AppointmentDay   Age  \\\n",
       "22  8.632298e+14        5616091      M   2016-04-25     2016-04-29  13.0   \n",
       "33  7.653517e+12        5616921      F   2016-04-25     2016-04-29  38.0   \n",
       "38  5.873316e+12        5609446      M   2016-04-20     2016-04-29  85.0   \n",
       "46  1.379437e+11        5615608      M   2016-04-25     2016-04-29  58.0   \n",
       "49  9.223559e+13        5534656      F   2016-03-31     2016-04-29  27.0   \n",
       "\n",
       "     Neighbourhood  Scholarship  Hipertension  Diabetes  Alcoholism  Handcap  \\\n",
       "22       CONQUISTA            0             0         0           0        0   \n",
       "33   SÃO CRISTÓVÃO            1             0         0           0        0   \n",
       "38   SÃO CRISTÓVÃO            0             1         0           0        0   \n",
       "46   SÃO CRISTÓVÃO            0             1         0           1        0   \n",
       "49  GRANDE VITÓRIA            0             0         0           0        0   \n",
       "\n",
       "    SMS_received  Compareceu   Regiao_Saude AppointmentDayOfWeek  \\\n",
       "22             1           0      SÃO PEDRO               Friday   \n",
       "33             1           1        MARUÍPE               Friday   \n",
       "38             1           1        MARUÍPE               Friday   \n",
       "46             1           1        MARUÍPE               Friday   \n",
       "49             1           0  SANTO ANTÔNIO               Friday   \n",
       "\n",
       "   ScheduledDayOfWeek  time_delta    Renda     Faixa etaria  \n",
       "22             Monday           4  355.045     Adolescentes  \n",
       "33             Monday           4  773.955          Adultos  \n",
       "38          Wednesday           9  773.955           Idosos  \n",
       "46             Monday           4  773.955          Adultos  \n",
       "49           Thursday          29  467.870  Adultons Jovens  "
      ]
     },
     "execution_count": 49,
     "metadata": {},
     "output_type": "execute_result"
    }
   ],
   "source": [
    "df_3plus = df[df['time_delta'] > 3]\n",
    "df_3plus.head()"
   ]
  },
  {
   "cell_type": "markdown",
   "metadata": {},
   "source": [
    "\n",
    "\n",
    "\n",
    "\n",
    "<h3>Resultados</h3>\n",
    "Os resultados mostram que a taxa de comparecimento dos pacientes que receberam o SMS foi 72,26%, enquanto a taxa de comparecimento dos pacientes que não receberam o SMS foi 66,65%.\n"
   ]
  },
  {
   "cell_type": "code",
   "execution_count": 50,
   "metadata": {},
   "outputs": [
    {
     "data": {
      "text/html": [
       "<div>\n",
       "<style scoped>\n",
       "    .dataframe tbody tr th:only-of-type {\n",
       "        vertical-align: middle;\n",
       "    }\n",
       "\n",
       "    .dataframe tbody tr th {\n",
       "        vertical-align: top;\n",
       "    }\n",
       "\n",
       "    .dataframe thead th {\n",
       "        text-align: right;\n",
       "    }\n",
       "</style>\n",
       "<table border=\"1\" class=\"dataframe\">\n",
       "  <thead>\n",
       "    <tr style=\"text-align: right;\">\n",
       "      <th></th>\n",
       "      <th>SMS_received</th>\n",
       "      <th>Compareceu</th>\n",
       "    </tr>\n",
       "  </thead>\n",
       "  <tbody>\n",
       "    <tr>\n",
       "      <th>0</th>\n",
       "      <td>0</td>\n",
       "      <td>0.666579</td>\n",
       "    </tr>\n",
       "    <tr>\n",
       "      <th>1</th>\n",
       "      <td>1</td>\n",
       "      <td>0.722640</td>\n",
       "    </tr>\n",
       "  </tbody>\n",
       "</table>\n",
       "</div>"
      ],
      "text/plain": [
       "   SMS_received  Compareceu\n",
       "0             0    0.666579\n",
       "1             1    0.722640"
      ]
     },
     "execution_count": 50,
     "metadata": {},
     "output_type": "execute_result"
    }
   ],
   "source": [
    "df_3plus.groupby('SMS_received')['Compareceu'].mean().reset_index()"
   ]
  },
  {
   "cell_type": "markdown",
   "metadata": {},
   "source": [
    "\n",
    "Além disso, pudemos observar uma correlação entre o envio de SMS e a taxa de comparecimento dos pacientes. [Gráfico de barras ou outro tipo de gráfico que ilustre a correlação].\n"
   ]
  },
  {
   "cell_type": "code",
   "execution_count": 51,
   "metadata": {},
   "outputs": [
    {
     "data": {
      "image/png": "[encoded data removed]",
      "text/plain": [
       "<Figure size 640x480 with 1 Axes>"
      ]
     },
     "metadata": {},
     "output_type": "display_data"
    }
   ],
   "source": [
    "import matplotlib.pyplot as plt\n",
    "\n",
    "sms_comparecimento = df_3plus.groupby('SMS_received')['Compareceu'].mean().reset_index()\n",
    "\n",
    "plt.bar(sms_comparecimento['SMS_received'], sms_comparecimento['Compareceu'])\n",
    "plt.xlabel('Recebimento de SMS')\n",
    "plt.ylabel('Taxa de comparecimento')\n",
    "plt.xticks([0, 1], ['Não', 'Sim'])\n",
    "plt.title('Relação entre recebimento de SMS e comparecimento')\n",
    "plt.show()\n"
   ]
  },
  {
   "cell_type": "markdown",
   "metadata": {},
   "source": [
    "A taxa de comparecimento aumenta em todas as faixas etárias, porém precisamos achar algo pra aliar ao sms e aumentar o comprometimento dos adolescentes e adultos jovens. E a taxa para crianças é a mais beneficiada pelo uso do SMS. Sendo assim, é necessário usar a estratégia para princilpamente Crianças, Adolescentes e Adultos jovens."
   ]
  },
  {
   "cell_type": "code",
   "execution_count": 52,
   "metadata": {},
   "outputs": [
    {
     "data": {
      "text/html": [
       "<div>\n",
       "<style scoped>\n",
       "    .dataframe tbody tr th:only-of-type {\n",
       "        vertical-align: middle;\n",
       "    }\n",
       "\n",
       "    .dataframe tbody tr th {\n",
       "        vertical-align: top;\n",
       "    }\n",
       "\n",
       "    .dataframe thead th {\n",
       "        text-align: right;\n",
       "    }\n",
       "</style>\n",
       "<table border=\"1\" class=\"dataframe\">\n",
       "  <thead>\n",
       "    <tr style=\"text-align: right;\">\n",
       "      <th></th>\n",
       "      <th>Faixa etaria</th>\n",
       "      <th>SMS_received</th>\n",
       "      <th>Compareceu</th>\n",
       "    </tr>\n",
       "  </thead>\n",
       "  <tbody>\n",
       "    <tr>\n",
       "      <th>0</th>\n",
       "      <td>Crianças</td>\n",
       "      <td>0</td>\n",
       "      <td>0.632444</td>\n",
       "    </tr>\n",
       "    <tr>\n",
       "      <th>1</th>\n",
       "      <td>Crianças</td>\n",
       "      <td>1</td>\n",
       "      <td>0.711141</td>\n",
       "    </tr>\n",
       "    <tr>\n",
       "      <th>2</th>\n",
       "      <td>Adolescentes</td>\n",
       "      <td>0</td>\n",
       "      <td>0.598504</td>\n",
       "    </tr>\n",
       "    <tr>\n",
       "      <th>3</th>\n",
       "      <td>Adolescentes</td>\n",
       "      <td>1</td>\n",
       "      <td>0.642091</td>\n",
       "    </tr>\n",
       "    <tr>\n",
       "      <th>4</th>\n",
       "      <td>Adultons Jovens</td>\n",
       "      <td>0</td>\n",
       "      <td>0.609333</td>\n",
       "    </tr>\n",
       "    <tr>\n",
       "      <th>5</th>\n",
       "      <td>Adultons Jovens</td>\n",
       "      <td>1</td>\n",
       "      <td>0.644154</td>\n",
       "    </tr>\n",
       "    <tr>\n",
       "      <th>6</th>\n",
       "      <td>Adultos</td>\n",
       "      <td>0</td>\n",
       "      <td>0.673792</td>\n",
       "    </tr>\n",
       "    <tr>\n",
       "      <th>7</th>\n",
       "      <td>Adultos</td>\n",
       "      <td>1</td>\n",
       "      <td>0.735681</td>\n",
       "    </tr>\n",
       "    <tr>\n",
       "      <th>8</th>\n",
       "      <td>Idosos</td>\n",
       "      <td>0</td>\n",
       "      <td>0.757240</td>\n",
       "    </tr>\n",
       "    <tr>\n",
       "      <th>9</th>\n",
       "      <td>Idosos</td>\n",
       "      <td>1</td>\n",
       "      <td>0.806576</td>\n",
       "    </tr>\n",
       "  </tbody>\n",
       "</table>\n",
       "</div>"
      ],
      "text/plain": [
       "      Faixa etaria  SMS_received  Compareceu\n",
       "0         Crianças             0    0.632444\n",
       "1         Crianças             1    0.711141\n",
       "2     Adolescentes             0    0.598504\n",
       "3     Adolescentes             1    0.642091\n",
       "4  Adultons Jovens             0    0.609333\n",
       "5  Adultons Jovens             1    0.644154\n",
       "6          Adultos             0    0.673792\n",
       "7          Adultos             1    0.735681\n",
       "8           Idosos             0    0.757240\n",
       "9           Idosos             1    0.806576"
      ]
     },
     "execution_count": 52,
     "metadata": {},
     "output_type": "execute_result"
    }
   ],
   "source": [
    "sms_by_age_show = df_3plus.groupby(['Faixa etaria', 'SMS_received'])['Compareceu'].mean().reset_index()\n",
    "sms_by_age_show"
   ]
  },
  {
   "cell_type": "markdown",
   "metadata": {},
   "source": [
    "A taxa de comparecimento dos homens é mais afetada que a das mulheres com o uso do SMS, a porcentagem de homens que comparecem com o recebimento do SMS fica levemente maior que a das mulheres, note que os homens tem uma taxa de comparecimento menor no geral."
   ]
  },
  {
   "cell_type": "code",
   "execution_count": 53,
   "metadata": {},
   "outputs": [
    {
     "data": {
      "text/html": [
       "<div>\n",
       "<style scoped>\n",
       "    .dataframe tbody tr th:only-of-type {\n",
       "        vertical-align: middle;\n",
       "    }\n",
       "\n",
       "    .dataframe tbody tr th {\n",
       "        vertical-align: top;\n",
       "    }\n",
       "\n",
       "    .dataframe thead th {\n",
       "        text-align: right;\n",
       "    }\n",
       "</style>\n",
       "<table border=\"1\" class=\"dataframe\">\n",
       "  <thead>\n",
       "    <tr style=\"text-align: right;\">\n",
       "      <th></th>\n",
       "      <th>Gender</th>\n",
       "      <th>SMS_received</th>\n",
       "      <th>Compareceu</th>\n",
       "    </tr>\n",
       "  </thead>\n",
       "  <tbody>\n",
       "    <tr>\n",
       "      <th>0</th>\n",
       "      <td>F</td>\n",
       "      <td>0</td>\n",
       "      <td>0.670870</td>\n",
       "    </tr>\n",
       "    <tr>\n",
       "      <th>1</th>\n",
       "      <td>F</td>\n",
       "      <td>1</td>\n",
       "      <td>0.720329</td>\n",
       "    </tr>\n",
       "    <tr>\n",
       "      <th>2</th>\n",
       "      <td>M</td>\n",
       "      <td>0</td>\n",
       "      <td>0.658625</td>\n",
       "    </tr>\n",
       "    <tr>\n",
       "      <th>3</th>\n",
       "      <td>M</td>\n",
       "      <td>1</td>\n",
       "      <td>0.727595</td>\n",
       "    </tr>\n",
       "  </tbody>\n",
       "</table>\n",
       "</div>"
      ],
      "text/plain": [
       "  Gender  SMS_received  Compareceu\n",
       "0      F             0    0.670870\n",
       "1      F             1    0.720329\n",
       "2      M             0    0.658625\n",
       "3      M             1    0.727595"
      ]
     },
     "execution_count": 53,
     "metadata": {},
     "output_type": "execute_result"
    }
   ],
   "source": [
    "sms_received_by_gender = df_3plus.groupby(['Gender', 'SMS_received'])['Compareceu'].mean().reset_index()\n",
    "sms_received_by_gender"
   ]
  },
  {
   "cell_type": "code",
   "execution_count": 54,
   "metadata": {},
   "outputs": [
    {
     "data": {
      "text/html": [
       "<div>\n",
       "<style scoped>\n",
       "    .dataframe tbody tr th:only-of-type {\n",
       "        vertical-align: middle;\n",
       "    }\n",
       "\n",
       "    .dataframe tbody tr th {\n",
       "        vertical-align: top;\n",
       "    }\n",
       "\n",
       "    .dataframe thead th {\n",
       "        text-align: right;\n",
       "    }\n",
       "</style>\n",
       "<table border=\"1\" class=\"dataframe\">\n",
       "  <thead>\n",
       "    <tr style=\"text-align: right;\">\n",
       "      <th></th>\n",
       "      <th>Gender</th>\n",
       "      <th>Compareceu</th>\n",
       "    </tr>\n",
       "  </thead>\n",
       "  <tbody>\n",
       "    <tr>\n",
       "      <th>0</th>\n",
       "      <td>F</td>\n",
       "      <td>0.701301</td>\n",
       "    </tr>\n",
       "    <tr>\n",
       "      <th>1</th>\n",
       "      <td>M</td>\n",
       "      <td>0.698645</td>\n",
       "    </tr>\n",
       "  </tbody>\n",
       "</table>\n",
       "</div>"
      ],
      "text/plain": [
       "  Gender  Compareceu\n",
       "0      F    0.701301\n",
       "1      M    0.698645"
      ]
     },
     "execution_count": 54,
     "metadata": {},
     "output_type": "execute_result"
    }
   ],
   "source": [
    "sms_received_by_gender = df_3plus.groupby(['Gender'])['Compareceu'].mean().reset_index()\n",
    "sms_received_by_gender"
   ]
  },
  {
   "cell_type": "markdown",
   "metadata": {},
   "source": [
    "\n",
    "\n",
    "\n",
    "É importante ressaltar que, embora esses cálculos possam nos dar uma ideia geral da eficácia do SMS, há muitos outros fatores que podem influenciar a decisão de um paciente de comparecer a uma consulta, como a gravidade da condição médica, o acesso ao transporte, o nível socioeconômico, entre outros. Portanto, esses cálculos devem ser interpretados com cautela e considerando o contexto.\n",
    "\n",
    "<h3>Conclusão</h3>\n",
    "Com base nos resultados da nossa análise, podemos concluir que o envio de SMS é uma estratégia eficaz para melhorar a adesão dos pacientes a consultas médicas, sendo ainda mais recomendada para homens, adultos jovens, adolescentes e pais de crianças. Recomendamos que esta estratégia seja adotada por outras instituições médicas em todo o país para melhorar a saúde da população e reduzir os custos com tratamentos médicos desnecessários."
   ]
  },
  {
   "cell_type": "markdown",
   "metadata": {},
   "source": [
    "# Vinícius"
   ]
  },
  {
   "attachments": {},
   "cell_type": "markdown",
   "metadata": {},
   "source": [
    "# Avaliação da presença nos bairros\n",
    "\n",
    "Primeiro, removemos as consultas que foram realizadas no mesmo dia, pois queremos ver a presença em consultas futuras."
   ]
  },
  {
   "cell_type": "code",
   "execution_count": 55,
   "metadata": {},
   "outputs": [],
   "source": [
    "not_emergency = df.query('time_delta > 0')"
   ]
  },
  {
   "attachments": {},
   "cell_type": "markdown",
   "metadata": {},
   "source": [
    "Após isso, separamos as consultas por bairros, e verificamos a média de comparecimento por bairro."
   ]
  },
  {
   "cell_type": "code",
   "execution_count": 56,
   "metadata": {},
   "outputs": [
    {
     "data": {
      "text/plain": [
       "Neighbourhood                Renda    \n",
       "ILHAS OCEÂNICAS DE TRINDADE  0.0000        0.000000\n",
       "GURIGICA                     474.5025     61.628959\n",
       "JESUS DE NAZARETH            518.3450     62.507123\n",
       "ITARARÉ                      660.7150     63.502730\n",
       "HORTO                        1040.3000    64.035088\n",
       "                                            ...    \n",
       "MORADA DE CAMBURI            3047.3300    79.487179\n",
       "DE LOURDES                   1631.0050    79.729730\n",
       "AEROPORTO                    1631.0050    80.000000\n",
       "SOLON BORGES                 966.5700     80.712166\n",
       "ILHA DO BOI                  5446.0200    91.304348\n",
       "Name: Compareceu, Length: 80, dtype: float64"
      ]
     },
     "execution_count": 56,
     "metadata": {},
     "output_type": "execute_result"
    }
   ],
   "source": [
    "not_emergency.groupby(['Neighbourhood', 'Renda'])['Compareceu'].mean().sort_values(ascending=True)*100"
   ]
  },
  {
   "attachments": {},
   "cell_type": "markdown",
   "metadata": {},
   "source": [
    "É possível ver uma tendência de que bairros mais pobres tem uma taxa de ausência maior nas consultas.\n",
    "\n",
    "Podemos colocar essa representação visualmente em gráficos:"
   ]
  },
  {
   "cell_type": "code",
   "execution_count": 57,
   "metadata": {},
   "outputs": [
    {
     "data": {
      "image/png": "[encoded data removed]",
      "text/plain": [
       "<Figure size 2000x200 with 2 Axes>"
      ]
     },
     "metadata": {},
     "output_type": "display_data"
    }
   ],
   "source": [
    "b_r_p = not_emergency.groupby(['Neighbourhood', 'Renda'])['Compareceu'].mean().sort_values(ascending=True)*100\n",
    "x = [b[0] for b in b_r_p.index]\n",
    "y = [b[1] for b in b_r_p.index]\n",
    "plt.figure(figsize=(20,2))\n",
    "plt.subplot(151)\n",
    "plt.plot(x, b_r_p.values)\n",
    "plt.subplot(152)\n",
    "plt.plot(x, y, )\n",
    "plt.show()"
   ]
  },
  {
   "attachments": {},
   "cell_type": "markdown",
   "metadata": {},
   "source": [
    "Fazendo a separação de acordo com as Regiões de Saúde, temos:"
   ]
  },
  {
   "cell_type": "code",
   "execution_count": 87,
   "metadata": {},
   "outputs": [
    {
     "data": {
      "text/plain": [
       "Regiao_Saude\n",
       "MARUÍPE           0.692060\n",
       "SÃO PEDRO         0.712205\n",
       "FORTE SÃO JOÃO    0.713488\n",
       "CENTRO            0.716993\n",
       "SANTO ANTÔNIO     0.719387\n",
       "CONTINENTAL       0.740986\n",
       "Name: Compareceu, dtype: float64"
      ]
     },
     "execution_count": 87,
     "metadata": {},
     "output_type": "execute_result"
    }
   ],
   "source": [
    "attendance = not_emergency.groupby('Regiao_Saude')['Compareceu'].mean().sort_values(ascending=True)\n",
    "attendance"
   ]
  },
  {
   "cell_type": "code",
   "execution_count": 88,
   "metadata": {},
   "outputs": [
    {
     "data": {
      "text/plain": [
       "Regiao_Saude\n",
       "SÃO PEDRO          398.253148\n",
       "SANTO ANTÔNIO      611.639567\n",
       "MARUÍPE            817.223307\n",
       "CENTRO             968.520566\n",
       "FORTE SÃO JOÃO    1329.611683\n",
       "CONTINENTAL       1678.083458\n",
       "Name: Renda, dtype: float64"
      ]
     },
     "execution_count": 88,
     "metadata": {},
     "output_type": "execute_result"
    }
   ],
   "source": [
    "income = not_emergency.groupby('Regiao_Saude')['Renda'].mean().sort_values(ascending=True)\n",
    "income"
   ]
  },
  {
   "cell_type": "code",
   "execution_count": 90,
   "metadata": {},
   "outputs": [
    {
     "data": {
      "text/html": [
       "<div>\n",
       "<style scoped>\n",
       "    .dataframe tbody tr th:only-of-type {\n",
       "        vertical-align: middle;\n",
       "    }\n",
       "\n",
       "    .dataframe tbody tr th {\n",
       "        vertical-align: top;\n",
       "    }\n",
       "\n",
       "    .dataframe thead th {\n",
       "        text-align: right;\n",
       "    }\n",
       "</style>\n",
       "<table border=\"1\" class=\"dataframe\">\n",
       "  <thead>\n",
       "    <tr style=\"text-align: right;\">\n",
       "      <th></th>\n",
       "      <th>Renda</th>\n",
       "      <th>Compareceu</th>\n",
       "    </tr>\n",
       "    <tr>\n",
       "      <th>Regiao_Saude</th>\n",
       "      <th></th>\n",
       "      <th></th>\n",
       "    </tr>\n",
       "  </thead>\n",
       "  <tbody>\n",
       "    <tr>\n",
       "      <th>SÃO PEDRO</th>\n",
       "      <td>398.253148</td>\n",
       "      <td>0.712205</td>\n",
       "    </tr>\n",
       "    <tr>\n",
       "      <th>SANTO ANTÔNIO</th>\n",
       "      <td>611.639567</td>\n",
       "      <td>0.719387</td>\n",
       "    </tr>\n",
       "    <tr>\n",
       "      <th>MARUÍPE</th>\n",
       "      <td>817.223307</td>\n",
       "      <td>0.692060</td>\n",
       "    </tr>\n",
       "    <tr>\n",
       "      <th>CENTRO</th>\n",
       "      <td>968.520566</td>\n",
       "      <td>0.716993</td>\n",
       "    </tr>\n",
       "    <tr>\n",
       "      <th>FORTE SÃO JOÃO</th>\n",
       "      <td>1329.611683</td>\n",
       "      <td>0.713488</td>\n",
       "    </tr>\n",
       "    <tr>\n",
       "      <th>CONTINENTAL</th>\n",
       "      <td>1678.083458</td>\n",
       "      <td>0.740986</td>\n",
       "    </tr>\n",
       "  </tbody>\n",
       "</table>\n",
       "</div>"
      ],
      "text/plain": [
       "                      Renda  Compareceu\n",
       "Regiao_Saude                           \n",
       "SÃO PEDRO        398.253148    0.712205\n",
       "SANTO ANTÔNIO    611.639567    0.719387\n",
       "MARUÍPE          817.223307    0.692060\n",
       "CENTRO           968.520566    0.716993\n",
       "FORTE SÃO JOÃO  1329.611683    0.713488\n",
       "CONTINENTAL     1678.083458    0.740986"
      ]
     },
     "execution_count": 90,
     "metadata": {},
     "output_type": "execute_result"
    }
   ],
   "source": [
    "pd.merge(income, attendance, on='Regiao_Saude')"
   ]
  },
  {
   "attachments": {},
   "cell_type": "markdown",
   "metadata": {},
   "source": [
    "Conclusão: deve ser feito alguma ação sobre os bairros de menor renda, pois esses aparentam ser mais vulneráveis. Uma possibilidade seria um programa que os médicos vão até os pacientes desses bairros para minimizar as faltas nas consultas."
   ]
  },
  {
   "cell_type": "markdown",
   "metadata": {},
   "source": [
    "# Aline"
   ]
  },
  {
   "cell_type": "markdown",
   "metadata": {},
   "source": [
    "# Data de agendamento:\n",
    "O objetivo é avaliar a relação entra a data de agendamento e a assiduidade dos pacientes, visando criar um indicador para estabelecimento de um perfil propenso a não comparecer as consultas"
   ]
  },
  {
   "cell_type": "code",
   "execution_count": 59,
   "metadata": {},
   "outputs": [],
   "source": [
    "df_aux = pd.read_excel('appointment_prediction_data.xlsx')\n",
    "df_aux['No-show'].replace({'Yes': 0, 'No': 1}, inplace=True)\n",
    "\n",
    "df_aux.rename(columns={'No-show': 'Compareceu'}, inplace=True)"
   ]
  },
  {
   "cell_type": "code",
   "execution_count": 60,
   "metadata": {},
   "outputs": [
    {
     "data": {
      "text/html": [
       "<div>\n",
       "<style scoped>\n",
       "    .dataframe tbody tr th:only-of-type {\n",
       "        vertical-align: middle;\n",
       "    }\n",
       "\n",
       "    .dataframe tbody tr th {\n",
       "        vertical-align: top;\n",
       "    }\n",
       "\n",
       "    .dataframe thead th {\n",
       "        text-align: right;\n",
       "    }\n",
       "</style>\n",
       "<table border=\"1\" class=\"dataframe\">\n",
       "  <thead>\n",
       "    <tr style=\"text-align: right;\">\n",
       "      <th></th>\n",
       "      <th>PatientId</th>\n",
       "      <th>AppointmentID</th>\n",
       "      <th>Gender</th>\n",
       "      <th>ScheduledDay</th>\n",
       "      <th>AppointmentDay</th>\n",
       "      <th>Age</th>\n",
       "      <th>Neighbourhood</th>\n",
       "      <th>Scholarship</th>\n",
       "      <th>Hipertension</th>\n",
       "      <th>Diabetes</th>\n",
       "      <th>Alcoholism</th>\n",
       "      <th>Handcap</th>\n",
       "      <th>SMS_received</th>\n",
       "      <th>Compareceu</th>\n",
       "    </tr>\n",
       "  </thead>\n",
       "  <tbody>\n",
       "    <tr>\n",
       "      <th>0</th>\n",
       "      <td>2.987250e+13</td>\n",
       "      <td>5642903</td>\n",
       "      <td>F</td>\n",
       "      <td>2016-04-29T18:38:08Z</td>\n",
       "      <td>2016-04-29T00:00:00Z</td>\n",
       "      <td>62.0</td>\n",
       "      <td>JARDIM DA PENHA</td>\n",
       "      <td>0</td>\n",
       "      <td>1</td>\n",
       "      <td>0</td>\n",
       "      <td>0</td>\n",
       "      <td>0</td>\n",
       "      <td>0</td>\n",
       "      <td>1</td>\n",
       "    </tr>\n",
       "    <tr>\n",
       "      <th>1</th>\n",
       "      <td>5.589978e+14</td>\n",
       "      <td>5642503</td>\n",
       "      <td>M</td>\n",
       "      <td>2016-04-29T16:08:27Z</td>\n",
       "      <td>2016-04-29T00:00:00Z</td>\n",
       "      <td>56.0</td>\n",
       "      <td>JARDIM DA PENHA</td>\n",
       "      <td>0</td>\n",
       "      <td>0</td>\n",
       "      <td>0</td>\n",
       "      <td>0</td>\n",
       "      <td>0</td>\n",
       "      <td>0</td>\n",
       "      <td>1</td>\n",
       "    </tr>\n",
       "    <tr>\n",
       "      <th>2</th>\n",
       "      <td>4.262962e+12</td>\n",
       "      <td>5642549</td>\n",
       "      <td>F</td>\n",
       "      <td>2016-04-29T16:19:04Z</td>\n",
       "      <td>2016-04-29T00:00:00Z</td>\n",
       "      <td>62.0</td>\n",
       "      <td>MATA DA PRAIA</td>\n",
       "      <td>0</td>\n",
       "      <td>0</td>\n",
       "      <td>0</td>\n",
       "      <td>0</td>\n",
       "      <td>0</td>\n",
       "      <td>0</td>\n",
       "      <td>1</td>\n",
       "    </tr>\n",
       "    <tr>\n",
       "      <th>3</th>\n",
       "      <td>8.679512e+11</td>\n",
       "      <td>5642828</td>\n",
       "      <td>F</td>\n",
       "      <td>2016-04-29T17:29:31Z</td>\n",
       "      <td>2016-04-29T00:00:00Z</td>\n",
       "      <td>8.0</td>\n",
       "      <td>PONTAL DE CAMBURI</td>\n",
       "      <td>0</td>\n",
       "      <td>0</td>\n",
       "      <td>0</td>\n",
       "      <td>0</td>\n",
       "      <td>0</td>\n",
       "      <td>0</td>\n",
       "      <td>1</td>\n",
       "    </tr>\n",
       "    <tr>\n",
       "      <th>4</th>\n",
       "      <td>8.841186e+12</td>\n",
       "      <td>5642494</td>\n",
       "      <td>F</td>\n",
       "      <td>2016-04-29T16:07:23Z</td>\n",
       "      <td>2016-04-29T00:00:00Z</td>\n",
       "      <td>56.0</td>\n",
       "      <td>JARDIM DA PENHA</td>\n",
       "      <td>0</td>\n",
       "      <td>1</td>\n",
       "      <td>1</td>\n",
       "      <td>0</td>\n",
       "      <td>0</td>\n",
       "      <td>0</td>\n",
       "      <td>1</td>\n",
       "    </tr>\n",
       "    <tr>\n",
       "      <th>...</th>\n",
       "      <td>...</td>\n",
       "      <td>...</td>\n",
       "      <td>...</td>\n",
       "      <td>...</td>\n",
       "      <td>...</td>\n",
       "      <td>...</td>\n",
       "      <td>...</td>\n",
       "      <td>...</td>\n",
       "      <td>...</td>\n",
       "      <td>...</td>\n",
       "      <td>...</td>\n",
       "      <td>...</td>\n",
       "      <td>...</td>\n",
       "      <td>...</td>\n",
       "    </tr>\n",
       "    <tr>\n",
       "      <th>110568</th>\n",
       "      <td>8.567868e+12</td>\n",
       "      <td>5627377</td>\n",
       "      <td>F</td>\n",
       "      <td>2016-04-27T09:24:46Z</td>\n",
       "      <td>2016-06-03T00:00:00Z</td>\n",
       "      <td>20.0</td>\n",
       "      <td>RESIST√äNCIA</td>\n",
       "      <td>0</td>\n",
       "      <td>0</td>\n",
       "      <td>0</td>\n",
       "      <td>0</td>\n",
       "      <td>0</td>\n",
       "      <td>1</td>\n",
       "      <td>1</td>\n",
       "    </tr>\n",
       "    <tr>\n",
       "      <th>110569</th>\n",
       "      <td>3.134163e+12</td>\n",
       "      <td>5768536</td>\n",
       "      <td>F</td>\n",
       "      <td>2016-06-03T07:42:27Z</td>\n",
       "      <td>2016-06-03T00:00:00Z</td>\n",
       "      <td>53.0</td>\n",
       "      <td>RESIST√äNCIA</td>\n",
       "      <td>0</td>\n",
       "      <td>0</td>\n",
       "      <td>0</td>\n",
       "      <td>0</td>\n",
       "      <td>0</td>\n",
       "      <td>0</td>\n",
       "      <td>1</td>\n",
       "    </tr>\n",
       "    <tr>\n",
       "      <th>110570</th>\n",
       "      <td>6.846652e+12</td>\n",
       "      <td>5768917</td>\n",
       "      <td>M</td>\n",
       "      <td>2016-06-03T08:10:22Z</td>\n",
       "      <td>2016-06-03T00:00:00Z</td>\n",
       "      <td>51.0</td>\n",
       "      <td>RESIST√äNCIA</td>\n",
       "      <td>0</td>\n",
       "      <td>0</td>\n",
       "      <td>0</td>\n",
       "      <td>0</td>\n",
       "      <td>0</td>\n",
       "      <td>0</td>\n",
       "      <td>1</td>\n",
       "    </tr>\n",
       "    <tr>\n",
       "      <th>110571</th>\n",
       "      <td>8.222960e+11</td>\n",
       "      <td>5772302</td>\n",
       "      <td>F</td>\n",
       "      <td>2016-06-03T15:06:15Z</td>\n",
       "      <td>2016-06-07T00:00:00Z</td>\n",
       "      <td>19.0</td>\n",
       "      <td>RESIST√äNCIA</td>\n",
       "      <td>0</td>\n",
       "      <td>0</td>\n",
       "      <td>0</td>\n",
       "      <td>0</td>\n",
       "      <td>0</td>\n",
       "      <td>1</td>\n",
       "      <td>1</td>\n",
       "    </tr>\n",
       "    <tr>\n",
       "      <th>110572</th>\n",
       "      <td>7.682333e+13</td>\n",
       "      <td>5782376</td>\n",
       "      <td>M</td>\n",
       "      <td>2016-06-07T11:06:56Z</td>\n",
       "      <td>2016-06-07T00:00:00Z</td>\n",
       "      <td>1.0</td>\n",
       "      <td>RESIST√äNCIA</td>\n",
       "      <td>0</td>\n",
       "      <td>0</td>\n",
       "      <td>0</td>\n",
       "      <td>0</td>\n",
       "      <td>0</td>\n",
       "      <td>0</td>\n",
       "      <td>1</td>\n",
       "    </tr>\n",
       "  </tbody>\n",
       "</table>\n",
       "<p>110573 rows × 14 columns</p>\n",
       "</div>"
      ],
      "text/plain": [
       "           PatientId  AppointmentID Gender          ScheduledDay  \\\n",
       "0       2.987250e+13        5642903      F  2016-04-29T18:38:08Z   \n",
       "1       5.589978e+14        5642503      M  2016-04-29T16:08:27Z   \n",
       "2       4.262962e+12        5642549      F  2016-04-29T16:19:04Z   \n",
       "3       8.679512e+11        5642828      F  2016-04-29T17:29:31Z   \n",
       "4       8.841186e+12        5642494      F  2016-04-29T16:07:23Z   \n",
       "...              ...            ...    ...                   ...   \n",
       "110568  8.567868e+12        5627377      F  2016-04-27T09:24:46Z   \n",
       "110569  3.134163e+12        5768536      F  2016-06-03T07:42:27Z   \n",
       "110570  6.846652e+12        5768917      M  2016-06-03T08:10:22Z   \n",
       "110571  8.222960e+11        5772302      F  2016-06-03T15:06:15Z   \n",
       "110572  7.682333e+13        5782376      M  2016-06-07T11:06:56Z   \n",
       "\n",
       "              AppointmentDay   Age      Neighbourhood  Scholarship  \\\n",
       "0       2016-04-29T00:00:00Z  62.0    JARDIM DA PENHA            0   \n",
       "1       2016-04-29T00:00:00Z  56.0    JARDIM DA PENHA            0   \n",
       "2       2016-04-29T00:00:00Z  62.0      MATA DA PRAIA            0   \n",
       "3       2016-04-29T00:00:00Z   8.0  PONTAL DE CAMBURI            0   \n",
       "4       2016-04-29T00:00:00Z  56.0    JARDIM DA PENHA            0   \n",
       "...                      ...   ...                ...          ...   \n",
       "110568  2016-06-03T00:00:00Z  20.0       RESIST√äNCIA            0   \n",
       "110569  2016-06-03T00:00:00Z  53.0       RESIST√äNCIA            0   \n",
       "110570  2016-06-03T00:00:00Z  51.0       RESIST√äNCIA            0   \n",
       "110571  2016-06-07T00:00:00Z  19.0       RESIST√äNCIA            0   \n",
       "110572  2016-06-07T00:00:00Z   1.0       RESIST√äNCIA            0   \n",
       "\n",
       "        Hipertension  Diabetes  Alcoholism  Handcap  SMS_received  Compareceu  \n",
       "0                  1         0           0        0             0           1  \n",
       "1                  0         0           0        0             0           1  \n",
       "2                  0         0           0        0             0           1  \n",
       "3                  0         0           0        0             0           1  \n",
       "4                  1         1           0        0             0           1  \n",
       "...              ...       ...         ...      ...           ...         ...  \n",
       "110568             0         0           0        0             1           1  \n",
       "110569             0         0           0        0             0           1  \n",
       "110570             0         0           0        0             0           1  \n",
       "110571             0         0           0        0             1           1  \n",
       "110572             0         0           0        0             0           1  \n",
       "\n",
       "[110573 rows x 14 columns]"
      ]
     },
     "execution_count": 60,
     "metadata": {},
     "output_type": "execute_result"
    }
   ],
   "source": [
    "df_aux"
   ]
  },
  {
   "cell_type": "code",
   "execution_count": 61,
   "metadata": {},
   "outputs": [
    {
     "data": {
      "text/html": [
       "<div>\n",
       "<style scoped>\n",
       "    .dataframe tbody tr th:only-of-type {\n",
       "        vertical-align: middle;\n",
       "    }\n",
       "\n",
       "    .dataframe tbody tr th {\n",
       "        vertical-align: top;\n",
       "    }\n",
       "\n",
       "    .dataframe thead th {\n",
       "        text-align: right;\n",
       "    }\n",
       "</style>\n",
       "<table border=\"1\" class=\"dataframe\">\n",
       "  <thead>\n",
       "    <tr style=\"text-align: right;\">\n",
       "      <th></th>\n",
       "      <th>PatientId</th>\n",
       "      <th>AppointmentID</th>\n",
       "      <th>Gender</th>\n",
       "      <th>ScheduledDay</th>\n",
       "      <th>AppointmentDay</th>\n",
       "      <th>Age</th>\n",
       "      <th>Neighbourhood</th>\n",
       "      <th>Scholarship</th>\n",
       "      <th>Hipertension</th>\n",
       "      <th>Diabetes</th>\n",
       "      <th>Alcoholism</th>\n",
       "      <th>Handcap</th>\n",
       "      <th>SMS_received</th>\n",
       "      <th>Compareceu</th>\n",
       "      <th>ScheduledDay_aux</th>\n",
       "      <th>AppointmentDay_aux</th>\n",
       "      <th>time_delta</th>\n",
       "    </tr>\n",
       "  </thead>\n",
       "  <tbody>\n",
       "    <tr>\n",
       "      <th>0</th>\n",
       "      <td>2.987250e+13</td>\n",
       "      <td>5642903</td>\n",
       "      <td>F</td>\n",
       "      <td>2016-04-29 18:38:08+00:00</td>\n",
       "      <td>2016-04-29T00:00:00Z</td>\n",
       "      <td>62.0</td>\n",
       "      <td>JARDIM DA PENHA</td>\n",
       "      <td>0</td>\n",
       "      <td>1</td>\n",
       "      <td>0</td>\n",
       "      <td>0</td>\n",
       "      <td>0</td>\n",
       "      <td>0</td>\n",
       "      <td>1</td>\n",
       "      <td>2016-04-29</td>\n",
       "      <td>2016-04-29</td>\n",
       "      <td>0</td>\n",
       "    </tr>\n",
       "    <tr>\n",
       "      <th>1</th>\n",
       "      <td>5.589978e+14</td>\n",
       "      <td>5642503</td>\n",
       "      <td>M</td>\n",
       "      <td>2016-04-29 16:08:27+00:00</td>\n",
       "      <td>2016-04-29T00:00:00Z</td>\n",
       "      <td>56.0</td>\n",
       "      <td>JARDIM DA PENHA</td>\n",
       "      <td>0</td>\n",
       "      <td>0</td>\n",
       "      <td>0</td>\n",
       "      <td>0</td>\n",
       "      <td>0</td>\n",
       "      <td>0</td>\n",
       "      <td>1</td>\n",
       "      <td>2016-04-29</td>\n",
       "      <td>2016-04-29</td>\n",
       "      <td>0</td>\n",
       "    </tr>\n",
       "    <tr>\n",
       "      <th>2</th>\n",
       "      <td>4.262962e+12</td>\n",
       "      <td>5642549</td>\n",
       "      <td>F</td>\n",
       "      <td>2016-04-29 16:19:04+00:00</td>\n",
       "      <td>2016-04-29T00:00:00Z</td>\n",
       "      <td>62.0</td>\n",
       "      <td>MATA DA PRAIA</td>\n",
       "      <td>0</td>\n",
       "      <td>0</td>\n",
       "      <td>0</td>\n",
       "      <td>0</td>\n",
       "      <td>0</td>\n",
       "      <td>0</td>\n",
       "      <td>1</td>\n",
       "      <td>2016-04-29</td>\n",
       "      <td>2016-04-29</td>\n",
       "      <td>0</td>\n",
       "    </tr>\n",
       "    <tr>\n",
       "      <th>3</th>\n",
       "      <td>8.679512e+11</td>\n",
       "      <td>5642828</td>\n",
       "      <td>F</td>\n",
       "      <td>2016-04-29 17:29:31+00:00</td>\n",
       "      <td>2016-04-29T00:00:00Z</td>\n",
       "      <td>8.0</td>\n",
       "      <td>PONTAL DE CAMBURI</td>\n",
       "      <td>0</td>\n",
       "      <td>0</td>\n",
       "      <td>0</td>\n",
       "      <td>0</td>\n",
       "      <td>0</td>\n",
       "      <td>0</td>\n",
       "      <td>1</td>\n",
       "      <td>2016-04-29</td>\n",
       "      <td>2016-04-29</td>\n",
       "      <td>0</td>\n",
       "    </tr>\n",
       "    <tr>\n",
       "      <th>4</th>\n",
       "      <td>8.841186e+12</td>\n",
       "      <td>5642494</td>\n",
       "      <td>F</td>\n",
       "      <td>2016-04-29 16:07:23+00:00</td>\n",
       "      <td>2016-04-29T00:00:00Z</td>\n",
       "      <td>56.0</td>\n",
       "      <td>JARDIM DA PENHA</td>\n",
       "      <td>0</td>\n",
       "      <td>1</td>\n",
       "      <td>1</td>\n",
       "      <td>0</td>\n",
       "      <td>0</td>\n",
       "      <td>0</td>\n",
       "      <td>1</td>\n",
       "      <td>2016-04-29</td>\n",
       "      <td>2016-04-29</td>\n",
       "      <td>0</td>\n",
       "    </tr>\n",
       "    <tr>\n",
       "      <th>...</th>\n",
       "      <td>...</td>\n",
       "      <td>...</td>\n",
       "      <td>...</td>\n",
       "      <td>...</td>\n",
       "      <td>...</td>\n",
       "      <td>...</td>\n",
       "      <td>...</td>\n",
       "      <td>...</td>\n",
       "      <td>...</td>\n",
       "      <td>...</td>\n",
       "      <td>...</td>\n",
       "      <td>...</td>\n",
       "      <td>...</td>\n",
       "      <td>...</td>\n",
       "      <td>...</td>\n",
       "      <td>...</td>\n",
       "      <td>...</td>\n",
       "    </tr>\n",
       "    <tr>\n",
       "      <th>110568</th>\n",
       "      <td>8.567868e+12</td>\n",
       "      <td>5627377</td>\n",
       "      <td>F</td>\n",
       "      <td>2016-04-27 09:24:46+00:00</td>\n",
       "      <td>2016-06-03T00:00:00Z</td>\n",
       "      <td>20.0</td>\n",
       "      <td>RESIST√äNCIA</td>\n",
       "      <td>0</td>\n",
       "      <td>0</td>\n",
       "      <td>0</td>\n",
       "      <td>0</td>\n",
       "      <td>0</td>\n",
       "      <td>1</td>\n",
       "      <td>1</td>\n",
       "      <td>2016-04-27</td>\n",
       "      <td>2016-06-03</td>\n",
       "      <td>37</td>\n",
       "    </tr>\n",
       "    <tr>\n",
       "      <th>110569</th>\n",
       "      <td>3.134163e+12</td>\n",
       "      <td>5768536</td>\n",
       "      <td>F</td>\n",
       "      <td>2016-06-03 07:42:27+00:00</td>\n",
       "      <td>2016-06-03T00:00:00Z</td>\n",
       "      <td>53.0</td>\n",
       "      <td>RESIST√äNCIA</td>\n",
       "      <td>0</td>\n",
       "      <td>0</td>\n",
       "      <td>0</td>\n",
       "      <td>0</td>\n",
       "      <td>0</td>\n",
       "      <td>0</td>\n",
       "      <td>1</td>\n",
       "      <td>2016-06-03</td>\n",
       "      <td>2016-06-03</td>\n",
       "      <td>0</td>\n",
       "    </tr>\n",
       "    <tr>\n",
       "      <th>110570</th>\n",
       "      <td>6.846652e+12</td>\n",
       "      <td>5768917</td>\n",
       "      <td>M</td>\n",
       "      <td>2016-06-03 08:10:22+00:00</td>\n",
       "      <td>2016-06-03T00:00:00Z</td>\n",
       "      <td>51.0</td>\n",
       "      <td>RESIST√äNCIA</td>\n",
       "      <td>0</td>\n",
       "      <td>0</td>\n",
       "      <td>0</td>\n",
       "      <td>0</td>\n",
       "      <td>0</td>\n",
       "      <td>0</td>\n",
       "      <td>1</td>\n",
       "      <td>2016-06-03</td>\n",
       "      <td>2016-06-03</td>\n",
       "      <td>0</td>\n",
       "    </tr>\n",
       "    <tr>\n",
       "      <th>110571</th>\n",
       "      <td>8.222960e+11</td>\n",
       "      <td>5772302</td>\n",
       "      <td>F</td>\n",
       "      <td>2016-06-03 15:06:15+00:00</td>\n",
       "      <td>2016-06-07T00:00:00Z</td>\n",
       "      <td>19.0</td>\n",
       "      <td>RESIST√äNCIA</td>\n",
       "      <td>0</td>\n",
       "      <td>0</td>\n",
       "      <td>0</td>\n",
       "      <td>0</td>\n",
       "      <td>0</td>\n",
       "      <td>1</td>\n",
       "      <td>1</td>\n",
       "      <td>2016-06-03</td>\n",
       "      <td>2016-06-07</td>\n",
       "      <td>4</td>\n",
       "    </tr>\n",
       "    <tr>\n",
       "      <th>110572</th>\n",
       "      <td>7.682333e+13</td>\n",
       "      <td>5782376</td>\n",
       "      <td>M</td>\n",
       "      <td>2016-06-07 11:06:56+00:00</td>\n",
       "      <td>2016-06-07T00:00:00Z</td>\n",
       "      <td>1.0</td>\n",
       "      <td>RESIST√äNCIA</td>\n",
       "      <td>0</td>\n",
       "      <td>0</td>\n",
       "      <td>0</td>\n",
       "      <td>0</td>\n",
       "      <td>0</td>\n",
       "      <td>0</td>\n",
       "      <td>1</td>\n",
       "      <td>2016-06-07</td>\n",
       "      <td>2016-06-07</td>\n",
       "      <td>0</td>\n",
       "    </tr>\n",
       "  </tbody>\n",
       "</table>\n",
       "<p>110573 rows × 17 columns</p>\n",
       "</div>"
      ],
      "text/plain": [
       "           PatientId  AppointmentID Gender              ScheduledDay  \\\n",
       "0       2.987250e+13        5642903      F 2016-04-29 18:38:08+00:00   \n",
       "1       5.589978e+14        5642503      M 2016-04-29 16:08:27+00:00   \n",
       "2       4.262962e+12        5642549      F 2016-04-29 16:19:04+00:00   \n",
       "3       8.679512e+11        5642828      F 2016-04-29 17:29:31+00:00   \n",
       "4       8.841186e+12        5642494      F 2016-04-29 16:07:23+00:00   \n",
       "...              ...            ...    ...                       ...   \n",
       "110568  8.567868e+12        5627377      F 2016-04-27 09:24:46+00:00   \n",
       "110569  3.134163e+12        5768536      F 2016-06-03 07:42:27+00:00   \n",
       "110570  6.846652e+12        5768917      M 2016-06-03 08:10:22+00:00   \n",
       "110571  8.222960e+11        5772302      F 2016-06-03 15:06:15+00:00   \n",
       "110572  7.682333e+13        5782376      M 2016-06-07 11:06:56+00:00   \n",
       "\n",
       "              AppointmentDay   Age      Neighbourhood  Scholarship  \\\n",
       "0       2016-04-29T00:00:00Z  62.0    JARDIM DA PENHA            0   \n",
       "1       2016-04-29T00:00:00Z  56.0    JARDIM DA PENHA            0   \n",
       "2       2016-04-29T00:00:00Z  62.0      MATA DA PRAIA            0   \n",
       "3       2016-04-29T00:00:00Z   8.0  PONTAL DE CAMBURI            0   \n",
       "4       2016-04-29T00:00:00Z  56.0    JARDIM DA PENHA            0   \n",
       "...                      ...   ...                ...          ...   \n",
       "110568  2016-06-03T00:00:00Z  20.0       RESIST√äNCIA            0   \n",
       "110569  2016-06-03T00:00:00Z  53.0       RESIST√äNCIA            0   \n",
       "110570  2016-06-03T00:00:00Z  51.0       RESIST√äNCIA            0   \n",
       "110571  2016-06-07T00:00:00Z  19.0       RESIST√äNCIA            0   \n",
       "110572  2016-06-07T00:00:00Z   1.0       RESIST√äNCIA            0   \n",
       "\n",
       "        Hipertension  Diabetes  Alcoholism  Handcap  SMS_received  Compareceu  \\\n",
       "0                  1         0           0        0             0           1   \n",
       "1                  0         0           0        0             0           1   \n",
       "2                  0         0           0        0             0           1   \n",
       "3                  0         0           0        0             0           1   \n",
       "4                  1         1           0        0             0           1   \n",
       "...              ...       ...         ...      ...           ...         ...   \n",
       "110568             0         0           0        0             1           1   \n",
       "110569             0         0           0        0             0           1   \n",
       "110570             0         0           0        0             0           1   \n",
       "110571             0         0           0        0             1           1   \n",
       "110572             0         0           0        0             0           1   \n",
       "\n",
       "       ScheduledDay_aux AppointmentDay_aux  time_delta  \n",
       "0            2016-04-29         2016-04-29           0  \n",
       "1            2016-04-29         2016-04-29           0  \n",
       "2            2016-04-29         2016-04-29           0  \n",
       "3            2016-04-29         2016-04-29           0  \n",
       "4            2016-04-29         2016-04-29           0  \n",
       "...                 ...                ...         ...  \n",
       "110568       2016-04-27         2016-06-03          37  \n",
       "110569       2016-06-03         2016-06-03           0  \n",
       "110570       2016-06-03         2016-06-03           0  \n",
       "110571       2016-06-03         2016-06-07           4  \n",
       "110572       2016-06-07         2016-06-07           0  \n",
       "\n",
       "[110573 rows x 17 columns]"
      ]
     },
     "execution_count": 61,
     "metadata": {},
     "output_type": "execute_result"
    }
   ],
   "source": [
    "df_aux['ScheduledDay'] = pd.to_datetime(df_aux['ScheduledDay'])\n",
    "df_aux['ScheduledDay_aux'] = pd.to_datetime(df_aux['ScheduledDay']).dt.date\n",
    "df_aux['AppointmentDay_aux'] = pd.to_datetime(df_aux['AppointmentDay']).dt.date\n",
    "df_aux['time_delta'] = (df_aux['AppointmentDay_aux'] - df_aux['ScheduledDay_aux']).dt.days\n",
    "df_aux"
   ]
  },
  {
   "cell_type": "code",
   "execution_count": 62,
   "metadata": {},
   "outputs": [
    {
     "data": {
      "text/html": [
       "<div>\n",
       "<style scoped>\n",
       "    .dataframe tbody tr th:only-of-type {\n",
       "        vertical-align: middle;\n",
       "    }\n",
       "\n",
       "    .dataframe tbody tr th {\n",
       "        vertical-align: top;\n",
       "    }\n",
       "\n",
       "    .dataframe thead th {\n",
       "        text-align: right;\n",
       "    }\n",
       "</style>\n",
       "<table border=\"1\" class=\"dataframe\">\n",
       "  <thead>\n",
       "    <tr style=\"text-align: right;\">\n",
       "      <th></th>\n",
       "      <th>PatientId</th>\n",
       "      <th>AppointmentID</th>\n",
       "      <th>Gender</th>\n",
       "      <th>ScheduledDay</th>\n",
       "      <th>AppointmentDay</th>\n",
       "      <th>Age</th>\n",
       "      <th>Neighbourhood</th>\n",
       "      <th>Scholarship</th>\n",
       "      <th>Hipertension</th>\n",
       "      <th>Diabetes</th>\n",
       "      <th>Alcoholism</th>\n",
       "      <th>Handcap</th>\n",
       "      <th>SMS_received</th>\n",
       "      <th>Compareceu</th>\n",
       "      <th>ScheduledDay_aux</th>\n",
       "      <th>AppointmentDay_aux</th>\n",
       "      <th>time_delta</th>\n",
       "      <th>ScheduledHour</th>\n",
       "    </tr>\n",
       "  </thead>\n",
       "  <tbody>\n",
       "    <tr>\n",
       "      <th>0</th>\n",
       "      <td>2.987250e+13</td>\n",
       "      <td>5642903</td>\n",
       "      <td>F</td>\n",
       "      <td>2016-04-29 18:38:08+00:00</td>\n",
       "      <td>2016-04-29T00:00:00Z</td>\n",
       "      <td>62.0</td>\n",
       "      <td>JARDIM DA PENHA</td>\n",
       "      <td>0</td>\n",
       "      <td>1</td>\n",
       "      <td>0</td>\n",
       "      <td>0</td>\n",
       "      <td>0</td>\n",
       "      <td>0</td>\n",
       "      <td>1</td>\n",
       "      <td>2016-04-29</td>\n",
       "      <td>2016-04-29</td>\n",
       "      <td>0</td>\n",
       "      <td>18</td>\n",
       "    </tr>\n",
       "    <tr>\n",
       "      <th>1</th>\n",
       "      <td>5.589978e+14</td>\n",
       "      <td>5642503</td>\n",
       "      <td>M</td>\n",
       "      <td>2016-04-29 16:08:27+00:00</td>\n",
       "      <td>2016-04-29T00:00:00Z</td>\n",
       "      <td>56.0</td>\n",
       "      <td>JARDIM DA PENHA</td>\n",
       "      <td>0</td>\n",
       "      <td>0</td>\n",
       "      <td>0</td>\n",
       "      <td>0</td>\n",
       "      <td>0</td>\n",
       "      <td>0</td>\n",
       "      <td>1</td>\n",
       "      <td>2016-04-29</td>\n",
       "      <td>2016-04-29</td>\n",
       "      <td>0</td>\n",
       "      <td>16</td>\n",
       "    </tr>\n",
       "    <tr>\n",
       "      <th>2</th>\n",
       "      <td>4.262962e+12</td>\n",
       "      <td>5642549</td>\n",
       "      <td>F</td>\n",
       "      <td>2016-04-29 16:19:04+00:00</td>\n",
       "      <td>2016-04-29T00:00:00Z</td>\n",
       "      <td>62.0</td>\n",
       "      <td>MATA DA PRAIA</td>\n",
       "      <td>0</td>\n",
       "      <td>0</td>\n",
       "      <td>0</td>\n",
       "      <td>0</td>\n",
       "      <td>0</td>\n",
       "      <td>0</td>\n",
       "      <td>1</td>\n",
       "      <td>2016-04-29</td>\n",
       "      <td>2016-04-29</td>\n",
       "      <td>0</td>\n",
       "      <td>16</td>\n",
       "    </tr>\n",
       "    <tr>\n",
       "      <th>3</th>\n",
       "      <td>8.679512e+11</td>\n",
       "      <td>5642828</td>\n",
       "      <td>F</td>\n",
       "      <td>2016-04-29 17:29:31+00:00</td>\n",
       "      <td>2016-04-29T00:00:00Z</td>\n",
       "      <td>8.0</td>\n",
       "      <td>PONTAL DE CAMBURI</td>\n",
       "      <td>0</td>\n",
       "      <td>0</td>\n",
       "      <td>0</td>\n",
       "      <td>0</td>\n",
       "      <td>0</td>\n",
       "      <td>0</td>\n",
       "      <td>1</td>\n",
       "      <td>2016-04-29</td>\n",
       "      <td>2016-04-29</td>\n",
       "      <td>0</td>\n",
       "      <td>17</td>\n",
       "    </tr>\n",
       "    <tr>\n",
       "      <th>4</th>\n",
       "      <td>8.841186e+12</td>\n",
       "      <td>5642494</td>\n",
       "      <td>F</td>\n",
       "      <td>2016-04-29 16:07:23+00:00</td>\n",
       "      <td>2016-04-29T00:00:00Z</td>\n",
       "      <td>56.0</td>\n",
       "      <td>JARDIM DA PENHA</td>\n",
       "      <td>0</td>\n",
       "      <td>1</td>\n",
       "      <td>1</td>\n",
       "      <td>0</td>\n",
       "      <td>0</td>\n",
       "      <td>0</td>\n",
       "      <td>1</td>\n",
       "      <td>2016-04-29</td>\n",
       "      <td>2016-04-29</td>\n",
       "      <td>0</td>\n",
       "      <td>16</td>\n",
       "    </tr>\n",
       "    <tr>\n",
       "      <th>...</th>\n",
       "      <td>...</td>\n",
       "      <td>...</td>\n",
       "      <td>...</td>\n",
       "      <td>...</td>\n",
       "      <td>...</td>\n",
       "      <td>...</td>\n",
       "      <td>...</td>\n",
       "      <td>...</td>\n",
       "      <td>...</td>\n",
       "      <td>...</td>\n",
       "      <td>...</td>\n",
       "      <td>...</td>\n",
       "      <td>...</td>\n",
       "      <td>...</td>\n",
       "      <td>...</td>\n",
       "      <td>...</td>\n",
       "      <td>...</td>\n",
       "      <td>...</td>\n",
       "    </tr>\n",
       "    <tr>\n",
       "      <th>110568</th>\n",
       "      <td>8.567868e+12</td>\n",
       "      <td>5627377</td>\n",
       "      <td>F</td>\n",
       "      <td>2016-04-27 09:24:46+00:00</td>\n",
       "      <td>2016-06-03T00:00:00Z</td>\n",
       "      <td>20.0</td>\n",
       "      <td>RESIST√äNCIA</td>\n",
       "      <td>0</td>\n",
       "      <td>0</td>\n",
       "      <td>0</td>\n",
       "      <td>0</td>\n",
       "      <td>0</td>\n",
       "      <td>1</td>\n",
       "      <td>1</td>\n",
       "      <td>2016-04-27</td>\n",
       "      <td>2016-06-03</td>\n",
       "      <td>37</td>\n",
       "      <td>09</td>\n",
       "    </tr>\n",
       "    <tr>\n",
       "      <th>110569</th>\n",
       "      <td>3.134163e+12</td>\n",
       "      <td>5768536</td>\n",
       "      <td>F</td>\n",
       "      <td>2016-06-03 07:42:27+00:00</td>\n",
       "      <td>2016-06-03T00:00:00Z</td>\n",
       "      <td>53.0</td>\n",
       "      <td>RESIST√äNCIA</td>\n",
       "      <td>0</td>\n",
       "      <td>0</td>\n",
       "      <td>0</td>\n",
       "      <td>0</td>\n",
       "      <td>0</td>\n",
       "      <td>0</td>\n",
       "      <td>1</td>\n",
       "      <td>2016-06-03</td>\n",
       "      <td>2016-06-03</td>\n",
       "      <td>0</td>\n",
       "      <td>07</td>\n",
       "    </tr>\n",
       "    <tr>\n",
       "      <th>110570</th>\n",
       "      <td>6.846652e+12</td>\n",
       "      <td>5768917</td>\n",
       "      <td>M</td>\n",
       "      <td>2016-06-03 08:10:22+00:00</td>\n",
       "      <td>2016-06-03T00:00:00Z</td>\n",
       "      <td>51.0</td>\n",
       "      <td>RESIST√äNCIA</td>\n",
       "      <td>0</td>\n",
       "      <td>0</td>\n",
       "      <td>0</td>\n",
       "      <td>0</td>\n",
       "      <td>0</td>\n",
       "      <td>0</td>\n",
       "      <td>1</td>\n",
       "      <td>2016-06-03</td>\n",
       "      <td>2016-06-03</td>\n",
       "      <td>0</td>\n",
       "      <td>08</td>\n",
       "    </tr>\n",
       "    <tr>\n",
       "      <th>110571</th>\n",
       "      <td>8.222960e+11</td>\n",
       "      <td>5772302</td>\n",
       "      <td>F</td>\n",
       "      <td>2016-06-03 15:06:15+00:00</td>\n",
       "      <td>2016-06-07T00:00:00Z</td>\n",
       "      <td>19.0</td>\n",
       "      <td>RESIST√äNCIA</td>\n",
       "      <td>0</td>\n",
       "      <td>0</td>\n",
       "      <td>0</td>\n",
       "      <td>0</td>\n",
       "      <td>0</td>\n",
       "      <td>1</td>\n",
       "      <td>1</td>\n",
       "      <td>2016-06-03</td>\n",
       "      <td>2016-06-07</td>\n",
       "      <td>4</td>\n",
       "      <td>15</td>\n",
       "    </tr>\n",
       "    <tr>\n",
       "      <th>110572</th>\n",
       "      <td>7.682333e+13</td>\n",
       "      <td>5782376</td>\n",
       "      <td>M</td>\n",
       "      <td>2016-06-07 11:06:56+00:00</td>\n",
       "      <td>2016-06-07T00:00:00Z</td>\n",
       "      <td>1.0</td>\n",
       "      <td>RESIST√äNCIA</td>\n",
       "      <td>0</td>\n",
       "      <td>0</td>\n",
       "      <td>0</td>\n",
       "      <td>0</td>\n",
       "      <td>0</td>\n",
       "      <td>0</td>\n",
       "      <td>1</td>\n",
       "      <td>2016-06-07</td>\n",
       "      <td>2016-06-07</td>\n",
       "      <td>0</td>\n",
       "      <td>11</td>\n",
       "    </tr>\n",
       "  </tbody>\n",
       "</table>\n",
       "<p>110573 rows × 18 columns</p>\n",
       "</div>"
      ],
      "text/plain": [
       "           PatientId  AppointmentID Gender              ScheduledDay  \\\n",
       "0       2.987250e+13        5642903      F 2016-04-29 18:38:08+00:00   \n",
       "1       5.589978e+14        5642503      M 2016-04-29 16:08:27+00:00   \n",
       "2       4.262962e+12        5642549      F 2016-04-29 16:19:04+00:00   \n",
       "3       8.679512e+11        5642828      F 2016-04-29 17:29:31+00:00   \n",
       "4       8.841186e+12        5642494      F 2016-04-29 16:07:23+00:00   \n",
       "...              ...            ...    ...                       ...   \n",
       "110568  8.567868e+12        5627377      F 2016-04-27 09:24:46+00:00   \n",
       "110569  3.134163e+12        5768536      F 2016-06-03 07:42:27+00:00   \n",
       "110570  6.846652e+12        5768917      M 2016-06-03 08:10:22+00:00   \n",
       "110571  8.222960e+11        5772302      F 2016-06-03 15:06:15+00:00   \n",
       "110572  7.682333e+13        5782376      M 2016-06-07 11:06:56+00:00   \n",
       "\n",
       "              AppointmentDay   Age      Neighbourhood  Scholarship  \\\n",
       "0       2016-04-29T00:00:00Z  62.0    JARDIM DA PENHA            0   \n",
       "1       2016-04-29T00:00:00Z  56.0    JARDIM DA PENHA            0   \n",
       "2       2016-04-29T00:00:00Z  62.0      MATA DA PRAIA            0   \n",
       "3       2016-04-29T00:00:00Z   8.0  PONTAL DE CAMBURI            0   \n",
       "4       2016-04-29T00:00:00Z  56.0    JARDIM DA PENHA            0   \n",
       "...                      ...   ...                ...          ...   \n",
       "110568  2016-06-03T00:00:00Z  20.0       RESIST√äNCIA            0   \n",
       "110569  2016-06-03T00:00:00Z  53.0       RESIST√äNCIA            0   \n",
       "110570  2016-06-03T00:00:00Z  51.0       RESIST√äNCIA            0   \n",
       "110571  2016-06-07T00:00:00Z  19.0       RESIST√äNCIA            0   \n",
       "110572  2016-06-07T00:00:00Z   1.0       RESIST√äNCIA            0   \n",
       "\n",
       "        Hipertension  Diabetes  Alcoholism  Handcap  SMS_received  Compareceu  \\\n",
       "0                  1         0           0        0             0           1   \n",
       "1                  0         0           0        0             0           1   \n",
       "2                  0         0           0        0             0           1   \n",
       "3                  0         0           0        0             0           1   \n",
       "4                  1         1           0        0             0           1   \n",
       "...              ...       ...         ...      ...           ...         ...   \n",
       "110568             0         0           0        0             1           1   \n",
       "110569             0         0           0        0             0           1   \n",
       "110570             0         0           0        0             0           1   \n",
       "110571             0         0           0        0             1           1   \n",
       "110572             0         0           0        0             0           1   \n",
       "\n",
       "       ScheduledDay_aux AppointmentDay_aux  time_delta ScheduledHour  \n",
       "0            2016-04-29         2016-04-29           0            18  \n",
       "1            2016-04-29         2016-04-29           0            16  \n",
       "2            2016-04-29         2016-04-29           0            16  \n",
       "3            2016-04-29         2016-04-29           0            17  \n",
       "4            2016-04-29         2016-04-29           0            16  \n",
       "...                 ...                ...         ...           ...  \n",
       "110568       2016-04-27         2016-06-03          37            09  \n",
       "110569       2016-06-03         2016-06-03           0            07  \n",
       "110570       2016-06-03         2016-06-03           0            08  \n",
       "110571       2016-06-03         2016-06-07           4            15  \n",
       "110572       2016-06-07         2016-06-07           0            11  \n",
       "\n",
       "[110573 rows x 18 columns]"
      ]
     },
     "execution_count": 62,
     "metadata": {},
     "output_type": "execute_result"
    }
   ],
   "source": [
    "#Extração da hora em que foi agendada a consulta\n",
    "df_aux['ScheduledHour'] = df_aux.ScheduledDay.dt.strftime(\"%H\")\n",
    "df_aux"
   ]
  },
  {
   "cell_type": "markdown",
   "metadata": {},
   "source": [
    "Com base no gráfico abaixo é possível notar que pessoas que agendaram suas consultas no perído da manhã foram as mais assíduas"
   ]
  },
  {
   "cell_type": "code",
   "execution_count": 63,
   "metadata": {},
   "outputs": [
    {
     "data": {
      "text/plain": [
       "<Axes: xlabel='ScheduledHour'>"
      ]
     },
     "execution_count": 63,
     "metadata": {},
     "output_type": "execute_result"
    },
    {
     "data": {
      "image/png": "[encoded data removed]",
      "text/plain": [
       "<Figure size 640x480 with 1 Axes>"
      ]
     },
     "metadata": {},
     "output_type": "display_data"
    }
   ],
   "source": [
    "#Verificação da assiduidade por hora\n",
    "df_aux.groupby('ScheduledHour')['Compareceu'].mean().sort_values(ascending=False).plot()"
   ]
  },
  {
   "cell_type": "markdown",
   "metadata": {},
   "source": [
    "Com base no gráfico abaixo é possível notar que pessoas que agendaram suas consultas no sábado foram as mais assíduas"
   ]
  },
  {
   "cell_type": "code",
   "execution_count": 64,
   "metadata": {},
   "outputs": [
    {
     "data": {
      "text/plain": [
       "<Axes: xlabel='ScheduledWeekDay'>"
      ]
     },
     "execution_count": 64,
     "metadata": {},
     "output_type": "execute_result"
    },
    {
     "data": {
      "image/png": "[encoded data removed]",
      "text/plain": [
       "<Figure size 640x480 with 1 Axes>"
      ]
     },
     "metadata": {},
     "output_type": "display_data"
    }
   ],
   "source": [
    "#Extração do dia da semana que foram realizadas os agendamentos\n",
    "df_aux['ScheduledWeekDay'] = df_aux.ScheduledDay.dt.day_name()\n",
    "df_aux.groupby('ScheduledWeekDay')['Compareceu'].mean().sort_values(ascending=False).plot()"
   ]
  },
  {
   "cell_type": "markdown",
   "metadata": {},
   "source": [
    "Afim de validar se o comportamento se repete desocnsiderando possíveis casos de emergências (consultas agendadas e realizadas no mesmo dia), refizemos a análise eliminando esses casos e podemos notar que o mesmo se repete"
   ]
  },
  {
   "cell_type": "code",
   "execution_count": 65,
   "metadata": {},
   "outputs": [],
   "source": [
    "df_filtrado = df_aux[df_aux.time_delta > 0].copy()"
   ]
  },
  {
   "cell_type": "code",
   "execution_count": 66,
   "metadata": {},
   "outputs": [
    {
     "data": {
      "text/plain": [
       "<Axes: xlabel='ScheduledHour'>"
      ]
     },
     "execution_count": 66,
     "metadata": {},
     "output_type": "execute_result"
    },
    {
     "data": {
      "image/png": "[encoded data removed]",
      "text/plain": [
       "<Figure size 640x480 with 1 Axes>"
      ]
     },
     "metadata": {},
     "output_type": "display_data"
    }
   ],
   "source": [
    "#Extração da hora em que foi agendada a consulta\n",
    "df_filtrado['ScheduledHour'] = df_filtrado.ScheduledDay.dt.strftime(\"%H\")\n",
    "df_filtrado.groupby('ScheduledHour')['Compareceu'].mean().sort_values(ascending=False).plot()"
   ]
  },
  {
   "cell_type": "code",
   "execution_count": 67,
   "metadata": {},
   "outputs": [
    {
     "data": {
      "text/plain": [
       "<Axes: xlabel='ScheduledWeekDay'>"
      ]
     },
     "execution_count": 67,
     "metadata": {},
     "output_type": "execute_result"
    },
    {
     "data": {
      "image/png": "[encoded data removed]",
      "text/plain": [
       "<Figure size 640x480 with 1 Axes>"
      ]
     },
     "metadata": {},
     "output_type": "display_data"
    }
   ],
   "source": [
    "df_filtrado['ScheduledWeekDay'] = df_filtrado.ScheduledDay.dt.day_name()\n",
    "df_filtrado.groupby('ScheduledWeekDay')['Compareceu'].mean().sort_values(ascending=False).plot()"
   ]
  },
  {
   "cell_type": "markdown",
   "metadata": {},
   "source": []
  },
  {
   "cell_type": "code",
   "execution_count": null,
   "metadata": {},
   "outputs": [],
   "source": []
  },
  {
   "cell_type": "markdown",
   "metadata": {},
   "source": [
    "# Felipe"
   ]
  },
  {
   "cell_type": "markdown",
   "metadata": {},
   "source": [
    "# Análise do tempo entre a marcação da consulta e a consulta em si\n",
    "\n",
    "- Felipe Cunha\n",
    "\n",
    "### Hipóteses e pontos a serem investigados: \n",
    "- Uma parte das consultas foi marcada para o mesmo dia e a taxa de comparecimento deve ser mais alta;\n",
    "- Quanto maior a diferença de tempo entre a marcação da consulta e a consulta, maior a taxa de ausentes;\n",
    "- Quanto maior a diferença de tempo, mais as pessoas recebem SMS para lembrar da consulta;\n",
    "    - E nesse caso, o recebimento de SMS faz com que aumente a taxa de presença?\n",
    "- Verificar também as outras variáveis em relação a faixas de intervalo de tempo"
   ]
  },
  {
   "cell_type": "markdown",
   "metadata": {},
   "source": [
    "### Análise das consultas marcadas para o mesmo dia"
   ]
  },
  {
   "cell_type": "code",
   "execution_count": 68,
   "metadata": {},
   "outputs": [
    {
     "name": "stdout",
     "output_type": "stream",
     "text": [
      "Total de consultas marcadas para o mesmo dia: 38587.\n",
      "Total de consultas: 110573.\n",
      "\n",
      "Relação das pessoas que compareceram à consulta (1 - Sim, 0 - Não):\n",
      "1    36795\n",
      "0     1792\n",
      "Name: Compareceu, dtype: int64\n",
      "\n",
      "Formato do novo DataFrame: Linhas: 38587, Colunas: 20\n"
     ]
    }
   ],
   "source": [
    "# Verificando quantas consultas foram marcadas para o mesmo dia e criando um dataframe com essas consultas\n",
    "consultas_mesmo_dia = df['time_delta'].value_counts()[0]\n",
    "total_consultas = len(df['time_delta'])\n",
    "\n",
    "df_dia0 = df[df['time_delta'] == 0]\n",
    "df_dia0['Compareceu'].value_counts()\n",
    "\n",
    "print(f'Total de consultas marcadas para o mesmo dia: {consultas_mesmo_dia}.')\n",
    "print(f'Total de consultas: {total_consultas}.')\n",
    "print('\\nRelação das pessoas que compareceram à consulta (1 - Sim, 0 - Não):')\n",
    "print(df_dia0['Compareceu'].value_counts())\n",
    "print(f'\\nFormato do novo DataFrame: Linhas: {df_dia0.shape[0]}, Colunas: {df_dia0.shape[1]}')"
   ]
  },
  {
   "cell_type": "code",
   "execution_count": 69,
   "metadata": {},
   "outputs": [
    {
     "name": "stdout",
     "output_type": "stream",
     "text": [
      "Percentual de consultas marcadas para o mesmo dia: 34.90%.\n",
      "Percentual de presença nessas consultas: 95.36%.\n"
     ]
    }
   ],
   "source": [
    "presenca_dia0 = df_dia0['Compareceu'].value_counts()[1] # Relação de pessoas que foram a consulta\n",
    "ausencia_dia0 = df_dia0['Compareceu'].value_counts()[0] # Relação de pessoas que não foram a consulta\n",
    "\n",
    "print(f'Percentual de consultas marcadas para o mesmo dia: {consultas_mesmo_dia/total_consultas*100:.2f}%.')\n",
    "print(f'Percentual de presença nessas consultas: {presenca_dia0/len(df_dia0)*100:.2f}%.')"
   ]
  },
  {
   "cell_type": "code",
   "execution_count": 70,
   "metadata": {},
   "outputs": [
    {
     "data": {
      "text/html": [
       "<div>\n",
       "<style scoped>\n",
       "    .dataframe tbody tr th:only-of-type {\n",
       "        vertical-align: middle;\n",
       "    }\n",
       "\n",
       "    .dataframe tbody tr th {\n",
       "        vertical-align: top;\n",
       "    }\n",
       "\n",
       "    .dataframe thead th {\n",
       "        text-align: right;\n",
       "    }\n",
       "</style>\n",
       "<table border=\"1\" class=\"dataframe\">\n",
       "  <thead>\n",
       "    <tr style=\"text-align: right;\">\n",
       "      <th></th>\n",
       "      <th>PatientId</th>\n",
       "      <th>AppointmentID</th>\n",
       "      <th>Age</th>\n",
       "      <th>Scholarship</th>\n",
       "      <th>Hipertension</th>\n",
       "      <th>Diabetes</th>\n",
       "      <th>Alcoholism</th>\n",
       "      <th>Handcap</th>\n",
       "      <th>SMS_received</th>\n",
       "      <th>time_delta</th>\n",
       "      <th>Renda</th>\n",
       "    </tr>\n",
       "    <tr>\n",
       "      <th>Compareceu</th>\n",
       "      <th></th>\n",
       "      <th></th>\n",
       "      <th></th>\n",
       "      <th></th>\n",
       "      <th></th>\n",
       "      <th></th>\n",
       "      <th></th>\n",
       "      <th></th>\n",
       "      <th></th>\n",
       "      <th></th>\n",
       "      <th></th>\n",
       "    </tr>\n",
       "  </thead>\n",
       "  <tbody>\n",
       "    <tr>\n",
       "      <th>0</th>\n",
       "      <td>1.482995e+14</td>\n",
       "      <td>5.709346e+06</td>\n",
       "      <td>28.405587</td>\n",
       "      <td>0.136719</td>\n",
       "      <td>0.131696</td>\n",
       "      <td>0.049107</td>\n",
       "      <td>0.031250</td>\n",
       "      <td>0.039621</td>\n",
       "      <td>0.0</td>\n",
       "      <td>0.0</td>\n",
       "      <td>927.402907</td>\n",
       "    </tr>\n",
       "    <tr>\n",
       "      <th>1</th>\n",
       "      <td>1.518766e+14</td>\n",
       "      <td>5.713338e+06</td>\n",
       "      <td>34.749061</td>\n",
       "      <td>0.107216</td>\n",
       "      <td>0.177660</td>\n",
       "      <td>0.067400</td>\n",
       "      <td>0.040277</td>\n",
       "      <td>0.023427</td>\n",
       "      <td>0.0</td>\n",
       "      <td>0.0</td>\n",
       "      <td>957.258556</td>\n",
       "    </tr>\n",
       "  </tbody>\n",
       "</table>\n",
       "</div>"
      ],
      "text/plain": [
       "               PatientId  AppointmentID        Age  Scholarship  Hipertension  \\\n",
       "Compareceu                                                                      \n",
       "0           1.482995e+14   5.709346e+06  28.405587     0.136719      0.131696   \n",
       "1           1.518766e+14   5.713338e+06  34.749061     0.107216      0.177660   \n",
       "\n",
       "            Diabetes  Alcoholism   Handcap  SMS_received  time_delta  \\\n",
       "Compareceu                                                             \n",
       "0           0.049107    0.031250  0.039621           0.0         0.0   \n",
       "1           0.067400    0.040277  0.023427           0.0         0.0   \n",
       "\n",
       "                 Renda  \n",
       "Compareceu              \n",
       "0           927.402907  \n",
       "1           957.258556  "
      ]
     },
     "execution_count": 70,
     "metadata": {},
     "output_type": "execute_result"
    }
   ],
   "source": [
    "df_dia0.groupby('Compareceu').mean() # Panorama geral dos dados para as consultas marcadas no mesmo dia"
   ]
  },
  {
   "cell_type": "markdown",
   "metadata": {},
   "source": [
    "##### Conclusões\n",
    "- Concluí-se que nesse tipo de consulta a taxa de comparecimento é bem alta (> 95%);\n",
    "- A média de idade para quem compareceu é de 35 anos, um pouco maior que a das pessoas que não compareceram (28 anos);\n",
    "- Fatores como receber ou não o bolsa família, doenças pré-existentes não parecem influenciar na presença ou ausência nas consultas;"
   ]
  },
  {
   "cell_type": "markdown",
   "metadata": {},
   "source": [
    "### Análise do restante dos dados, consultas com 1 ou mais dias de intervalo entre a marcação e a consulta"
   ]
  },
  {
   "cell_type": "code",
   "execution_count": 71,
   "metadata": {},
   "outputs": [
    {
     "data": {
      "text/html": [
       "<div>\n",
       "<style scoped>\n",
       "    .dataframe tbody tr th:only-of-type {\n",
       "        vertical-align: middle;\n",
       "    }\n",
       "\n",
       "    .dataframe tbody tr th {\n",
       "        vertical-align: top;\n",
       "    }\n",
       "\n",
       "    .dataframe thead th {\n",
       "        text-align: right;\n",
       "    }\n",
       "</style>\n",
       "<table border=\"1\" class=\"dataframe\">\n",
       "  <thead>\n",
       "    <tr style=\"text-align: right;\">\n",
       "      <th></th>\n",
       "      <th>PatientId</th>\n",
       "      <th>AppointmentID</th>\n",
       "      <th>Gender</th>\n",
       "      <th>ScheduledDay</th>\n",
       "      <th>AppointmentDay</th>\n",
       "      <th>Age</th>\n",
       "      <th>Neighbourhood</th>\n",
       "      <th>Scholarship</th>\n",
       "      <th>Hipertension</th>\n",
       "      <th>Diabetes</th>\n",
       "      <th>Alcoholism</th>\n",
       "      <th>Handcap</th>\n",
       "      <th>SMS_received</th>\n",
       "      <th>Compareceu</th>\n",
       "      <th>Regiao_Saude</th>\n",
       "      <th>AppointmentDayOfWeek</th>\n",
       "      <th>ScheduledDayOfWeek</th>\n",
       "      <th>time_delta</th>\n",
       "      <th>Renda</th>\n",
       "      <th>Faixa etaria</th>\n",
       "    </tr>\n",
       "  </thead>\n",
       "  <tbody>\n",
       "    <tr>\n",
       "      <th>5</th>\n",
       "      <td>9.598513e+13</td>\n",
       "      <td>5626772</td>\n",
       "      <td>F</td>\n",
       "      <td>2016-04-27</td>\n",
       "      <td>2016-04-29</td>\n",
       "      <td>76.0</td>\n",
       "      <td>REPÚBLICA</td>\n",
       "      <td>0</td>\n",
       "      <td>1</td>\n",
       "      <td>0</td>\n",
       "      <td>0</td>\n",
       "      <td>0</td>\n",
       "      <td>0</td>\n",
       "      <td>1</td>\n",
       "      <td>CONTINENTAL</td>\n",
       "      <td>Friday</td>\n",
       "      <td>Wednesday</td>\n",
       "      <td>2</td>\n",
       "      <td>1631.0050</td>\n",
       "      <td>Idosos</td>\n",
       "    </tr>\n",
       "    <tr>\n",
       "      <th>6</th>\n",
       "      <td>7.336882e+14</td>\n",
       "      <td>5630279</td>\n",
       "      <td>F</td>\n",
       "      <td>2016-04-27</td>\n",
       "      <td>2016-04-29</td>\n",
       "      <td>23.0</td>\n",
       "      <td>GOIABEIRAS</td>\n",
       "      <td>0</td>\n",
       "      <td>0</td>\n",
       "      <td>0</td>\n",
       "      <td>0</td>\n",
       "      <td>0</td>\n",
       "      <td>0</td>\n",
       "      <td>0</td>\n",
       "      <td>CONTINENTAL</td>\n",
       "      <td>Friday</td>\n",
       "      <td>Wednesday</td>\n",
       "      <td>2</td>\n",
       "      <td>791.3625</td>\n",
       "      <td>Adultons Jovens</td>\n",
       "    </tr>\n",
       "    <tr>\n",
       "      <th>7</th>\n",
       "      <td>3.449833e+12</td>\n",
       "      <td>5630575</td>\n",
       "      <td>F</td>\n",
       "      <td>2016-04-27</td>\n",
       "      <td>2016-04-29</td>\n",
       "      <td>39.0</td>\n",
       "      <td>GOIABEIRAS</td>\n",
       "      <td>0</td>\n",
       "      <td>0</td>\n",
       "      <td>0</td>\n",
       "      <td>0</td>\n",
       "      <td>0</td>\n",
       "      <td>0</td>\n",
       "      <td>0</td>\n",
       "      <td>CONTINENTAL</td>\n",
       "      <td>Friday</td>\n",
       "      <td>Wednesday</td>\n",
       "      <td>2</td>\n",
       "      <td>791.3625</td>\n",
       "      <td>Adultos</td>\n",
       "    </tr>\n",
       "    <tr>\n",
       "      <th>9</th>\n",
       "      <td>7.812456e+13</td>\n",
       "      <td>5629123</td>\n",
       "      <td>F</td>\n",
       "      <td>2016-04-27</td>\n",
       "      <td>2016-04-29</td>\n",
       "      <td>19.0</td>\n",
       "      <td>CONQUISTA</td>\n",
       "      <td>0</td>\n",
       "      <td>0</td>\n",
       "      <td>0</td>\n",
       "      <td>0</td>\n",
       "      <td>0</td>\n",
       "      <td>0</td>\n",
       "      <td>1</td>\n",
       "      <td>SÃO PEDRO</td>\n",
       "      <td>Friday</td>\n",
       "      <td>Wednesday</td>\n",
       "      <td>2</td>\n",
       "      <td>355.0450</td>\n",
       "      <td>Adultons Jovens</td>\n",
       "    </tr>\n",
       "    <tr>\n",
       "      <th>10</th>\n",
       "      <td>7.345362e+14</td>\n",
       "      <td>5630213</td>\n",
       "      <td>F</td>\n",
       "      <td>2016-04-27</td>\n",
       "      <td>2016-04-29</td>\n",
       "      <td>NaN</td>\n",
       "      <td>NOVA PALESTINA</td>\n",
       "      <td>0</td>\n",
       "      <td>0</td>\n",
       "      <td>0</td>\n",
       "      <td>0</td>\n",
       "      <td>0</td>\n",
       "      <td>0</td>\n",
       "      <td>1</td>\n",
       "      <td>SÃO PEDRO</td>\n",
       "      <td>Friday</td>\n",
       "      <td>Wednesday</td>\n",
       "      <td>2</td>\n",
       "      <td>355.0450</td>\n",
       "      <td>NaN</td>\n",
       "    </tr>\n",
       "  </tbody>\n",
       "</table>\n",
       "</div>"
      ],
      "text/plain": [
       "       PatientId  AppointmentID Gender ScheduledDay AppointmentDay   Age  \\\n",
       "5   9.598513e+13        5626772      F   2016-04-27     2016-04-29  76.0   \n",
       "6   7.336882e+14        5630279      F   2016-04-27     2016-04-29  23.0   \n",
       "7   3.449833e+12        5630575      F   2016-04-27     2016-04-29  39.0   \n",
       "9   7.812456e+13        5629123      F   2016-04-27     2016-04-29  19.0   \n",
       "10  7.345362e+14        5630213      F   2016-04-27     2016-04-29   NaN   \n",
       "\n",
       "     Neighbourhood  Scholarship  Hipertension  Diabetes  Alcoholism  Handcap  \\\n",
       "5        REPÚBLICA            0             1         0           0        0   \n",
       "6       GOIABEIRAS            0             0         0           0        0   \n",
       "7       GOIABEIRAS            0             0         0           0        0   \n",
       "9        CONQUISTA            0             0         0           0        0   \n",
       "10  NOVA PALESTINA            0             0         0           0        0   \n",
       "\n",
       "    SMS_received  Compareceu Regiao_Saude AppointmentDayOfWeek  \\\n",
       "5              0           1  CONTINENTAL               Friday   \n",
       "6              0           0  CONTINENTAL               Friday   \n",
       "7              0           0  CONTINENTAL               Friday   \n",
       "9              0           1    SÃO PEDRO               Friday   \n",
       "10             0           1    SÃO PEDRO               Friday   \n",
       "\n",
       "   ScheduledDayOfWeek  time_delta      Renda     Faixa etaria  \n",
       "5           Wednesday           2  1631.0050           Idosos  \n",
       "6           Wednesday           2   791.3625  Adultons Jovens  \n",
       "7           Wednesday           2   791.3625          Adultos  \n",
       "9           Wednesday           2   355.0450  Adultons Jovens  \n",
       "10          Wednesday           2   355.0450              NaN  "
      ]
     },
     "execution_count": 71,
     "metadata": {},
     "output_type": "execute_result"
    }
   ],
   "source": [
    "df_sem_dia0 = df[df['time_delta'] > 0] # criando o dataframe\n",
    "df_sem_dia0.head()"
   ]
  },
  {
   "cell_type": "code",
   "execution_count": 72,
   "metadata": {},
   "outputs": [
    {
     "name": "stdout",
     "output_type": "stream",
     "text": [
      "Total de consultas marcadas com um ou mais de um dia de intervalo: 71981.\n",
      "Total de consultas: 110573.\n",
      "\n",
      "Relação das pessoas que compareceram à consulta (1 - Sim, 0 - Não):\n",
      "1    51454\n",
      "0    20527\n",
      "Name: Compareceu, dtype: int64\n",
      "\n",
      "Formato do novo DataFrame: Linhas: 71981, Colunas: 20\n"
     ]
    }
   ],
   "source": [
    "# Verificando quantas consultas foram marcadas com mais de um dia de intervalo e criando um dataframe com essas consultas\n",
    "consultas_mais_1dia = len(df_sem_dia0)\n",
    "\n",
    "print(f'Total de consultas marcadas com um ou mais de um dia de intervalo: {consultas_mais_1dia}.')\n",
    "print(f'Total de consultas: {total_consultas}.')\n",
    "print('\\nRelação das pessoas que compareceram à consulta (1 - Sim, 0 - Não):')\n",
    "print(df_sem_dia0['Compareceu'].value_counts())\n",
    "print(f'\\nFormato do novo DataFrame: Linhas: {df_sem_dia0.shape[0]}, Colunas: {df_sem_dia0.shape[1]}')"
   ]
  },
  {
   "cell_type": "code",
   "execution_count": 73,
   "metadata": {},
   "outputs": [
    {
     "name": "stdout",
     "output_type": "stream",
     "text": [
      "Percentual de consultas marcadas para um intervalo de tempo maior que um dia: 65.10%.\n",
      "Percentual de presença nessas consultas: 71.48%.\n"
     ]
    }
   ],
   "source": [
    "presenca_sem_dia0 = df_sem_dia0['Compareceu'].value_counts()[1] # Relação de pessoas que foram a consulta\n",
    "\n",
    "print(f'Percentual de consultas marcadas para um intervalo de tempo maior que um dia: {consultas_mais_1dia/total_consultas*100:.2f}%.')\n",
    "print(f'Percentual de presença nessas consultas: {presenca_sem_dia0/len(df_sem_dia0)*100:.2f}%.')"
   ]
  },
  {
   "cell_type": "markdown",
   "metadata": {},
   "source": [
    "##### Percebe-se uma queda em mais de 20% para consultas agendadas para dias posteriores. \n",
    "---\n",
    "##### Em seguida foi verificado o comportamento da variável relativa ao intervalo de tempo"
   ]
  },
  {
   "cell_type": "code",
   "execution_count": 74,
   "metadata": {},
   "outputs": [
    {
     "data": {
      "image/png": "[encoded data removed]",
      "text/plain": [
       "<Figure size 1000x500 with 1 Axes>"
      ]
     },
     "metadata": {},
     "output_type": "display_data"
    }
   ],
   "source": [
    "plt.figure(figsize=(10,5))\n",
    "plt.hist(df_sem_dia0['time_delta'], bins=40) # histograma para ver a distribuição dos dados\n",
    "plt.xlabel('Intervalo de Tempo entre a marcação e a consulta')\n",
    "plt.ylabel('Quantidade de Consultas')\n",
    "plt.title('Distribuição das consultas em diferentes intervalos de tempo.')\n",
    "plt.show()"
   ]
  },
  {
   "cell_type": "markdown",
   "metadata": {},
   "source": [
    "- A partir do histograma, percebeu-se que a maioria das consultas estava concentrada em um intervalo de tempo de até 40 dias. \n",
    "- Em seguida foi verificado se haviam outliers para essa série de dados"
   ]
  },
  {
   "cell_type": "code",
   "execution_count": 75,
   "metadata": {},
   "outputs": [
    {
     "data": {
      "image/png": "[encoded data removed]",
      "text/plain": [
       "<Figure size 640x480 with 1 Axes>"
      ]
     },
     "metadata": {},
     "output_type": "display_data"
    }
   ],
   "source": [
    "plt.boxplot(df_sem_dia0['time_delta']) # boxplot para verificar a presença de outliers\n",
    "plt.xlabel('Intervalo de Tempo')\n",
    "plt.ylabel('Intervalo de Tempo em dias')\n",
    "plt.show()"
   ]
  },
  {
   "cell_type": "code",
   "execution_count": 76,
   "metadata": {},
   "outputs": [
    {
     "data": {
      "text/plain": [
       "48.0"
      ]
     },
     "execution_count": 76,
     "metadata": {},
     "output_type": "execute_result"
    }
   ],
   "source": [
    "q_high = df_sem_dia0['time_delta'].quantile(0.95) # Cálculo do limite máximo para retirada dos outliers em 95% de confiança\n",
    "q_high"
   ]
  },
  {
   "cell_type": "markdown",
   "metadata": {},
   "source": [
    "- Optou-se por retirar as consultas marcadas no mesmo dia e as com mais de 48 dias de intervalo para se fazer um estudo"
   ]
  },
  {
   "cell_type": "code",
   "execution_count": 77,
   "metadata": {},
   "outputs": [
    {
     "data": {
      "text/html": [
       "<div>\n",
       "<style scoped>\n",
       "    .dataframe tbody tr th:only-of-type {\n",
       "        vertical-align: middle;\n",
       "    }\n",
       "\n",
       "    .dataframe tbody tr th {\n",
       "        vertical-align: top;\n",
       "    }\n",
       "\n",
       "    .dataframe thead th {\n",
       "        text-align: right;\n",
       "    }\n",
       "</style>\n",
       "<table border=\"1\" class=\"dataframe\">\n",
       "  <thead>\n",
       "    <tr style=\"text-align: right;\">\n",
       "      <th></th>\n",
       "      <th>PatientId</th>\n",
       "      <th>AppointmentID</th>\n",
       "      <th>Gender</th>\n",
       "      <th>ScheduledDay</th>\n",
       "      <th>AppointmentDay</th>\n",
       "      <th>Age</th>\n",
       "      <th>Neighbourhood</th>\n",
       "      <th>Scholarship</th>\n",
       "      <th>Hipertension</th>\n",
       "      <th>Diabetes</th>\n",
       "      <th>Alcoholism</th>\n",
       "      <th>Handcap</th>\n",
       "      <th>SMS_received</th>\n",
       "      <th>Compareceu</th>\n",
       "      <th>Regiao_Saude</th>\n",
       "      <th>AppointmentDayOfWeek</th>\n",
       "      <th>ScheduledDayOfWeek</th>\n",
       "      <th>time_delta</th>\n",
       "      <th>Renda</th>\n",
       "      <th>Faixa etaria</th>\n",
       "    </tr>\n",
       "  </thead>\n",
       "  <tbody>\n",
       "    <tr>\n",
       "      <th>5</th>\n",
       "      <td>9.598513e+13</td>\n",
       "      <td>5626772</td>\n",
       "      <td>F</td>\n",
       "      <td>2016-04-27</td>\n",
       "      <td>2016-04-29</td>\n",
       "      <td>76.0</td>\n",
       "      <td>REPÚBLICA</td>\n",
       "      <td>0</td>\n",
       "      <td>1</td>\n",
       "      <td>0</td>\n",
       "      <td>0</td>\n",
       "      <td>0</td>\n",
       "      <td>0</td>\n",
       "      <td>1</td>\n",
       "      <td>CONTINENTAL</td>\n",
       "      <td>Friday</td>\n",
       "      <td>Wednesday</td>\n",
       "      <td>2</td>\n",
       "      <td>1631.0050</td>\n",
       "      <td>Idosos</td>\n",
       "    </tr>\n",
       "    <tr>\n",
       "      <th>6</th>\n",
       "      <td>7.336882e+14</td>\n",
       "      <td>5630279</td>\n",
       "      <td>F</td>\n",
       "      <td>2016-04-27</td>\n",
       "      <td>2016-04-29</td>\n",
       "      <td>23.0</td>\n",
       "      <td>GOIABEIRAS</td>\n",
       "      <td>0</td>\n",
       "      <td>0</td>\n",
       "      <td>0</td>\n",
       "      <td>0</td>\n",
       "      <td>0</td>\n",
       "      <td>0</td>\n",
       "      <td>0</td>\n",
       "      <td>CONTINENTAL</td>\n",
       "      <td>Friday</td>\n",
       "      <td>Wednesday</td>\n",
       "      <td>2</td>\n",
       "      <td>791.3625</td>\n",
       "      <td>Adultons Jovens</td>\n",
       "    </tr>\n",
       "    <tr>\n",
       "      <th>7</th>\n",
       "      <td>3.449833e+12</td>\n",
       "      <td>5630575</td>\n",
       "      <td>F</td>\n",
       "      <td>2016-04-27</td>\n",
       "      <td>2016-04-29</td>\n",
       "      <td>39.0</td>\n",
       "      <td>GOIABEIRAS</td>\n",
       "      <td>0</td>\n",
       "      <td>0</td>\n",
       "      <td>0</td>\n",
       "      <td>0</td>\n",
       "      <td>0</td>\n",
       "      <td>0</td>\n",
       "      <td>0</td>\n",
       "      <td>CONTINENTAL</td>\n",
       "      <td>Friday</td>\n",
       "      <td>Wednesday</td>\n",
       "      <td>2</td>\n",
       "      <td>791.3625</td>\n",
       "      <td>Adultos</td>\n",
       "    </tr>\n",
       "    <tr>\n",
       "      <th>9</th>\n",
       "      <td>7.812456e+13</td>\n",
       "      <td>5629123</td>\n",
       "      <td>F</td>\n",
       "      <td>2016-04-27</td>\n",
       "      <td>2016-04-29</td>\n",
       "      <td>19.0</td>\n",
       "      <td>CONQUISTA</td>\n",
       "      <td>0</td>\n",
       "      <td>0</td>\n",
       "      <td>0</td>\n",
       "      <td>0</td>\n",
       "      <td>0</td>\n",
       "      <td>0</td>\n",
       "      <td>1</td>\n",
       "      <td>SÃO PEDRO</td>\n",
       "      <td>Friday</td>\n",
       "      <td>Wednesday</td>\n",
       "      <td>2</td>\n",
       "      <td>355.0450</td>\n",
       "      <td>Adultons Jovens</td>\n",
       "    </tr>\n",
       "    <tr>\n",
       "      <th>10</th>\n",
       "      <td>7.345362e+14</td>\n",
       "      <td>5630213</td>\n",
       "      <td>F</td>\n",
       "      <td>2016-04-27</td>\n",
       "      <td>2016-04-29</td>\n",
       "      <td>NaN</td>\n",
       "      <td>NOVA PALESTINA</td>\n",
       "      <td>0</td>\n",
       "      <td>0</td>\n",
       "      <td>0</td>\n",
       "      <td>0</td>\n",
       "      <td>0</td>\n",
       "      <td>0</td>\n",
       "      <td>1</td>\n",
       "      <td>SÃO PEDRO</td>\n",
       "      <td>Friday</td>\n",
       "      <td>Wednesday</td>\n",
       "      <td>2</td>\n",
       "      <td>355.0450</td>\n",
       "      <td>NaN</td>\n",
       "    </tr>\n",
       "  </tbody>\n",
       "</table>\n",
       "</div>"
      ],
      "text/plain": [
       "       PatientId  AppointmentID Gender ScheduledDay AppointmentDay   Age  \\\n",
       "5   9.598513e+13        5626772      F   2016-04-27     2016-04-29  76.0   \n",
       "6   7.336882e+14        5630279      F   2016-04-27     2016-04-29  23.0   \n",
       "7   3.449833e+12        5630575      F   2016-04-27     2016-04-29  39.0   \n",
       "9   7.812456e+13        5629123      F   2016-04-27     2016-04-29  19.0   \n",
       "10  7.345362e+14        5630213      F   2016-04-27     2016-04-29   NaN   \n",
       "\n",
       "     Neighbourhood  Scholarship  Hipertension  Diabetes  Alcoholism  Handcap  \\\n",
       "5        REPÚBLICA            0             1         0           0        0   \n",
       "6       GOIABEIRAS            0             0         0           0        0   \n",
       "7       GOIABEIRAS            0             0         0           0        0   \n",
       "9        CONQUISTA            0             0         0           0        0   \n",
       "10  NOVA PALESTINA            0             0         0           0        0   \n",
       "\n",
       "    SMS_received  Compareceu Regiao_Saude AppointmentDayOfWeek  \\\n",
       "5              0           1  CONTINENTAL               Friday   \n",
       "6              0           0  CONTINENTAL               Friday   \n",
       "7              0           0  CONTINENTAL               Friday   \n",
       "9              0           1    SÃO PEDRO               Friday   \n",
       "10             0           1    SÃO PEDRO               Friday   \n",
       "\n",
       "   ScheduledDayOfWeek  time_delta      Renda     Faixa etaria  \n",
       "5           Wednesday           2  1631.0050           Idosos  \n",
       "6           Wednesday           2   791.3625  Adultons Jovens  \n",
       "7           Wednesday           2   791.3625          Adultos  \n",
       "9           Wednesday           2   355.0450  Adultons Jovens  \n",
       "10          Wednesday           2   355.0450              NaN  "
      ]
     },
     "execution_count": 77,
     "metadata": {},
     "output_type": "execute_result"
    }
   ],
   "source": [
    "df_filtrado = df_sem_dia0[df_sem_dia0['time_delta'] < q_high] # criação do novo dataframe filtrado, sem outliers\n",
    "df_filtrado.head() "
   ]
  },
  {
   "cell_type": "code",
   "execution_count": 78,
   "metadata": {},
   "outputs": [
    {
     "name": "stdout",
     "output_type": "stream",
     "text": [
      "Formato do DF com outliers: Linhas: 71981, Colunas: 20\n",
      "Formato do DF sem outliers: Linhas: 68336, Colunas: 20\n",
      "Foram retiradas 3645 consultas.\n"
     ]
    }
   ],
   "source": [
    "print(f'Formato do DF com outliers: Linhas: {df_sem_dia0.shape[0]}, Colunas: {df_sem_dia0.shape[1]}')\n",
    "print(f'Formato do DF sem outliers: Linhas: {df_filtrado.shape[0]}, Colunas: {df_filtrado.shape[1]}')\n",
    "print(f'Foram retiradas {df_sem_dia0.shape[0] - df_filtrado.shape[0]} consultas.')"
   ]
  },
  {
   "cell_type": "code",
   "execution_count": 79,
   "metadata": {},
   "outputs": [
    {
     "data": {
      "image/png": "[encoded data removed]",
      "text/plain": [
       "<Figure size 1000x500 with 1 Axes>"
      ]
     },
     "metadata": {},
     "output_type": "display_data"
    }
   ],
   "source": [
    "# cálculo do total de pessoas que compareceram e das que não compareceram \n",
    "compareceu = df_filtrado[df_filtrado['Compareceu'] == 1]['time_delta']\n",
    "n_compareceu = df_filtrado[df_filtrado['Compareceu'] == 0]['time_delta']\n",
    "\n",
    "plt.figure(figsize=(10,5))\n",
    "plt.hist(compareceu, bins=20, label='Compareceu')\n",
    "plt.hist(n_compareceu, bins=20, label='Não compareceu')\n",
    "plt.xlabel('Intervalo de Tempo entre a marcação e a consulta')\n",
    "plt.ylabel('Quantidade de Consultas')\n",
    "plt.title('Gráfico relacionando a presença e ausência dos pacientes em diferentes intervalos de tempo.')\n",
    "plt.xticks(np.arange(0, 50, 7))\n",
    "plt.legend()\n",
    "plt.show()"
   ]
  },
  {
   "cell_type": "markdown",
   "metadata": {},
   "source": [
    "- Percebe-se que a partir de um intervalo de tempo ~14 dias, ocorre uma maior taxa de ausentes às consultas. "
   ]
  },
  {
   "cell_type": "code",
   "execution_count": 80,
   "metadata": {},
   "outputs": [
    {
     "data": {
      "text/html": [
       "<div>\n",
       "<style scoped>\n",
       "    .dataframe tbody tr th:only-of-type {\n",
       "        vertical-align: middle;\n",
       "    }\n",
       "\n",
       "    .dataframe tbody tr th {\n",
       "        vertical-align: top;\n",
       "    }\n",
       "\n",
       "    .dataframe thead th {\n",
       "        text-align: right;\n",
       "    }\n",
       "</style>\n",
       "<table border=\"1\" class=\"dataframe\">\n",
       "  <thead>\n",
       "    <tr style=\"text-align: right;\">\n",
       "      <th></th>\n",
       "      <th>PatientId</th>\n",
       "      <th>AppointmentID</th>\n",
       "      <th>Age</th>\n",
       "      <th>Scholarship</th>\n",
       "      <th>Hipertension</th>\n",
       "      <th>Diabetes</th>\n",
       "      <th>Alcoholism</th>\n",
       "      <th>Handcap</th>\n",
       "      <th>SMS_received</th>\n",
       "      <th>time_delta</th>\n",
       "      <th>Renda</th>\n",
       "    </tr>\n",
       "    <tr>\n",
       "      <th>Compareceu</th>\n",
       "      <th></th>\n",
       "      <th></th>\n",
       "      <th></th>\n",
       "      <th></th>\n",
       "      <th></th>\n",
       "      <th></th>\n",
       "      <th></th>\n",
       "      <th></th>\n",
       "      <th></th>\n",
       "      <th></th>\n",
       "      <th></th>\n",
       "    </tr>\n",
       "  </thead>\n",
       "  <tbody>\n",
       "    <tr>\n",
       "      <th>0</th>\n",
       "      <td>1.464297e+14</td>\n",
       "      <td>5.657383e+06</td>\n",
       "      <td>34.565022</td>\n",
       "      <td>0.116323</td>\n",
       "      <td>0.170958</td>\n",
       "      <td>0.065448</td>\n",
       "      <td>0.031359</td>\n",
       "      <td>0.016323</td>\n",
       "      <td>0.471061</td>\n",
       "      <td>14.472091</td>\n",
       "      <td>955.038644</td>\n",
       "    </tr>\n",
       "    <tr>\n",
       "      <th>1</th>\n",
       "      <td>1.444385e+14</td>\n",
       "      <td>5.668006e+06</td>\n",
       "      <td>39.561605</td>\n",
       "      <td>0.086781</td>\n",
       "      <td>0.224569</td>\n",
       "      <td>0.079013</td>\n",
       "      <td>0.024000</td>\n",
       "      <td>0.019033</td>\n",
       "      <td>0.491291</td>\n",
       "      <td>12.362601</td>\n",
       "      <td>1022.131119</td>\n",
       "    </tr>\n",
       "  </tbody>\n",
       "</table>\n",
       "</div>"
      ],
      "text/plain": [
       "               PatientId  AppointmentID        Age  Scholarship  Hipertension  \\\n",
       "Compareceu                                                                      \n",
       "0           1.464297e+14   5.657383e+06  34.565022     0.116323      0.170958   \n",
       "1           1.444385e+14   5.668006e+06  39.561605     0.086781      0.224569   \n",
       "\n",
       "            Diabetes  Alcoholism   Handcap  SMS_received  time_delta  \\\n",
       "Compareceu                                                             \n",
       "0           0.065448    0.031359  0.016323      0.471061   14.472091   \n",
       "1           0.079013    0.024000  0.019033      0.491291   12.362601   \n",
       "\n",
       "                  Renda  \n",
       "Compareceu               \n",
       "0            955.038644  \n",
       "1           1022.131119  "
      ]
     },
     "execution_count": 80,
     "metadata": {},
     "output_type": "execute_result"
    }
   ],
   "source": [
    "df_filtrado.groupby('Compareceu').mean() # consultas com 1 ou mais dias de intervalo de tempo"
   ]
  },
  {
   "cell_type": "code",
   "execution_count": 81,
   "metadata": {},
   "outputs": [
    {
     "data": {
      "text/html": [
       "<div>\n",
       "<style scoped>\n",
       "    .dataframe tbody tr th:only-of-type {\n",
       "        vertical-align: middle;\n",
       "    }\n",
       "\n",
       "    .dataframe tbody tr th {\n",
       "        vertical-align: top;\n",
       "    }\n",
       "\n",
       "    .dataframe thead th {\n",
       "        text-align: right;\n",
       "    }\n",
       "</style>\n",
       "<table border=\"1\" class=\"dataframe\">\n",
       "  <thead>\n",
       "    <tr style=\"text-align: right;\">\n",
       "      <th></th>\n",
       "      <th>PatientId</th>\n",
       "      <th>AppointmentID</th>\n",
       "      <th>Age</th>\n",
       "      <th>Scholarship</th>\n",
       "      <th>Hipertension</th>\n",
       "      <th>Diabetes</th>\n",
       "      <th>Alcoholism</th>\n",
       "      <th>Handcap</th>\n",
       "      <th>SMS_received</th>\n",
       "      <th>time_delta</th>\n",
       "      <th>Renda</th>\n",
       "    </tr>\n",
       "    <tr>\n",
       "      <th>Compareceu</th>\n",
       "      <th></th>\n",
       "      <th></th>\n",
       "      <th></th>\n",
       "      <th></th>\n",
       "      <th></th>\n",
       "      <th></th>\n",
       "      <th></th>\n",
       "      <th></th>\n",
       "      <th></th>\n",
       "      <th></th>\n",
       "      <th></th>\n",
       "    </tr>\n",
       "  </thead>\n",
       "  <tbody>\n",
       "    <tr>\n",
       "      <th>0</th>\n",
       "      <td>1.499885e+14</td>\n",
       "      <td>5.621023e+06</td>\n",
       "      <td>32.338396</td>\n",
       "      <td>0.115346</td>\n",
       "      <td>0.139067</td>\n",
       "      <td>0.048342</td>\n",
       "      <td>0.026757</td>\n",
       "      <td>0.013153</td>\n",
       "      <td>0.551209</td>\n",
       "      <td>24.955818</td>\n",
       "      <td>978.571430</td>\n",
       "    </tr>\n",
       "    <tr>\n",
       "      <th>1</th>\n",
       "      <td>1.447641e+14</td>\n",
       "      <td>5.626526e+06</td>\n",
       "      <td>36.855533</td>\n",
       "      <td>0.087681</td>\n",
       "      <td>0.184681</td>\n",
       "      <td>0.057296</td>\n",
       "      <td>0.020735</td>\n",
       "      <td>0.015220</td>\n",
       "      <td>0.629205</td>\n",
       "      <td>24.685563</td>\n",
       "      <td>1101.505916</td>\n",
       "    </tr>\n",
       "  </tbody>\n",
       "</table>\n",
       "</div>"
      ],
      "text/plain": [
       "               PatientId  AppointmentID        Age  Scholarship  Hipertension  \\\n",
       "Compareceu                                                                      \n",
       "0           1.499885e+14   5.621023e+06  32.338396     0.115346      0.139067   \n",
       "1           1.447641e+14   5.626526e+06  36.855533     0.087681      0.184681   \n",
       "\n",
       "            Diabetes  Alcoholism   Handcap  SMS_received  time_delta  \\\n",
       "Compareceu                                                             \n",
       "0           0.048342    0.026757  0.013153      0.551209   24.955818   \n",
       "1           0.057296    0.020735  0.015220      0.629205   24.685563   \n",
       "\n",
       "                  Renda  \n",
       "Compareceu               \n",
       "0            978.571430  \n",
       "1           1101.505916  "
      ]
     },
     "execution_count": 81,
     "metadata": {},
     "output_type": "execute_result"
    }
   ],
   "source": [
    "df_mais14 = df_filtrado[df_filtrado['time_delta'] >= 14] # consultas só com mais de 14 dias\n",
    "df_mais14.groupby('Compareceu').mean()"
   ]
  },
  {
   "cell_type": "markdown",
   "metadata": {},
   "source": [
    "- Nesses conjuntos analisados, percebe-se que a média de idades dos faltantes é menor do que a de pessoas que compareceram às consultas (em torno de 10% menores).\n",
    "---\n",
    "- Por fim, analisou-se apenas os \"outliers\", ou seja, consultas com mais de 48 dias entre a marcação e a consulta em si"
   ]
  },
  {
   "cell_type": "code",
   "execution_count": 82,
   "metadata": {},
   "outputs": [
    {
     "data": {
      "text/html": [
       "<div>\n",
       "<style scoped>\n",
       "    .dataframe tbody tr th:only-of-type {\n",
       "        vertical-align: middle;\n",
       "    }\n",
       "\n",
       "    .dataframe tbody tr th {\n",
       "        vertical-align: top;\n",
       "    }\n",
       "\n",
       "    .dataframe thead th {\n",
       "        text-align: right;\n",
       "    }\n",
       "</style>\n",
       "<table border=\"1\" class=\"dataframe\">\n",
       "  <thead>\n",
       "    <tr style=\"text-align: right;\">\n",
       "      <th></th>\n",
       "      <th>PatientId</th>\n",
       "      <th>AppointmentID</th>\n",
       "      <th>Gender</th>\n",
       "      <th>ScheduledDay</th>\n",
       "      <th>AppointmentDay</th>\n",
       "      <th>Age</th>\n",
       "      <th>Neighbourhood</th>\n",
       "      <th>Scholarship</th>\n",
       "      <th>Hipertension</th>\n",
       "      <th>Diabetes</th>\n",
       "      <th>Alcoholism</th>\n",
       "      <th>Handcap</th>\n",
       "      <th>SMS_received</th>\n",
       "      <th>Compareceu</th>\n",
       "      <th>Regiao_Saude</th>\n",
       "      <th>AppointmentDayOfWeek</th>\n",
       "      <th>ScheduledDayOfWeek</th>\n",
       "      <th>time_delta</th>\n",
       "      <th>Renda</th>\n",
       "      <th>Faixa etaria</th>\n",
       "    </tr>\n",
       "  </thead>\n",
       "  <tbody>\n",
       "    <tr>\n",
       "      <th>285</th>\n",
       "      <td>6.342844e+10</td>\n",
       "      <td>5430959</td>\n",
       "      <td>F</td>\n",
       "      <td>2016-03-04</td>\n",
       "      <td>2016-04-29</td>\n",
       "      <td>20.0</td>\n",
       "      <td>SANTA MARTHA</td>\n",
       "      <td>0</td>\n",
       "      <td>0</td>\n",
       "      <td>0</td>\n",
       "      <td>0</td>\n",
       "      <td>0</td>\n",
       "      <td>0</td>\n",
       "      <td>1</td>\n",
       "      <td>MARUÍPE</td>\n",
       "      <td>Friday</td>\n",
       "      <td>Friday</td>\n",
       "      <td>56</td>\n",
       "      <td>603.6125</td>\n",
       "      <td>Adultons Jovens</td>\n",
       "    </tr>\n",
       "    <tr>\n",
       "      <th>475</th>\n",
       "      <td>9.639166e+11</td>\n",
       "      <td>5452612</td>\n",
       "      <td>M</td>\n",
       "      <td>2016-03-10</td>\n",
       "      <td>2016-04-29</td>\n",
       "      <td>20.0</td>\n",
       "      <td>SÃO PEDRO</td>\n",
       "      <td>0</td>\n",
       "      <td>0</td>\n",
       "      <td>0</td>\n",
       "      <td>0</td>\n",
       "      <td>0</td>\n",
       "      <td>1</td>\n",
       "      <td>0</td>\n",
       "      <td>SÃO PEDRO</td>\n",
       "      <td>Friday</td>\n",
       "      <td>Thursday</td>\n",
       "      <td>50</td>\n",
       "      <td>426.9500</td>\n",
       "      <td>Adultons Jovens</td>\n",
       "    </tr>\n",
       "    <tr>\n",
       "      <th>476</th>\n",
       "      <td>4.414826e+13</td>\n",
       "      <td>5408325</td>\n",
       "      <td>F</td>\n",
       "      <td>2016-02-29</td>\n",
       "      <td>2016-04-29</td>\n",
       "      <td>32.0</td>\n",
       "      <td>NOVA PALESTINA</td>\n",
       "      <td>0</td>\n",
       "      <td>0</td>\n",
       "      <td>0</td>\n",
       "      <td>0</td>\n",
       "      <td>0</td>\n",
       "      <td>1</td>\n",
       "      <td>0</td>\n",
       "      <td>SÃO PEDRO</td>\n",
       "      <td>Friday</td>\n",
       "      <td>Monday</td>\n",
       "      <td>60</td>\n",
       "      <td>355.0450</td>\n",
       "      <td>Adultos</td>\n",
       "    </tr>\n",
       "    <tr>\n",
       "      <th>696</th>\n",
       "      <td>6.441189e+14</td>\n",
       "      <td>5441632</td>\n",
       "      <td>F</td>\n",
       "      <td>2016-03-08</td>\n",
       "      <td>2016-04-29</td>\n",
       "      <td>69.0</td>\n",
       "      <td>JESUS DE NAZARETH</td>\n",
       "      <td>0</td>\n",
       "      <td>1</td>\n",
       "      <td>1</td>\n",
       "      <td>0</td>\n",
       "      <td>0</td>\n",
       "      <td>0</td>\n",
       "      <td>1</td>\n",
       "      <td>FORTE SÃO JOÃO</td>\n",
       "      <td>Friday</td>\n",
       "      <td>Tuesday</td>\n",
       "      <td>52</td>\n",
       "      <td>518.3450</td>\n",
       "      <td>Idosos</td>\n",
       "    </tr>\n",
       "    <tr>\n",
       "      <th>698</th>\n",
       "      <td>3.174757e+13</td>\n",
       "      <td>5435044</td>\n",
       "      <td>F</td>\n",
       "      <td>2016-03-07</td>\n",
       "      <td>2016-04-29</td>\n",
       "      <td>38.0</td>\n",
       "      <td>JESUS DE NAZARETH</td>\n",
       "      <td>0</td>\n",
       "      <td>0</td>\n",
       "      <td>0</td>\n",
       "      <td>1</td>\n",
       "      <td>0</td>\n",
       "      <td>1</td>\n",
       "      <td>0</td>\n",
       "      <td>FORTE SÃO JOÃO</td>\n",
       "      <td>Friday</td>\n",
       "      <td>Monday</td>\n",
       "      <td>53</td>\n",
       "      <td>518.3450</td>\n",
       "      <td>Adultos</td>\n",
       "    </tr>\n",
       "  </tbody>\n",
       "</table>\n",
       "</div>"
      ],
      "text/plain": [
       "        PatientId  AppointmentID Gender ScheduledDay AppointmentDay   Age  \\\n",
       "285  6.342844e+10        5430959      F   2016-03-04     2016-04-29  20.0   \n",
       "475  9.639166e+11        5452612      M   2016-03-10     2016-04-29  20.0   \n",
       "476  4.414826e+13        5408325      F   2016-02-29     2016-04-29  32.0   \n",
       "696  6.441189e+14        5441632      F   2016-03-08     2016-04-29  69.0   \n",
       "698  3.174757e+13        5435044      F   2016-03-07     2016-04-29  38.0   \n",
       "\n",
       "         Neighbourhood  Scholarship  Hipertension  Diabetes  Alcoholism  \\\n",
       "285       SANTA MARTHA            0             0         0           0   \n",
       "475          SÃO PEDRO            0             0         0           0   \n",
       "476     NOVA PALESTINA            0             0         0           0   \n",
       "696  JESUS DE NAZARETH            0             1         1           0   \n",
       "698  JESUS DE NAZARETH            0             0         0           1   \n",
       "\n",
       "     Handcap  SMS_received  Compareceu    Regiao_Saude AppointmentDayOfWeek  \\\n",
       "285        0             0           1         MARUÍPE               Friday   \n",
       "475        0             1           0       SÃO PEDRO               Friday   \n",
       "476        0             1           0       SÃO PEDRO               Friday   \n",
       "696        0             0           1  FORTE SÃO JOÃO               Friday   \n",
       "698        0             1           0  FORTE SÃO JOÃO               Friday   \n",
       "\n",
       "    ScheduledDayOfWeek  time_delta     Renda     Faixa etaria  \n",
       "285             Friday          56  603.6125  Adultons Jovens  \n",
       "475           Thursday          50  426.9500  Adultons Jovens  \n",
       "476             Monday          60  355.0450          Adultos  \n",
       "696            Tuesday          52  518.3450           Idosos  \n",
       "698             Monday          53  518.3450          Adultos  "
      ]
     },
     "execution_count": 82,
     "metadata": {},
     "output_type": "execute_result"
    }
   ],
   "source": [
    "df_filtrado_2 = df_sem_dia0[df_sem_dia0['time_delta'] >= q_high] # criação do novo dataframe filtrado só dos outliers\n",
    "df_filtrado_2.head() "
   ]
  },
  {
   "cell_type": "code",
   "execution_count": 83,
   "metadata": {},
   "outputs": [
    {
     "name": "stdout",
     "output_type": "stream",
     "text": [
      "Formato do DF com outliers: Linhas: 3645, Colunas: 20\n"
     ]
    }
   ],
   "source": [
    "print(f'Formato do DF com outliers: Linhas: {df_filtrado_2.shape[0]}, Colunas: {df_filtrado_2.shape[1]}')"
   ]
  },
  {
   "cell_type": "code",
   "execution_count": 84,
   "metadata": {},
   "outputs": [
    {
     "data": {
      "text/html": [
       "<div>\n",
       "<style scoped>\n",
       "    .dataframe tbody tr th:only-of-type {\n",
       "        vertical-align: middle;\n",
       "    }\n",
       "\n",
       "    .dataframe tbody tr th {\n",
       "        vertical-align: top;\n",
       "    }\n",
       "\n",
       "    .dataframe thead th {\n",
       "        text-align: right;\n",
       "    }\n",
       "</style>\n",
       "<table border=\"1\" class=\"dataframe\">\n",
       "  <thead>\n",
       "    <tr style=\"text-align: right;\">\n",
       "      <th></th>\n",
       "      <th>PatientId</th>\n",
       "      <th>AppointmentID</th>\n",
       "      <th>Age</th>\n",
       "      <th>Scholarship</th>\n",
       "      <th>Hipertension</th>\n",
       "      <th>Diabetes</th>\n",
       "      <th>Alcoholism</th>\n",
       "      <th>Handcap</th>\n",
       "      <th>SMS_received</th>\n",
       "      <th>time_delta</th>\n",
       "      <th>Renda</th>\n",
       "    </tr>\n",
       "    <tr>\n",
       "      <th>Compareceu</th>\n",
       "      <th></th>\n",
       "      <th></th>\n",
       "      <th></th>\n",
       "      <th></th>\n",
       "      <th></th>\n",
       "      <th></th>\n",
       "      <th></th>\n",
       "      <th></th>\n",
       "      <th></th>\n",
       "      <th></th>\n",
       "      <th></th>\n",
       "    </tr>\n",
       "  </thead>\n",
       "  <tbody>\n",
       "    <tr>\n",
       "      <th>0</th>\n",
       "      <td>1.497573e+14</td>\n",
       "      <td>5.470031e+06</td>\n",
       "      <td>39.645890</td>\n",
       "      <td>0.066847</td>\n",
       "      <td>0.196929</td>\n",
       "      <td>0.064137</td>\n",
       "      <td>0.010840</td>\n",
       "      <td>0.015357</td>\n",
       "      <td>0.578139</td>\n",
       "      <td>65.416441</td>\n",
       "      <td>1329.696493</td>\n",
       "    </tr>\n",
       "    <tr>\n",
       "      <th>1</th>\n",
       "      <td>1.505914e+14</td>\n",
       "      <td>5.468331e+06</td>\n",
       "      <td>47.808511</td>\n",
       "      <td>0.036643</td>\n",
       "      <td>0.202916</td>\n",
       "      <td>0.067376</td>\n",
       "      <td>0.010638</td>\n",
       "      <td>0.016548</td>\n",
       "      <td>0.661939</td>\n",
       "      <td>66.139086</td>\n",
       "      <td>1397.757051</td>\n",
       "    </tr>\n",
       "  </tbody>\n",
       "</table>\n",
       "</div>"
      ],
      "text/plain": [
       "               PatientId  AppointmentID        Age  Scholarship  Hipertension  \\\n",
       "Compareceu                                                                      \n",
       "0           1.497573e+14   5.470031e+06  39.645890     0.066847      0.196929   \n",
       "1           1.505914e+14   5.468331e+06  47.808511     0.036643      0.202916   \n",
       "\n",
       "            Diabetes  Alcoholism   Handcap  SMS_received  time_delta  \\\n",
       "Compareceu                                                             \n",
       "0           0.064137    0.010840  0.015357      0.578139   65.416441   \n",
       "1           0.067376    0.010638  0.016548      0.661939   66.139086   \n",
       "\n",
       "                  Renda  \n",
       "Compareceu               \n",
       "0           1329.696493  \n",
       "1           1397.757051  "
      ]
     },
     "execution_count": 84,
     "metadata": {},
     "output_type": "execute_result"
    }
   ],
   "source": [
    "df_filtrado_2.groupby('Compareceu').mean() # consultas com 1 ou mais dias de intervalo de tempo"
   ]
  },
  {
   "cell_type": "code",
   "execution_count": 85,
   "metadata": {},
   "outputs": [
    {
     "name": "stdout",
     "output_type": "stream",
     "text": [
      "Percebe-se uma taxa de comparecimento nessas consultas de: 69.63%.\n"
     ]
    }
   ],
   "source": [
    "f2_comparecimento = len(df_filtrado_2[df_filtrado_2['Compareceu'] == 1])\n",
    "\n",
    "print(f'Percebe-se uma taxa de comparecimento nessas consultas de: {(f2_comparecimento/len(df_filtrado_2)*100):.2f}%.')"
   ]
  },
  {
   "cell_type": "markdown",
   "metadata": {},
   "source": [
    "- Por fim, concluí-se que: \n",
    "    - As pessoas vão mais às consultas marcadas para o mesmo dia (~95%);\n",
    "    - Essa taxa possui uma **tendência de queda** com o __aumento do intervalo de tempo__ entre a marcação e a consulta;\n",
    "    - Para consultas com mais de **14 dias**, há uma **contribuição maior** do recebimento de SMS como alerta;\n",
    "    - Em geral, a média de idade das pessoas que comparecem às consultas é maior;\n",
    "    - Há uma tendência de usuários do bolsa família faltarem mais às consultas; \n",
    "    - Fatores como deficiência não parecem influenciar no comparecimento ou não às consultas."
   ]
  },
  {
   "cell_type": "code",
   "execution_count": null,
   "metadata": {},
   "outputs": [],
   "source": []
  }
 ],
 "metadata": {
  "kernelspec": {
   "display_name": "Python 3 (ipykernel)",
   "language": "python",
   "name": "python3"
  },
  "language_info": {
   "codemirror_mode": {
    "name": "ipython",
    "version": 3
   },
   "file_extension": ".py",
   "mimetype": "text/x-python",
   "name": "python",
   "nbconvert_exporter": "python",
   "pygments_lexer": "ipython3",
   "version": "3.10.6"
  },
  "vscode": {
   "interpreter": {
    "hash": "4862b6117f0c4f2d3c423ad4c6f1a3d4982cb92922697de8175871d687d88d5d"
   }
  }
 },
 "nbformat": 4,
 "nbformat_minor": 2
}
